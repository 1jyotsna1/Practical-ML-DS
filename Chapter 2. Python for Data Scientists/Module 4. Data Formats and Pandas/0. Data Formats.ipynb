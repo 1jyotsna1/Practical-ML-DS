{
 "cells": [
  {
   "cell_type": "markdown",
   "metadata": {},
   "source": [
    "# Data I/O"
   ]
  },
  {
   "cell_type": "markdown",
   "metadata": {},
   "source": [
    "- Data Input/Output is a key part of pandas, as often you will be obtaining data which must be imported into pandas or exporting data cleaned in pandas.\n",
    "- This data can come from a variety of file formats, although most of the time it will only come from a few of them which we cover here.\n",
    "- We will cover importing from and exporting to CSV and XLSX files, which are the most common forms of data.\n",
    "- There are other methods such as for html files, SQL, tables, JSON etc, which you can find out about as and when you need them.\n",
    "- The methods are .read_ or .to_ methods, with numerous arguments that you can specify as they are required.\n",
    "- The essential argument is the filename as a string, which must be in the same directory, or have the whole file path specified.\n",
    "- When writing files, index=False is also useful to avoid replication of the index column, as pandas automatically adds an index when it reads in a file."
   ]
  },
  {
   "cell_type": "markdown",
   "metadata": {},
   "source": [
    "## CSV\n",
    "- CSV __(comma-separated values)__ files are a very common way to store data. \n",
    "- Their most common literal representation is a bunch of values, separated by commas, as the name would indicate.\n",
    "- All of the data for a single observation is on one line: each new line is a new observation.\n",
    "- Hence the number of values in a line is the number of columns, and the number of lines is the number of rows.\n",
    "- Hence, the first line is often column names, but it does not have to be.\n",
    "- The comma in this case is called the __'delimiter'__ as it shows the difference (or limit) between one value and the next.\n",
    "- Other common delimiters are semi-colons and tabs (also called tsv/tab-separated values).\n",
    "- Usually if you are using data from mainland European countries (France/Spain etc) they will use semi-colons, hence some people prefer __character__-separated values for CSV.\n",
    "- We must be careful to check what exactly the delimiter is, as a common error is reading in a file with the wrong delimiter, and so getting a weird representation in your data.\n",
    "- CSVs can also be read by Excel.\n",
    "- The read_csv command only requires the CSV format not necessarily the filename extension, and so it can read in .txt files in the same format.\n",
    "- When using it we can specify only the filename if the file is in the same directory, but we must specify the whole path if it is in another directory. This same process applies to any files read or written using Python."
   ]
  },
  {
   "cell_type": "markdown",
   "metadata": {},
   "source": [
    "The syntax for reading in a CSV to pandas is thus:"
   ]
  },
  {
   "cell_type": "code",
   "execution_count": null,
   "metadata": {},
   "outputs": [],
   "source": [
    "# we save the read_csv to a variable\n",
    "df = pd.read_csv('<filename>')\n",
    "\n",
    "# the to_csv method is a method off a data frame\n",
    "df.to_csv('<filename>',index=False)"
   ]
  },
  {
   "cell_type": "markdown",
   "metadata": {},
   "source": [
    "## XLSX\n",
    "- .xlsx is the file format for Microsoft Excel spreadsheets.\n",
    "- This does not require much explanation except to say that pandas cannot read in formulas, macros or graphs, only raw data.\n",
    "- Also, we must specify the sheetname to read in as a data frame or write to when using the read_excel and to_excel methods."
   ]
  },
  {
   "cell_type": "code",
   "execution_count": null,
   "metadata": {},
   "outputs": [],
   "source": [
    "# read_excel has the same file stipulations as all read_ methods\n",
    "df = pd.read_excel('<filename>',sheet_name='<sheetname>')\n",
    "\n",
    "# remember to specify sheet name with Excel files\n",
    "df.to_excel('<filename>',sheet_name='<sheetname>')"
   ]
  },
  {
   "cell_type": "markdown",
   "metadata": {},
   "source": [
    "## JSON\n",
    "- JSON (JavaScript Object Notation) is a file format that stores data in a way that is easily readable by both humans and machines.\n",
    "-  It is as useful way for a browser and a server to exchange data, so it is used extensively in Web-based applications of coding.\n",
    "- In fact, Jupyter Notebook .ipynb files are actually stored in JSON format.\n",
    "- Pandas can also read and write from and to JSON using the following commands."
   ]
  },
  {
   "cell_type": "code",
   "execution_count": null,
   "metadata": {},
   "outputs": [],
   "source": [
    "# json\n",
    "df = pd.read_json('<filename>')\n",
    "df.to_json('<filename>')"
   ]
  },
  {
   "cell_type": "markdown",
   "metadata": {},
   "source": [
    "## Reference only: XML\n",
    "- XML (eXtensible Markup Language) is another way of exchanging data between browsers and servers (JSON is an alternative to XML).\n",
    "- Hence, like with JSON, we can use XML to obtain data from the web.\n",
    "- XML is a markup language like HTML, so it contains data, and information on how to structure that data, but not how it is displayed.\n",
    "- Hence we need an API to extract data from an XML file, and so there is no simple method to read an XML into pandas.\n",
    "- You can use the following process although it is not the only possible way to do it:"
   ]
  },
  {
   "cell_type": "code",
   "execution_count": 2,
   "metadata": {},
   "outputs": [],
   "source": [
    "# xml uses <> and </> to enclose data in tags\n",
    "# This can be seen as a pandas dataframe type structure where:\n",
    "<data>\n",
    "    <employee name=\"Alpha\"> # employee_name is first column/index\n",
    "        <email>alpha@aicore.com</email>\n",
    "        <department>HR</department>\n",
    "        <age>36</age>\n",
    "    </employee>\n",
    "    <employee name=\"Bravo\"> \n",
    "        <email>bravo@aicore.com</email> # other fields are subsequent columns\n",
    "        <department>sales</department>\n",
    "        <age>23</age>\n",
    "    </employee>\n",
    "    <employee name=\"Charlie\">\n",
    "        <email>charlie@aicore.com</email>\n",
    "        <department>accounts</department>\n",
    "        <age>44</age>\n",
    "    </employee>\n",
    "    <employee name=\"Delta\">\n",
    "        <email>delta@aicore.com</email>\n",
    "        <department>reception</department>\n",
    "        <age>51</age>\n",
    "    </employee> # each 'employee' is a whole observation\n",
    "</data>"
   ]
  },
  {
   "cell_type": "markdown",
   "metadata": {},
   "source": [
    "- We start by importing ElementTree to parse the xml file\n",
    "- "
   ]
  },
  {
   "cell_type": "code",
   "execution_count": null,
   "metadata": {},
   "outputs": [],
   "source": [
    "import xml.etree.ElementTree as et \n",
    "\n",
    "xtree = et.parse(\"employees.xml\")\n",
    "xroot = xtree.getroot()"
   ]
  }
 ],
 "metadata": {
  "kernelspec": {
   "display_name": "Python 3",
   "language": "python",
   "name": "python3"
  },
  "language_info": {
   "codemirror_mode": {
    "name": "ipython",
    "version": 3
   },
   "file_extension": ".py",
   "mimetype": "text/x-python",
   "name": "python",
   "nbconvert_exporter": "python",
   "pygments_lexer": "ipython3",
   "version": "3.7.6"
  }
 },
 "nbformat": 4,
 "nbformat_minor": 4
}
