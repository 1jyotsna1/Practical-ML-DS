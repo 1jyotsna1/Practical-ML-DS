{
 "cells": [
  {
   "cell_type": "markdown",
   "metadata": {},
   "source": [
    "### Data I/O"
   ]
  },
  {
   "cell_type": "markdown",
   "metadata": {},
   "source": [
    "- Data Input/Output is a key part of pandas, as often you will be obtaining data which must be imported into pandas or exporting data cleaned in pandas.\n",
    "- We will cover importing from and exporting to CSV and XLSX files, which are the most common forms of data.\n",
    "- There are other methods such as for html files, SQL, tables, JSON etc, which you can find out about as and when you need them.\n",
    "- The methods are .read_ or .to_ methods, with numerous arguments that you can specify as they are required\n",
    "- The essential argument is the filename as a string, which must be in the same directory, or have the whole file path specified\n",
    "- When writing files, index=False is also useful to avoid replication of the index column, as pandas automatically adds an index when it reads in a file"
   ]
  },
  {
   "cell_type": "code",
   "execution_count": null,
   "metadata": {},
   "outputs": [],
   "source": [
    "# csv\n",
    "df = pd.read_csv('<filename>')\n",
    "df.to_csv('<filename>',index=False)"
   ]
  },
  {
   "cell_type": "code",
   "execution_count": null,
   "metadata": {},
   "outputs": [],
   "source": [
    "# excel\n",
    "df = pd.read_excel('<filename>',sheet_name='<sheetname>')\n",
    "df.to_excel('<filename>',sheet_name='<sheetname>')"
   ]
  },
  {
   "cell_type": "code",
   "execution_count": null,
   "metadata": {},
   "outputs": [],
   "source": [
    "# json\n",
    "df = pd.read_json('<filename>')\n",
    "df.to_json('<filename>')"
   ]
  },
  {
   "cell_type": "code",
   "execution_count": null,
   "metadata": {},
   "outputs": [],
   "source": [
    "# xml\n",
    "df = pd.re"
   ]
  },
  {
   "cell_type": "code",
   "execution_count": null,
   "metadata": {},
   "outputs": [],
   "source": [
    "# Intro to CSV XLSX JSON XML"
   ]
  }
 ],
 "metadata": {
  "kernelspec": {
   "display_name": "Python 3",
   "language": "python",
   "name": "python3"
  },
  "language_info": {
   "codemirror_mode": {
    "name": "ipython",
    "version": 3
   },
   "file_extension": ".py",
   "mimetype": "text/x-python",
   "name": "python",
   "nbconvert_exporter": "python",
   "pygments_lexer": "ipython3",
   "version": "3.7.6"
  }
 },
 "nbformat": 4,
 "nbformat_minor": 4
}
