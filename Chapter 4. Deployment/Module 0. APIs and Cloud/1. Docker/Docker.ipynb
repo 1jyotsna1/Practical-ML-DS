{
 "metadata": {
  "language_info": {
   "codemirror_mode": {
    "name": "ipython",
    "version": 3
   },
   "file_extension": ".py",
   "mimetype": "text/x-python",
   "name": "python",
   "nbconvert_exporter": "python",
   "pygments_lexer": "ipython3",
   "version": 3
  },
  "orig_nbformat": 2
 },
 "nbformat": 4,
 "nbformat_minor": 2,
 "cells": [
  {
   "source": [
    "# Docker\n",
    "\n",
    "## What is Docker?\n",
    "Docker is a software that allows you to make **containers** from **images**.\n",
    "Images define virtual operating systems that run on top of whatever OS is actually installed on the machine.\n",
    "When we looked at EC2 and had to choose what AMI (application machine __image__), we were specifying the image for the software that ran on the EC2 instance.\n",
    "Containers are instances of images.\n",
    "\n",
    "The point of this is that you can define the environment that your software expects to run on as an image, and then run containers of that image on any computer, regardless of what operating system it has installed.\n",
    "If you built your software on a Windows laptop, but your server needs to run Ubuntu Linux, then you can just run a Docker image of a Windows machine on the server, and things will work fine.\n",
    "\n",
    "This makes it easy to spin up an instance, or lots of instances, on any available machines without worrying about if they will support your application.\n",
    "All you need is Docker.\n",
    "\n",
    "Let's look at the [documentation](https://www.docker.com/resources/what-container) to see how Docker describes itself.\n",
    "\n",
    "## Starting the docker daemon\n",
    "\n",
    "Firstly, a daemon is some software which is always running in the background.\n",
    "\n",
    "On linux you should be able to start docker by simply running:\n",
    "\n",
    "`sudo systemctl docker start`\n",
    "\n",
    "or\n",
    "\n",
    "`sudo service docker start`\n",
    "\n",
    "On MacOS, you'll need to download the docker desktop app from [here](https://docs.docker.com/docker-for-mac/install/).\n",
    "\n",
    "## Creating a Docker image\n",
    "\n",
    "### The Dockerfile\n",
    "Docker images are made from Dockerfiles. \n",
    "A Dockerfile contains instructions which are executed sequentially and define exactly what should happen when a container is made from an image. \n",
    "It can include commands that  \n"
   ],
   "cell_type": "markdown",
   "metadata": {}
  },
  {
   "cell_type": "code",
   "execution_count": null,
   "metadata": {},
   "outputs": [],
   "source": []
  }
 ]
}