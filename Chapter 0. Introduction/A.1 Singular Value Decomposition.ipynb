{
 "cells": [
  {
   "cell_type": "markdown",
   "metadata": {},
   "source": [
    "# Singular Value Decomposition (SVD)\n",
    "\n",
    "The __singular value decomposition__ (SVD) is a highly relevant method in data science and machine learning, and is where we can bring together all we had learned in previous sections about vectors and matrices. SVD is a method that allows us to decompose a rectangular matrix into a different form. It is tailored to a given problem, as it depends on the data inside a matrix for each instance. Given that we can represent the data in a new form, it is useful for data reduction, and even the basis of __principal component analysis (PCA)__, which we will cover in a later section.\n",
    "\n",
    "SVD is regarded as one of the most important techniques in linear algebra. It is used in the Google rank algorithm to find the best matches for your search, recommender systems like Netflix and Amazon, and even facial recognition with a SVD representation fo human faces. It is also scalable to any size data set, hence why even Google can do it!!\n",
    "\n",
    "We can apply this method to any rectangular matrix. If we consider a MxN rectangular matrix, A, SVD allows us to decompose it in the following form:\n",
    "\n",
    "$$A = U\\Sigma V^{T} = \n",
    "\\begin{bmatrix}\n",
    "| & | &   & | \\\\ \\mathbf{\\vec{u_{1}}} & \\mathbf{\\vec{u_{2}}} & ... & \\mathbf{\\vec{u_{N}}} \\\\ | & | &   & | \\end{bmatrix}\n",
    "\\begin{bmatrix}\n",
    "\\sigma_{1} & 0 & ... & 0 \\\\ 0 & \\sigma_{2} &  & 0 \\\\ \\vdots &  & \\ddots & \\vdots \\\\ 0 & ... & ... & \\sigma_{M} \\\\ -- & -- & -- & -- \\\\ 0 & 0 & ... & 0 \\\\ \\vdots & \\vdots &  & \\vdots \\\\ 0 & 0 & ... & 0 \n",
    "\\end{bmatrix}\n",
    "\\begin{bmatrix}\n",
    "| & | &   & | \\\\ \\mathbf{\\vec{v_{1}}} & \\mathbf{\\vec{v_{2}}} & ... & \\mathbf{\\vec{v_{N}}} \\\\ | & | &   & | \n",
    "\\end{bmatrix} ^{T}\n",
    "$$\n",
    "\n",
    "Where:\n",
    "- __U__ is a NxN square, orthogonal matrix, known as the __right singular vectors__\n",
    "- __V__ is a MxM square, orthogonal matrix, known as the __left singular vectors__\n",
    "- $\\mathbf{\\Sigma}$ is a MxN diagonal matrix, containing the __singular values__ along its diagonal\n",
    "\n",
    "These three matrices are unique for any given rectangular matrix (except by flipping the sign of each vector). So how do we carry out SVD? This is where our understanding of eigenvalues and eigenvectors comes in, where construct each of the three matrices individually:\n",
    "- U: composed of the the orthonormalized eigenvectors of $AA^{T}$\n",
    "- V: composed of the orthonormalized eigenvectors of $A^{T}A$\n",
    "- $\\Sigma$ is composed of the square root of the corresponding eigenvalues of $AA^{T}$ or $A^{T}A$\n",
    "\n",
    "An interesting property is that the eigenvalues of $AA^{T}$ and $A^{T}A$ are always the same so we can pick either one of them. Let us now compute the SVD of the simple matrix below. We will first use NumPy to carry out the invidiual steps, the confirm our answers with the in-built SVD function. \n",
    "\n",
    "## Function to sort eigenvalues in descending order\n",
    "## Use my example, but show second example to show how order is not guaranteed with np.linalg.eig\n",
    "\n",
    "\n",
    "We will start by determining the matrix U:\n",
    "\n",
    "$$A = \\begin{bmatrix} 1 & 3 & 2 \\\\ 2 & 2 & 1 \\end{bmatrix} $$\n",
    "\n",
    "We can use NumPy to compute $AA^{T}$:"
   ]
  },
  {
   "cell_type": "code",
   "execution_count": 1,
   "metadata": {},
   "outputs": [],
   "source": [
    "def reorder_eig_vectors(eig_tuple):\n",
    "    eig_values, eig_vectors = eig_tuple\n",
    "    idx = eig_values.argsort()[::-1]\n",
    "    eig_values = eig_values[idx]\n",
    "    eig_vectors = eig_vectors[:, idx]\n",
    "    return eig_values, eig_vectors"
   ]
  },
  {
   "cell_type": "code",
   "execution_count": 7,
   "metadata": {},
   "outputs": [
    {
     "name": "stdout",
     "output_type": "stream",
     "text": [
      "[[14 10]\n",
      " [10  9]]\n"
     ]
    }
   ],
   "source": [
    "import numpy as np\n",
    "\n",
    "# Define our original matrix\n",
    "A = np.array([[1,3,2],\n",
    "              [2,2,1]])\n",
    "# A = np.array([[3,1,1],\n",
    "#               [-1,3,1]])\n",
    "A_T = np.transpose(A)\n",
    "\n",
    "AA_T = np.matmul(A,A_T)\n",
    "print(AA_T)"
   ]
  },
  {
   "cell_type": "markdown",
   "metadata": {},
   "source": [
    "Now that we know that:\n",
    "$$ AA^{T} = \\begin{bmatrix} 14 & 10 \\\\ 10 & 9 \\end{bmatrix}$$\n",
    "\n",
    "We can compute its eigenvectors and eigenvalues using NumPy:"
   ]
  },
  {
   "cell_type": "code",
   "execution_count": 8,
   "metadata": {},
   "outputs": [
    {
     "name": "stdout",
     "output_type": "stream",
     "text": [
      "Eigenvalues: [21.80776406  1.19223594]\n",
      "Eigenvectors: [[ 0.78820544 -0.61541221]\n",
      " [ 0.61541221  0.78820544]]\n"
     ]
    }
   ],
   "source": [
    "U_ = np.linalg.eig(AA_T)\n",
    "U_eigvalues,U_eigvectors = reorder_eig_vectors(U_)\n",
    "print(\"Eigenvalues:\",U_eigvalues)\n",
    "print(\"Eigenvectors:\",U_eigvectors)"
   ]
  },
  {
   "cell_type": "markdown",
   "metadata": {},
   "source": [
    "We then need to carry out orthonormalization to make all the columns of our matrix orthonormal with respect to each other. We will use the previously encountered Gram-Schmidt orthonormalization process, as shown below:  "
   ]
  },
  {
   "cell_type": "code",
   "execution_count": 9,
   "metadata": {},
   "outputs": [
    {
     "name": "stdout",
     "output_type": "stream",
     "text": [
      "U = [[-0.78820544 -0.61541221]\n",
      " [-0.61541221  0.78820544]]\n"
     ]
    }
   ],
   "source": [
    "U,_ = np.linalg.qr(U_eigvectors)\n",
    "print(\"U =\",U)"
   ]
  },
  {
   "cell_type": "markdown",
   "metadata": {},
   "source": [
    "Now we have our first matrix, U:\n",
    "$$U = \\begin{bmatrix} -0.788 & -0.615 \\\\ -0.615 & 0.788 \\end{bmatrix}$$\n",
    "\n",
    "The same procedure can be applied to determine the matrix, $V^{T}$, as shown below:"
   ]
  },
  {
   "cell_type": "code",
   "execution_count": 10,
   "metadata": {},
   "outputs": [
    {
     "name": "stdout",
     "output_type": "stream",
     "text": [
      "[[ 5  7  4]\n",
      " [ 7 13  8]\n",
      " [ 4  8  5]]\n",
      "\n",
      "Eigenvalues: [2.18077641e+01 1.19223594e+00 1.21630936e-15]\n",
      "Eigenvectors: [[ 0.4323517   0.88011958  0.19611614]\n",
      " [ 0.76992171 -0.24711681 -0.58834841]\n",
      " [ 0.46935336 -0.4053675   0.78446454]]\n",
      "\n",
      "[[-0.4323517   0.88011958  0.19611614]\n",
      " [-0.76992171 -0.24711681 -0.58834841]\n",
      " [-0.46935336 -0.4053675   0.78446454]]\n",
      "\n",
      "V_T = [[-0.4323517  -0.76992171 -0.46935336]\n",
      " [ 0.88011958 -0.24711681 -0.4053675 ]\n",
      " [ 0.19611614 -0.58834841  0.78446454]]\n",
      "\n"
     ]
    }
   ],
   "source": [
    "# Computing the augmented matrix\n",
    "A_TA = np.matmul(A_T,A)\n",
    "print(A_TA)\n",
    "print()\n",
    "\n",
    "# Computing eigenvalues and eigenvectors\n",
    "V_ = np.linalg.eig(A_TA)\n",
    "V_eigvalues,V_eigvectors = reorder_eig_vectors(V_)\n",
    "V,_ = np.linalg.qr(V_eigvectors)\n",
    "V_T = V.T\n",
    "print(\"Eigenvalues:\",V_eigvalues)\n",
    "print(\"Eigenvectors:\",V_eigvectors)\n",
    "print()\n",
    "print(V)\n",
    "print()\n",
    "print(\"V_T =\",V_T)\n",
    "print()"
   ]
  },
  {
   "cell_type": "markdown",
   "metadata": {},
   "source": [
    "We can now construct $V^{T}$ from the above eigenvectors, and $\\Sigma$ from the above eigenvalues:\n",
    "$$ V = \\begin{bmatrix} -0.432 & 0.880 & 0.196 \\\\ -0.769 & -0.247 & -0.588 \\\\ -0.469 & -0.405 & 0.784 \\end{bmatrix}, \\;\n",
    "V^{T} = \\begin{bmatrix} -0.432 & -0.769 & -0.469 \\\\ 0.880 & -0.247 & -0.405 \\\\ 0.196 & -0.588 & 0.784 \\end{bmatrix}$$\n",
    "$$ \\Sigma = \\begin{bmatrix} \\sqrt{21.808} & 0 & 0 \\\\0 & \\sqrt{1.192} & 0 \\end{bmatrix} = \n",
    "\\begin{bmatrix} 4.670 & 0 & 0 \\\\0 & 1.092 & 0 \\end{bmatrix}$$\n",
    "\n",
    "We can even confirm our result, as the matrix product of the three matrices we have constructed should simply return A, and the in-built SVD function should return the same three matrices."
   ]
  },
  {
   "cell_type": "code",
   "execution_count": 11,
   "metadata": {},
   "outputs": [
    {
     "name": "stdout",
     "output_type": "stream",
     "text": [
      "Sigma =  [[4.66987838 0.         0.        ]\n",
      " [0.         1.09189557 0.        ]]\n",
      "[[-0.78820544 -0.61541221]\n",
      " [-0.61541221  0.78820544]]\n",
      "[[-0.4323517  -0.76992171 -0.46935336]\n",
      " [ 0.88011958 -0.24711681 -0.4053675 ]\n",
      " [ 0.19611614 -0.58834841  0.78446454]]\n",
      "\n",
      "[[1. 3. 2.]\n",
      " [2. 2. 1.]]\n",
      "\n",
      "[[-0.78820544 -0.61541221]\n",
      " [-0.61541221  0.78820544]]\n",
      "[4.66987838 1.09189557]\n",
      "[[-0.4323517  -0.76992171 -0.46935336]\n",
      " [ 0.88011958 -0.24711681 -0.4053675 ]\n",
      " [ 0.19611614 -0.58834841  0.78446454]]\n"
     ]
    }
   ],
   "source": [
    "# Declaring our Sigma matrix (U and V have already been declared)\n",
    "rows = len(U)\n",
    "columns = len(V_T)\n",
    "Sigma = np.zeros((rows,columns))\n",
    "np.fill_diagonal(Sigma,np.sqrt(U_eigvalues))\n",
    "print(\"Sigma = \",Sigma)\n",
    "print(U)\n",
    "print(V_T)\n",
    "print()\n",
    "\n",
    "# Numpy function allclose to check if it is the same as the original\n",
    "\n",
    "# Checking whether we get the original matrix\n",
    "A_check = np.matmul(U,np.matmul(Sigma,V_T))\n",
    "print(A_check)\n",
    "print()\n",
    "\n",
    "\n",
    "# Checking whether we get the same matrices with the in-built SVD function\n",
    "U,S,V_T = np.linalg.svd(A)\n",
    "print(U)\n",
    "print(S)\n",
    "print(V_T)"
   ]
  },
  {
   "cell_type": "markdown",
   "metadata": {},
   "source": [
    "This decomposition contains all the pieces that we need to put our original matrix back together. The singular values($\\sigma_{i}$) are arranged in a hierarchical way such that:\n",
    "$$\\sigma_{1} > \\sigma_{2} > ... > \\sigma_{M}$$\n",
    "\n",
    "Since diagonal matrices scale each row of a matrix by the respective diagonal component, when we carry out SVD, __these singular values represent the importance of the vectors in U and V__. Given this structure, the vectors in U and V are also arranged according to their importance. This allows us to carry out what is known as the __reduced singular value decomposition__. By only keeping the first R components of the SVD representation, where R < M, R < N, given that R is large enough, we can obtain an __approximation__ of the original matrix, $\\hat{A}$, that is good enough given our application of SVD with a smaller number of coefficients.\n",
    "\n",
    "# (MENTION IMPORTANCE OF REDUCING DIMENSIONALITY)\n",
    "# use matrix example where SVD actually helps reducing dimensionality\n",
    "\n",
    "# Extracting decomposed matrices for approximation placed into a function, maybe use it as well for image reconstruction?\n",
    "\n",
    "# Introduce diag() in explanation for sigma matrix and for the linear algebra section\n",
    "\n",
    "\n",
    "Take the example below, we have a 10x10 matrix:"
   ]
  },
  {
   "cell_type": "code",
   "execution_count": 11,
   "metadata": {},
   "outputs": [
    {
     "name": "stdout",
     "output_type": "stream",
     "text": [
      "[[5 7 3 0 4 0 9 7 9 6]\n",
      " [9 5 2 5 5 7 9 8 6 5]\n",
      " [4 4 1 7 5 4 9 9 5 8]\n",
      " [3 7 2 3 8 8 5 6 3 6]\n",
      " [3 2 7 0 5 8 8 2 0 3]\n",
      " [0 7 9 0 6 1 3 4 4 3]\n",
      " [9 9 7 9 2 4 8 5 3 8]\n",
      " [6 1 4 1 0 5 4 7 3 7]\n",
      " [3 8 0 6 0 5 3 0 1 7]\n",
      " [5 0 1 2 3 3 4 9 3 9]]\n"
     ]
    }
   ],
   "source": [
    "# Defining our matrix\n",
    "A = np.random.randint(0,10,(10,10))\n",
    "print(A)"
   ]
  },
  {
   "cell_type": "code",
   "execution_count": 13,
   "metadata": {},
   "outputs": [
    {
     "name": "stdout",
     "output_type": "stream",
     "text": [
      "[[ 4.84884254  6.96179313  3.05949426  0.08877473  3.85575737  0.13587008\n",
      "   8.9728408   7.03902666  9.18481535  5.93568023]\n",
      " [ 9.10119284  5.08597371  1.93859805  4.90357869  5.06917513  6.89090344\n",
      "   9.05011271  8.04615316  5.78193968  5.01409054]\n",
      " [ 4.38014159  4.00539342  0.88277458  6.83228916  5.40387891  3.6855405\n",
      "   9.02035378  8.79331625  4.67686882  8.20525573]\n",
      " [ 2.84635238  6.90319229  2.08118164  3.12574301  7.87967018  8.15551816\n",
      "   4.94174434  5.97029154  3.27840804  5.96242623]\n",
      " [ 2.87977936  2.00787912  7.03364913  0.04716852  4.86792583  8.09657006\n",
      "   7.99863048  2.07683494  0.08722005  2.93049012]\n",
      " [ 0.19950883  7.07214519  8.91371783 -0.13047245  6.18053386  0.81414664\n",
      "   3.0473283   3.97447973  3.7221464   3.07447763]\n",
      " [ 8.71582994  8.93174805  7.11056971  9.16470312  1.72720815  4.25435662\n",
      "   7.95083208  5.07764754  3.3418609   7.87736643]\n",
      " [ 6.49348084  0.97371235  3.85971462  0.80267477  0.53939149  4.60178164\n",
      "   4.00882256  6.6918543   2.63252294  7.28241964]\n",
      " [ 3.12152144  8.07226591 -0.06267132  5.90318239  0.09712017  4.87829057\n",
      "   3.04380146  0.0183503   0.78652108  7.03178007]\n",
      " [ 4.50839922  0.03496323  1.13661625  2.19119858  2.45868384  3.39406574\n",
      "   3.99585071  9.31747419  3.35236987  8.7144471 ]]\n"
     ]
    }
   ],
   "source": [
    "# Computing the SVD \n",
    "U,S,V_T = np.linalg.svd(A)\n",
    "\n",
    "# Number of components we wanna keep (R)\n",
    "R = 8\n",
    "\n",
    "# Only keeping the first R components\n",
    "U_hat = U[:,0:R]\n",
    "S_hat = S[0:R]\n",
    "V_T_hat = V_T[0:R,:]\n",
    "\n",
    "# Constructing the diagonal matrix\n",
    "sigma_hat = np.zeros((R,R))\n",
    "for i in range(R):\n",
    "    sigma_hat[i,i] = S_hat[i]\n",
    "\n",
    "# Computing our original matrix approximation from the reduced SVD\n",
    "A_hat = np.matmul(U_hat,np.matmul(sigma_hat,V_T_hat))\n",
    "print(A_hat)"
   ]
  },
  {
   "cell_type": "markdown",
   "metadata": {},
   "source": [
    "As we can see, for the simple case above, only one single component was enough to fully restore the original matrix. This is what makes SVD such a powerful technique in data reduction. Another example below is in image compression, where we can use SVD to compress an image into a much smaller amount of information.\n",
    "# ADD IMAGE COMPRESSION SVD EXAMPLE FOR A NICE VISUAL UNDERSTANDING"
   ]
  },
  {
   "cell_type": "code",
   "execution_count": null,
   "metadata": {},
   "outputs": [],
   "source": []
  }
 ],
 "metadata": {
  "kernelspec": {
   "display_name": "Python 3",
   "language": "python",
   "name": "python3"
  },
  "language_info": {
   "codemirror_mode": {
    "name": "ipython",
    "version": 3
   },
   "file_extension": ".py",
   "mimetype": "text/x-python",
   "name": "python",
   "nbconvert_exporter": "python",
   "pygments_lexer": "ipython3",
   "version": "3.7.7"
  }
 },
 "nbformat": 4,
 "nbformat_minor": 4
}
