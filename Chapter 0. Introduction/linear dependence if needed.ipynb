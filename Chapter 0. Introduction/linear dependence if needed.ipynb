{
 "cells": [
  {
   "cell_type": "markdown",
   "metadata": {},
   "source": [
    "## Linearly Independent and Dependent Vectors\n",
    "A __linear combination__ of vectors is the sum of scalar multiples of other vectors. We say that for a set of vectors, its __span__ is the set of all linear combinations of the vectors in the set. As we saw when we came across unit vectors, we saw that the entire 2-D Cartesian plane could be represented as the sum of scaled versions of the unit vector in the x-direction ($\\mathbf{\\vec{i}}$) and the unit vector in the y-direction ($\\mathbf{\\hat{j}}$). We can then say that in this case, the _span_ of these unit vectors is the Cartesian plane.\n",
    "\n",
    "### ADD GRAPH SHOWING HOW ONE VECTOR SPANS A LINE AND DIFFERENT LINEAR COMBINATIONS OF TWO VECTORS REACHING DIFFERENT POINTS IN THE 2-D PLANE\n",
    "\n",
    "This concept applies to higher dimensions. So now we know that the span of one vector is a line, but is the span of _any_ two vectors a plane? Not quite. Let us consider the two vectors below:\n",
    "\n",
    "$$\\mathbf{\\vec{x}} = \\begin{bmatrix} 1 \\\\ 2 \\end{bmatrix} \\text{ and }\n",
    "\\mathbf{\\vec{y}} = \\begin{bmatrix} 2 \\\\ 4 \\end{bmatrix}$$\n",
    "\n",
    "These vectors are parallel, meaning they have the same unit vector. This implies that the span of both vectors is still a line, the same as if we had only one vector, which means these vectors are __linearly dependent__. A set of vectors is defined as __linearly dependent__ if at least one of the vectors in the set can be represented as a linear combinationof the other vectors in the set, otherwise the set of vectors is __linearly independent__. Another way to think of this is that in a linearly independent set of vectors, every vector adds a new dimension to the span of the set. Let us then consider the 3-D example for the vectors below:\n",
    "\n",
    "$$\\mathbf{\\vec{x}} = \\begin{bmatrix} 1 \\\\ 2 \\end{bmatrix} \\text{, }\n",
    "\\mathbf{\\vec{y}} = \\begin{bmatrix} 1 \\\\ 3 \\end{bmatrix} \\text{ and }\n",
    "\\mathbf{\\vec{z}} = \\begin{bmatrix} 3 \\\\ 7 \\end{bmatrix}$$\n",
    "\n",
    "In this case, there are no collinear vectors. However, this set is still linearly dependent. If you look closely, we can express the vector $\\mathbf{\\vec{z}}$ as the following linear combination of the other vectors:\n",
    "$$\\mathbf{\\vec{z}} = 2\\mathbf{\\vec{x}} + \\mathbf{\\vec{y}}$$\n",
    "\n",
    "This means that even the vector $\\mathbf{\\vec{z}}$ lies on the plane defined by $\\mathbf{\\vec{x}}$ and $\\mathbf{\\vec{y}}$, not adding a 3rd dimension, as shown in the diagram below:\n",
    "\n",
    "### DIAGRAM OF PLANE WHERE ALL THREE VECTORS ABOVE LIE\n",
    "\n",
    "A set of linearly independent vectors form a __basis__, and its elements are known as __basis vectors__. The number of vectors in a basis is equivalent to the number of dimensions in the vector space we are looking at. Any set of linearly independent vectors can be used as a basis. For example, we can represent any vector in the Cartesian plane as a linear combination of the following two vectors (or any two non-collinear vectors for that matter):\n",
    "$$\\mathbf{\\vec{v}} = a\\begin{bmatrix} 1 \\\\ 3 \\end{bmatrix} + b\\begin{bmatrix} 2 \\\\ 1 \\end{bmatrix}$$\n",
    "\n",
    "### DIAGRAM SHOWING RANDOM LINEARLY INDEPENDENT VECTORS VS ORTHONORMAL BASIS SET\n",
    "\n",
    "However, for simplicity and some interesting properties, we tend to prefer using an orthonormal basis set. This is the reason why we use $\\mathbf{\\hat{i}}$ and $\\mathbf{\\hat{j}}$ to represent 2-D vectors instead.Therefore, it is useful when given a linearly independent basis for a vector space, to determine the orthonormal basis set with the same span for future representations and operations. One way to accomplish this is via the Gram-Schmidt Orthonormalization Process.\n",
    "\n",
    "\n"
   ]
  }
 ],
 "metadata": {
  "kernelspec": {
   "display_name": "Python 3",
   "language": "python",
   "name": "python3"
  },
  "language_info": {
   "codemirror_mode": {
    "name": "ipython",
    "version": 3
   },
   "file_extension": ".py",
   "mimetype": "text/x-python",
   "name": "python",
   "nbconvert_exporter": "python",
   "pygments_lexer": "ipython3",
   "version": "3.7.7"
  }
 },
 "nbformat": 4,
 "nbformat_minor": 4
}
