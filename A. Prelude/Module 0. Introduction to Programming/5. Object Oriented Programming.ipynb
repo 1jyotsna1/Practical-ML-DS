{
 "cells": [
  {
   "cell_type": "markdown",
   "metadata": {},
   "source": [
    "# Python Prelude 6: Object-Oriented Programming"
   ]
  },
  {
   "cell_type": "markdown",
   "metadata": {},
   "source": [
    "## Prerequisites\n",
    "- Python Prelude 1\n",
    "- Python Prelude 2\n",
    "- Python Prelude 3\n",
    "- Python Prelude 4\n",
    "- Python Prelude 5\n",
    "\n",
    "## Learning objectives\n",
    "- Understand the basics of why object-oriented programming is used\n",
    "- Understand the nature of classes, attributes and methods\n",
    "- Know how to create a class\n",
    "- Know how to add attributes\n",
    "- Know how to add methods\n",
    "- Understand the nature of an object\n",
    "- Know how to instantiate a class\n",
    "- Understand class inheritance \n",
    "- Know how to use base classes to create derived classes"
   ]
  },
  {
   "cell_type": "markdown",
   "metadata": {},
   "source": [
    "## Functional vs. Object-Oriented Programming\n",
    "- Most programming you have done up to now is functional\n",
    "- In simple terms, this is putting inputs into a function, getting an output and then using that output as the input to another function\n",
    "- In many cases in data science this approach is not optimal, and instead it is better to group data and its related functions together in what we call a 'class'\n",
    "- A class is a collection of 'data' which we call attributes, and 'operations' (basically functions) which we call methods\n",
    "- A single instance of a class is called an 'object' and the act of its creation is called 'instantiation'\n",
    "- To reiterate, a method is a function associated with an object, and that association is the fact they are part of the same class\n",
    "- This means we can much more easily handle doing tasks repeatedly for similar types of data, in the same way that we use loops/functions etc"
   ]
  },
  {
   "cell_type": "markdown",
   "metadata": {},
   "source": [
    "To understand this idea, it is best to use an example:\n",
    "- Imagine you owned a shop, and wanted an easy way to keep stock of everything you have in it.\n",
    "- You could create a StockItem class, with characteristics of the items such as the name of the item, how many you have in stock, the price of each item, which section the item is in etc.\n",
    "- You could also have operations that the items could 'do', e.g. take delivery, sell an item, change its price etc <br>\n",
    "    1. The 'characteristics' of the item e.g. name/stock level/price would be __ATTRIBUTES__\n",
    "    2. The 'operations' of the item e.g. change stock level/change price would be __METHODS__\n",
    "    3. Each item would be an __OBJECT__ or __INSTANCE__ created by __INSTANTIATION__\n",
    "    4. The general blueprint of an item would be a __CLASS__"
   ]
  },
  {
   "cell_type": "markdown",
   "metadata": {},
   "source": [
    "With this in mind, we will look at an example before breaking down the syntax of classes: <br>\n",
    "(Don't worry about words like self, init etc this will be explained shortly)"
   ]
  },
  {
   "cell_type": "code",
   "execution_count": 23,
   "metadata": {},
   "outputs": [],
   "source": [
    "# StockItem is a class\n",
    "class StockItem():\n",
    "    \n",
    "    def __init__(self, item_type, item_price, item_stock_level):\n",
    "        self.item_type = item_type\n",
    "        self.item_price = item_price\n",
    "        self.item_stock_level = item_stock_level\n",
    "        \n",
    "    def change_price(self, new_price):\n",
    "        self.item_price = new_price\n",
    "        \n",
    "    def take_delivery(self, quantity):\n",
    "        self.item_stock_level += quantity\n",
    "        return \"The new stock level is: {}\".format(self.item_stock_level)"
   ]
  },
  {
   "cell_type": "code",
   "execution_count": 24,
   "metadata": {},
   "outputs": [],
   "source": [
    "# apple is an object, or an instance of StockItem\n",
    "apple = StockItem(\"fruit\", 1.99, 0)"
   ]
  },
  {
   "cell_type": "code",
   "execution_count": 22,
   "metadata": {},
   "outputs": [
    {
     "name": "stdout",
     "output_type": "stream",
     "text": [
      "fruit\n",
      "0\n"
     ]
    }
   ],
   "source": [
    "# .item_type and .item_stock_level are attributes\n",
    "print(apple.item_type)\n",
    "print(apple.item_stock_level)"
   ]
  },
  {
   "cell_type": "code",
   "execution_count": 25,
   "metadata": {},
   "outputs": [
    {
     "data": {
      "text/plain": [
       "'The new stock level is: 10'"
      ]
     },
     "execution_count": 25,
     "metadata": {},
     "output_type": "execute_result"
    }
   ],
   "source": [
    "# .take_delivery() is a method\n",
    "apple.take_delivery(10)"
   ]
  },
  {
   "cell_type": "markdown",
   "metadata": {},
   "source": [
    "## Basic Syntax\n",
    "The basic syntax for creating a class is shown below: "
   ]
  },
  {
   "cell_type": "code",
   "execution_count": null,
   "metadata": {},
   "outputs": [],
   "source": [
    "# class definition\n",
    "class ClassName():\n",
    "    \n",
    "    # class object attributes\n",
    "    att = \"something\"\n",
    "   \n",
    "    # class constructor\n",
    "    def __init__(self, param1 = 1, param2):\n",
    "        \n",
    "        # attributes\n",
    "        self.param1 = param1\n",
    "        self.param2 = param2\n",
    "        \n",
    "        # attribute defined using other attributes\n",
    "        self.param3 = ClassName.att + param2\n",
    "        \n",
    "        self.param4 = 0\n",
    "    \n",
    "    # methods\n",
    "    def some_method(self, ext_input): # can add external arguments\n",
    "        return self.param1 + ext_input + ClassName.att\n",
    "    \n",
    "    def some_other_method(self, ext_input1, ext_input2):\n",
    "        self.param4 = ext_input1 + ext_input2"
   ]
  },
  {
   "cell_type": "markdown",
   "metadata": {},
   "source": [
    "Now let's break down the syntax:\n",
    "\n",
    "#### Class Definition\n",
    "1. class keyword: indicates creation of class\n",
    "2. ClassName: use PascalCase (no spaces, capitalised words) for naming classes, snake_case for functions/variables.\n",
    "3. Parentheses/colon: do not need parentheses, but add as a matter of style, add colon to end statement and indicate indent\n",
    "\n",
    "#### Class Object Attributes\n",
    "4. Can define class object attributes, use these when you want an attribute that is always the same for every instance of a class. Does not require argument when instance of class created.\n",
    "5. When referencing a class object attribute, we use the name of the class, not self, this will be clearer below\n",
    "\n",
    "#### Class Constructor\n",
    "6. \\_\\_init\\_\\_ is the first 'method' in the class, named the class constructor. This is called automatically when instance of class created. Note the 'def' keyword is the same as functions, and it has parameters like functions, BUT it is a __METHOD__\n",
    "7. The first argument for \\_\\_init\\_\\_ is 'self' by convention, this is used to refer to each instance of a class (how Python distinguishes one instance of a class from another)\n",
    "8. The arguments for \\_\\_init\\_\\_ define the inputs assigned to each class instance\n",
    "9. Can define defaults for these parameters e.g. param1 = 1, BUT default arguments cannot be followed by non-default arguments\n",
    "\n",
    "#### Attributes\n",
    "10. Attributes are assigned using \\_\\_init\\_\\_ parameters with the self conventional keyword\n",
    "11. Hence we use the syntax self.param = param to assign attributes\n",
    "12. Attributes do not require () when called as they are not executable\n",
    "13. We can define attributes using other attributes as shown with self.param3\n",
    "\n",
    "#### Methods\n",
    "14. Methods are defined as functions within a class\n",
    "15. They perform operations based on inputs as defined by attributes\n",
    "16. Whether or not a method takes any external parameters, the first parameter of a method is always self\n",
    "17. When referencing attributes, we must reference instance: self.param1, NOT param1\n",
    "18. Methods can take external arguments such as ext_input: these must be specified when calling the method\n",
    "\n",
    "#### Defining Attributes using Methods\n",
    "19. We can have attributes that are not defined by parameters of \\_\\_init\\_\\_\n",
    "20. These can be defined as being empty or zero for example\n",
    "21. We can then define them later using a method\n",
    "22. For example, some_other_method takes in ext_input1 and ext_input2 and uses them to define self.param4"
   ]
  },
  {
   "cell_type": "markdown",
   "metadata": {},
   "source": [
    "## Exercise\n",
    "Here is an example for you to have a go at. Try defining a class for a cylinder. It should contain: <br>\n",
    "- A class object attribute of pi from the math module (provided for you)\n",
    "- Two attributes: height and radius, radius should have a default value of 1\n",
    "- Two methods: get_surface_area and get_volume\n",
    "- Use google to find the formulae for surface area and volume of a cylinder\n",
    "- Use the formulae to create method definitions for these"
   ]
  },
  {
   "cell_type": "code",
   "execution_count": 42,
   "metadata": {},
   "outputs": [],
   "source": [
    "import math\n",
    "\n",
    "class Cylinder():\n",
    "\n",
    "    pi = math.pi\n",
    "    \n",
    "    def __init__(self, height, radius = 1):\n",
    "        self.height = height\n",
    "        self.radius = radius\n",
    "    \n",
    "    def get_surface_area(self):\n",
    "        return 2 * Cylinder.pi * self.radius * (self.radius + self.height)\n",
    "    \n",
    "    def get_volume(self):\n",
    "        return Cylinder.pi * self.radius**2 * self.height"
   ]
  },
  {
   "cell_type": "markdown",
   "metadata": {},
   "source": [
    "Now test your class by running the following cells:"
   ]
  },
  {
   "cell_type": "code",
   "execution_count": 43,
   "metadata": {},
   "outputs": [],
   "source": [
    "cyl1 = Cylinder(5,20)"
   ]
  },
  {
   "cell_type": "code",
   "execution_count": 45,
   "metadata": {},
   "outputs": [
    {
     "data": {
      "text/plain": [
       "5"
      ]
     },
     "execution_count": 45,
     "metadata": {},
     "output_type": "execute_result"
    }
   ],
   "source": [
    "cyl1.height"
   ]
  },
  {
   "cell_type": "code",
   "execution_count": 46,
   "metadata": {},
   "outputs": [
    {
     "data": {
      "text/plain": [
       "20"
      ]
     },
     "execution_count": 46,
     "metadata": {},
     "output_type": "execute_result"
    }
   ],
   "source": [
    "cyl1.radius"
   ]
  },
  {
   "cell_type": "code",
   "execution_count": 49,
   "metadata": {},
   "outputs": [
    {
     "data": {
      "text/plain": [
       "3141.59"
      ]
     },
     "execution_count": 49,
     "metadata": {},
     "output_type": "execute_result"
    }
   ],
   "source": [
    "round(cyl1.get_surface_area(), 2)"
   ]
  },
  {
   "cell_type": "code",
   "execution_count": 50,
   "metadata": {},
   "outputs": [
    {
     "data": {
      "text/plain": [
       "6283.19"
      ]
     },
     "execution_count": 50,
     "metadata": {},
     "output_type": "execute_result"
    }
   ],
   "source": [
    "round(cyl1.get_volume(), 2)"
   ]
  },
  {
   "cell_type": "markdown",
   "metadata": {},
   "source": [
    "## Class Inheritance\n",
    "- We can use classes to create other classes, this is called __INHERITANCE__\n",
    "- The class we use to define is called the __BASE CLASS__\n",
    "- The class(es) defined is(are) called the __DERIVED CLASS(ES)__\n",
    "- The derived classes 'inherit' features from the base class\n",
    "- We can create an instance of the base class inside the inherited class in order to call its features\n",
    "- We can overwrite inherited methods by using the same method name\n",
    "- We can define new methods using novel method names"
   ]
  },
  {
   "cell_type": "code",
   "execution_count": 27,
   "metadata": {},
   "outputs": [],
   "source": [
    "# here we define a simple base class Building with no attributes and 1 method\n",
    "\n",
    "class Building():\n",
    "    \n",
    "    def __init__(self):\n",
    "        print(\"This is a building\")\n",
    "    \n",
    "    def contents(self):\n",
    "        print(\"Things\")"
   ]
  },
  {
   "cell_type": "code",
   "execution_count": 36,
   "metadata": {},
   "outputs": [
    {
     "name": "stdout",
     "output_type": "stream",
     "text": [
      "This is a building\n"
     ]
    }
   ],
   "source": [
    "# we instantiate Building as x\n",
    "x = Building()"
   ]
  },
  {
   "cell_type": "code",
   "execution_count": 33,
   "metadata": {},
   "outputs": [
    {
     "name": "stdout",
     "output_type": "stream",
     "text": [
      "Things\n"
     ]
    }
   ],
   "source": [
    "# x.contents() here gives us 'things'\n",
    "x.contents()"
   ]
  },
  {
   "cell_type": "code",
   "execution_count": 28,
   "metadata": {},
   "outputs": [],
   "source": [
    "# here we use Building to define a derived class House\n",
    "\n",
    "class House(Building): # we pass in the base class as an argument\n",
    "    \n",
    "    def __init__(self):\n",
    "        Building.__init__(self) # we create an instance of building to call __init__ from Building\n",
    "        print(\"This is a house\")\n",
    "        \n",
    "    def contents(self): # overwrite inherited method Building.contents() by using the same name\n",
    "        print(\"Furniture\")\n",
    "    \n",
    "    def inhabitants(self): # create new method by using new method name\n",
    "        print(\"People\")"
   ]
  },
  {
   "cell_type": "code",
   "execution_count": 37,
   "metadata": {},
   "outputs": [
    {
     "name": "stdout",
     "output_type": "stream",
     "text": [
      "This is a building\n",
      "This is a house\n"
     ]
    }
   ],
   "source": [
    "# we instantiate House as y\n",
    "# here we get the __init__ output from building AND from house\n",
    "y = House()"
   ]
  },
  {
   "cell_type": "code",
   "execution_count": 38,
   "metadata": {},
   "outputs": [
    {
     "name": "stdout",
     "output_type": "stream",
     "text": [
      "Furniture\n"
     ]
    }
   ],
   "source": [
    "# when we call y.contents(), we now see it is overwritten by the new definition\n",
    "y.contents()"
   ]
  },
  {
   "cell_type": "code",
   "execution_count": 39,
   "metadata": {},
   "outputs": [
    {
     "name": "stdout",
     "output_type": "stream",
     "text": [
      "People\n"
     ]
    }
   ],
   "source": [
    "# y also has a new method, .inhabitants()\n",
    "y.inhabitants()"
   ]
  },
  {
   "cell_type": "markdown",
   "metadata": {},
   "source": [
    "## Summary\n",
    "You should now understand:\n",
    "- The nature of classes, attributes, methods and objects\n",
    "- The difference between functions and methods\n",
    "- How class inheritance works\n",
    "<br><br>\n",
    "You should now know:\n",
    "- How to create a class\n",
    "- How to add attributes and methods to a class\n",
    "- How to instantiate a class and call its attributes and methods\n",
    "- How to create derived classes from a base class\n",
    "\n",
    "## Further reading\n",
    "- For those of you who want to read further and in more detail about classes, please refer to Python documentation on classes\n",
    "- https://docs.python.org/3/tutorial/classes.html\n",
    "\n",
    "## Next steps\n",
    "- [next notebook]()"
   ]
  },
  {
   "cell_type": "code",
   "execution_count": null,
   "metadata": {},
   "outputs": [],
   "source": []
  }
 ],
 "metadata": {
  "kernelspec": {
   "display_name": "Python 3",
   "language": "python",
   "name": "python3"
  },
  "language_info": {
   "codemirror_mode": {
    "name": "ipython",
    "version": 3
   },
   "file_extension": ".py",
   "mimetype": "text/x-python",
   "name": "python",
   "nbconvert_exporter": "python",
   "pygments_lexer": "ipython3",
   "version": "3.7.6"
  }
 },
 "nbformat": 4,
 "nbformat_minor": 4
}
