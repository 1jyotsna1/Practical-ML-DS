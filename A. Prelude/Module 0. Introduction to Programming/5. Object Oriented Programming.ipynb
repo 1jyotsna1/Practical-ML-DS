{
 "cells": [
  {
   "cell_type": "markdown",
   "metadata": {},
   "source": [
    "# Python Prelude 6: Object-Oriented Programming"
   ]
  },
  {
   "cell_type": "markdown",
   "metadata": {},
   "source": [
    "## Prerequisites\n",
    "- Python Prelude 1\n",
    "- Python Prelude 2\n",
    "- Python Prelude 3\n",
    "- Python Prelude 4\n",
    "- Python Prelude 5\n",
    "\n",
    "## Learning objectives\n",
    "- Understand the basics of why object-oriented programming is used\n",
    "- Understand the nature of classes, attributes and methods\n",
    "- Know how to create a class\n",
    "- Know how to add attributes\n",
    "- Know how to add methods\n",
    "- Understand the nature of an object\n",
    "- Know how to instantiate a class\n",
    "- Understand class inheritance \n",
    "- Know how to use base classes to create derived classes\n",
    "- Understand class polymorphism and its advantages\n",
    "- Know how to use magic methods"
   ]
  },
  {
   "cell_type": "markdown",
   "metadata": {},
   "source": [
    "## Functional vs. Object-Oriented Programming\n",
    "- Most programming you have done up to now is functional\n",
    "- In simple terms, this is putting inputs into a function, getting an output and then using that output as the input to another function\n",
    "- In many cases in data science this approach is not optimal, and instead it is better to group data and its related functions together in what we call a 'class'\n",
    "- A class is a collection of 'data' which we call attributes, and 'operations' (basically functions) which we call methods\n",
    "- This means we can much more easily handle doing tasks repeatedly for similar types of data, in the same way that we use loops/functions etc\n",
    "<br><br>\n",
    "To understand this idea, it is best to use an example:<br>\n",
    "Imagine you owned a shop, and wanted an easy way to keep stock of everything you have in it. <br>\n",
    "You could create a StockItem class, with details of the items such as the name of the item, how many you have in stock, the price of each item, which section the item is in etc.<br>\n",
    "You could also have operations that the items could 'do', e.g. take delivery, sell an item, change its price etc\n",
    "- The 'details' of the item e.g. name/stock level/price would be ATTRIBUTES\n",
    "- The 'operations' of the item e.g. change stock level/change price would be METHODS\n",
    "- Each item would be an OBJECT or INSTANCE\n",
    "- The general blueprint of an item would be a CLASS"
   ]
  },
  {
   "cell_type": "markdown",
   "metadata": {},
   "source": [
    "With this in mind, we will look at an example before breaking down the syntax of classes: <br>\n",
    "(Don't worry about words like self, init etc this will be explained shortly)"
   ]
  },
  {
   "cell_type": "code",
   "execution_count": 23,
   "metadata": {},
   "outputs": [],
   "source": [
    "# StockItem is a class\n",
    "class StockItem():\n",
    "    \n",
    "    def __init__(self, item_type, item_price, item_stock_level):\n",
    "        self.item_type = item_type\n",
    "        self.item_price = item_price\n",
    "        self.item_stock_level = item_stock_level\n",
    "        \n",
    "    def change_price(self, new_price):\n",
    "        self.item_price = new_price\n",
    "        \n",
    "    def take_delivery(self, quantity):\n",
    "        self.item_stock_level += quantity\n",
    "        return \"The new stock level is: {}\".format(self.item_stock_level)"
   ]
  },
  {
   "cell_type": "code",
   "execution_count": 24,
   "metadata": {},
   "outputs": [],
   "source": [
    "# apple is an object, or an instance of StockItem\n",
    "apple = StockItem(\"fruit\", 1.99, 0)"
   ]
  },
  {
   "cell_type": "code",
   "execution_count": 22,
   "metadata": {},
   "outputs": [
    {
     "name": "stdout",
     "output_type": "stream",
     "text": [
      "fruit\n",
      "0\n"
     ]
    }
   ],
   "source": [
    "# .item_type and .item_stock_level are attributes\n",
    "print(apple.item_type)\n",
    "print(apple.item_stock_level)"
   ]
  },
  {
   "cell_type": "code",
   "execution_count": 25,
   "metadata": {},
   "outputs": [
    {
     "data": {
      "text/plain": [
       "'The new stock level is: 10'"
      ]
     },
     "execution_count": 25,
     "metadata": {},
     "output_type": "execute_result"
    }
   ],
   "source": [
    "# .take_delivery() is a method\n",
    "apple.take_delivery(10)"
   ]
  },
  {
   "cell_type": "markdown",
   "metadata": {},
   "source": [
    "## Basic Syntax\n",
    "The basic syntax for creating a class is shown below: "
   ]
  },
  {
   "cell_type": "code",
   "execution_count": null,
   "metadata": {},
   "outputs": [],
   "source": [
    "\n",
    "class NameOfClass():\n",
    "    \n",
    "    # class object attributes\n",
    "    attr = \"sample\"\n",
    "   \n",
    "    # class constructor\n",
    "    def __init__(self, param1 = 1, param2):\n",
    "        \n",
    "        # attributes\n",
    "        self.param1 = param1\n",
    "        self.param2 = param2\n",
    "        \n",
    "        # attribute defined using other attributes\n",
    "        self.param3 = NameOfClass.attr + param2\n",
    "    \n",
    "    # methods\n",
    "    def some_method(self, var): # can add external arguments\n",
    "        return self.param1 + var + NameOfClass.attr"
   ]
  },
  {
   "cell_type": "markdown",
   "metadata": {},
   "source": [
    "Now let's break down the syntax:\n",
    "1. class keyword: indicates creation of class\n",
    "2. NameOfClass: use PascalCase (no spaces, capitalised words) for naming classes, snake_case for functions/variables.\n",
    "3. Parentheses/colon: do not need parentheses, but add as a matter of style, add colon to end statement and indicate indent\n",
    "4. Can define class object attributes, use these when you want an attribute that is always the same for every instance of a class. Does not require argument when instance of class created.\n",
    "5. \\_\\_init\\_\\_ is the first 'method' in the class, named the class constructor. This is called automatically when instance of class created. Note the 'def' keyword is the same as functions, and it has parameters like functions, BUT it is a __METHOD__\n",
    "6. The first argument for init is self by convention, this is used to refer to each instance of a class (how Python distinguishes one instance of a class from another)\n",
    "7. The arguments for \\_\\_init\\_\\_ define the inputs assigned to each class instance\n",
    "8. Can define defaults for these parameters e.g. param1 = 1\n",
    "9. Attributes are assigned using \\_\\_init\\_\\_  self conventional keyword, set self.attr = attr\n",
    "- when referencing in methods, must use instance, so self.attr not attr\n",
    "- do not require () when called, not executable\n",
    "- can define attributes off other attributes  \n",
    "- methods defined as functions within class\n",
    "- perform operations based on inputs as defined by attributes       \n",
    "- when referencing attributes, must reference instance: self.param1, NOT param1\n",
    "- can take external arguments"
   ]
  },
  {
   "cell_type": "code",
   "execution_count": null,
   "metadata": {},
   "outputs": [],
   "source": [
    "#### Object Oriented Programming ####\n",
    "\n",
    "# basic syntax\n",
    "\n",
    "# class keyword indicates creation of class, use PascalCase for naming classes, snake_case for functions/variables\n",
    "class NameOfClass():\n",
    "    \n",
    "    # can define class object attributes, innate to all instance of class\n",
    "    # does not require argument when instance of class created\n",
    "    # when referencing in methods, must use instance, so self.attr not attr\n",
    "    attr = \"sample\"\n",
    "    \n",
    "    # __init__ is class constructor, called automatically when instance of class created\n",
    "    # arguments for __init__ define inputs assigned to class instance\n",
    "    # can define defaults e.g. param1=1\n",
    "    def __init__(self, param1, param2):\n",
    "        \n",
    "        # attributes assigned using __init__ and self conventional keyword, set self.attr = attr\n",
    "        # do not require () when called, not executable\n",
    "        self.param1 = param1\n",
    "        self.param2 = param2\n",
    "        \n",
    "        # can define attributes off other attributes\n",
    "        self.param3 = NameOfClass.attr + param2\n",
    "    \n",
    "    # methods defined as functions within class\n",
    "    # perform operations based on inputs as defined by attributes \n",
    "    def some_method(self, var):\n",
    "        \n",
    "        # when referencing attributes, must reference instance: self.param1, NOT param1\n",
    "        # can take external arguments\n",
    "        return self.param1 + var + NameOfClass.attr"
   ]
  },
  {
   "cell_type": "code",
   "execution_count": null,
   "metadata": {},
   "outputs": [],
   "source": [
    "#### Example Class ####\n",
    "class Circle():\n",
    "    import math\n",
    "    pi = math.pi\n",
    "    \n",
    "    def __init__(self, radius = 1):\n",
    "        self.radius = radius\n",
    "        self.area = radius**2 * Circle.pi\n",
    "    \n",
    "    def get_circumference(self):\n",
    "        return self.radius * Circle.pi * 2"
   ]
  },
  {
   "cell_type": "code",
   "execution_count": null,
   "metadata": {},
   "outputs": [],
   "source": [
    "#### Class Inheritance ####\n",
    "# using already created classes to create further classes\n",
    "\n",
    "# Example 1\n",
    "# create simple base class Animal with no attributes defined in __init__\n",
    "# two methods, who_am_i and eat\n",
    "\n",
    "class Animal():\n",
    "    \n",
    "    def __init__(self):\n",
    "        print(\"Animal Created\")\n",
    "    \n",
    "    def who_am_i(self):\n",
    "        print(\"I am an animal\")\n",
    "        \n",
    "    def eat(self):\n",
    "        print(\"I am eating\")\n",
    "        \n",
    "        \n",
    "# recreate Dog class = derived class from Animal class = base class, features are inherited from base class\n",
    "# pass in base class as argument to derived class\n",
    "\n",
    "class Dog(Animal):\n",
    "    \n",
    "    # define __init__ as normal\n",
    "    def __init__(self):\n",
    "        \n",
    "        # can create instance of Animal within Dog class in order to call __init__ from Animal\n",
    "        # methods from Animal class are available for Dog class\n",
    "        Animal.__init__(self)\n",
    "        print(\"Dog Created\")\n",
    "    \n",
    "    # can overwrite inherited methods from base class by using same method name\n",
    "    def who_am_i(self):\n",
    "        print(\"I am a dog!\")\n",
    "        \n",
    "    # add new methods using new method names\n",
    "    def bark(self):\n",
    "        print(\"WOOF!\")"
   ]
  },
  {
   "cell_type": "markdown",
   "metadata": {},
   "source": [
    "## Summary\n",
    "- summary pt 1\n",
    "\n",
    "## Further reading\n",
    "- [more material]()\n",
    "\n",
    "## Next steps\n",
    "- [next notebook]()"
   ]
  },
  {
   "cell_type": "code",
   "execution_count": null,
   "metadata": {},
   "outputs": [],
   "source": []
  }
 ],
 "metadata": {
  "kernelspec": {
   "display_name": "Python 3",
   "language": "python",
   "name": "python3"
  },
  "language_info": {
   "codemirror_mode": {
    "name": "ipython",
    "version": 3
   },
   "file_extension": ".py",
   "mimetype": "text/x-python",
   "name": "python",
   "nbconvert_exporter": "python",
   "pygments_lexer": "ipython3",
   "version": "3.7.6"
  }
 },
 "nbformat": 4,
 "nbformat_minor": 4
}
