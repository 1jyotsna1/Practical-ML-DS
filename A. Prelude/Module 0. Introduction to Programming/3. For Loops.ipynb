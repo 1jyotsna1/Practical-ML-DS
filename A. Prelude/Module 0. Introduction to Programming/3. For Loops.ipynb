{
 "cells": [
  {
   "cell_type": "markdown",
   "metadata": {},
   "source": [
    "# Python Prelude 4: For Loops"
   ]
  },
  {
   "cell_type": "markdown",
   "metadata": {},
   "source": [
    "## Prerequisites\n",
    "- Python Prelude 1\n",
    "- Python Prelude 2\n",
    "- Python Prelude 3\n",
    "\n",
    "## Learning objectives\n",
    "- Understand the concept of definite iteration\n",
    "- Know how to use a basic for loop\n",
    "- Know how to use a for loop with the range() function\n",
    "- Know how to use range(len(iterable)) to iterate on index\n",
    "- Know how to use tuple unpacking in iteration\n",
    "- Know how to iterate through dictionaries\n",
    "- Know how to use conditional statements inside for loops\n",
    "- Know how to use pass, break and continue keywords\n",
    "- Know how to create and iterate through zip and enumerate objects\n",
    "- Know how to write list comprehensions\n",
    "- Know how to use conditionals inside list comprehensions"
   ]
  },
  {
   "cell_type": "markdown",
   "metadata": {},
   "source": [
    "# Control Flow"
   ]
  },
  {
   "cell_type": "markdown",
   "metadata": {},
   "source": [
    "## Iteration"
   ]
  },
  {
   "cell_type": "markdown",
   "metadata": {},
   "source": [
    "- Iterable: data structure capable of returning its elements one at a time e.g. list, tuple, string, dictionary(d.keys() returns a list)\n",
    "- Iteration: performing the same operation repeatedly (often over each element of an iterable)\n",
    "- e.g. multiplying each element in a list by 2, or taking index 0 of each item in a list of strings"
   ]
  },
  {
   "cell_type": "markdown",
   "metadata": {},
   "source": [
    "### For Loops vs. While Loops"
   ]
  },
  {
   "cell_type": "markdown",
   "metadata": {},
   "source": [
    "- Looping is an example of iteration, where you perform the same operation repeatedly, until some condition is fulfilled\n",
    "\n",
    "- For loops perform some operation FOR each element in an iterable (each character in a string or each item in a list etc) until there are no more elements left in the iterable\n",
    "- This is called definite iteration: where the number of iterations are known"
   ]
  },
  {
   "cell_type": "markdown",
   "metadata": {},
   "source": [
    "## For Loops"
   ]
  },
  {
   "cell_type": "markdown",
   "metadata": {},
   "source": [
    "### Basic Syntax"
   ]
  },
  {
   "cell_type": "code",
   "execution_count": 95,
   "metadata": {},
   "outputs": [],
   "source": [
    "# for i in iterable:\n",
    "#     do_something\n",
    "#     do_something_to_i"
   ]
  },
  {
   "cell_type": "markdown",
   "metadata": {},
   "source": [
    "#### We can break the syntax down as follows:\n",
    "- i is the counter variable here, it can be anything as long as it is consistent: best practice is to use naming such as city in cities, item in items etc where cities or items is the iterable name, or failing that, i, for the purpose of readability\n",
    "\n",
    "- i refers to each element in the iterable in a given iteration, and so we can use i in the do_something block\n",
    "\n",
    "- in is the keyword in, indicating reference to the following iterable\n",
    "\n",
    "- iterable is the iterable over which we wish to perform the operation, so the list name\n",
    "\n",
    "- The colon indicates control flow and signals an indent, completing the set phrase\n",
    "\n",
    "- The do_something block is the operation to perform on each element, and so often i is used in this code block, although it does not have to be"
   ]
  },
  {
   "cell_type": "markdown",
   "metadata": {},
   "source": [
    "### Example"
   ]
  },
  {
   "cell_type": "code",
   "execution_count": 96,
   "metadata": {},
   "outputs": [
    {
     "name": "stdout",
     "output_type": "stream",
     "text": [
      "thing\n",
      "thing\n",
      "thing\n",
      "thing\n"
     ]
    }
   ],
   "source": [
    "items = [\"hat\", \"scarf\", \"coat\", \"gloves\"]\n",
    "\n",
    "for item in items:\n",
    "    print(\"thing\")"
   ]
  },
  {
   "cell_type": "code",
   "execution_count": 3,
   "metadata": {},
   "outputs": [
    {
     "name": "stdout",
     "output_type": "stream",
     "text": [
      "hat\n",
      "scarf\n",
      "coat\n",
      "gloves\n"
     ]
    }
   ],
   "source": [
    "items = [\"hat\", \"scarf\", \"coat\", \"gloves\"]\n",
    "\n",
    "for item in items:\n",
    "    print(item)"
   ]
  },
  {
   "cell_type": "markdown",
   "metadata": {},
   "source": [
    "### Using the range() function"
   ]
  },
  {
   "cell_type": "code",
   "execution_count": 98,
   "metadata": {},
   "outputs": [],
   "source": [
    "# for i in range(start,stop,step):\n",
    "#     do_something\n",
    "#     do_something_to_i"
   ]
  },
  {
   "cell_type": "markdown",
   "metadata": {},
   "source": [
    "- Here, we perform an operation using the range() function, and so perform an operation for all the numbers in the given range\n",
    "\n",
    "- range() is a generator and so returns a range object, not a list, but it is still iterable\n",
    "\n",
    "- To produce a list we must use list(range())\n",
    "\n",
    "- range() takes 3 arguments, start, stop and step\n",
    "\n",
    "- If we specify 1 argument, e.g. range(3), range defaults to start = 0 and step = 1, and takes the argument as the ending number+1, so range(3) contains 0,1,2\n",
    "\n",
    "- If we specify 2 arguments, e.g. range(5,20), the first is start number and second is stop number+1\n",
    "\n",
    "- If we specify 3, the 3rd is the increment, so e.g. range(5,10,2) contains 5,7,9"
   ]
  },
  {
   "cell_type": "markdown",
   "metadata": {},
   "source": [
    "### Example"
   ]
  },
  {
   "cell_type": "code",
   "execution_count": 13,
   "metadata": {},
   "outputs": [
    {
     "name": "stdout",
     "output_type": "stream",
     "text": [
      "25\n",
      "49\n",
      "81\n",
      "121\n",
      "169\n",
      "225\n",
      "289\n",
      "361\n"
     ]
    }
   ],
   "source": [
    "for i in range(5,20,2):\n",
    "    print(i**2)"
   ]
  },
  {
   "cell_type": "code",
   "execution_count": 99,
   "metadata": {},
   "outputs": [
    {
     "name": "stdout",
     "output_type": "stream",
     "text": [
      "[0, 1, 2]\n",
      "[5, 6, 7, 8, 9, 10, 11, 12, 13, 14, 15, 16, 17, 18, 19]\n",
      "[5, 7, 9]\n"
     ]
    }
   ],
   "source": [
    "print(list(range(3)))\n",
    "print(list(range(5,20)))\n",
    "print(list(range(5,10,2)))"
   ]
  },
  {
   "cell_type": "markdown",
   "metadata": {},
   "source": [
    "### Using range(len(iterable))"
   ]
  },
  {
   "cell_type": "code",
   "execution_count": 100,
   "metadata": {},
   "outputs": [],
   "source": [
    "# for i in range(len(iterable)):\n",
    "#     do_something_to_iterable[i]"
   ]
  },
  {
   "cell_type": "markdown",
   "metadata": {},
   "source": [
    "- Here, i is each number in the index of a list, and we can index the list in the code block in order to modify each element\n",
    "- Generally this is to modify lists but can have other use cases"
   ]
  },
  {
   "cell_type": "markdown",
   "metadata": {},
   "source": [
    "### Example"
   ]
  },
  {
   "cell_type": "code",
   "execution_count": 15,
   "metadata": {},
   "outputs": [
    {
     "name": "stdout",
     "output_type": "stream",
     "text": [
      "hat\n",
      "HAT\n",
      "scarf\n",
      "SCARF\n",
      "coat\n",
      "COAT\n",
      "gloves\n",
      "GLOVES\n",
      "['HAT', 'SCARF', 'COAT', 'GLOVES']\n"
     ]
    }
   ],
   "source": [
    "items = [\"hat\", \"scarf\", \"coat\", \"gloves\"]\n",
    "\n",
    "\n",
    "\n",
    "for i in range(len(items)):\n",
    "    items[i] = items[i].upper()\n",
    "\n",
    "print(items)"
   ]
  },
  {
   "cell_type": "code",
   "execution_count": 17,
   "metadata": {},
   "outputs": [
    {
     "name": "stdout",
     "output_type": "stream",
     "text": [
      "['HAT', 'scarf', 'coat', 'gloves']\n"
     ]
    }
   ],
   "source": [
    "items = [\"hat\", \"scarf\", \"coat\", \"gloves\"]\n",
    "\n",
    "items[0] = items[0].upper()\n",
    "items[1] = items[1].upper()\n",
    "items[2] = items[2].upper()\n",
    "items[3] = items[3].upper()\n",
    "\n",
    "print(items)"
   ]
  },
  {
   "cell_type": "markdown",
   "metadata": {},
   "source": [
    "### Tuple Packing and Unpacking"
   ]
  },
  {
   "cell_type": "markdown",
   "metadata": {},
   "source": [
    "Some quick revision from the data types lecture:\n",
    "- One of the most powerful aspects of tuples is a technique called tuple unpacking\n",
    "- This allows us to assign variables using commas from a single tuple in order\n",
    "- The syntax works as below, although the brackets can be omitted, unless required to be clear"
   ]
  },
  {
   "cell_type": "code",
   "execution_count": 136,
   "metadata": {},
   "outputs": [
    {
     "name": "stdout",
     "output_type": "stream",
     "text": [
      "1\n",
      "2\n",
      "3\n"
     ]
    }
   ],
   "source": [
    "# Python here 'unpacks' the tuple automatically and picks out the values and assigns them to the comma-separated\n",
    "# variables\n",
    "a, b, c = (1, 2, 3)\n",
    "\n",
    "print(a)\n",
    "print(b)\n",
    "print(c)"
   ]
  },
  {
   "cell_type": "code",
   "execution_count": 7,
   "metadata": {},
   "outputs": [
    {
     "name": "stdout",
     "output_type": "stream",
     "text": [
      "1\n",
      "2\n",
      "3\n"
     ]
    }
   ],
   "source": [
    "# We can also assign a tuple to a variable and perform tuple unpacking on the variable\n",
    "t1 = (1,2,3)\n",
    "\n",
    "a, b, c = t1\n",
    "\n",
    "print(a)\n",
    "print(b)\n",
    "print(c)"
   ]
  },
  {
   "cell_type": "code",
   "execution_count": 137,
   "metadata": {},
   "outputs": [
    {
     "name": "stdout",
     "output_type": "stream",
     "text": [
      "1\n",
      "2\n",
      "3\n"
     ]
    }
   ],
   "source": [
    "# Here, the brackets are implied, and Python performs the tuple unpacking operation in the same way\n",
    "a, b, c = 1, 2, 3\n",
    "\n",
    "print(a)\n",
    "print(b)\n",
    "print(c)"
   ]
  },
  {
   "cell_type": "code",
   "execution_count": 8,
   "metadata": {},
   "outputs": [
    {
     "name": "stdout",
     "output_type": "stream",
     "text": [
      "1\n",
      "2\n",
      "3\n",
      "(1, 2, 3)\n"
     ]
    }
   ],
   "source": [
    "# tuples can also be packed in the same way\n",
    "print(a)\n",
    "print(b)\n",
    "print(c)\n",
    "\n",
    "t1 = a, b, c\n",
    "\n",
    "print(t1)"
   ]
  },
  {
   "cell_type": "markdown",
   "metadata": {},
   "source": [
    "### Iterating Through Dictionaries"
   ]
  },
  {
   "cell_type": "markdown",
   "metadata": {},
   "source": [
    "This is possible through 2 methods:\n",
    "1. We can iterate through d.keys(), as it returns a list\n",
    "2. We can use tuple unpacking to iterate through d.items(), as it returns a list of paired tuples\n",
    "\n",
    "The second method gives us the freedom to operate on keys too in a more readable format"
   ]
  },
  {
   "cell_type": "markdown",
   "metadata": {},
   "source": [
    "### Examples"
   ]
  },
  {
   "cell_type": "markdown",
   "metadata": {},
   "source": [
    "#### Method 1"
   ]
  },
  {
   "cell_type": "code",
   "execution_count": 18,
   "metadata": {},
   "outputs": [
    {
     "name": "stdout",
     "output_type": "stream",
     "text": [
      "['tom', 'sug', 'ws', 'cc', 'ccz']\n",
      "[0.87, 1.09, 0.29, 1.89, 1.29]\n"
     ]
    }
   ],
   "source": [
    "prices = {\"tom\":0.87, \"sug\":1.09, \"ws\":0.29, \"cc\":1.89, \"ccz\":1.29}\n",
    "\n",
    "code_list = []\n",
    "price_list = []\n",
    "\n",
    "for i in prices.keys():\n",
    "    code_list.append(i)\n",
    "    price_list.append(prices[i])\n",
    "    \n",
    "print(code_list)\n",
    "print(price_list)"
   ]
  },
  {
   "cell_type": "code",
   "execution_count": 22,
   "metadata": {},
   "outputs": [
    {
     "name": "stdout",
     "output_type": "stream",
     "text": [
      "['tom']\n",
      "[0.87]\n"
     ]
    }
   ],
   "source": [
    "prices = {\"tom\":0.87, \"sug\":1.09, \"ws\":0.29, \"cc\":1.89, \"ccz\":1.29}\n",
    "\n",
    "code_list = []\n",
    "price_list = []\n",
    "\n",
    "code_list.append(\"tom\")\n",
    "price_list.append(prices[\"tom\"])\n",
    "\n",
    "print(code_list)\n",
    "print(price_list)"
   ]
  },
  {
   "cell_type": "markdown",
   "metadata": {},
   "source": [
    "#### Method 2"
   ]
  },
  {
   "cell_type": "code",
   "execution_count": 25,
   "metadata": {},
   "outputs": [
    {
     "name": "stdout",
     "output_type": "stream",
     "text": [
      "['tom', 'sug', 'ws', 'cc', 'ccz']\n",
      "[0.87, 1.09, 0.29, 1.89, 1.29]\n"
     ]
    }
   ],
   "source": [
    "prices = {\"tom\":0.87, \"sug\":1.09, \"ws\":0.29, \"cc\":1.89, \"ccz\":1.29}\n",
    "\n",
    "code_list = []\n",
    "price_list = []\n",
    "\n",
    "for key, value in prices.items():\n",
    "    code_list.append(key)\n",
    "    price_list.append(value)\n",
    "    \n",
    "print(code_list)\n",
    "print(price_list)"
   ]
  },
  {
   "cell_type": "code",
   "execution_count": 30,
   "metadata": {},
   "outputs": [
    {
     "data": {
      "text/plain": [
       "dict_items([('tom', 0.87), ('sug', 1.09), ('ws', 0.29), ('cc', 1.89), ('ccz', 1.29)])"
      ]
     },
     "execution_count": 30,
     "metadata": {},
     "output_type": "execute_result"
    }
   ],
   "source": [
    "prices.items()"
   ]
  },
  {
   "cell_type": "code",
   "execution_count": 29,
   "metadata": {},
   "outputs": [
    {
     "data": {
      "text/plain": [
       "dict"
      ]
     },
     "execution_count": 29,
     "metadata": {},
     "output_type": "execute_result"
    }
   ],
   "source": [
    "type(prices)"
   ]
  },
  {
   "cell_type": "markdown",
   "metadata": {},
   "source": [
    "We can also perform other operations using tuple unpacking:"
   ]
  },
  {
   "cell_type": "code",
   "execution_count": 106,
   "metadata": {},
   "outputs": [
    {
     "name": "stdout",
     "output_type": "stream",
     "text": [
      "Item Code: tom\n",
      "Price: £0.87\n",
      "\n",
      "Item Code: sug\n",
      "Price: £1.09\n",
      "\n",
      "Item Code: ws\n",
      "Price: £0.29\n",
      "\n",
      "Item Code: cc\n",
      "Price: £1.89\n",
      "\n",
      "Item Code: ccz\n",
      "Price: £1.29\n",
      "\n"
     ]
    }
   ],
   "source": [
    "prices = {\"tom\":0.87, \"sug\":1.09, \"ws\":0.29, \"cc\":1.89, \"ccz\":1.29}\n",
    "\n",
    "for key, value in prices.items():\n",
    "    print(\"Item Code: {}\\nPrice: £{}\\n\".format(key,value))"
   ]
  },
  {
   "cell_type": "markdown",
   "metadata": {},
   "source": [
    "### If Statements within For Loops\n",
    "- We can use control flow within for loops to perform differing operations depending on conditions"
   ]
  },
  {
   "cell_type": "markdown",
   "metadata": {},
   "source": [
    "### Example\n",
    "- Here we use the example of a BMI calculator to demonstrate the combination of a few concepts\n",
    "- Heights are in metres and weights in kilograms for ease of calculation"
   ]
  },
  {
   "cell_type": "code",
   "execution_count": 2,
   "metadata": {},
   "outputs": [
    {
     "name": "stdout",
     "output_type": "stream",
     "text": [
      "[25.381468541909282, 25.390218522372525, 30.905885854261584, 23.938989774631512, 32.488628979857054, 18.80920625149619]\n",
      "You're in the overweight range. Your BMI is 25.4\n",
      "You're in the overweight range. Your BMI is 25.4\n",
      "You're in the obese range. Your BMI is 30.9\n",
      "You're in the healthy weight range. Your BMI is 23.9\n",
      "You're in the obese range. Your BMI is 32.5\n",
      "You're in the healthy weight range. Your BMI is 18.8\n"
     ]
    }
   ],
   "source": [
    "# we encode a list of heights and weights as a list of tuples\n",
    "heights_weights = [(1.83, 85),(1.55, 61),(2.09, 135),(1.71, 70),(1.71, 95),(1.71, 55)]\n",
    "\n",
    "# we set bmis as an empty list to append bmi values to\n",
    "bmis = []\n",
    "\n",
    "# we use tuple unpacking to add bmi values to bmis\n",
    "for height,weight in heights_weights:\n",
    "    bmis.append(weight/height**2)\n",
    "\n",
    "# we print bmis here to show the intermediate list, ordinarily we would not do this \n",
    "print(bmis)\n",
    "\n",
    "# we loop over bmi list to assign the values to the correct message\n",
    "for bmi in bmis:\n",
    "    if bmi < 18.5:\n",
    "        print(\"You're in the underweight range. Your BMI is {:3.1f}\".format(bmi))\n",
    "    elif bmi <= 24.9:\n",
    "        print(\"You're in the healthy weight range. Your BMI is {:3.1f}\".format(bmi))\n",
    "    elif bmi <= 29.9:\n",
    "        print(\"You're in the overweight range. Your BMI is {:3.1f}\".format(bmi))\n",
    "    elif bmi <= 39.9:\n",
    "        print(\"You're in the obese range. Your BMI is {:3.1f}\".format(bmi))"
   ]
  },
  {
   "cell_type": "markdown",
   "metadata": {},
   "source": [
    "We can now do this in a single for loop:"
   ]
  },
  {
   "cell_type": "code",
   "execution_count": 3,
   "metadata": {},
   "outputs": [
    {
     "name": "stdout",
     "output_type": "stream",
     "text": [
      "You're in the overweight range. Your BMI is 25.4\n",
      "You're in the overweight range. Your BMI is 25.4\n",
      "You're in the obese range. Your BMI is 30.9\n",
      "You're in the healthy weight range. Your BMI is 23.9\n",
      "You're in the obese range. Your BMI is 32.5\n",
      "You're in the healthy weight range. Your BMI is 18.8\n"
     ]
    }
   ],
   "source": [
    "heights_weights = [(1.83, 85),(1.55, 61),(2.09, 135),(1.71, 70),(1.71, 95),(1.71, 55)]\n",
    "\n",
    "for height,weight in heights_weights:\n",
    "    \n",
    "    # here we calculate bmi within the for loop using the paired tuple values before passing the bmi value\n",
    "    # into the subsequent if statements\n",
    "    bmi = weight/height**2\n",
    "\n",
    "    if bmi < 18.5:\n",
    "        print(\"You're in the underweight range. Your BMI is {:3.1f}\".format(bmi))\n",
    "    elif bmi <= 24.9:\n",
    "        print(\"You're in the healthy weight range. Your BMI is {:3.1f}\".format(bmi))\n",
    "    elif bmi <= 29.9:\n",
    "        print(\"You're in the overweight range. Your BMI is {:3.1f}\".format(bmi))\n",
    "    elif bmi <= 39.9:\n",
    "        print(\"You're in the obese range. Your BMI is {:3.1f}\".format(bmi))"
   ]
  },
  {
   "cell_type": "markdown",
   "metadata": {},
   "source": [
    "### Pass, Break and Continue Keywords"
   ]
  },
  {
   "cell_type": "markdown",
   "metadata": {},
   "source": [
    "- The pass keyword serves as a placeholder in an empty loop, it means 'do nothing'\n",
    "- We use pass when we want a loop (or function) in our code but do not want to write it out just now, but we still want to be able to run the rest of our code\n",
    "- The break keyword terminates the loop when it is triggered\n",
    "- The continue keyword moves to the top of the nearest enclosing loop and skips onto the next iteration\n",
    "- Usually we use these inside a conditional in order to terminate a loop or skip an iteration when a condition is met"
   ]
  },
  {
   "cell_type": "markdown",
   "metadata": {},
   "source": [
    "### Examples"
   ]
  },
  {
   "cell_type": "code",
   "execution_count": 4,
   "metadata": {},
   "outputs": [
    {
     "name": "stdout",
     "output_type": "stream",
     "text": [
      "10 5\n"
     ]
    }
   ],
   "source": [
    "x,y = 10,5\n",
    "\n",
    "for i in range(20):\n",
    "    pass\n",
    "\n",
    "print(x,y)"
   ]
  },
  {
   "cell_type": "code",
   "execution_count": 123,
   "metadata": {},
   "outputs": [
    {
     "name": "stdout",
     "output_type": "stream",
     "text": [
      "1\n",
      "2\n",
      "4\n",
      "5\n",
      "7\n",
      "8\n"
     ]
    }
   ],
   "source": [
    "for i in range(10):\n",
    "    if i%3 == 0:\n",
    "        continue\n",
    "    else:\n",
    "        print(i)"
   ]
  },
  {
   "cell_type": "code",
   "execution_count": 32,
   "metadata": {},
   "outputs": [
    {
     "name": "stdout",
     "output_type": "stream",
     "text": [
      "1\n",
      "2\n",
      "3\n",
      "4\n"
     ]
    }
   ],
   "source": [
    "for i in range(1,10):\n",
    "    if i%5 == 0:\n",
    "        break\n",
    "    else:\n",
    "        print(i)"
   ]
  },
  {
   "cell_type": "markdown",
   "metadata": {},
   "source": [
    "### Zip and Enumerate"
   ]
  },
  {
   "cell_type": "markdown",
   "metadata": {},
   "source": [
    "- zip() function combines iterables into tuples, but zip is an iterator which returns a zip object, which must then be iterated over, or converted to a list to view\n",
    "- Can unzip into tuples by adding * argument inside zip()\n",
    "- enumerate() returns iterator of tuples, containing (index,item)\n",
    "- This is useful for operations on both indices and items"
   ]
  },
  {
   "cell_type": "markdown",
   "metadata": {},
   "source": [
    "### Examples"
   ]
  },
  {
   "cell_type": "code",
   "execution_count": 43,
   "metadata": {},
   "outputs": [
    {
     "data": {
      "text/plain": [
       "[('tom', 0.87), ('sug', 1.09), ('ws', 0.29), ('cc', 1.89), ('ccz', 1.29)]"
      ]
     },
     "execution_count": 43,
     "metadata": {},
     "output_type": "execute_result"
    }
   ],
   "source": [
    "items = [\"tom\", \"sug\", \"ws\", \"cc\", \"ccz\"]\n",
    "prices = [0.87, 1.09, 0.29, 1.89, 1.29]\n",
    "\n",
    "list(zip(items,prices))"
   ]
  },
  {
   "cell_type": "code",
   "execution_count": 112,
   "metadata": {},
   "outputs": [
    {
     "name": "stdout",
     "output_type": "stream",
     "text": [
      "('tom', 'sug', 'ws', 'cc', 'ccz')\n",
      "(0.87, 1.09, 0.29, 1.89, 1.29)\n"
     ]
    }
   ],
   "source": [
    "items = [\"tom\", \"sug\", \"ws\", \"cc\", \"ccz\"]\n",
    "prices = [0.87, 1.09, 0.29, 1.89, 1.29]\n",
    "\n",
    "items_prices = zip(items, prices)\n",
    "\n",
    "\n",
    "\n",
    "tup_items, tup_prices = zip(*items_prices)\n",
    "\n",
    "print(tup_items)\n",
    "print(tup_prices)"
   ]
  },
  {
   "cell_type": "code",
   "execution_count": 113,
   "metadata": {},
   "outputs": [
    {
     "name": "stdout",
     "output_type": "stream",
     "text": [
      "The price of tom is £0.87\n",
      "The price of sug is £1.09\n",
      "The price of ws is £0.29\n",
      "The price of cc is £1.89\n",
      "The price of ccz is £1.29\n"
     ]
    }
   ],
   "source": [
    "items = [\"tom\", \"sug\", \"ws\", \"cc\", \"ccz\"]\n",
    "prices = [0.87, 1.09, 0.29, 1.89, 1.29]\n",
    "\n",
    "for item, price in zip(items, prices):\n",
    "    print(\"The price of {} is £{}\".format(item, price))"
   ]
  },
  {
   "cell_type": "code",
   "execution_count": 48,
   "metadata": {},
   "outputs": [
    {
     "name": "stdout",
     "output_type": "stream",
     "text": [
      "0 hat\n",
      "1 scarf\n",
      "2 coat\n",
      "3 gloves\n"
     ]
    }
   ],
   "source": [
    "items = [\"hat\", \"scarf\", \"coat\", \"gloves\"]\n",
    "\n",
    "\n",
    "for index, item in enumerate(items):\n",
    "    print(index, item)"
   ]
  },
  {
   "cell_type": "code",
   "execution_count": 59,
   "metadata": {},
   "outputs": [
    {
     "name": "stdout",
     "output_type": "stream",
     "text": [
      "((0, 'hat'), (1, 'scarf'), (2, 'coat'), (3, 'gloves'))\n"
     ]
    }
   ],
   "source": [
    "print(tuple(enumerate(items)))"
   ]
  },
  {
   "cell_type": "code",
   "execution_count": 54,
   "metadata": {},
   "outputs": [],
   "source": [
    "x = \"This is a string\""
   ]
  },
  {
   "cell_type": "code",
   "execution_count": 57,
   "metadata": {},
   "outputs": [
    {
     "data": {
      "text/plain": [
       "str"
      ]
     },
     "execution_count": 57,
     "metadata": {},
     "output_type": "execute_result"
    }
   ],
   "source": [
    "type(x)"
   ]
  },
  {
   "cell_type": "markdown",
   "metadata": {},
   "source": [
    "### List Comprehensions"
   ]
  },
  {
   "cell_type": "markdown",
   "metadata": {},
   "source": [
    "- List comprehension are a much more efficient way of writing a for loop which generates or modifies a list\n",
    "- They are more suitable when we would use .append() on a list inside the for loop, or would iterate on the index of a list to modify each item, otherwise a for loop is better\n",
    "- They are written in a single line and the syntax compared to a for loop is thus:"
   ]
  },
  {
   "cell_type": "code",
   "execution_count": 115,
   "metadata": {},
   "outputs": [],
   "source": [
    "# for item in iterable:\n",
    "#     do_something\n",
    "\n",
    "# [do_something for item in iterable]"
   ]
  },
  {
   "cell_type": "markdown",
   "metadata": {},
   "source": [
    "### Examples"
   ]
  },
  {
   "cell_type": "markdown",
   "metadata": {},
   "source": [
    "Hence:"
   ]
  },
  {
   "cell_type": "code",
   "execution_count": 70,
   "metadata": {},
   "outputs": [
    {
     "name": "stdout",
     "output_type": "stream",
     "text": [
      "[25, 36, 49, 64, 81, 100, 121, 144, 169, 196, 225, 256, 289, 324, 361]\n"
     ]
    }
   ],
   "source": [
    "squares = []\n",
    "\n",
    "for i in range(5,20):\n",
    "    squares.append(i**2)\n",
    "\n",
    "print(squares)"
   ]
  },
  {
   "cell_type": "markdown",
   "metadata": {},
   "source": [
    "Becomes:"
   ]
  },
  {
   "cell_type": "code",
   "execution_count": 118,
   "metadata": {},
   "outputs": [
    {
     "name": "stdout",
     "output_type": "stream",
     "text": [
      "[0, 1, 4, 9, 16, 25, 36, 49, 64, 81]\n"
     ]
    }
   ],
   "source": [
    "squares = [i**2 for i in range(10)]\n",
    "\n",
    "print(squares)"
   ]
  },
  {
   "cell_type": "markdown",
   "metadata": {},
   "source": [
    "### List Comprehensions using Conditionals"
   ]
  },
  {
   "cell_type": "markdown",
   "metadata": {},
   "source": [
    "- Conditionals in list comprehensions are of 2 types\n",
    "- When adding only an if statement, the conditional goes after the for statement\n",
    "- When adding an if/else statement, the conditional goes before the for statement"
   ]
  },
  {
   "cell_type": "markdown",
   "metadata": {},
   "source": [
    "### Examples"
   ]
  },
  {
   "cell_type": "markdown",
   "metadata": {},
   "source": [
    "Hence:"
   ]
  },
  {
   "cell_type": "code",
   "execution_count": 119,
   "metadata": {},
   "outputs": [
    {
     "name": "stdout",
     "output_type": "stream",
     "text": [
      "[0, 9, 36, 81]\n"
     ]
    }
   ],
   "source": [
    "squared_threes = []\n",
    "\n",
    "for x in range(10):\n",
    "    if x%3 == 0:\n",
    "        squared_threes.append(x**2)\n",
    "\n",
    "print(squared_threes)"
   ]
  },
  {
   "cell_type": "markdown",
   "metadata": {},
   "source": [
    "Becomes:"
   ]
  },
  {
   "cell_type": "code",
   "execution_count": 120,
   "metadata": {},
   "outputs": [
    {
     "name": "stdout",
     "output_type": "stream",
     "text": [
      "[0, 9, 36, 81]\n"
     ]
    }
   ],
   "source": [
    "squared_threes = [x**2 for x in range(10) if x%3==0]\n",
    "\n",
    "print(squared_threes)"
   ]
  },
  {
   "cell_type": "markdown",
   "metadata": {},
   "source": [
    "Using if/else:"
   ]
  },
  {
   "cell_type": "code",
   "execution_count": 121,
   "metadata": {},
   "outputs": [
    {
     "name": "stdout",
     "output_type": "stream",
     "text": [
      "[0, 1, 4, 27, 16, 25, 216, 49, 64, 729]\n"
     ]
    }
   ],
   "source": [
    "squares_and_cubes = []\n",
    "\n",
    "for x in range(10):\n",
    "    if x%3 == 0:\n",
    "        squares_and_cubes.append(x**3)\n",
    "    else:\n",
    "        squares_and_cubes.append(x**2)\n",
    "\n",
    "print(squares_and_cubes)"
   ]
  },
  {
   "cell_type": "markdown",
   "metadata": {},
   "source": [
    "Becomes:"
   ]
  },
  {
   "cell_type": "code",
   "execution_count": 122,
   "metadata": {},
   "outputs": [
    {
     "name": "stdout",
     "output_type": "stream",
     "text": [
      "[0, 1, 4, 27, 16, 25, 216, 49, 64, 729]\n"
     ]
    }
   ],
   "source": [
    "squares_and_cubes = [x**3 if x%3==0 else x**2 for x in range(10)]\n",
    "\n",
    "print(squares_and_cubes)"
   ]
  },
  {
   "cell_type": "markdown",
   "metadata": {},
   "source": [
    "### Nested For Loops"
   ]
  },
  {
   "cell_type": "markdown",
   "metadata": {},
   "source": [
    "- One final point added for completeness here is the use of for loops within for loops, known as nested for loops\n",
    "- These are not essential to know, but one should be aware of them for if a use case arises\n",
    "- The control flow in nested for loops means that the outer loop performs all iterations of the inner loop on its first item before moving to the next iteration and repeating\n",
    "- There is also a list comprehension equivalent of a nested for loop\n",
    "- This idea of nesting for loops can be used indefinitely (for loop within for loop within for loop etc etc), but beyond a single nesting it becomes very complicated to read and understand"
   ]
  },
  {
   "cell_type": "code",
   "execution_count": 5,
   "metadata": {},
   "outputs": [
    {
     "name": "stdout",
     "output_type": "stream",
     "text": [
      "[2, 20, 2000, 4, 40, 4000, 6, 60, 6000]\n"
     ]
    }
   ],
   "source": [
    "# basic syntax, itemwise comparisons\n",
    "mylist = []\n",
    "\n",
    "for x in [2,4,6]:\n",
    "    for y in [1,10,1000]:\n",
    "        mylist.append(x*y)\n",
    "\n",
    "print(mylist)"
   ]
  },
  {
   "cell_type": "code",
   "execution_count": 6,
   "metadata": {},
   "outputs": [
    {
     "data": {
      "text/plain": [
       "[2, 20, 2000, 4, 40, 4000, 6, 60, 6000]"
      ]
     },
     "execution_count": 6,
     "metadata": {},
     "output_type": "execute_result"
    }
   ],
   "source": [
    "# list comprehension syntax\n",
    "[x*y for x in [2,4,6] for y in [1,10,1000]]"
   ]
  },
  {
   "cell_type": "markdown",
   "metadata": {},
   "source": [
    "#### Word of Warning\n",
    "List comprehensions with conditionals can rapidly become overly complicated and unreadable, and give you a false sense of security as to your skill as a programmer. Often it is cleaner to use a for loop than a complicated list comprehension, as although you may have written a slick one-liner, it will just be confusing to read when you come back to it in 6 months time."
   ]
  },
  {
   "cell_type": "markdown",
   "metadata": {},
   "source": [
    "## Summary\n",
    "This is a large, heavy lesson with a lot of content. Hopefully, we have understood what for loops are, how to write them and the numerous applications that they can be used for. Some key take-aways that you must understand are:\n",
    "\n",
    "- What a for loop does\n",
    "- The difference between iterating on items and iterating on index\n",
    "- How to use conditionals in a for loop\n",
    "- How to use tuple unpacking\n",
    "- What pass break and continue do\n",
    "- How to use zip and enumerate\n",
    "- How and when to use list comprehensions\n",
    "\n",
    "\n",
    "## Further reading\n",
    "- There is no further reading for this lesson, please carefully go through these examples to fully understand the wide variety of applications of for loops.\n",
    "- For those who really want to read, please refer to the book Learning Python by Mark Lutz: bear in mind it is a reference text and over 1000 pages long. There is a whole chapter on for loops.\n",
    "- A pdf of Learning Python is available here: https://cfm.ehu.es/ricardo/docs/python/Learning_Python.pdf\n",
    "\n",
    "## Next steps\n",
    "- [next notebook]()"
   ]
  },
  {
   "cell_type": "code",
   "execution_count": null,
   "metadata": {},
   "outputs": [],
   "source": []
  }
 ],
 "metadata": {
  "kernelspec": {
   "display_name": "Python 3",
   "language": "python",
   "name": "python3"
  },
  "language_info": {
   "codemirror_mode": {
    "name": "ipython",
    "version": 3
   },
   "file_extension": ".py",
   "mimetype": "text/x-python",
   "name": "python",
   "nbconvert_exporter": "python",
   "pygments_lexer": "ipython3",
   "version": "3.7.6"
  }
 },
 "nbformat": 4,
 "nbformat_minor": 2
}
