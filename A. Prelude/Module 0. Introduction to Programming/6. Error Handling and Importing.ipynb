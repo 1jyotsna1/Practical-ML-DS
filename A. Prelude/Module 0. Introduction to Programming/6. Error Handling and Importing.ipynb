{
 "cells": [
  {
   "cell_type": "markdown",
   "metadata": {},
   "source": [
    "# Python Prelude 7: Error/Exception Handling and Importing"
   ]
  },
  {
   "cell_type": "markdown",
   "metadata": {},
   "source": [
    "## Learning objectives\n",
    "- Understand the nature and purpose of error and exception handling\n",
    "- Know how to use try, except, else, finally keywords with their clauses\n",
    "- Know how to use except clauses with specific errors\n",
    "- Understand why it is better to except specific errors rather than all errors"
   ]
  },
  {
   "cell_type": "markdown",
   "metadata": {},
   "source": [
    "## Error/Exception Handling\n",
    "- Code does not always run smoothly as we surely all know by now: sometimes it throws errors.\n",
    "- However, when there is an error Python will stop executing the code there and then, preventing any subsequent code from running.\n",
    "- Hence, we use error and exception handling to circumvent this, and allow blocks of our code to run despite errors.\n",
    "- We will learn 3 new keywords here, __try__, __except__ and __finally__\n",
    "- We will also use a keyword we already know: __else__\n",
    "<br><br>\n",
    "- try clause: this indicates the block code we want to attempt to run, it will only finish if there are no errors\n",
    "- except clause: if there is an error in the try clause, the execution will stop there and the except clause will be run\n",
    "- finally: this is the block of code to be run regardless of any errors\n",
    "<br><br>\n",
    "This is best seen using an example:"
   ]
  },
  {
   "cell_type": "code",
   "execution_count": 2,
   "metadata": {},
   "outputs": [
    {
     "ename": "TypeError",
     "evalue": "add_pair() takes 2 positional arguments but 3 were given",
     "output_type": "error",
     "traceback": [
      "\u001b[0;31m---------------------------------------------------------------------------\u001b[0m",
      "\u001b[0;31mTypeError\u001b[0m                                 Traceback (most recent call last)",
      "\u001b[0;32m<ipython-input-2-52e8710c44f7>\u001b[0m in \u001b[0;36m<module>\u001b[0;34m\u001b[0m\n\u001b[1;32m      6\u001b[0m \u001b[0madd_pair\u001b[0m\u001b[0;34m(\u001b[0m\u001b[0;36m1\u001b[0m\u001b[0;34m,\u001b[0m\u001b[0;36m3\u001b[0m\u001b[0;34m)\u001b[0m\u001b[0;34m\u001b[0m\u001b[0;34m\u001b[0m\u001b[0m\n\u001b[1;32m      7\u001b[0m \u001b[0;34m\u001b[0m\u001b[0m\n\u001b[0;32m----> 8\u001b[0;31m \u001b[0madd_pair\u001b[0m\u001b[0;34m(\u001b[0m\u001b[0;36m1\u001b[0m\u001b[0;34m,\u001b[0m\u001b[0;36m2\u001b[0m\u001b[0;34m,\u001b[0m\u001b[0;36m3\u001b[0m\u001b[0;34m)\u001b[0m\u001b[0;34m\u001b[0m\u001b[0;34m\u001b[0m\u001b[0m\n\u001b[0m\u001b[1;32m      9\u001b[0m \u001b[0;34m\u001b[0m\u001b[0m\n\u001b[1;32m     10\u001b[0m \u001b[0madd_pair\u001b[0m\u001b[0;34m(\u001b[0m\u001b[0;36m3\u001b[0m\u001b[0;34m,\u001b[0m\u001b[0;36m4\u001b[0m\u001b[0;34m)\u001b[0m\u001b[0;34m\u001b[0m\u001b[0;34m\u001b[0m\u001b[0m\n",
      "\u001b[0;31mTypeError\u001b[0m: add_pair() takes 2 positional arguments but 3 were given"
     ]
    }
   ],
   "source": [
    "# here we define a simple adding function for two numbers\n",
    "def add_pair(x,y):\n",
    "    return x + y\n",
    "\n",
    "# this function call works\n",
    "add_pair(1,3)\n",
    "\n",
    "# this throws a TypeError, as we specified too many arguments\n",
    "add_pair(1,2,3)\n",
    "\n",
    "# this line is not executed, as the code threw an error\n",
    "add_pair(3,4)"
   ]
  },
  {
   "cell_type": "code",
   "execution_count": 3,
   "metadata": {},
   "outputs": [
    {
     "data": {
      "text/plain": [
       "7"
      ]
     },
     "execution_count": 3,
     "metadata": {},
     "output_type": "execute_result"
    }
   ],
   "source": [
    "# we can see that this would have worked, if the code had continued to run\n",
    "add_pair(3,4)"
   ]
  },
  {
   "cell_type": "code",
   "execution_count": 7,
   "metadata": {},
   "outputs": [
    {
     "name": "stdout",
     "output_type": "stream",
     "text": [
      "There is something wrong here\n"
     ]
    }
   ],
   "source": [
    "# we can get around this using a try except else statement\n",
    "\n",
    "# define the function\n",
    "def add_pair(x,y):\n",
    "    return x + y\n",
    "\n",
    "\n",
    "try: # try the block of code\n",
    "    result = add_pair(1,2,3)\n",
    "\n",
    "except: # the block of code to run in case of an error\n",
    "    print(\"There is something wrong here\")\n",
    "\n",
    "else:\n",
    "    print(\"It worked\")\n",
    "    print(\"The result is {}\".format(result))"
   ]
  },
  {
   "cell_type": "code",
   "execution_count": 8,
   "metadata": {},
   "outputs": [
    {
     "name": "stdout",
     "output_type": "stream",
     "text": [
      "It worked\n",
      "The result is 4\n"
     ]
    }
   ],
   "source": [
    "# when the code executes correctly, the else statement is run\n",
    "\n",
    "def add_pair(x,y):\n",
    "    return x + y\n",
    "\n",
    "try:\n",
    "    result = add_pair(1,3)\n",
    "\n",
    "except:\n",
    "    print(\"There is something wrong here\")\n",
    "\n",
    "else:\n",
    "    print(\"It worked\")\n",
    "    print(\"The result is {}\".format(result))"
   ]
  },
  {
   "cell_type": "markdown",
   "metadata": {},
   "source": [
    "- We can also add in except clauses for specific errors such as SyntaxError or TypeError (see Python documentation for a full list of errors)<br>\n",
    "- It is almost always better to use except to get around specific errors rather than using a 'catch-all' except clause, as a general except clause can easily hide genuine errors"
   ]
  },
  {
   "cell_type": "code",
   "execution_count": 9,
   "metadata": {},
   "outputs": [
    {
     "name": "stdout",
     "output_type": "stream",
     "text": [
      "There was a type error\n"
     ]
    }
   ],
   "source": [
    "def add_pair(x,y):\n",
    "    return x + y\n",
    "\n",
    "try:\n",
    "    result = add_pair(1,2,3)\n",
    "\n",
    "except TypeError: # executed in case of a TypeError\n",
    "    print(\"There was a type error\")\n",
    "    \n",
    "except SyntaxError: # executed in case of a SyntaxError \n",
    "    print(\"You used the wrong syntax\")\n",
    "\n",
    "else:\n",
    "    print(\"It worked\")\n",
    "    print(\"The result is {}\".format(result))"
   ]
  },
  {
   "cell_type": "code",
   "execution_count": 16,
   "metadata": {},
   "outputs": [
    {
     "name": "stdout",
     "output_type": "stream",
     "text": [
      "You used the wrong name\n"
     ]
    }
   ],
   "source": [
    "def add_pair(x,y):\n",
    "    return x + y\n",
    "\n",
    "try: # note the spelling mistake \n",
    "    result = add_pai(1,2,3)\n",
    "\n",
    "except TypeError: # executed in case of a TypeError\n",
    "    print(\"There was a type error\")\n",
    "    \n",
    "except NameError: # executed in case of a NameError \n",
    "    print(\"You used the wrong name\")\n",
    "\n",
    "else:\n",
    "    print(\"It worked\")\n",
    "    print(\"The result is {}\".format(result))"
   ]
  },
  {
   "cell_type": "markdown",
   "metadata": {},
   "source": [
    "A finally clause is executed regardless of whether an error occurs or not:"
   ]
  },
  {
   "cell_type": "code",
   "execution_count": 18,
   "metadata": {},
   "outputs": [
    {
     "name": "stdout",
     "output_type": "stream",
     "text": [
      "It worked\n",
      "The result is 4\n",
      "This block of code is ALWAYS executed\n"
     ]
    }
   ],
   "source": [
    "def add_pair(x,y):\n",
    "    return x + y\n",
    "\n",
    "try:\n",
    "    result = add_pair(1,3)\n",
    "\n",
    "except TypeError:\n",
    "    print(\"There was a type error\")\n",
    "    \n",
    "except SyntaxError: \n",
    "    print(\"You used the wrong syntax\")\n",
    "\n",
    "else:\n",
    "    print(\"It worked\")\n",
    "    print(\"The result is {}\".format(result))\n",
    "\n",
    "finally: # executed with or without errors\n",
    "    print(\"This block of code is ALWAYS executed\")"
   ]
  },
  {
   "cell_type": "code",
   "execution_count": 19,
   "metadata": {},
   "outputs": [
    {
     "name": "stdout",
     "output_type": "stream",
     "text": [
      "There was a type error\n",
      "This block of code is ALWAYS executed\n"
     ]
    }
   ],
   "source": [
    "def add_pair(x,y):\n",
    "    return x + y\n",
    "\n",
    "try:\n",
    "    result = add_pair(1,2,3)\n",
    "\n",
    "except TypeError:\n",
    "    print(\"There was a type error\")\n",
    "    \n",
    "except SyntaxError: \n",
    "    print(\"You used the wrong syntax\")\n",
    "\n",
    "else:\n",
    "    print(\"It worked\")\n",
    "    print(\"The result is {}\".format(result))\n",
    "\n",
    "finally: # executed with or without errors\n",
    "    print(\"This block of code is ALWAYS executed\")"
   ]
  },
  {
   "cell_type": "markdown",
   "metadata": {},
   "source": [
    "## Summary\n",
    "- summary pt 1\n",
    "\n",
    "## Further reading\n",
    "- [more material]()\n",
    "\n",
    "## Next steps\n",
    "- [next notebook]()"
   ]
  }
 ],
 "metadata": {
  "kernelspec": {
   "display_name": "Python 3",
   "language": "python",
   "name": "python3"
  },
  "language_info": {
   "codemirror_mode": {
    "name": "ipython",
    "version": 3
   },
   "file_extension": ".py",
   "mimetype": "text/x-python",
   "name": "python",
   "nbconvert_exporter": "python",
   "pygments_lexer": "ipython3",
   "version": "3.7.6"
  }
 },
 "nbformat": 4,
 "nbformat_minor": 4
}
