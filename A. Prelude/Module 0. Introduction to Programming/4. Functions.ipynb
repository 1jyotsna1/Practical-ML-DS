{
 "cells": [
  {
   "cell_type": "markdown",
   "metadata": {},
   "source": [
    "# Python Prelude 5: Functions"
   ]
  },
  {
   "cell_type": "markdown",
   "metadata": {},
   "source": [
    "## Prerequisites\n",
    "- Python Prelude 1\n",
    "- Python Prelude 2\n",
    "- Python Prelude 3\n",
    "- Python Prelude 4\n",
    "\n",
    "## Learning objectives\n",
    "- Understand the nature and usage of functions\n",
    "- Know the syntax of defining a function\n",
    "- Understand the basic difference between functions and methods\n",
    "- Understand arguments and outputs\n",
    "- Know how to use the help() function\n",
    "- Know how to use \\*args and \\*\\*kwargs\n",
    "- Understand the idea of scope\n",
    "- Understand how and when to use lambda expressions\n",
    "- Know how to use map() and filter()"
   ]
  },
  {
   "cell_type": "markdown",
   "metadata": {},
   "source": [
    "# Functions"
   ]
  },
  {
   "cell_type": "markdown",
   "metadata": {},
   "source": [
    "## Defining Functions"
   ]
  },
  {
   "cell_type": "markdown",
   "metadata": {},
   "source": [
    "- We have already seen for loops as a way of obeying the DRY (Don't Repeat Yourself) principle\n",
    "- The next major step is functions\n",
    "- Functions provide a way to program a block of code that only runs when called\n",
    "- This means that we can avoid having to redefine the same operations when doing them repeatedly\n",
    "<br><br>\n",
    "- A function takes in parameters, and returns an output\n",
    "- The value passed in as a parameter is called an argument\n",
    "- A function associated with an object is called a method\n",
    "- An instance of a function is called a function call\n",
    "- The basic syntax for a function is as follows:"
   ]
  },
  {
   "cell_type": "code",
   "execution_count": 4,
   "metadata": {},
   "outputs": [
    {
     "data": {
      "text/plain": [
       "'Hello Jose'"
      ]
     },
     "execution_count": 4,
     "metadata": {},
     "output_type": "execute_result"
    }
   ],
   "source": [
    "# function definition\n",
    "def name_of_function (param1):\n",
    "    '''\n",
    "    DOCSTRING: explains function\n",
    "    INPUT: Name (str)\n",
    "    OUTPUT: Hello Name (str)\n",
    "    '''\n",
    "    # add code to run\n",
    "    return(\"Hello \" + param1)\n",
    "\n",
    "# function call\n",
    "name_of_function(\"Jose\")"
   ]
  },
  {
   "cell_type": "code",
   "execution_count": 3,
   "metadata": {},
   "outputs": [
    {
     "data": {
      "text/plain": [
       "<function __main__.name_of_function(param1)>"
      ]
     },
     "execution_count": 3,
     "metadata": {},
     "output_type": "execute_result"
    }
   ],
   "source": [
    "name_of_function"
   ]
  },
  {
   "cell_type": "markdown",
   "metadata": {},
   "source": [
    "- def keyword shows python you're about to define a function\n",
    "- Name of function comes next, name all lower case, separated by underscores, do not use builtin keywords: see PEP8 for detail\n",
    "- Parameters defined in brackets\n",
    "- Colon indicates end of definition line, next line will indent\n",
    "- Docstrings explain what the function is doing: read PEP257 or google python docstrings for guidelines\n",
    "- https://www.python.org/dev/peps/pep-0257/\n",
    "- return keyword indicates output of function\n",
    "<br><br>\n",
    "- When performing a function call, we write the name of the function followed by parentheses containing the arguments to pass in\n",
    "- __COMMON ERROR: if you call a function without parentheses it will not run!!!__\n",
    "- It will simply show information on the function including the module it belongs to, its name, and the parameters it takes"
   ]
  },
  {
   "cell_type": "markdown",
   "metadata": {},
   "source": [
    "## Using help()"
   ]
  },
  {
   "cell_type": "markdown",
   "metadata": {},
   "source": [
    "- We can use the help() function to find documentation if we don't know what a function does\n",
    "- Or press Shift + Tab"
   ]
  },
  {
   "cell_type": "code",
   "execution_count": 3,
   "metadata": {},
   "outputs": [
    {
     "name": "stdout",
     "output_type": "stream",
     "text": [
      "Help on function name_of_function in module __main__:\n",
      "\n",
      "name_of_function(name)\n",
      "    DOCSTRING: explains function\n",
      "    INPUT: Name\n",
      "    OUTPUT: Hello Name\n",
      "\n"
     ]
    }
   ],
   "source": [
    "help(name_of_function)"
   ]
  },
  {
   "cell_type": "code",
   "execution_count": 2,
   "metadata": {},
   "outputs": [
    {
     "name": "stdout",
     "output_type": "stream",
     "text": [
      "Help on built-in function print in module builtins:\n",
      "\n",
      "print(...)\n",
      "    print(value, ..., sep=' ', end='\\n', file=sys.stdout, flush=False)\n",
      "    \n",
      "    Prints the values to a stream, or to sys.stdout by default.\n",
      "    Optional keyword arguments:\n",
      "    file:  a file-like object (stream); defaults to the current sys.stdout.\n",
      "    sep:   string inserted between values, default a space.\n",
      "    end:   string appended after the last value, default a newline.\n",
      "    flush: whether to forcibly flush the stream.\n",
      "\n"
     ]
    }
   ],
   "source": [
    "help(print)"
   ]
  },
  {
   "cell_type": "code",
   "execution_count": 1,
   "metadata": {},
   "outputs": [
    {
     "name": "stdout",
     "output_type": "stream",
     "text": [
      "Help on built-in function arange in module numpy:\n",
      "\n",
      "arange(...)\n",
      "    arange([start,] stop[, step,], dtype=None)\n",
      "    \n",
      "    Return evenly spaced values within a given interval.\n",
      "    \n",
      "    Values are generated within the half-open interval ``[start, stop)``\n",
      "    (in other words, the interval including `start` but excluding `stop`).\n",
      "    For integer arguments the function is equivalent to the Python built-in\n",
      "    `range` function, but returns an ndarray rather than a list.\n",
      "    \n",
      "    When using a non-integer step, such as 0.1, the results will often not\n",
      "    be consistent.  It is better to use `numpy.linspace` for these cases.\n",
      "    \n",
      "    Parameters\n",
      "    ----------\n",
      "    start : number, optional\n",
      "        Start of interval.  The interval includes this value.  The default\n",
      "        start value is 0.\n",
      "    stop : number\n",
      "        End of interval.  The interval does not include this value, except\n",
      "        in some cases where `step` is not an integer and floating point\n",
      "        round-off affects the length of `out`.\n",
      "    step : number, optional\n",
      "        Spacing between values.  For any output `out`, this is the distance\n",
      "        between two adjacent values, ``out[i+1] - out[i]``.  The default\n",
      "        step size is 1.  If `step` is specified as a position argument,\n",
      "        `start` must also be given.\n",
      "    dtype : dtype\n",
      "        The type of the output array.  If `dtype` is not given, infer the data\n",
      "        type from the other input arguments.\n",
      "    \n",
      "    Returns\n",
      "    -------\n",
      "    arange : ndarray\n",
      "        Array of evenly spaced values.\n",
      "    \n",
      "        For floating point arguments, the length of the result is\n",
      "        ``ceil((stop - start)/step)``.  Because of floating point overflow,\n",
      "        this rule may result in the last element of `out` being greater\n",
      "        than `stop`.\n",
      "    \n",
      "    See Also\n",
      "    --------\n",
      "    numpy.linspace : Evenly spaced numbers with careful handling of endpoints.\n",
      "    numpy.ogrid: Arrays of evenly spaced numbers in N-dimensions.\n",
      "    numpy.mgrid: Grid-shaped arrays of evenly spaced numbers in N-dimensions.\n",
      "    \n",
      "    Examples\n",
      "    --------\n",
      "    >>> np.arange(3)\n",
      "    array([0, 1, 2])\n",
      "    >>> np.arange(3.0)\n",
      "    array([ 0.,  1.,  2.])\n",
      "    >>> np.arange(3,7)\n",
      "    array([3, 4, 5, 6])\n",
      "    >>> np.arange(3,7,2)\n",
      "    array([3, 5])\n",
      "\n"
     ]
    }
   ],
   "source": [
    "import numpy as np\n",
    "help(np.arange)"
   ]
  },
  {
   "cell_type": "markdown",
   "metadata": {},
   "source": [
    "## \\*Args and \\*\\*Kwargs"
   ]
  },
  {
   "cell_type": "markdown",
   "metadata": {},
   "source": [
    "- \\*args and \\*\\*kwargs are used to define an arbitrary number of arguments, when you don't know how many will be put into the function\n",
    "- \\*args combines arguments into a tuple\n",
    "- \\*\\*kwargs combines keyword arguments into a dictionary\n",
    "-  You can use them both in the same function"
   ]
  },
  {
   "cell_type": "code",
   "execution_count": 4,
   "metadata": {},
   "outputs": [
    {
     "data": {
      "text/plain": [
       "38.45"
      ]
     },
     "execution_count": 4,
     "metadata": {},
     "output_type": "execute_result"
    }
   ],
   "source": [
    "def five_perc(*args):\n",
    "    return sum(args)*0.05\n",
    "\n",
    "five_perc(1,2,3,4,5,54,55,35,3,45,6,3,553)"
   ]
  },
  {
   "cell_type": "code",
   "execution_count": 5,
   "metadata": {},
   "outputs": [
    {
     "name": "stdout",
     "output_type": "stream",
     "text": [
      "My fruit of choice is apple\n"
     ]
    }
   ],
   "source": [
    "def myfunc(**kwargs):\n",
    "    \n",
    "    if \"fruit\" in kwargs:\n",
    "        print(\"My fruit of choice is {}\".format(kwargs[\"fruit\"]))\n",
    "    else:\n",
    "        print(\"I did not find any fruit\")\n",
    "\n",
    "myfunc(fruit=\"apple\", veggie=\"lettuce\")"
   ]
  },
  {
   "cell_type": "code",
   "execution_count": 6,
   "metadata": {},
   "outputs": [
    {
     "name": "stdout",
     "output_type": "stream",
     "text": [
      "I would like 10 eggs.\n"
     ]
    }
   ],
   "source": [
    "def myfunc1(*args, **kwargs):\n",
    "    print(\"I would like {} {}.\".format(args[0],kwargs[\"food\"]))\n",
    "\n",
    "myfunc1(10, 20, 30, fruit=\"orange\", food=\"eggs\", animal=\"dog\")"
   ]
  },
  {
   "cell_type": "markdown",
   "metadata": {},
   "source": [
    "## Variable Scope"
   ]
  },
  {
   "cell_type": "markdown",
   "metadata": {},
   "source": [
    "- Variable scope refers to which parts of a program can reference a variable\n",
    "- There are 2 kinds of scope: local and global\n",
    "- A variable defined inside a function can only be referenced inside that function: local scope\n",
    "- A variable defined outside a function (in the general script) can be referenced inside the function, but cannot be modified from inside the function (UnboundLocalError)\n",
    "- To change it inside the function, it must be redefined inside the function"
   ]
  },
  {
   "cell_type": "code",
   "execution_count": 7,
   "metadata": {},
   "outputs": [
    {
     "ename": "UnboundLocalError",
     "evalue": "local variable 'egg_count' referenced before assignment",
     "output_type": "error",
     "traceback": [
      "\u001b[0;31m---------------------------------------------------------------------------\u001b[0m",
      "\u001b[0;31mUnboundLocalError\u001b[0m                         Traceback (most recent call last)",
      "\u001b[0;32m<ipython-input-7-32dca0f4d031>\u001b[0m in \u001b[0;36m<module>\u001b[0;34m\u001b[0m\n\u001b[1;32m      4\u001b[0m     \u001b[0megg_count\u001b[0m \u001b[0;34m+=\u001b[0m \u001b[0;36m12\u001b[0m \u001b[0;31m# purchase a dozen eggs\u001b[0m\u001b[0;34m\u001b[0m\u001b[0;34m\u001b[0m\u001b[0m\n\u001b[1;32m      5\u001b[0m \u001b[0;34m\u001b[0m\u001b[0m\n\u001b[0;32m----> 6\u001b[0;31m \u001b[0mbuy_eggs\u001b[0m\u001b[0;34m(\u001b[0m\u001b[0;34m)\u001b[0m\u001b[0;34m\u001b[0m\u001b[0;34m\u001b[0m\u001b[0m\n\u001b[0m",
      "\u001b[0;32m<ipython-input-7-32dca0f4d031>\u001b[0m in \u001b[0;36mbuy_eggs\u001b[0;34m()\u001b[0m\n\u001b[1;32m      2\u001b[0m \u001b[0;34m\u001b[0m\u001b[0m\n\u001b[1;32m      3\u001b[0m \u001b[0;32mdef\u001b[0m \u001b[0mbuy_eggs\u001b[0m\u001b[0;34m(\u001b[0m\u001b[0;34m)\u001b[0m\u001b[0;34m:\u001b[0m\u001b[0;34m\u001b[0m\u001b[0;34m\u001b[0m\u001b[0m\n\u001b[0;32m----> 4\u001b[0;31m     \u001b[0megg_count\u001b[0m \u001b[0;34m+=\u001b[0m \u001b[0;36m12\u001b[0m \u001b[0;31m# purchase a dozen eggs\u001b[0m\u001b[0;34m\u001b[0m\u001b[0;34m\u001b[0m\u001b[0m\n\u001b[0m\u001b[1;32m      5\u001b[0m \u001b[0;34m\u001b[0m\u001b[0m\n\u001b[1;32m      6\u001b[0m \u001b[0mbuy_eggs\u001b[0m\u001b[0;34m(\u001b[0m\u001b[0;34m)\u001b[0m\u001b[0;34m\u001b[0m\u001b[0;34m\u001b[0m\u001b[0m\n",
      "\u001b[0;31mUnboundLocalError\u001b[0m: local variable 'egg_count' referenced before assignment"
     ]
    }
   ],
   "source": [
    "egg_count = 0\n",
    "\n",
    "def buy_eggs():\n",
    "    egg_count += 12 # purchase a dozen eggs\n",
    "\n",
    "buy_eggs()"
   ]
  },
  {
   "cell_type": "code",
   "execution_count": 10,
   "metadata": {},
   "outputs": [
    {
     "name": "stdout",
     "output_type": "stream",
     "text": [
      "12\n"
     ]
    }
   ],
   "source": [
    "egg_count = 0\n",
    "\n",
    "def buy_eggs(count):\n",
    "    return count + 12  # purchase a dozen eggs\n",
    "\n",
    "egg_count = buy_eggs(egg_count)\n",
    "\n",
    "print(egg_count)"
   ]
  },
  {
   "cell_type": "markdown",
   "metadata": {},
   "source": [
    "## Lambda/Anonymous Expression with Map/Filter"
   ]
  },
  {
   "cell_type": "markdown",
   "metadata": {},
   "source": [
    "- map() is a higher order function, it takes in a function and iterable, and returns an iterator with the function applied to the members of that iterator\n",
    "- filter() is another higher order function also taking in a function and iterable, however it returns the elements of the iterable for which the function is true\n",
    "- Often, we may want to use map() or filter() without having to define a whole function to do; this is where lambda expressions come in"
   ]
  },
  {
   "cell_type": "code",
   "execution_count": 46,
   "metadata": {},
   "outputs": [
    {
     "name": "stdout",
     "output_type": "stream",
     "text": [
      "1\n",
      "4\n",
      "9\n",
      "16\n",
      "25\n"
     ]
    },
    {
     "data": {
      "text/plain": [
       "[1, 4, 9, 16, 25]"
      ]
     },
     "execution_count": 46,
     "metadata": {},
     "output_type": "execute_result"
    }
   ],
   "source": [
    "# use map to pass function over iterable\n",
    "def square(x):\n",
    "    return x**2\n",
    "\n",
    "# define iterable\n",
    "mylist = [1,2,3,4,5]\n",
    "\n",
    "# pass in function without brackets and iterable to map, must iterate over or list iterable\n",
    "for i in map(square, mylist):\n",
    "    print(i)\n",
    "\n",
    "list(map(square, mylist))"
   ]
  },
  {
   "cell_type": "code",
   "execution_count": 12,
   "metadata": {},
   "outputs": [
    {
     "data": {
      "text/plain": [
       "[1, 4, 9, 16, 25]"
      ]
     },
     "execution_count": 12,
     "metadata": {},
     "output_type": "execute_result"
    }
   ],
   "source": [
    "# when function will only be used once use anonymous with keyword lambda\n",
    "list(map(lambda x:x**2, mylist))"
   ]
  },
  {
   "cell_type": "code",
   "execution_count": 13,
   "metadata": {},
   "outputs": [
    {
     "name": "stdout",
     "output_type": "stream",
     "text": [
      "2\n",
      "4\n"
     ]
    },
    {
     "data": {
      "text/plain": [
       "[2, 4]"
      ]
     },
     "execution_count": 13,
     "metadata": {},
     "output_type": "execute_result"
    }
   ],
   "source": [
    "# filter returns true elements from iterable for boolean function\n",
    "def check_even(x):\n",
    "    return x%2 == 0\n",
    "\n",
    "# define iterable\n",
    "mylist = [1,2,3,4,5]\n",
    "\n",
    "# same as map, must list or iterate\n",
    "for i in filter(check_even, mylist):\n",
    "    print (i)\n",
    "\n",
    "list(filter(check_even,mylist))"
   ]
  },
  {
   "cell_type": "code",
   "execution_count": 14,
   "metadata": {},
   "outputs": [
    {
     "data": {
      "text/plain": [
       "[2, 4]"
      ]
     },
     "execution_count": 14,
     "metadata": {},
     "output_type": "execute_result"
    }
   ],
   "source": [
    "# same process in one line\n",
    "list(filter(lambda x:x%2==0, mylist))"
   ]
  },
  {
   "cell_type": "code",
   "execution_count": 15,
   "metadata": {},
   "outputs": [
    {
     "data": {
      "text/plain": [
       "100"
      ]
     },
     "execution_count": 15,
     "metadata": {},
     "output_type": "execute_result"
    }
   ],
   "source": [
    "# can save lambda expressions to a variable\n",
    "x = lambda i : i**2\n",
    "x(10)"
   ]
  },
  {
   "cell_type": "markdown",
   "metadata": {},
   "source": [
    "## Summary\n",
    "Congratulations, you are now able to program in Python!\n",
    "You should now understand:\n",
    "- How functions work in Python\n",
    "- The nature of variable scope\n",
    "- How to use lambda expressions\n",
    "<br><br>\n",
    "You should now know:\n",
    "- How to define a function\n",
    "- How to call a function\n",
    "- How to use the help() function\n",
    "- How to employ \\*args and \\*\\*kwargs\n",
    "- How and when to write lambda expressions\n",
    "- How to use map() and filter()\n",
    "\n",
    "## Further reading\n",
    "- Python Function Definitions: https://docs.python.org/3/reference/compound_stmts.html#function-definitions\n",
    "- Python Docstring Conventions: https://www.python.org/dev/peps/pep-0257/\n",
    "\n",
    "## Next steps\n",
    "- [next notebook]()"
   ]
  },
  {
   "cell_type": "code",
   "execution_count": null,
   "metadata": {},
   "outputs": [],
   "source": []
  }
 ],
 "metadata": {
  "kernelspec": {
   "display_name": "Python 3",
   "language": "python",
   "name": "python3"
  },
  "language_info": {
   "codemirror_mode": {
    "name": "ipython",
    "version": 3
   },
   "file_extension": ".py",
   "mimetype": "text/x-python",
   "name": "python",
   "nbconvert_exporter": "python",
   "pygments_lexer": "ipython3",
   "version": "3.7.6"
  }
 },
 "nbformat": 4,
 "nbformat_minor": 2
}
