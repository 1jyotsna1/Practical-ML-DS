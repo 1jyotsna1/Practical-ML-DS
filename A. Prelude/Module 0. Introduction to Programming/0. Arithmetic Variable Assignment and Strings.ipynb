{
 "cells": [
  {
   "cell_type": "markdown",
   "metadata": {},
   "source": [
    "# Python Prelude Lesson 1: Arithmetic, Variable Assignment and Strings"
   ]
  },
  {
   "cell_type": "markdown",
   "metadata": {},
   "source": [
    "## Prerequisites\n",
    "- Enthusiasm for and determination to learn Python for Data Science: \n",
    "- Have Anaconda Navigator and dependencies installed on your computer\n",
    "- Know how to find terminal or Anaconda Prompt\n",
    "\n",
    "## Learning objectives\n",
    "- Understand the difference between integers and floats\n",
    "- Know how to use Python as a calculator\n",
    "- Know how to assign variables, and variable naming conventions\n",
    "- Understand strings and some basic string methods including .format() \n",
    "- How to perform indexing and slicing"
   ]
  },
  {
   "cell_type": "markdown",
   "metadata": {},
   "source": [
    "# Introduction"
   ]
  },
  {
   "cell_type": "markdown",
   "metadata": {},
   "source": [
    "## What is Python?\n",
    "- A coding language: a system of rules that can be used to operate a computer\n",
    "- Dynamically typed, we will go into detail later\n",
    "- Can have many uses (networks, games, graphics, apps)\n",
    "- We are focusing on data science applications of python\n",
    "- Python can be used for the whole data pipeline, from data input to model validation"
   ]
  },
  {
   "cell_type": "markdown",
   "metadata": {},
   "source": [
    "## What is Anaconda?\n",
    "- Package manager for python (package --> module --> script --> function --> statement --> expression)\n",
    "- Allows use of multiple python IDEs including jupyter notebook and spyder\n",
    "- Anaconda works in the background to allow you to develop seamlessly using Python\n",
    "- Anaconda Navigator is the GUI for the Anaconda application\n"
   ]
  },
  {
   "attachments": {},
   "cell_type": "markdown",
   "metadata": {},
   "source": [
    "## What is an IDE?\n",
    "- Integrated Development Environment: a place to write programs in a language\n",
    "- Most famous for Python are PyCharm and Jupyter Notebook (also Spyder)\n",
    "- We will use Jupyter Notebook: will explain advantages and drawbacks over time\n",
    "- Jupyter Notebook works using cells\n",
    "- You input your code into each cell and then run the code per cell"
   ]
  },
  {
   "cell_type": "markdown",
   "metadata": {},
   "source": [
    "## Jupyter Notebook\n",
    "- Has many keyboard shortcuts: you will get used to them\n",
    "- Use Esc key to use shortcuts: use Esc, H to find a list\n",
    "- 2 main types of cell: Code and Markdown\n",
    "- Code is self explanatory\n",
    "- Markdown is used to write explanatory text/titles etc\n",
    "- \\# at the start of a line indicates that a line is a comment in a code cell\n",
    "- Using comments effectively is a whole topic, suffice to say that comments are there to explain code and make it easier to understand for anyone reading who isn't the author"
   ]
  },
  {
   "cell_type": "markdown",
   "metadata": {},
   "source": [
    "## Data Types in Python\n",
    "Python can take in many data types, these include:\n",
    "- Integers (int)\n",
    "- Floating Point Numbers (float)\n",
    "- Strings (str)\n",
    "- Lists (list)\n",
    "- Dictionaries (dict)\n",
    "- Tuples (tuple)\n",
    "- Sets (set)\n",
    "- Booleans (bool)"
   ]
  },
  {
   "cell_type": "markdown",
   "metadata": {},
   "source": [
    "## Numbers in Python\n",
    "- Numbers in Python are of two types: integers (int) and floating-point (float) numbers\n",
    "- Put simply, an integer is an integer and a floating-point number is any number with a decimal point\n",
    "- The only catch with floating-point numbers is that due to the nature of floating-point calculation, they are not exactly what you expect them to be, and hence it is often better to round them."
   ]
  },
  {
   "cell_type": "markdown",
   "metadata": {},
   "source": [
    "## Arithmetic in Python\n",
    "- Arithmetic is fairly simple: we use the standard operators: + - / *\n",
    "- Python will follow Order of Operations (BIDMAS)\n",
    "- We use double asterisk \\** for powers (roots are just fractional powers)\n",
    "- Division always returns a floating-point number\n",
    "- There are a couple of special operations:\n",
    "    - Modulo (x%y) gives the remainder of dividing x by y\n",
    "    - Floor division (x//y) gives the result of dividing x by y rounded down to the nearest integer"
   ]
  },
  {
   "cell_type": "code",
   "execution_count": 1,
   "metadata": {},
   "outputs": [
    {
     "data": {
      "text/plain": [
       "3"
      ]
     },
     "execution_count": 1,
     "metadata": {},
     "output_type": "execute_result"
    }
   ],
   "source": [
    "# Addition\n",
    "2+1"
   ]
  },
  {
   "cell_type": "code",
   "execution_count": 2,
   "metadata": {},
   "outputs": [
    {
     "data": {
      "text/plain": [
       "1"
      ]
     },
     "execution_count": 2,
     "metadata": {},
     "output_type": "execute_result"
    }
   ],
   "source": [
    "# Subtraction\n",
    "2-1"
   ]
  },
  {
   "cell_type": "code",
   "execution_count": 3,
   "metadata": {},
   "outputs": [
    {
     "data": {
      "text/plain": [
       "4"
      ]
     },
     "execution_count": 3,
     "metadata": {},
     "output_type": "execute_result"
    }
   ],
   "source": [
    "# Multiplication\n",
    "2*2"
   ]
  },
  {
   "cell_type": "code",
   "execution_count": 4,
   "metadata": {},
   "outputs": [
    {
     "data": {
      "text/plain": [
       "1.5"
      ]
     },
     "execution_count": 4,
     "metadata": {},
     "output_type": "execute_result"
    }
   ],
   "source": [
    "# Division\n",
    "3/2"
   ]
  },
  {
   "cell_type": "code",
   "execution_count": 5,
   "metadata": {},
   "outputs": [
    {
     "data": {
      "text/plain": [
       "1"
      ]
     },
     "execution_count": 5,
     "metadata": {},
     "output_type": "execute_result"
    }
   ],
   "source": [
    "# Floor Division\n",
    "7//4"
   ]
  },
  {
   "cell_type": "code",
   "execution_count": 6,
   "metadata": {},
   "outputs": [
    {
     "data": {
      "text/plain": [
       "3"
      ]
     },
     "execution_count": 6,
     "metadata": {},
     "output_type": "execute_result"
    }
   ],
   "source": [
    "# Modulo\n",
    "7%4"
   ]
  },
  {
   "cell_type": "code",
   "execution_count": 7,
   "metadata": {},
   "outputs": [
    {
     "data": {
      "text/plain": [
       "8"
      ]
     },
     "execution_count": 7,
     "metadata": {},
     "output_type": "execute_result"
    }
   ],
   "source": [
    "# Powers\n",
    "2**3"
   ]
  },
  {
   "cell_type": "code",
   "execution_count": 8,
   "metadata": {},
   "outputs": [
    {
     "data": {
      "text/plain": [
       "2.0"
      ]
     },
     "execution_count": 8,
     "metadata": {},
     "output_type": "execute_result"
    }
   ],
   "source": [
    "# Can also do roots this way\n",
    "4**0.5"
   ]
  },
  {
   "cell_type": "code",
   "execution_count": 9,
   "metadata": {},
   "outputs": [
    {
     "data": {
      "text/plain": [
       "105"
      ]
     },
     "execution_count": 9,
     "metadata": {},
     "output_type": "execute_result"
    }
   ],
   "source": [
    "# Order of Operations followed in Python\n",
    "2 + 10 * 10 + 3"
   ]
  },
  {
   "cell_type": "code",
   "execution_count": 10,
   "metadata": {},
   "outputs": [
    {
     "data": {
      "text/plain": [
       "156"
      ]
     },
     "execution_count": 10,
     "metadata": {},
     "output_type": "execute_result"
    }
   ],
   "source": [
    "# Can use parentheses to specify orders\n",
    "(2+10) * (10+3)"
   ]
  },
  {
   "cell_type": "code",
   "execution_count": null,
   "metadata": {},
   "outputs": [],
   "source": []
  },
  {
   "cell_type": "markdown",
   "metadata": {},
   "source": [
    "## Variable Assignment\n",
    "- Often we want to use the same object repeatedly, and hence rather than defining it repeatedly in code we can assign a variable which we use instead\n",
    "- We assign variables by using the equals sign = in Python\n",
    "- Python is dynamically typed: if you assign a variable, it can be changed to something else later in your code (NOT like C which is statically typed)\n",
    "- Variables are named using the following guidelines:"
   ]
  },
  {
   "cell_type": "markdown",
   "metadata": {},
   "source": [
    "## Variable Naming\n",
    "1. Use snake_case: all lowercase, no spaces, underscores\\_ instead.\n",
    "2. Names cannot start with a number or use these symbols \\:'\",<>/?|\\()!@#$%^&*~-+ \n",
    "3. Avoid using 'l' (lowercase l), 'O' (uppercase o), or 'I' (uppercase i) as single character names\n",
    "4. Do NOT use Python keywords (see below for a list of keywords)\n",
    "<br><br>\n",
    "-- __If you reassign a Python keyword by accident, use Kernel --> Restart to reset everything back to normal__ \n",
    "<br><br>\n",
    "See PEP8 for further details: https://www.python.org/dev/peps/pep-0008/"
   ]
  },
  {
   "cell_type": "code",
   "execution_count": 13,
   "metadata": {},
   "outputs": [
    {
     "name": "stdout",
     "output_type": "stream",
     "text": [
      "['False', 'None', 'True', 'and', 'as', 'assert', 'async', 'await', 'break', 'class', 'continue', 'def', 'del', 'elif', 'else', 'except', 'finally', 'for', 'from', 'global', 'if', 'import', 'in', 'is', 'lambda', 'nonlocal', 'not', 'or', 'pass', 'raise', 'return', 'try', 'while', 'with', 'yield']\n"
     ]
    }
   ],
   "source": [
    "# List of keywords\n",
    "import keyword\n",
    "print(keyword.kwlist)"
   ]
  },
  {
   "cell_type": "code",
   "execution_count": 3,
   "metadata": {},
   "outputs": [],
   "source": [
    "# here we create an object named x (a variable) and give it the integer value 5\n",
    "# the = sign assigns the value on the right to the object on the left\n",
    "x = 3"
   ]
  },
  {
   "cell_type": "code",
   "execution_count": null,
   "metadata": {},
   "outputs": [],
   "source": [
    "# this is called calling the variable\n",
    "x"
   ]
  },
  {
   "cell_type": "code",
   "execution_count": 4,
   "metadata": {},
   "outputs": [
    {
     "data": {
      "text/plain": [
       "6"
      ]
     },
     "execution_count": 4,
     "metadata": {},
     "output_type": "execute_result"
    }
   ],
   "source": [
    "# arithmetic done using variables uses the system of the underlying objects (differs between data types)\n",
    "# we will see how this works as we discover more data types\n",
    "x + x"
   ]
  },
  {
   "cell_type": "code",
   "execution_count": 5,
   "metadata": {},
   "outputs": [],
   "source": [
    "# we can reassign x to be 10 with no errors: this is called reassignment and is an example of 'dynamic typing'\n",
    "# in a 'statically typed' language such as C, this would throw an error\n",
    "x = 10"
   ]
  },
  {
   "cell_type": "code",
   "execution_count": 6,
   "metadata": {},
   "outputs": [
    {
     "data": {
      "text/plain": [
       "10"
      ]
     },
     "execution_count": 6,
     "metadata": {},
     "output_type": "execute_result"
    }
   ],
   "source": [
    "# we can now see x has changed from 3 to 10\n",
    "x"
   ]
  },
  {
   "cell_type": "markdown",
   "metadata": {},
   "source": [
    "#### A short note on the print() function\n",
    "- Before, we have just called the variable, now we see how to display it\n",
    "- The print() function displays the output rather than just returning it: in jupyter notebook this makes no practical difference, but when working in other IDEs, you may not see the output unless you print it\n",
    "- print() is more important when working with strings, as we will see later"
   ]
  },
  {
   "cell_type": "code",
   "execution_count": 7,
   "metadata": {},
   "outputs": [
    {
     "name": "stdout",
     "output_type": "stream",
     "text": [
      "10\n"
     ]
    }
   ],
   "source": [
    "print(x)"
   ]
  },
  {
   "cell_type": "code",
   "execution_count": 15,
   "metadata": {},
   "outputs": [],
   "source": [
    "# we can even redefine x using x itself\n",
    "# here, x is being called on the right of the = sign, and being redefined on the left\n",
    "# we can think of this as new x = old x + old x (new x = 10 + 10)\n",
    "x = x + x"
   ]
  },
  {
   "cell_type": "code",
   "execution_count": 16,
   "metadata": {},
   "outputs": [
    {
     "data": {
      "text/plain": [
       "20"
      ]
     },
     "execution_count": 16,
     "metadata": {},
     "output_type": "execute_result"
    }
   ],
   "source": [
    "# x is now equal to 20\n",
    "x"
   ]
  },
  {
   "cell_type": "code",
   "execution_count": 11,
   "metadata": {},
   "outputs": [
    {
     "data": {
      "text/plain": [
       "12.0"
      ]
     },
     "execution_count": 11,
     "metadata": {},
     "output_type": "execute_result"
    }
   ],
   "source": [
    "# clearly named variables are key when writing production-quality code\n",
    "\n",
    "shopping_bill = 10.00\n",
    "\n",
    "vat_rate = 1.2\n",
    "\n",
    "bill_with_vat = shopping_bill * vat_rate\n",
    "\n",
    "bill_with_vat"
   ]
  },
  {
   "cell_type": "markdown",
   "metadata": {},
   "source": [
    "## Strings in Python\n",
    "- Strings (str) are a way of representing textual information in Python\n",
    "- They are denoted by quotation marks: single ('') or double (\"\")\n",
    "- It is usually best to use double speech marks, as apostrophes in text can prematurely end a string\n",
    "- Apostrophes or other special characters in strings can be escaped using the backslash \\\\ character\n",
    "- We will see our first function here: print()\n",
    "- print() displays the output contained within it\n",
    "- For strings, print() interprets escape characters (tabs, new lines etc.) and displays the string without quotations\n",
    "- A method is a function associated with an object\n",
    "- Strings have many associated methods, we will look at a few here\n",
    "- Can find the rest at: \n",
    "<br> https://docs.python.org/2/library/stdtypes.html#string-methods"
   ]
  },
  {
   "cell_type": "code",
   "execution_count": 14,
   "metadata": {},
   "outputs": [],
   "source": [
    "x = \"Hello World\"\n",
    "print(x)"
   ]
  },
  {
   "cell_type": "code",
   "execution_count": 55,
   "metadata": {},
   "outputs": [
    {
     "name": "stdout",
     "output_type": "stream",
     "text": [
      "HELLO WORLD\n"
     ]
    }
   ],
   "source": [
    "# .upper() method makes all caps not inplace\n",
    "print(x.upper())"
   ]
  },
  {
   "cell_type": "code",
   "execution_count": 56,
   "metadata": {},
   "outputs": [
    {
     "name": "stdout",
     "output_type": "stream",
     "text": [
      "hello world\n"
     ]
    }
   ],
   "source": [
    "# .lower() method makes all lowercase not inplace\n",
    "print(x.lower())"
   ]
  },
  {
   "cell_type": "code",
   "execution_count": 57,
   "metadata": {},
   "outputs": [
    {
     "name": "stdout",
     "output_type": "stream",
     "text": [
      "['Hello', 'World']\n",
      "['Hell', ' W', 'rld']\n"
     ]
    }
   ],
   "source": [
    "# .split() method splits on space as default or desired separator\n",
    "print(x.split())\n",
    "print(x.split(\"o\"))"
   ]
  },
  {
   "cell_type": "markdown",
   "metadata": {},
   "source": []
  },
  {
   "cell_type": "markdown",
   "metadata": {},
   "source": [
    "## .format Method\n",
    "- The .format method is a way of inserting something into a string\n",
    "- This can be other strings or a variable taken from elsewhere in your code\n",
    "- The syntax used is detailed below\n",
    "- When using .format to add in a float to a string, we can specify the width and precision of the decimal"
   ]
  },
  {
   "cell_type": "code",
   "execution_count": 65,
   "metadata": {},
   "outputs": [
    {
     "name": "stdout",
     "output_type": "stream",
     "text": [
      "The fox brown quick\n"
     ]
    }
   ],
   "source": [
    "# default prints in order\n",
    "print(\"The {} {} {}\".format(\"fox\", \"brown\", \"quick\"))"
   ]
  },
  {
   "cell_type": "code",
   "execution_count": 66,
   "metadata": {},
   "outputs": [
    {
     "name": "stdout",
     "output_type": "stream",
     "text": [
      "The quick brown fox\n"
     ]
    }
   ],
   "source": [
    "# can index\n",
    "print(\"The {2} {1} {0}\".format(\"fox\", \"brown\", \"quick\"))"
   ]
  },
  {
   "cell_type": "code",
   "execution_count": 68,
   "metadata": {},
   "outputs": [
    {
     "name": "stdout",
     "output_type": "stream",
     "text": [
      "The quick brown fox\n"
     ]
    }
   ],
   "source": [
    "# can use variable keys for readability\n",
    "print(\"The {q} {b} {f}\".format(f=\"fox\", b=\"brown\", q=\"quick\"))"
   ]
  },
  {
   "cell_type": "code",
   "execution_count": 3,
   "metadata": {},
   "outputs": [
    {
     "name": "stdout",
     "output_type": "stream",
     "text": [
      "0.1287001287001287\n",
      "The result was 0.129\n",
      "The result was 0.129\n",
      "The result was 0.1287001\n",
      "The result was    0.129\n"
     ]
    }
   ],
   "source": [
    "# create long decimal\n",
    "result = 100/777\n",
    "print(result)\n",
    "\n",
    "# use value:width.precisionf for formatting\n",
    "# width is minimum length of string, padded with whitespace if necessary\n",
    "# precision is decimal places\n",
    "print(\"The result was {:1.3f}\".format(result))\n",
    "print(\"The result was {r:1.3f}\".format(r=result))\n",
    "print(\"The result was {r:1.7f}\".format(r=result))\n",
    "print(\"The result was {r:8.3f}\".format(r=result))"
   ]
  },
  {
   "cell_type": "markdown",
   "metadata": {},
   "source": [
    "## String Indexing and Slicing\n",
    "- Strings are iterable, meaning they can return their elements one at a time\n",
    "- Each character in the string is one element: this includes spaces and punctuation\n",
    "- We can make use of this to call back one element (indexing)\n",
    "- Or a range of elements (slicing)"
   ]
  },
  {
   "cell_type": "markdown",
   "metadata": {},
   "source": [
    "In Python:\n",
    "\n",
    "- Indexing starts at 0 (zero)\n",
    "- Slicing is inclusive at the lower bound (including)\n",
    "- Slicing is exclusive at the upper bound (up to but not including)"
   ]
  },
  {
   "cell_type": "code",
   "execution_count": 4,
   "metadata": {},
   "outputs": [],
   "source": [
    "my_string = \"Hello World\""
   ]
  },
  {
   "cell_type": "code",
   "execution_count": 5,
   "metadata": {},
   "outputs": [
    {
     "data": {
      "text/plain": [
       "'e'"
      ]
     },
     "execution_count": 5,
     "metadata": {},
     "output_type": "execute_result"
    }
   ],
   "source": [
    "# Index 0 gives first element\n",
    "my_string[1]"
   ]
  },
  {
   "cell_type": "code",
   "execution_count": 6,
   "metadata": {},
   "outputs": [
    {
     "data": {
      "text/plain": [
       "'el'"
      ]
     },
     "execution_count": 6,
     "metadata": {},
     "output_type": "execute_result"
    }
   ],
   "source": [
    "# Use colon to indicate slice, 1:3 returns 2nd (index 1) and 3rd (index 2) items but not 4th (index 3)\n",
    "my_string[1:3]"
   ]
  },
  {
   "cell_type": "code",
   "execution_count": 7,
   "metadata": {},
   "outputs": [
    {
     "data": {
      "text/plain": [
       "'ello World'"
      ]
     },
     "execution_count": 7,
     "metadata": {},
     "output_type": "execute_result"
    }
   ],
   "source": [
    "# Absent upper bound starts with first index indicated and gives everything beyond\n",
    "my_string[1:]"
   ]
  },
  {
   "cell_type": "code",
   "execution_count": 8,
   "metadata": {},
   "outputs": [
    {
     "data": {
      "text/plain": [
       "'Hel'"
      ]
     },
     "execution_count": 8,
     "metadata": {},
     "output_type": "execute_result"
    }
   ],
   "source": [
    "# Absent lower bound starts from index 0, up to but not including upper bound\n",
    "my_string[:3]"
   ]
  },
  {
   "cell_type": "markdown",
   "metadata": {},
   "source": [
    "## Summary\n",
    "We can now:\n",
    "- Use python as a calculator\n",
    "- Assign variables and use them\n",
    "- Use strings and string methods including .upper(), .lower(), .split() and .format()\n",
    "- Add in objects to strings using .format()\n",
    "- Format floats\n",
    "- Index strings\n",
    "- Slice strings\n",
    "<br> <br>\n",
    "Please refer back to this notebook to check if you are unsure of any commands or syntax.\n",
    "Please use the documentation below to find further string methods and conventions for style in Python.\n",
    "\n",
    "## Further reading\n",
    "- PEP8 Style Documentation: https://www.python.org/dev/peps/pep-0008/\n",
    "- String Methods: https://docs.python.org/2/library/stdtypes.html#string-methods\n",
    "\n",
    "## Next steps\n",
    "- [next notebook]()"
   ]
  },
  {
   "cell_type": "code",
   "execution_count": null,
   "metadata": {},
   "outputs": [],
   "source": []
  }
 ],
 "metadata": {
  "kernelspec": {
   "display_name": "Python 3",
   "language": "python",
   "name": "python3"
  },
  "language_info": {
   "codemirror_mode": {
    "name": "ipython",
    "version": 3
   },
   "file_extension": ".py",
   "mimetype": "text/x-python",
   "name": "python",
   "nbconvert_exporter": "python",
   "pygments_lexer": "ipython3",
   "version": "3.7.6"
  }
 },
 "nbformat": 4,
 "nbformat_minor": 4
}
