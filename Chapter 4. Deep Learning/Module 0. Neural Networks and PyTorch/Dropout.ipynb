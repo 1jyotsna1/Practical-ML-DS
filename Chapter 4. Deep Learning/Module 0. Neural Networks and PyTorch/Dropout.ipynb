{
 "cells": [
  {
   "cell_type": "markdown",
   "metadata": {
    "id": "fKyXAcU1By3l"
   },
   "source": [
    "# Dropout\n"
   ]
  },
  {
   "cell_type": "markdown",
   "metadata": {
    "id": "ibIqmDynBy3m"
   },
   "source": [
    "### **Prerequisites**\n",
    "* Regularization"
   ]
  },
  {
   "cell_type": "markdown",
   "metadata": {
    "id": "Ffx3HatiBy3n"
   },
   "source": [
    "***What will we cover in this notebook?***\n",
    "\n",
    "* Explaining dropout mathematically and intuitively in neural networks\n",
    "* Implementation in PyTorch\n",
    "* Showing the difference between non-dropout and dropout models\n",
    "* Reviewing some key points\n",
    "-----"
   ]
  },
  {
   "cell_type": "markdown",
   "metadata": {
    "id": "nijNnGn9By3o"
   },
   "source": [
    "### 1. What is Dropout?\n"
   ]
  },
  {
   "cell_type": "markdown",
   "metadata": {
    "id": "Ta2uBbb0pYSl"
   },
   "source": [
    "**A brief introduction**"
   ]
  },
  {
   "cell_type": "markdown",
   "metadata": {
    "id": "h_2V_wxBnBCY"
   },
   "source": [
    "A common problem in machine learning is how to increase our model's performance on unseen data. We want to reduce the test error. To achieve this goal, we apply some regularization strategies. Regularization is defined as \"any modification we make to a learning algorithm that is intended to reduce its generalization error but not its training error\". We'll focus on dropout which is one of those strategies !"
   ]
  },
  {
   "cell_type": "markdown",
   "metadata": {
    "id": "SVueLeekpGRl"
   },
   "source": [
    "We basically remove (drop out) some neurons in our original network with some probability. You can assume that we shut down some parts of the neural network during every training example and get different models for each one.\n",
    "\n",
    "We don't drop out any of neurons during testing. Because we don't want our output to be a random value. In theory, one thing we could do is drop out some neurons in testing part then take the average of each model. But it will be computationally inefficient!\n"
   ]
  },
  {
   "cell_type": "markdown",
   "metadata": {
    "id": "Dinb15vysEpZ"
   },
   "source": [
    "![before_d.png](images/before_d.png)"
   ]
  },
  {
   "cell_type": "markdown",
   "metadata": {
    "id": "_M2rWKyfT7R-"
   },
   "source": [
    "![after_d.png](images/after_d.png)"
   ]
  },
  {
   "cell_type": "markdown",
   "metadata": {
    "id": "mzEeaB17pb8k"
   },
   "source": [
    "**What is the idea behind 'Dropout'?**"
   ]
  },
  {
   "cell_type": "markdown",
   "metadata": {
    "id": "DY9r4Ra30cVE"
   },
   "source": [
    "The basic idea of the dropout in neural networks is to prevent overfitting. Sometimes, one part of the networks has large weights and it ends up dominating all the training while the other part of the network doesn't get trained well. We simply turns off some nodes and say, don't pass through here. With this process, we give chance other weak nodes to train as well as the other powerfull ones.\n",
    "\n",
    "We apply this process by giving the algorithm a parameter. This parameter is the probability that each node gets dropped at a particular epoch."
   ]
  },
  {
   "cell_type": "markdown",
   "metadata": {
    "id": "ohJv4mUg_gAY"
   },
   "source": [
    "![drop.gif](images/drop.gif)"
   ]
  },
  {
   "cell_type": "markdown",
   "metadata": {
    "id": "HbY3IF8I_nHg"
   },
   "source": [
    "*https://towardsdatascience.com/preventing-deep-neural-network-from-overfitting-953458db800a*"
   ]
  },
  {
   "cell_type": "markdown",
   "metadata": {
    "id": "CI90VAZcBy3p"
   },
   "source": [
    "### 2. Similarity between dropout and ensembles methods\n"
   ]
  },
  {
   "cell_type": "markdown",
   "metadata": {
    "id": "4QLWrRsgM_JQ"
   },
   "source": [
    "Bagging (short for bootstrap aggregating) is a technique for reducing generalization error by combining several models. The idea is to train several different models separately, then have all of the models vote on the\n",
    "output for test examples. This is an example of a general strategy in machine learning called model averaging. \n",
    "\n",
    "Techniques employing this strategy are known as ensemble methods.\n",
    "The reason that model averaging works is that different models will usually\n",
    "not make all the same errors on the test set."
   ]
  },
  {
   "cell_type": "markdown",
   "metadata": {
    "id": "-naALyf_pDVx"
   },
   "source": [
    "Dropout can be thought of as a method of making bagging practical for ensembles\n",
    "of very many large neural networks."
   ]
  },
  {
   "cell_type": "markdown",
   "metadata": {
    "id": "kHAOhDYsBy3p"
   },
   "source": [
    "Dropout training is not quite the same as bagging training. \n",
    "\n",
    "* In the case of bagging, the models are all independent. \n",
    "\n",
    "* In the case of dropout, the models share parameters, with each model inheriting a different subset of parameters from the parent neural network. This parameter sharing makes it possible to represent an exponential number of models with a tractable amount of memory."
   ]
  },
  {
   "cell_type": "markdown",
   "metadata": {
    "id": "1HeB9TcAUWFQ"
   },
   "source": [
    "* In the case of bagging, each model is trained to convergence on its respective training set. \n",
    "* In the case of dropout, typically most models are not explicitly trained at all—usually, the model is large enough that it would be infeasible to sample all possible subnetworks within the lifetime of the universe."
   ]
  },
  {
   "cell_type": "markdown",
   "metadata": {
    "id": "ncheTzSPUbcy"
   },
   "source": [
    "Beyond these differences, dropout follows the bagging algorithm. For\n",
    "example, the training set encountered by each sub-network is indeed a subset of\n",
    "the original training set sampled with replacement."
   ]
  },
  {
   "cell_type": "markdown",
   "metadata": {
    "id": "eZi27Ls9VFgh"
   },
   "source": [
    "![ensemble_example.PNG](images/ensemble_example.png)"
   ]
  },
  {
   "cell_type": "markdown",
   "metadata": {
    "id": "66sQs4SKBy3q"
   },
   "source": [
    "### 3. Implementation in PyTorch on a basic neural network "
   ]
  },
  {
   "cell_type": "markdown",
   "metadata": {
    "id": "rDzd2OifT7SI"
   },
   "source": [
    "In this section, we'll explain how we apply dropout in theory and in PyTorch together."
   ]
  },
  {
   "cell_type": "markdown",
   "metadata": {
    "id": "WekPN1TVT7SI"
   },
   "source": [
    "We said that, we set a probability of eliminating a node in the network during training. We do this by creating a mask for each layer. This mask is a binary vector which is "
   ]
  },
  {
   "cell_type": "markdown",
   "metadata": {
    "id": "tJytqea18HcS"
   },
   "source": []
  },
  {
   "cell_type": "code",
   "execution_count": 1,
   "metadata": {
    "id": "nLE1XXVBT7SK"
   },
   "outputs": [],
   "source": [
    "import torch\n",
    "import torch.nn as nn\n",
    "\n",
    "def dropout_layer(X, p):\n",
    "    assert 0 <= p <= 1\n",
    "    # In this case, all elements are dropped out\n",
    "    if p == 1:\n",
    "        return torch.zeros_like(X)\n",
    "    # In this case, all elements are kept\n",
    "    if p == 0:\n",
    "        return X\n",
    "    mask = (torch.Tensor(X.shape).uniform_(0, 1) > p).float()\n",
    "    return mask * X / (1.0 - p)"
   ]
  },
  {
   "cell_type": "markdown",
   "metadata": {
    "id": "ibqpCeDJT7SO"
   },
   "source": [
    "To try the implementation, run the cell below:"
   ]
  },
  {
   "cell_type": "code",
   "execution_count": 2,
   "metadata": {
    "colab": {
     "base_uri": "https://localhost:8080/",
     "height": 230
    },
    "id": "2fi_MOEmT7SP",
    "outputId": "76902015-9e42-4883-81bf-ce588cad4d67"
   },
   "outputs": [
    {
     "name": "stdout",
     "output_type": "stream",
     "text": [
      "Our input vector X:\n",
      " tensor([[ 0.,  1.,  2.,  3.,  4.,  5.,  6.,  7.],\n",
      "        [ 8.,  9., 10., 11., 12., 13., 14., 15.]])\n",
      "If we set probability to 0 and keep every node in the network:\n",
      " tensor([[ 0.,  1.,  2.,  3.,  4.,  5.,  6.,  7.],\n",
      "        [ 8.,  9., 10., 11., 12., 13., 14., 15.]])\n",
      "If we set probability to 0.5 and make half of the nodes \"0\":\n",
      " tensor([[ 0.,  2.,  4.,  0.,  0.,  0., 12.,  0.],\n",
      "        [ 0.,  0., 20.,  0.,  0., 26.,  0.,  0.]])\n",
      "If we set probability to 1 and drop out every node:\n",
      " tensor([[0., 0., 0., 0., 0., 0., 0., 0.],\n",
      "        [0., 0., 0., 0., 0., 0., 0., 0.]])\n"
     ]
    }
   ],
   "source": [
    "X= torch.arange(16, dtype = torch.float32).reshape((2, 8))\n",
    "print('Our input vector X:\\n',X)\n",
    "print('If we set probability to 0 and keep every node in the network:\\n', dropout_layer(X, 0.))\n",
    "print('If we set probability to 0.5 and make half of the nodes \"0\":\\n', dropout_layer(X, 0.5))\n",
    "print('If we set probability to 1 and drop out every node:\\n', dropout_layer(X, 1.))"
   ]
  },
  {
   "cell_type": "markdown",
   "metadata": {
    "id": "BRU0HIRN9Ogi"
   },
   "source": [
    "* We'll do an implementation with MNIST dataset which is a very popular data and contains 77.000 handwritten digits. Every data points has 28x28 grayscale image and a label (the digit) from 0 to 9. We'll cover non-dropout and dropout models together. Let's do  it!\n",
    "* Load and prepare the dataset\n"
   ]
  },
  {
   "cell_type": "code",
   "execution_count": 3,
   "metadata": {
    "id": "iZAe1Rvv8Grj"
   },
   "outputs": [],
   "source": [
    "from torchvision import datasets, transforms\n",
    "\n",
    "crop_size = 22\n",
    "\n",
    "traintransforms = []\n",
    "traintransforms.append(transforms.CenterCrop(crop_size))\n",
    "traintransforms.append(transforms.ToTensor())\n",
    "traintransforms = transforms.Compose(traintransforms)\n",
    "\n",
    "# GET THE TRAINING DATASET\n",
    "train_data = datasets.MNIST(root='MNIST-data',                        # where is the data (going to be) stored\n",
    "                            transform=traintransforms,          # transform the data from a PIL image to a tensor\n",
    "                            train=True,                               # is this training data?\n",
    "                            download=True                             # should i download it if it's not already here?\n",
    "                           )\n",
    "\n",
    "testtransforms = []\n",
    "testtransforms.append(transforms.RandomCrop(crop_size))\n",
    "testtransforms.append(transforms.ToTensor())\n",
    "testtransforms = transforms.Compose(testtransforms)\n",
    "\n",
    "# GET THE TEST DATASET\n",
    "test_data = datasets.MNIST(root='MNIST-data',\n",
    "                           transform=testtransforms,\n",
    "                           train=False,\n",
    "                          )"
   ]
  },
  {
   "cell_type": "markdown",
   "metadata": {
    "id": "sXPzN3iQ9l3h"
   },
   "source": [
    "* To print some example images from our dataset, run the cell above:"
   ]
  },
  {
   "cell_type": "code",
   "execution_count": 4,
   "metadata": {
    "colab": {
     "base_uri": "https://localhost:8080/",
     "height": 513
    },
    "id": "jdaNVErA9n7x",
    "outputId": "d0eacdbd-85a9-4bd8-a647-1c9bdfa9171d"
   },
   "outputs": [
    {
     "data": {
      "image/png": "[encoded data removed]",
      "text/plain": [
       "<Figure size 432x288 with 1 Axes>"
      ]
     },
     "metadata": {
      "needs_background": "light",
      "tags": []
     },
     "output_type": "display_data"
    },
    {
     "data": {
      "image/png": "[encoded data removed]",
      "text/plain": [
       "<Figure size 432x288 with 1 Axes>"
      ]
     },
     "metadata": {
      "needs_background": "light",
      "tags": []
     },
     "output_type": "display_data"
    }
   ],
   "source": [
    "import matplotlib.pyplot as plt\n",
    "import numpy as np\n",
    "# PRINT THEIR LENGTHS AND VISUALISE AN EXAMPLE\n",
    "x = train_data[np.random.randint(0, 300)][0]    # get the first example\n",
    "plt.imshow(x[0].numpy())\n",
    "plt.show()\n",
    "x = test_data[np.random.randint(0, 300)][0]    # get the first example\n",
    "plt.imshow(x[0].numpy())\n",
    "plt.show()"
   ]
  },
  {
   "cell_type": "markdown",
   "metadata": {
    "id": "rU37KKmn9q3h"
   },
   "source": [
    "* Now, we'll seperate our training dataset into training and validation sets."
   ]
  },
  {
   "cell_type": "code",
   "execution_count": 5,
   "metadata": {
    "id": "VbAfqpEO-A_s"
   },
   "outputs": [],
   "source": [
    "# FURTHER SPLIT THE TRAINING INTO TRAINING AND VALIDATION\n",
    "train_data, val_data = torch.utils.data.random_split(train_data, [50000, 10000])    # split into 50K training & 10K validation"
   ]
  },
  {
   "cell_type": "markdown",
   "metadata": {
    "id": "LI3juSxp-wmD"
   },
   "source": [
    "* Pass datasets to Pytorch dataloader:"
   ]
  },
  {
   "cell_type": "code",
   "execution_count": 6,
   "metadata": {
    "id": "vWaanIce-v-j"
   },
   "outputs": [],
   "source": [
    "batch_size = 128\n",
    "\n",
    "# MAKE TRAINING DATALOADER\n",
    "train_loader = torch.utils.data.DataLoader(\n",
    "    train_data,\n",
    "    shuffle=True,\n",
    "    batch_size=batch_size\n",
    ")\n",
    "\n",
    "# MAKE VALIDATION DATALOADER\n",
    "val_loader = torch.utils.data.DataLoader(\n",
    "    val_data,\n",
    "    shuffle=True,\n",
    "    batch_size=batch_size\n",
    ")\n",
    "\n",
    "# MAKE TEST DATALOADER\n",
    "test_loader = torch.utils.data.DataLoader(\n",
    "    test_data,\n",
    "    shuffle=True,\n",
    "    batch_size=batch_size\n",
    ")"
   ]
  },
  {
   "cell_type": "markdown",
   "metadata": {
    "id": "CnJbDQg--9aB"
   },
   "source": [
    "* It's time to create dropout model !"
   ]
  },
  {
   "cell_type": "code",
   "execution_count": 7,
   "metadata": {
    "id": "iYK8iJcB-9E5"
   },
   "outputs": [],
   "source": [
    "import torch.nn.functional as F\n",
    "# import torch.nn as nn\n",
    "\n",
    "\n",
    "class NeuralNetworkClass(torch.nn.Module):\n",
    "    def __init__(self):\n",
    "        super().__init__()    # initialise parent module\n",
    "        self.layer1 = torch.nn.Linear(crop_size*crop_size, 225)\n",
    "        self.layer2 = torch.nn.Linear(225, 100)\n",
    "        self.layer3 = torch.nn.Linear(100, 10)\n",
    "        \n",
    "    def forward(self, x):\n",
    "        x = x.view(-1, crop_size*crop_size)\n",
    "        x = self.layer1(x)\n",
    "        x = F.relu(x)\n",
    "        x = self.layer2(x)\n",
    "        x = F.relu(x)\n",
    "        x = self.layer3(x)\n",
    "        x = F.softmax(x, dim=1)\n",
    "        return x\n",
    "\n",
    "def get_n_params(model):\n",
    "    model_parameters = filter(lambda p: p.requires_grad, model.parameters())\n",
    "    n_params = sum([np.prod(p.size()) for p in model_parameters])\n",
    "    return n_params\n",
    "\n",
    "\n",
    "# set probability that the neuron activation will be set to zero (it will be dropped out !)\n",
    "dropout1, dropout2 = 0.1, 0.5\n",
    "\n",
    "# This is our dropout implementation !\n",
    "class NeuralNetworkClassDropout(torch.nn.Module):\n",
    "    def __init__(self, is_training = True):\n",
    "        super().__init__()    # initialise parent module\n",
    "        self.layer1 = torch.nn.Linear(crop_size*crop_size, 225)\n",
    "        self.layer2 = torch.nn.Linear(225, 100)\n",
    "        self.layer3 = torch.nn.Linear(100, 10)\n",
    "        self.training = is_training\n",
    "\n",
    "        \n",
    "    def forward(self, x):\n",
    "        x = x.view(-1, crop_size*crop_size)\n",
    "        x = self.layer1(x)\n",
    "        x = F.relu(x)\n",
    "        if self.training == True:\n",
    "            x = dropout_layer(x, dropout1)    # apply first dropout after the first layer\n",
    "        x = self.layer2(x)\n",
    "        x = F.relu(x)\n",
    "        if self.training == True:\n",
    "            x = dropout_layer(x, dropout2)    # apply second dropout after the second layer\n",
    "        x = self.layer3(x)\n",
    "        x = F.softmax(x, dim=1)\n",
    "        return x\n",
    "\n",
    "def get_n_params(model):\n",
    "    model_parameters = filter(lambda p: p.requires_grad, model.parameters())\n",
    "    n_params = sum([np.prod(p.size()) for p in model_parameters])\n",
    "    return n_params\n"
   ]
  },
  {
   "cell_type": "code",
   "execution_count": 8,
   "metadata": {
    "colab": {
     "base_uri": "https://localhost:8080/",
     "height": 52
    },
    "id": "c4nBezZ8_duC",
    "outputId": "082d5c10-e24d-4a50-d2b5-9f2d44ebf7aa"
   },
   "outputs": [
    {
     "name": "stdout",
     "output_type": "stream",
     "text": [
      "Number of parameters in non-dropout model: 132735\n",
      "Number of parameters in dropout model: 132735\n"
     ]
    }
   ],
   "source": [
    "learning_rate = 0.0005\n",
    "myNeuralNetwork = NeuralNetworkClass()\n",
    "print('Number of parameters in non-dropout model:', get_n_params(myNeuralNetwork))\n",
    "myNeuralNetworkDropout = NeuralNetworkClassDropout()\n",
    "print('Number of parameters in dropout model:', get_n_params(myNeuralNetworkDropout))\n",
    "\n",
    "\n",
    "# CREATE OUR CRITERION\n",
    "criterion = torch.nn.CrossEntropyLoss()             # callable class that compares our predictions to our labels and returns our loss\n",
    "\n",
    "# SET UP TRAINING VISUALISATION\n",
    "from torch.utils.tensorboard import SummaryWriter\n",
    "writer_nond = SummaryWriter(log_dir=\"runs/nondropout\")          # we will use this to show our models performance on a graph\n",
    "writer_d = SummaryWriter(log_dir=\"runs/dropout\")"
   ]
  },
  {
   "cell_type": "markdown",
   "metadata": {
    "id": "S5LhlU3Jdz72"
   },
   "source": [
    "* Training part:\n",
    "\n",
    "We assign \"p\" to represent the probability of a neuron, in the hidden layer, being excluded from the network; this probability value is usually equal to 0.5. We do the same process for the input layer whose probability value is usually lower than 0.5 (e.g. 0.1). Remember, we delete the connections going into, and out of, the neuron when we drop it."
   ]
  },
  {
   "cell_type": "code",
   "execution_count": 9,
   "metadata": {
    "colab": {
     "base_uri": "https://localhost:8080/",
     "height": 904
    },
    "id": "I4_wTxbw_l33",
    "outputId": "5db012d7-7c38-4d2e-9993-d94190d5fb28"
   },
   "outputs": [
    {
     "name": "stdout",
     "output_type": "stream",
     "text": [
      "Non-Dropout Model's Loss\n",
      "Epoch: 1 \tTraining Loss: 219.41548706991287 \tValidation Loss: 199.16237215452557\n",
      "Epoch: 2 \tTraining Loss: 198.75034081539533 \tValidation Loss: 195.91136913058125\n",
      "Epoch: 3 \tTraining Loss: 196.61333351427942 \tValidation Loss: 194.3119941421702\n",
      "Epoch: 4 \tTraining Loss: 195.2834820320539 \tValidation Loss: 193.23027622850634\n",
      "Epoch: 5 \tTraining Loss: 194.30112537764526 \tValidation Loss: 192.148443632488\n",
      "Epoch: 6 \tTraining Loss: 193.58151158286483 \tValidation Loss: 191.4909903610809\n",
      "Epoch: 7 \tTraining Loss: 192.89192310928385 \tValidation Loss: 190.8841262527659\n",
      "Epoch: 8 \tTraining Loss: 192.37266669797776 \tValidation Loss: 190.40712849097915\n",
      "Epoch: 9 \tTraining Loss: 191.9479674805156 \tValidation Loss: 189.97937076906615\n",
      "Epoch: 10 \tTraining Loss: 191.55717700948495 \tValidation Loss: 189.70237137999715\n"
     ]
    },
    {
     "data": {
      "image/png": "[encoded data removed]",
      "text/plain": [
       "<Figure size 432x288 with 1 Axes>"
      ]
     },
     "metadata": {
      "needs_background": "light",
      "tags": []
     },
     "output_type": "display_data"
    },
    {
     "name": "stdout",
     "output_type": "stream",
     "text": [
      "Dropout Model's Loss\n",
      "Epoch: 1 \tTraining Loss: 229.1228849601258 \tValidation Loss: 208.11589219298543\n",
      "Epoch: 2 \tTraining Loss: 207.34049301927962 \tValidation Loss: 205.50284149073346\n",
      "Epoch: 3 \tTraining Loss: 205.68640097693714 \tValidation Loss: 202.92597391635556\n",
      "Epoch: 4 \tTraining Loss: 195.34906430744454 \tValidation Loss: 192.53642287435412\n",
      "Epoch: 5 \tTraining Loss: 193.6698768059616 \tValidation Loss: 191.42777648153185\n",
      "Epoch: 6 \tTraining Loss: 192.87559752208193 \tValidation Loss: 190.70096168035192\n",
      "Epoch: 7 \tTraining Loss: 192.23136846244793 \tValidation Loss: 190.24102763888203\n",
      "Epoch: 8 \tTraining Loss: 191.7708025978654 \tValidation Loss: 189.6186132793185\n",
      "Epoch: 9 \tTraining Loss: 191.34948861690432 \tValidation Loss: 189.39557613903963\n",
      "Epoch: 10 \tTraining Loss: 191.0238081110103 \tValidation Loss: 189.02937056143074\n"
     ]
    },
    {
     "data": {
      "image/png": "[encoded data removed]",
      "text/plain": [
       "<Figure size 432x288 with 1 Axes>"
      ]
     },
     "metadata": {
      "needs_background": "light",
      "tags": []
     },
     "output_type": "display_data"
    }
   ],
   "source": [
    "import matplotlib.pyplot as plt\n",
    "\n",
    "# TRAINING LOOP\n",
    "def train(model, epochs, writer, verbose=True):\n",
    "    model.train()                                  # put the model into training mode (more on this later)\n",
    "    losses_train = []\n",
    "    losses_val = []\n",
    "    for epoch in range(epochs):\n",
    "        running_loss_train = 0.0\n",
    "        for idx, minibatch in enumerate(train_loader):\n",
    "            inputs, labels = minibatch\n",
    "            prediction = model(inputs)             # pass the data forward through the model\n",
    "            loss = criterion(prediction, labels)   # compute the loss\n",
    "            # CREATE OUR OPTIMISER\n",
    "            optimiser = torch.optim.Adam(          # what optimiser should we use?\n",
    "            model.parameters(),                    # what should it optimise?\n",
    "            lr=learning_rate                       # using what learning rate?\n",
    "            )\n",
    "            optimiser.zero_grad()                  # reset the gradients attribute of each of the model's params to zero\n",
    "            loss.backward()                        # backward pass to compute and set all of the model param's gradients\n",
    "            optimiser.step()                       # update the model's parameters\n",
    "            writer.add_scalar('Loss/Train', loss, epoch*len(train_loader) + idx)    # write loss to a graph\n",
    "            running_loss_train += loss.item() * inputs.size(0)\n",
    "\n",
    "        model.eval()\n",
    "        running_loss_val = 0.0\n",
    "        for idx, minibatch in enumerate(val_loader):\n",
    "            inputs, labels = minibatch\n",
    "            prediction = model(inputs)             # pass the data forward through the model\n",
    "            loss = criterion(prediction, labels)   # compute the loss\n",
    "            # CREATE OUR OPTIMISER\n",
    "            optimiser = torch.optim.Adam(          # what optimiser should we use?\n",
    "            model.parameters(),                    # what should it optimise?\n",
    "            lr=learning_rate                       # using what learning rate?\n",
    "            )\n",
    "            optimiser.zero_grad()                  # reset the gradients attribute of each of the model's params to zero\n",
    "            loss.backward()                        # backward pass to compute and set all of the model param's gradients\n",
    "            optimiser.step()                       # update the model's parameters\n",
    "            writer.add_scalar('Loss/Validation', loss, epoch*len(val_loader) + idx)    # write loss to a graph\n",
    "            running_loss_val += loss.item() * inputs.size(0)\n",
    "\n",
    "        epoch_loss_train = running_loss_train / len(train_loader)\n",
    "        losses_train.append(epoch_loss_train)\n",
    "\n",
    "        epoch_loss_val = running_loss_val / len(val_loader)\n",
    "        losses_val.append(epoch_loss_val)\n",
    "\n",
    "        print('Epoch:', epoch+1, '\\tTraining Loss:', epoch_loss_train, '\\tValidation Loss:', epoch_loss_val)\n",
    "\n",
    "    plt.plot(losses_train,'b-', label='Training loss')\n",
    "    plt.plot(losses_val, 'r-', label='Validation loss')\n",
    "    plt.legend()\n",
    "    plt.show()\n",
    "\n",
    "\n",
    "print(\"Non-Dropout Model's Loss\")\n",
    "train(myNeuralNetwork, 10, writer=writer_nond)\n",
    "print(\"Dropout Model's Loss\")           \n",
    "train(myNeuralNetworkDropout, 10, writer=writer_d)"
   ]
  },
  {
   "cell_type": "markdown",
   "metadata": {
    "id": "W8IfN5_D_pJ_"
   },
   "source": [
    "* Evaluate our two models:"
   ]
  },
  {
   "cell_type": "code",
   "execution_count": 12,
   "metadata": {
    "colab": {
     "base_uri": "https://localhost:8080/",
     "height": 176
    },
    "id": "hm68nUMR_ogn",
    "outputId": "eca1abff-1e5b-4f00-a1bf-a4b7ce6258c8"
   },
   "outputs": [
    {
     "name": "stdout",
     "output_type": "stream",
     "text": [
      "Non-Dropout Model's Evaluation:\n",
      "Train Accuracy: 96.59\n",
      "Validation Accuracy: 96.77\n",
      "Test Accuracy: 52.42\n",
      "\n",
      "Dropout Model's Evaluation:\n",
      "Train Accuracy: 96.95\n",
      "Validation Accuracy: 97.22\n",
      "Test Accuracy: 53.04\n"
     ]
    }
   ],
   "source": [
    "def calc_accuracy(model, dataloader):\n",
    "    num_correct = 0\n",
    "    num_examples = len(dataloader.dataset)              # test DATA not test LOADER\n",
    "    for inputs, labels in dataloader:                   # for all exampls, over all mini-batches in the test dataset\n",
    "        predictions = model(inputs)\n",
    "        predictions = torch.max(predictions, axis=1)    # reduce to find max indices along direction which column varies\n",
    "        predictions = predictions[1]                    # torch.max returns (values, indices)\n",
    "        num_correct += int(sum(predictions == labels))\n",
    "    percent_correct = num_correct / num_examples * 100\n",
    "    return percent_correct\n",
    "\n",
    "print(\"Non-Dropout Model's Evaluation:\")\n",
    "print('Train Accuracy:', calc_accuracy(myNeuralNetwork, train_loader))\n",
    "print('Validation Accuracy:', calc_accuracy(myNeuralNetwork, val_loader))\n",
    "print('Test Accuracy:', calc_accuracy(myNeuralNetwork, test_loader))\n",
    "\n",
    "print(\"\\nDropout Model's Evaluation:\")\n",
    "print('Train Accuracy:', calc_accuracy(myNeuralNetworkDropout, train_loader))\n",
    "print('Validation Accuracy:', calc_accuracy(myNeuralNetworkDropout, val_loader))\n",
    "print('Test Accuracy:', calc_accuracy(myNeuralNetworkDropout, test_loader))\n"
   ]
  },
  {
   "cell_type": "markdown",
   "metadata": {
    "id": "zXXhGic2HyYb"
   },
   "source": [
    "### 4. Visualizing the difference between a non-dropout and dropout implemented nn\n"
   ]
  },
  {
   "cell_type": "markdown",
   "metadata": {
    "id": "hO4vX-NGZkuf"
   },
   "source": [
    "![diff.png](images/diff.png)"
   ]
  },
  {
   "cell_type": "markdown",
   "metadata": {
    "id": "JtLxAls2JrLn"
   },
   "source": [
    "As we see above, our model's loss curves are converged. They perform very good on training data, but it is poor on test data. So that means, we have an overfitting problem.\n",
    "\n",
    "We tried a dropout model and saw that test accuracy increased."
   ]
  },
  {
   "cell_type": "markdown",
   "metadata": {
    "id": "iSM_9Y0JehuV"
   },
   "source": [
    "* Non-Dropout Model Test Accuracy: 52.42\n",
    "* Dropout Model Test Accuracy: 53.04"
   ]
  },
  {
   "cell_type": "markdown",
   "metadata": {
    "id": "SV25hg2NdaWu"
   },
   "source": [
    "**What to do while testing?**\n",
    "\n"
   ]
  },
  {
   "cell_type": "markdown",
   "metadata": {
    "id": "aSYOGP4bBy4B"
   },
   "source": [
    "### 5. Summary\n",
    "\n",
    "* Dropout means turning off some neurons in our network with some probability.\n",
    "* Dropout helps us to prevent overfitting.\n",
    "* Dropout follows the bagging algorithm. The training set encountered by each sub-network is indeed a subset of the original training set sampled with replacement. This is the similarity between ensemble models and dropout method.\n",
    "* Dropout is only used during training.\n"
   ]
  },
  {
   "cell_type": "markdown",
   "metadata": {
    "id": "QBQ_028yBy4C"
   },
   "source": [
    "### 6. What to do next?\n",
    "* Try to change the dropout parameters and see its effect on training loss and accuracy\n",
    "* Try to combine dropout with other regularization methods and compare model's performances\n",
    "* What is the ideal dropout probability rate for different layers? How to choose it? Do some research on the internet, check out the papers and articles."
   ]
  }
 ],
 "metadata": {
  "accelerator": "GPU",
  "colab": {
   "collapsed_sections": [],
   "name": "Dropout.ipynb",
   "provenance": []
  },
  "kernelspec": {
   "display_name": "Python 3",
   "language": "python",
   "name": "python3"
  },
  "language_info": {
   "codemirror_mode": {
    "name": "ipython",
    "version": 3
   },
   "file_extension": ".py",
   "mimetype": "text/x-python",
   "name": "python",
   "nbconvert_exporter": "python",
   "pygments_lexer": "ipython3",
   "version": "3.5.2"
  }
 },
 "nbformat": 4,
 "nbformat_minor": 1
}
