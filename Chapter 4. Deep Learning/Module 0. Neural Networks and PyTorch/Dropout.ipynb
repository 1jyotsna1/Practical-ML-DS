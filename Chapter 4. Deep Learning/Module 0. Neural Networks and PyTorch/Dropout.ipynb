{
  "nbformat": 4,
  "nbformat_minor": 0,
  "metadata": {
    "kernelspec": {
      "display_name": "Python 3",
      "language": "python",
      "name": "python3"
    },
    "language_info": {
      "codemirror_mode": {
        "name": "ipython",
        "version": 3
      },
      "file_extension": ".py",
      "mimetype": "text/x-python",
      "name": "python",
      "nbconvert_exporter": "python",
      "pygments_lexer": "ipython3",
      "version": "3.5.2"
    },
    "colab": {
      "name": "Dropout 1209.ipynb",
      "provenance": [],
      "collapsed_sections": []
    },
    "accelerator": "GPU",
    "widgets": {
      "application/vnd.jupyter.widget-state+json": {
        "754a0bf737b44186b1df5bd39c5ac1e8": {
          "model_module": "@jupyter-widgets/controls",
          "model_name": "HBoxModel",
          "state": {
            "_view_name": "HBoxView",
            "_dom_classes": [],
            "_model_name": "HBoxModel",
            "_view_module": "@jupyter-widgets/controls",
            "_model_module_version": "1.5.0",
            "_view_count": null,
            "_view_module_version": "1.5.0",
            "box_style": "",
            "layout": "IPY_MODEL_ae7be2645c5a4e11a8706e52ca921a39",
            "_model_module": "@jupyter-widgets/controls",
            "children": [
              "IPY_MODEL_215458af2ce4487dae8b1c6c590f7bb0",
              "IPY_MODEL_f3853ba135d745d79b87f6e385f8cd93"
            ]
          }
        },
        "ae7be2645c5a4e11a8706e52ca921a39": {
          "model_module": "@jupyter-widgets/base",
          "model_name": "LayoutModel",
          "state": {
            "_view_name": "LayoutView",
            "grid_template_rows": null,
            "right": null,
            "justify_content": null,
            "_view_module": "@jupyter-widgets/base",
            "overflow": null,
            "_model_module_version": "1.2.0",
            "_view_count": null,
            "flex_flow": null,
            "width": null,
            "min_width": null,
            "border": null,
            "align_items": null,
            "bottom": null,
            "_model_module": "@jupyter-widgets/base",
            "top": null,
            "grid_column": null,
            "overflow_y": null,
            "overflow_x": null,
            "grid_auto_flow": null,
            "grid_area": null,
            "grid_template_columns": null,
            "flex": null,
            "_model_name": "LayoutModel",
            "justify_items": null,
            "grid_row": null,
            "max_height": null,
            "align_content": null,
            "visibility": null,
            "align_self": null,
            "height": null,
            "min_height": null,
            "padding": null,
            "grid_auto_rows": null,
            "grid_gap": null,
            "max_width": null,
            "order": null,
            "_view_module_version": "1.2.0",
            "grid_template_areas": null,
            "object_position": null,
            "object_fit": null,
            "grid_auto_columns": null,
            "margin": null,
            "display": null,
            "left": null
          }
        },
        "215458af2ce4487dae8b1c6c590f7bb0": {
          "model_module": "@jupyter-widgets/controls",
          "model_name": "FloatProgressModel",
          "state": {
            "_view_name": "ProgressView",
            "style": "IPY_MODEL_ad3ebe1e640049f399c02ea8e0f171ad",
            "_dom_classes": [],
            "description": "",
            "_model_name": "FloatProgressModel",
            "bar_style": "info",
            "max": 1,
            "_view_module": "@jupyter-widgets/controls",
            "_model_module_version": "1.5.0",
            "value": 1,
            "_view_count": null,
            "_view_module_version": "1.5.0",
            "orientation": "horizontal",
            "min": 0,
            "description_tooltip": null,
            "_model_module": "@jupyter-widgets/controls",
            "layout": "IPY_MODEL_4f57919188b44a60b87b8a3a4ed3982a"
          }
        },
        "f3853ba135d745d79b87f6e385f8cd93": {
          "model_module": "@jupyter-widgets/controls",
          "model_name": "HTMLModel",
          "state": {
            "_view_name": "HTMLView",
            "style": "IPY_MODEL_52a90850a5a840fd9951109b0ac032ca",
            "_dom_classes": [],
            "description": "",
            "_model_name": "HTMLModel",
            "placeholder": "​",
            "_view_module": "@jupyter-widgets/controls",
            "_model_module_version": "1.5.0",
            "value": " 9920512/? [00:20&lt;00:00, 1466338.88it/s]",
            "_view_count": null,
            "_view_module_version": "1.5.0",
            "description_tooltip": null,
            "_model_module": "@jupyter-widgets/controls",
            "layout": "IPY_MODEL_fefdef9366df403a98e4b71727ce219e"
          }
        },
        "ad3ebe1e640049f399c02ea8e0f171ad": {
          "model_module": "@jupyter-widgets/controls",
          "model_name": "ProgressStyleModel",
          "state": {
            "_view_name": "StyleView",
            "_model_name": "ProgressStyleModel",
            "description_width": "initial",
            "_view_module": "@jupyter-widgets/base",
            "_model_module_version": "1.5.0",
            "_view_count": null,
            "_view_module_version": "1.2.0",
            "bar_color": null,
            "_model_module": "@jupyter-widgets/controls"
          }
        },
        "4f57919188b44a60b87b8a3a4ed3982a": {
          "model_module": "@jupyter-widgets/base",
          "model_name": "LayoutModel",
          "state": {
            "_view_name": "LayoutView",
            "grid_template_rows": null,
            "right": null,
            "justify_content": null,
            "_view_module": "@jupyter-widgets/base",
            "overflow": null,
            "_model_module_version": "1.2.0",
            "_view_count": null,
            "flex_flow": null,
            "width": null,
            "min_width": null,
            "border": null,
            "align_items": null,
            "bottom": null,
            "_model_module": "@jupyter-widgets/base",
            "top": null,
            "grid_column": null,
            "overflow_y": null,
            "overflow_x": null,
            "grid_auto_flow": null,
            "grid_area": null,
            "grid_template_columns": null,
            "flex": null,
            "_model_name": "LayoutModel",
            "justify_items": null,
            "grid_row": null,
            "max_height": null,
            "align_content": null,
            "visibility": null,
            "align_self": null,
            "height": null,
            "min_height": null,
            "padding": null,
            "grid_auto_rows": null,
            "grid_gap": null,
            "max_width": null,
            "order": null,
            "_view_module_version": "1.2.0",
            "grid_template_areas": null,
            "object_position": null,
            "object_fit": null,
            "grid_auto_columns": null,
            "margin": null,
            "display": null,
            "left": null
          }
        },
        "52a90850a5a840fd9951109b0ac032ca": {
          "model_module": "@jupyter-widgets/controls",
          "model_name": "DescriptionStyleModel",
          "state": {
            "_view_name": "StyleView",
            "_model_name": "DescriptionStyleModel",
            "description_width": "",
            "_view_module": "@jupyter-widgets/base",
            "_model_module_version": "1.5.0",
            "_view_count": null,
            "_view_module_version": "1.2.0",
            "_model_module": "@jupyter-widgets/controls"
          }
        },
        "fefdef9366df403a98e4b71727ce219e": {
          "model_module": "@jupyter-widgets/base",
          "model_name": "LayoutModel",
          "state": {
            "_view_name": "LayoutView",
            "grid_template_rows": null,
            "right": null,
            "justify_content": null,
            "_view_module": "@jupyter-widgets/base",
            "overflow": null,
            "_model_module_version": "1.2.0",
            "_view_count": null,
            "flex_flow": null,
            "width": null,
            "min_width": null,
            "border": null,
            "align_items": null,
            "bottom": null,
            "_model_module": "@jupyter-widgets/base",
            "top": null,
            "grid_column": null,
            "overflow_y": null,
            "overflow_x": null,
            "grid_auto_flow": null,
            "grid_area": null,
            "grid_template_columns": null,
            "flex": null,
            "_model_name": "LayoutModel",
            "justify_items": null,
            "grid_row": null,
            "max_height": null,
            "align_content": null,
            "visibility": null,
            "align_self": null,
            "height": null,
            "min_height": null,
            "padding": null,
            "grid_auto_rows": null,
            "grid_gap": null,
            "max_width": null,
            "order": null,
            "_view_module_version": "1.2.0",
            "grid_template_areas": null,
            "object_position": null,
            "object_fit": null,
            "grid_auto_columns": null,
            "margin": null,
            "display": null,
            "left": null
          }
        },
        "f0b63f6653e54ed29a8c5fc5e1bf378d": {
          "model_module": "@jupyter-widgets/controls",
          "model_name": "HBoxModel",
          "state": {
            "_view_name": "HBoxView",
            "_dom_classes": [],
            "_model_name": "HBoxModel",
            "_view_module": "@jupyter-widgets/controls",
            "_model_module_version": "1.5.0",
            "_view_count": null,
            "_view_module_version": "1.5.0",
            "box_style": "",
            "layout": "IPY_MODEL_e92450e6902b4671ae472e09e7b07b59",
            "_model_module": "@jupyter-widgets/controls",
            "children": [
              "IPY_MODEL_2e271773e2de4ab1a4984c27b2e662fc",
              "IPY_MODEL_ece8fed367c04432b2d6d7a292a7fe73"
            ]
          }
        },
        "e92450e6902b4671ae472e09e7b07b59": {
          "model_module": "@jupyter-widgets/base",
          "model_name": "LayoutModel",
          "state": {
            "_view_name": "LayoutView",
            "grid_template_rows": null,
            "right": null,
            "justify_content": null,
            "_view_module": "@jupyter-widgets/base",
            "overflow": null,
            "_model_module_version": "1.2.0",
            "_view_count": null,
            "flex_flow": null,
            "width": null,
            "min_width": null,
            "border": null,
            "align_items": null,
            "bottom": null,
            "_model_module": "@jupyter-widgets/base",
            "top": null,
            "grid_column": null,
            "overflow_y": null,
            "overflow_x": null,
            "grid_auto_flow": null,
            "grid_area": null,
            "grid_template_columns": null,
            "flex": null,
            "_model_name": "LayoutModel",
            "justify_items": null,
            "grid_row": null,
            "max_height": null,
            "align_content": null,
            "visibility": null,
            "align_self": null,
            "height": null,
            "min_height": null,
            "padding": null,
            "grid_auto_rows": null,
            "grid_gap": null,
            "max_width": null,
            "order": null,
            "_view_module_version": "1.2.0",
            "grid_template_areas": null,
            "object_position": null,
            "object_fit": null,
            "grid_auto_columns": null,
            "margin": null,
            "display": null,
            "left": null
          }
        },
        "2e271773e2de4ab1a4984c27b2e662fc": {
          "model_module": "@jupyter-widgets/controls",
          "model_name": "FloatProgressModel",
          "state": {
            "_view_name": "ProgressView",
            "style": "IPY_MODEL_c901b81e6a0b496f9185e0376b9d4eac",
            "_dom_classes": [],
            "description": "",
            "_model_name": "FloatProgressModel",
            "bar_style": "success",
            "max": 1,
            "_view_module": "@jupyter-widgets/controls",
            "_model_module_version": "1.5.0",
            "value": 1,
            "_view_count": null,
            "_view_module_version": "1.5.0",
            "orientation": "horizontal",
            "min": 0,
            "description_tooltip": null,
            "_model_module": "@jupyter-widgets/controls",
            "layout": "IPY_MODEL_59266e30f2004ce580c952e47c01b5cb"
          }
        },
        "ece8fed367c04432b2d6d7a292a7fe73": {
          "model_module": "@jupyter-widgets/controls",
          "model_name": "HTMLModel",
          "state": {
            "_view_name": "HTMLView",
            "style": "IPY_MODEL_38a838d320fe4ad3889479a00b6ed827",
            "_dom_classes": [],
            "description": "",
            "_model_name": "HTMLModel",
            "placeholder": "​",
            "_view_module": "@jupyter-widgets/controls",
            "_model_module_version": "1.5.0",
            "value": " 32768/? [00:01&lt;00:00, 24667.88it/s]",
            "_view_count": null,
            "_view_module_version": "1.5.0",
            "description_tooltip": null,
            "_model_module": "@jupyter-widgets/controls",
            "layout": "IPY_MODEL_c1b61ceb361f4f5ab82f54a45e8443c6"
          }
        },
        "c901b81e6a0b496f9185e0376b9d4eac": {
          "model_module": "@jupyter-widgets/controls",
          "model_name": "ProgressStyleModel",
          "state": {
            "_view_name": "StyleView",
            "_model_name": "ProgressStyleModel",
            "description_width": "initial",
            "_view_module": "@jupyter-widgets/base",
            "_model_module_version": "1.5.0",
            "_view_count": null,
            "_view_module_version": "1.2.0",
            "bar_color": null,
            "_model_module": "@jupyter-widgets/controls"
          }
        },
        "59266e30f2004ce580c952e47c01b5cb": {
          "model_module": "@jupyter-widgets/base",
          "model_name": "LayoutModel",
          "state": {
            "_view_name": "LayoutView",
            "grid_template_rows": null,
            "right": null,
            "justify_content": null,
            "_view_module": "@jupyter-widgets/base",
            "overflow": null,
            "_model_module_version": "1.2.0",
            "_view_count": null,
            "flex_flow": null,
            "width": null,
            "min_width": null,
            "border": null,
            "align_items": null,
            "bottom": null,
            "_model_module": "@jupyter-widgets/base",
            "top": null,
            "grid_column": null,
            "overflow_y": null,
            "overflow_x": null,
            "grid_auto_flow": null,
            "grid_area": null,
            "grid_template_columns": null,
            "flex": null,
            "_model_name": "LayoutModel",
            "justify_items": null,
            "grid_row": null,
            "max_height": null,
            "align_content": null,
            "visibility": null,
            "align_self": null,
            "height": null,
            "min_height": null,
            "padding": null,
            "grid_auto_rows": null,
            "grid_gap": null,
            "max_width": null,
            "order": null,
            "_view_module_version": "1.2.0",
            "grid_template_areas": null,
            "object_position": null,
            "object_fit": null,
            "grid_auto_columns": null,
            "margin": null,
            "display": null,
            "left": null
          }
        },
        "38a838d320fe4ad3889479a00b6ed827": {
          "model_module": "@jupyter-widgets/controls",
          "model_name": "DescriptionStyleModel",
          "state": {
            "_view_name": "StyleView",
            "_model_name": "DescriptionStyleModel",
            "description_width": "",
            "_view_module": "@jupyter-widgets/base",
            "_model_module_version": "1.5.0",
            "_view_count": null,
            "_view_module_version": "1.2.0",
            "_model_module": "@jupyter-widgets/controls"
          }
        },
        "c1b61ceb361f4f5ab82f54a45e8443c6": {
          "model_module": "@jupyter-widgets/base",
          "model_name": "LayoutModel",
          "state": {
            "_view_name": "LayoutView",
            "grid_template_rows": null,
            "right": null,
            "justify_content": null,
            "_view_module": "@jupyter-widgets/base",
            "overflow": null,
            "_model_module_version": "1.2.0",
            "_view_count": null,
            "flex_flow": null,
            "width": null,
            "min_width": null,
            "border": null,
            "align_items": null,
            "bottom": null,
            "_model_module": "@jupyter-widgets/base",
            "top": null,
            "grid_column": null,
            "overflow_y": null,
            "overflow_x": null,
            "grid_auto_flow": null,
            "grid_area": null,
            "grid_template_columns": null,
            "flex": null,
            "_model_name": "LayoutModel",
            "justify_items": null,
            "grid_row": null,
            "max_height": null,
            "align_content": null,
            "visibility": null,
            "align_self": null,
            "height": null,
            "min_height": null,
            "padding": null,
            "grid_auto_rows": null,
            "grid_gap": null,
            "max_width": null,
            "order": null,
            "_view_module_version": "1.2.0",
            "grid_template_areas": null,
            "object_position": null,
            "object_fit": null,
            "grid_auto_columns": null,
            "margin": null,
            "display": null,
            "left": null
          }
        },
        "92f319320ca844ada02a532729d6a5de": {
          "model_module": "@jupyter-widgets/controls",
          "model_name": "HBoxModel",
          "state": {
            "_view_name": "HBoxView",
            "_dom_classes": [],
            "_model_name": "HBoxModel",
            "_view_module": "@jupyter-widgets/controls",
            "_model_module_version": "1.5.0",
            "_view_count": null,
            "_view_module_version": "1.5.0",
            "box_style": "",
            "layout": "IPY_MODEL_d64179d6644343469a94995cb5956dfd",
            "_model_module": "@jupyter-widgets/controls",
            "children": [
              "IPY_MODEL_8e08407d13e146e482d8e119a621685e",
              "IPY_MODEL_edf26d6886fb429b9d5efc6b863b5f0e"
            ]
          }
        },
        "d64179d6644343469a94995cb5956dfd": {
          "model_module": "@jupyter-widgets/base",
          "model_name": "LayoutModel",
          "state": {
            "_view_name": "LayoutView",
            "grid_template_rows": null,
            "right": null,
            "justify_content": null,
            "_view_module": "@jupyter-widgets/base",
            "overflow": null,
            "_model_module_version": "1.2.0",
            "_view_count": null,
            "flex_flow": null,
            "width": null,
            "min_width": null,
            "border": null,
            "align_items": null,
            "bottom": null,
            "_model_module": "@jupyter-widgets/base",
            "top": null,
            "grid_column": null,
            "overflow_y": null,
            "overflow_x": null,
            "grid_auto_flow": null,
            "grid_area": null,
            "grid_template_columns": null,
            "flex": null,
            "_model_name": "LayoutModel",
            "justify_items": null,
            "grid_row": null,
            "max_height": null,
            "align_content": null,
            "visibility": null,
            "align_self": null,
            "height": null,
            "min_height": null,
            "padding": null,
            "grid_auto_rows": null,
            "grid_gap": null,
            "max_width": null,
            "order": null,
            "_view_module_version": "1.2.0",
            "grid_template_areas": null,
            "object_position": null,
            "object_fit": null,
            "grid_auto_columns": null,
            "margin": null,
            "display": null,
            "left": null
          }
        },
        "8e08407d13e146e482d8e119a621685e": {
          "model_module": "@jupyter-widgets/controls",
          "model_name": "FloatProgressModel",
          "state": {
            "_view_name": "ProgressView",
            "style": "IPY_MODEL_196c87be0d0242d2a88a05b0d89f032e",
            "_dom_classes": [],
            "description": "",
            "_model_name": "FloatProgressModel",
            "bar_style": "success",
            "max": 1,
            "_view_module": "@jupyter-widgets/controls",
            "_model_module_version": "1.5.0",
            "value": 1,
            "_view_count": null,
            "_view_module_version": "1.5.0",
            "orientation": "horizontal",
            "min": 0,
            "description_tooltip": null,
            "_model_module": "@jupyter-widgets/controls",
            "layout": "IPY_MODEL_a19825d6ecb141b39de9eb5846662559"
          }
        },
        "edf26d6886fb429b9d5efc6b863b5f0e": {
          "model_module": "@jupyter-widgets/controls",
          "model_name": "HTMLModel",
          "state": {
            "_view_name": "HTMLView",
            "style": "IPY_MODEL_71424df15658437b979b6ecc8fb01da4",
            "_dom_classes": [],
            "description": "",
            "_model_name": "HTMLModel",
            "placeholder": "​",
            "_view_module": "@jupyter-widgets/controls",
            "_model_module_version": "1.5.0",
            "value": " 1654784/? [00:01&lt;00:00, 1562482.05it/s]",
            "_view_count": null,
            "_view_module_version": "1.5.0",
            "description_tooltip": null,
            "_model_module": "@jupyter-widgets/controls",
            "layout": "IPY_MODEL_4c36548fbaf54eaeada61e03958e319d"
          }
        },
        "196c87be0d0242d2a88a05b0d89f032e": {
          "model_module": "@jupyter-widgets/controls",
          "model_name": "ProgressStyleModel",
          "state": {
            "_view_name": "StyleView",
            "_model_name": "ProgressStyleModel",
            "description_width": "initial",
            "_view_module": "@jupyter-widgets/base",
            "_model_module_version": "1.5.0",
            "_view_count": null,
            "_view_module_version": "1.2.0",
            "bar_color": null,
            "_model_module": "@jupyter-widgets/controls"
          }
        },
        "a19825d6ecb141b39de9eb5846662559": {
          "model_module": "@jupyter-widgets/base",
          "model_name": "LayoutModel",
          "state": {
            "_view_name": "LayoutView",
            "grid_template_rows": null,
            "right": null,
            "justify_content": null,
            "_view_module": "@jupyter-widgets/base",
            "overflow": null,
            "_model_module_version": "1.2.0",
            "_view_count": null,
            "flex_flow": null,
            "width": null,
            "min_width": null,
            "border": null,
            "align_items": null,
            "bottom": null,
            "_model_module": "@jupyter-widgets/base",
            "top": null,
            "grid_column": null,
            "overflow_y": null,
            "overflow_x": null,
            "grid_auto_flow": null,
            "grid_area": null,
            "grid_template_columns": null,
            "flex": null,
            "_model_name": "LayoutModel",
            "justify_items": null,
            "grid_row": null,
            "max_height": null,
            "align_content": null,
            "visibility": null,
            "align_self": null,
            "height": null,
            "min_height": null,
            "padding": null,
            "grid_auto_rows": null,
            "grid_gap": null,
            "max_width": null,
            "order": null,
            "_view_module_version": "1.2.0",
            "grid_template_areas": null,
            "object_position": null,
            "object_fit": null,
            "grid_auto_columns": null,
            "margin": null,
            "display": null,
            "left": null
          }
        },
        "71424df15658437b979b6ecc8fb01da4": {
          "model_module": "@jupyter-widgets/controls",
          "model_name": "DescriptionStyleModel",
          "state": {
            "_view_name": "StyleView",
            "_model_name": "DescriptionStyleModel",
            "description_width": "",
            "_view_module": "@jupyter-widgets/base",
            "_model_module_version": "1.5.0",
            "_view_count": null,
            "_view_module_version": "1.2.0",
            "_model_module": "@jupyter-widgets/controls"
          }
        },
        "4c36548fbaf54eaeada61e03958e319d": {
          "model_module": "@jupyter-widgets/base",
          "model_name": "LayoutModel",
          "state": {
            "_view_name": "LayoutView",
            "grid_template_rows": null,
            "right": null,
            "justify_content": null,
            "_view_module": "@jupyter-widgets/base",
            "overflow": null,
            "_model_module_version": "1.2.0",
            "_view_count": null,
            "flex_flow": null,
            "width": null,
            "min_width": null,
            "border": null,
            "align_items": null,
            "bottom": null,
            "_model_module": "@jupyter-widgets/base",
            "top": null,
            "grid_column": null,
            "overflow_y": null,
            "overflow_x": null,
            "grid_auto_flow": null,
            "grid_area": null,
            "grid_template_columns": null,
            "flex": null,
            "_model_name": "LayoutModel",
            "justify_items": null,
            "grid_row": null,
            "max_height": null,
            "align_content": null,
            "visibility": null,
            "align_self": null,
            "height": null,
            "min_height": null,
            "padding": null,
            "grid_auto_rows": null,
            "grid_gap": null,
            "max_width": null,
            "order": null,
            "_view_module_version": "1.2.0",
            "grid_template_areas": null,
            "object_position": null,
            "object_fit": null,
            "grid_auto_columns": null,
            "margin": null,
            "display": null,
            "left": null
          }
        },
        "2dadd7a6ffa843208e04c3da8c3e7c6f": {
          "model_module": "@jupyter-widgets/controls",
          "model_name": "HBoxModel",
          "state": {
            "_view_name": "HBoxView",
            "_dom_classes": [],
            "_model_name": "HBoxModel",
            "_view_module": "@jupyter-widgets/controls",
            "_model_module_version": "1.5.0",
            "_view_count": null,
            "_view_module_version": "1.5.0",
            "box_style": "",
            "layout": "IPY_MODEL_12d2982a2b9047168ce8fa64785dc14a",
            "_model_module": "@jupyter-widgets/controls",
            "children": [
              "IPY_MODEL_62639887e3b84638b2e9e2b9cb2d4371",
              "IPY_MODEL_f9cfad343de84d4e98e80eff8b6106cd"
            ]
          }
        },
        "12d2982a2b9047168ce8fa64785dc14a": {
          "model_module": "@jupyter-widgets/base",
          "model_name": "LayoutModel",
          "state": {
            "_view_name": "LayoutView",
            "grid_template_rows": null,
            "right": null,
            "justify_content": null,
            "_view_module": "@jupyter-widgets/base",
            "overflow": null,
            "_model_module_version": "1.2.0",
            "_view_count": null,
            "flex_flow": null,
            "width": null,
            "min_width": null,
            "border": null,
            "align_items": null,
            "bottom": null,
            "_model_module": "@jupyter-widgets/base",
            "top": null,
            "grid_column": null,
            "overflow_y": null,
            "overflow_x": null,
            "grid_auto_flow": null,
            "grid_area": null,
            "grid_template_columns": null,
            "flex": null,
            "_model_name": "LayoutModel",
            "justify_items": null,
            "grid_row": null,
            "max_height": null,
            "align_content": null,
            "visibility": null,
            "align_self": null,
            "height": null,
            "min_height": null,
            "padding": null,
            "grid_auto_rows": null,
            "grid_gap": null,
            "max_width": null,
            "order": null,
            "_view_module_version": "1.2.0",
            "grid_template_areas": null,
            "object_position": null,
            "object_fit": null,
            "grid_auto_columns": null,
            "margin": null,
            "display": null,
            "left": null
          }
        },
        "62639887e3b84638b2e9e2b9cb2d4371": {
          "model_module": "@jupyter-widgets/controls",
          "model_name": "FloatProgressModel",
          "state": {
            "_view_name": "ProgressView",
            "style": "IPY_MODEL_55aec83902b546e896b6287801352602",
            "_dom_classes": [],
            "description": "",
            "_model_name": "FloatProgressModel",
            "bar_style": "success",
            "max": 1,
            "_view_module": "@jupyter-widgets/controls",
            "_model_module_version": "1.5.0",
            "value": 1,
            "_view_count": null,
            "_view_module_version": "1.5.0",
            "orientation": "horizontal",
            "min": 0,
            "description_tooltip": null,
            "_model_module": "@jupyter-widgets/controls",
            "layout": "IPY_MODEL_105dce60abe34ab79bab7832b4ae793e"
          }
        },
        "f9cfad343de84d4e98e80eff8b6106cd": {
          "model_module": "@jupyter-widgets/controls",
          "model_name": "HTMLModel",
          "state": {
            "_view_name": "HTMLView",
            "style": "IPY_MODEL_e95749d97c4549688a26214b8dc025e6",
            "_dom_classes": [],
            "description": "",
            "_model_name": "HTMLModel",
            "placeholder": "​",
            "_view_module": "@jupyter-widgets/controls",
            "_model_module_version": "1.5.0",
            "value": " 8192/? [00:00&lt;00:00, 23704.87it/s]",
            "_view_count": null,
            "_view_module_version": "1.5.0",
            "description_tooltip": null,
            "_model_module": "@jupyter-widgets/controls",
            "layout": "IPY_MODEL_9daeb08da78d41dd9d531e225121f0f5"
          }
        },
        "55aec83902b546e896b6287801352602": {
          "model_module": "@jupyter-widgets/controls",
          "model_name": "ProgressStyleModel",
          "state": {
            "_view_name": "StyleView",
            "_model_name": "ProgressStyleModel",
            "description_width": "initial",
            "_view_module": "@jupyter-widgets/base",
            "_model_module_version": "1.5.0",
            "_view_count": null,
            "_view_module_version": "1.2.0",
            "bar_color": null,
            "_model_module": "@jupyter-widgets/controls"
          }
        },
        "105dce60abe34ab79bab7832b4ae793e": {
          "model_module": "@jupyter-widgets/base",
          "model_name": "LayoutModel",
          "state": {
            "_view_name": "LayoutView",
            "grid_template_rows": null,
            "right": null,
            "justify_content": null,
            "_view_module": "@jupyter-widgets/base",
            "overflow": null,
            "_model_module_version": "1.2.0",
            "_view_count": null,
            "flex_flow": null,
            "width": null,
            "min_width": null,
            "border": null,
            "align_items": null,
            "bottom": null,
            "_model_module": "@jupyter-widgets/base",
            "top": null,
            "grid_column": null,
            "overflow_y": null,
            "overflow_x": null,
            "grid_auto_flow": null,
            "grid_area": null,
            "grid_template_columns": null,
            "flex": null,
            "_model_name": "LayoutModel",
            "justify_items": null,
            "grid_row": null,
            "max_height": null,
            "align_content": null,
            "visibility": null,
            "align_self": null,
            "height": null,
            "min_height": null,
            "padding": null,
            "grid_auto_rows": null,
            "grid_gap": null,
            "max_width": null,
            "order": null,
            "_view_module_version": "1.2.0",
            "grid_template_areas": null,
            "object_position": null,
            "object_fit": null,
            "grid_auto_columns": null,
            "margin": null,
            "display": null,
            "left": null
          }
        },
        "e95749d97c4549688a26214b8dc025e6": {
          "model_module": "@jupyter-widgets/controls",
          "model_name": "DescriptionStyleModel",
          "state": {
            "_view_name": "StyleView",
            "_model_name": "DescriptionStyleModel",
            "description_width": "",
            "_view_module": "@jupyter-widgets/base",
            "_model_module_version": "1.5.0",
            "_view_count": null,
            "_view_module_version": "1.2.0",
            "_model_module": "@jupyter-widgets/controls"
          }
        },
        "9daeb08da78d41dd9d531e225121f0f5": {
          "model_module": "@jupyter-widgets/base",
          "model_name": "LayoutModel",
          "state": {
            "_view_name": "LayoutView",
            "grid_template_rows": null,
            "right": null,
            "justify_content": null,
            "_view_module": "@jupyter-widgets/base",
            "overflow": null,
            "_model_module_version": "1.2.0",
            "_view_count": null,
            "flex_flow": null,
            "width": null,
            "min_width": null,
            "border": null,
            "align_items": null,
            "bottom": null,
            "_model_module": "@jupyter-widgets/base",
            "top": null,
            "grid_column": null,
            "overflow_y": null,
            "overflow_x": null,
            "grid_auto_flow": null,
            "grid_area": null,
            "grid_template_columns": null,
            "flex": null,
            "_model_name": "LayoutModel",
            "justify_items": null,
            "grid_row": null,
            "max_height": null,
            "align_content": null,
            "visibility": null,
            "align_self": null,
            "height": null,
            "min_height": null,
            "padding": null,
            "grid_auto_rows": null,
            "grid_gap": null,
            "max_width": null,
            "order": null,
            "_view_module_version": "1.2.0",
            "grid_template_areas": null,
            "object_position": null,
            "object_fit": null,
            "grid_auto_columns": null,
            "margin": null,
            "display": null,
            "left": null
          }
        }
      }
    }
  },
  "cells": [
    {
      "cell_type": "markdown",
      "metadata": {
        "id": "fKyXAcU1By3l",
        "colab_type": "text"
      },
      "source": [
        "# Dropout Notebook\n"
      ]
    },
    {
      "cell_type": "markdown",
      "metadata": {
        "id": "ibIqmDynBy3m",
        "colab_type": "text"
      },
      "source": [
        "### **Prerequisites**\n",
        "* Regularization"
      ]
    },
    {
      "cell_type": "markdown",
      "metadata": {
        "id": "Ffx3HatiBy3n",
        "colab_type": "text"
      },
      "source": [
        "***What will we cover in this notebook?***\n",
        "\n",
        "* Explain dropout in nn\n",
        "* Implementation in PyTorch\n",
        "-----\n",
        "1. What is dropout and why do we need it? What was the idea behind it?\n",
        "2. How is dropout similar to ensembling a large variety of neural network architectures?\n",
        "3. Implementation in PyTorch on a basic neural network\n",
        "4. Visualising the difference between the non-dropout and dropout implemented models"
      ]
    },
    {
      "cell_type": "markdown",
      "metadata": {
        "id": "nijNnGn9By3o",
        "colab_type": "text"
      },
      "source": [
        "### 1. What was the idea behind Dropout?\n",
        "   * explain why we need dropout? Which problem leads us to do dropout\n",
        "   * show a dropout example on a basic neural network\n",
        "   * explain dropout parameters\n",
        "   * important aspects of dropout\n",
        "    "
      ]
    },
    {
      "cell_type": "markdown",
      "metadata": {
        "id": "Ta2uBbb0pYSl",
        "colab_type": "text"
      },
      "source": [
        "**A brief introduction**"
      ]
    },
    {
      "cell_type": "markdown",
      "metadata": {
        "id": "h_2V_wxBnBCY",
        "colab_type": "text"
      },
      "source": [
        "A common problem in machine learning is how to increase our model's performance on unseen data. We simply reduce the test error. To achieve this goal, we apply some regularization strategies. Regularization is defined as \"any modification we make to a learning algorithm that is intended to reduce its generalization error but not its training error\". We'll focus on dropout which is one of those strategies !"
      ]
    },
    {
      "cell_type": "markdown",
      "metadata": {
        "id": "mzEeaB17pb8k",
        "colab_type": "text"
      },
      "source": [
        "**What is the idea behind 'Dropout'?**"
      ]
    },
    {
      "cell_type": "markdown",
      "metadata": {
        "id": "NR7bPAVGoZkK",
        "colab_type": "text"
      },
      "source": [
        "Before math, let's understand what we mean by saying dropout:\n",
        "Let's assume that we do sport for a week and we play "
      ]
    },
    {
      "cell_type": "markdown",
      "metadata": {
        "id": "CI90VAZcBy3p",
        "colab_type": "text"
      },
      "source": [
        "### 2. Similarity between dropout and ensembles methods\n",
        "   * explain what the ensemble method is\n",
        "   * list the similary between them\n",
        "   * what makes dropout unique"
      ]
    },
    {
      "cell_type": "markdown",
      "metadata": {
        "id": "kHAOhDYsBy3p",
        "colab_type": "text"
      },
      "source": [
        "![ensemble.png](attachment:ensemble.png)"
      ]
    },
    {
      "cell_type": "markdown",
      "metadata": {
        "id": "66sQs4SKBy3q",
        "colab_type": "text"
      },
      "source": [
        "### 3. Implementation in PyTorch on a basic neural network "
      ]
    },
    {
      "cell_type": "markdown",
      "metadata": {
        "id": "tJytqea18HcS",
        "colab_type": "text"
      },
      "source": [
        "We'll do an implementation with MNIST dataset which is very popular and contains 77.000 handwritten digits. Every data points has 28x28 grayscale image and a label (the digit) from 0 to 9.\n",
        "We'll cover a non-dropout and dropout models together. Let's do  it!"
      ]
    },
    {
      "cell_type": "markdown",
      "metadata": {
        "id": "BRU0HIRN9Ogi",
        "colab_type": "text"
      },
      "source": [
        "* Load and prepare the dataset\n"
      ]
    },
    {
      "cell_type": "code",
      "metadata": {
        "id": "iZAe1Rvv8Grj",
        "colab_type": "code",
        "colab": {
          "base_uri": "https://localhost:8080/",
          "height": 431,
          "referenced_widgets": [
            "754a0bf737b44186b1df5bd39c5ac1e8",
            "ae7be2645c5a4e11a8706e52ca921a39",
            "215458af2ce4487dae8b1c6c590f7bb0",
            "f3853ba135d745d79b87f6e385f8cd93",
            "ad3ebe1e640049f399c02ea8e0f171ad",
            "4f57919188b44a60b87b8a3a4ed3982a",
            "52a90850a5a840fd9951109b0ac032ca",
            "fefdef9366df403a98e4b71727ce219e",
            "f0b63f6653e54ed29a8c5fc5e1bf378d",
            "e92450e6902b4671ae472e09e7b07b59",
            "2e271773e2de4ab1a4984c27b2e662fc",
            "ece8fed367c04432b2d6d7a292a7fe73",
            "c901b81e6a0b496f9185e0376b9d4eac",
            "59266e30f2004ce580c952e47c01b5cb",
            "38a838d320fe4ad3889479a00b6ed827",
            "c1b61ceb361f4f5ab82f54a45e8443c6",
            "92f319320ca844ada02a532729d6a5de",
            "d64179d6644343469a94995cb5956dfd",
            "8e08407d13e146e482d8e119a621685e",
            "edf26d6886fb429b9d5efc6b863b5f0e",
            "196c87be0d0242d2a88a05b0d89f032e",
            "a19825d6ecb141b39de9eb5846662559",
            "71424df15658437b979b6ecc8fb01da4",
            "4c36548fbaf54eaeada61e03958e319d",
            "2dadd7a6ffa843208e04c3da8c3e7c6f",
            "12d2982a2b9047168ce8fa64785dc14a",
            "62639887e3b84638b2e9e2b9cb2d4371",
            "f9cfad343de84d4e98e80eff8b6106cd",
            "55aec83902b546e896b6287801352602",
            "105dce60abe34ab79bab7832b4ae793e",
            "e95749d97c4549688a26214b8dc025e6",
            "9daeb08da78d41dd9d531e225121f0f5"
          ]
        },
        "outputId": "6b1871f2-5b02-4e1c-bf61-fcd8b0e001f9"
      },
      "source": [
        "import torch\n",
        "from torchvision import datasets, transforms\n",
        "\n",
        "crop_size = 22\n",
        "\n",
        "traintransforms = []\n",
        "traintransforms.append(transforms.CenterCrop(crop_size))\n",
        "traintransforms.append(transforms.ToTensor())\n",
        "traintransforms = transforms.Compose(traintransforms)\n",
        "\n",
        "# GET THE TRAINING DATASET\n",
        "train_data = datasets.MNIST(root='MNIST-data',                        # where is the data (going to be) stored\n",
        "                            transform=traintransforms,          # transform the data from a PIL image to a tensor\n",
        "                            train=True,                               # is this training data?\n",
        "                            download=True                             # should i download it if it's not already here?\n",
        "                           )\n",
        "\n",
        "testtransforms = []\n",
        "testtransforms.append(transforms.RandomCrop(crop_size))\n",
        "testtransforms.append(transforms.ToTensor())\n",
        "testtransforms = transforms.Compose(testtransforms)\n",
        "\n",
        "# GET THE TEST DATASET\n",
        "test_data = datasets.MNIST(root='MNIST-data',\n",
        "                           transform=testtransforms,\n",
        "                           train=False,\n",
        "                          )"
      ],
      "execution_count": 1,
      "outputs": [
        {
          "output_type": "stream",
          "text": [
            "Downloading http://yann.lecun.com/exdb/mnist/train-images-idx3-ubyte.gz to MNIST-data/MNIST/raw/train-images-idx3-ubyte.gz\n"
          ],
          "name": "stdout"
        },
        {
          "output_type": "display_data",
          "data": {
            "application/vnd.jupyter.widget-view+json": {
              "model_id": "754a0bf737b44186b1df5bd39c5ac1e8",
              "version_minor": 0,
              "version_major": 2
            },
            "text/plain": [
              "HBox(children=(FloatProgress(value=1.0, bar_style='info', max=1.0), HTML(value='')))"
            ]
          },
          "metadata": {
            "tags": []
          }
        },
        {
          "output_type": "stream",
          "text": [
            "Extracting MNIST-data/MNIST/raw/train-images-idx3-ubyte.gz to MNIST-data/MNIST/raw\n",
            "Downloading http://yann.lecun.com/exdb/mnist/train-labels-idx1-ubyte.gz to MNIST-data/MNIST/raw/train-labels-idx1-ubyte.gz\n"
          ],
          "name": "stdout"
        },
        {
          "output_type": "display_data",
          "data": {
            "application/vnd.jupyter.widget-view+json": {
              "model_id": "f0b63f6653e54ed29a8c5fc5e1bf378d",
              "version_minor": 0,
              "version_major": 2
            },
            "text/plain": [
              "HBox(children=(FloatProgress(value=1.0, bar_style='info', max=1.0), HTML(value='')))"
            ]
          },
          "metadata": {
            "tags": []
          }
        },
        {
          "output_type": "stream",
          "text": [
            "Extracting MNIST-data/MNIST/raw/train-labels-idx1-ubyte.gz to MNIST-data/MNIST/raw\n",
            "Downloading http://yann.lecun.com/exdb/mnist/t10k-images-idx3-ubyte.gz to MNIST-data/MNIST/raw/t10k-images-idx3-ubyte.gz\n"
          ],
          "name": "stdout"
        },
        {
          "output_type": "display_data",
          "data": {
            "application/vnd.jupyter.widget-view+json": {
              "model_id": "92f319320ca844ada02a532729d6a5de",
              "version_minor": 0,
              "version_major": 2
            },
            "text/plain": [
              "HBox(children=(FloatProgress(value=1.0, bar_style='info', max=1.0), HTML(value='')))"
            ]
          },
          "metadata": {
            "tags": []
          }
        },
        {
          "output_type": "stream",
          "text": [
            "Extracting MNIST-data/MNIST/raw/t10k-images-idx3-ubyte.gz to MNIST-data/MNIST/raw\n",
            "Downloading http://yann.lecun.com/exdb/mnist/t10k-labels-idx1-ubyte.gz to MNIST-data/MNIST/raw/t10k-labels-idx1-ubyte.gz\n"
          ],
          "name": "stdout"
        },
        {
          "output_type": "display_data",
          "data": {
            "application/vnd.jupyter.widget-view+json": {
              "model_id": "2dadd7a6ffa843208e04c3da8c3e7c6f",
              "version_minor": 0,
              "version_major": 2
            },
            "text/plain": [
              "HBox(children=(FloatProgress(value=1.0, bar_style='info', max=1.0), HTML(value='')))"
            ]
          },
          "metadata": {
            "tags": []
          }
        },
        {
          "output_type": "stream",
          "text": [
            "Extracting MNIST-data/MNIST/raw/t10k-labels-idx1-ubyte.gz to MNIST-data/MNIST/raw\n",
            "Processing...\n",
            "Done!\n",
            "\n",
            "\n",
            "\n"
          ],
          "name": "stdout"
        },
        {
          "output_type": "stream",
          "text": [
            "/usr/local/lib/python3.6/dist-packages/torchvision/datasets/mnist.py:469: UserWarning: The given NumPy array is not writeable, and PyTorch does not support non-writeable tensors. This means you can write to the underlying (supposedly non-writeable) NumPy array using the tensor. You may want to copy the array to protect its data or make it writeable before converting it to a tensor. This type of warning will be suppressed for the rest of this program. (Triggered internally at  /pytorch/torch/csrc/utils/tensor_numpy.cpp:141.)\n",
            "  return torch.from_numpy(parsed.astype(m[2], copy=False)).view(*s)\n"
          ],
          "name": "stderr"
        }
      ]
    },
    {
      "cell_type": "markdown",
      "metadata": {
        "id": "sXPzN3iQ9l3h",
        "colab_type": "text"
      },
      "source": [
        "* Print some examples:"
      ]
    },
    {
      "cell_type": "code",
      "metadata": {
        "id": "jdaNVErA9n7x",
        "colab_type": "code",
        "colab": {
          "base_uri": "https://localhost:8080/",
          "height": 513
        },
        "outputId": "775ac9bb-6af7-49dc-c814-f4c62ffda800"
      },
      "source": [
        "import matplotlib.pyplot as plt\n",
        "import numpy as np\n",
        "# PRINT THEIR LENGTHS AND VISUALISE AN EXAMPLE\n",
        "x = train_data[np.random.randint(0, 300)][0]    # get the first example\n",
        "plt.imshow(x[0].numpy())\n",
        "plt.show()\n",
        "x = test_data[np.random.randint(0, 300)][0]    # get the first example\n",
        "plt.imshow(x[0].numpy())\n",
        "plt.show()"
      ],
      "execution_count": 2,
      "outputs": [
        {
          "output_type": "display_data",
          "data": {
            "image/png": "[encoded data removed]",
            "text/plain": [
              "<Figure size 432x288 with 1 Axes>"
            ]
          },
          "metadata": {
            "tags": [],
            "needs_background": "light"
          }
        },
        {
          "output_type": "display_data",
          "data": {
            "image/png": "[encoded data removed]",
            "text/plain": [
              "<Figure size 432x288 with 1 Axes>"
            ]
          },
          "metadata": {
            "tags": [],
            "needs_background": "light"
          }
        }
      ]
    },
    {
      "cell_type": "markdown",
      "metadata": {
        "id": "rU37KKmn9q3h",
        "colab_type": "text"
      },
      "source": [
        "* Now, we'll seperate our training dataset into training and validation sets."
      ]
    },
    {
      "cell_type": "code",
      "metadata": {
        "id": "VbAfqpEO-A_s",
        "colab_type": "code",
        "colab": {}
      },
      "source": [
        "# FURTHER SPLIT THE TRAINING INTO TRAINING AND VALIDATION\n",
        "train_data, val_data = torch.utils.data.random_split(train_data, [50000, 10000])    # split into 50K training & 10K validation"
      ],
      "execution_count": 3,
      "outputs": []
    },
    {
      "cell_type": "markdown",
      "metadata": {
        "id": "LI3juSxp-wmD",
        "colab_type": "text"
      },
      "source": [
        "* Pass datasets to Pytorch dataloader:"
      ]
    },
    {
      "cell_type": "code",
      "metadata": {
        "id": "vWaanIce-v-j",
        "colab_type": "code",
        "colab": {}
      },
      "source": [
        "batch_size = 128\n",
        "\n",
        "# MAKE TRAINING DATALOADER\n",
        "train_loader = torch.utils.data.DataLoader(\n",
        "    train_data,\n",
        "    shuffle=True,\n",
        "    batch_size=batch_size\n",
        ")\n",
        "\n",
        "# MAKE VALIDATION DATALOADER\n",
        "val_loader = torch.utils.data.DataLoader(\n",
        "    val_data,\n",
        "    shuffle=True,\n",
        "    batch_size=batch_size\n",
        ")\n",
        "\n",
        "# MAKE TEST DATALOADER\n",
        "test_loader = torch.utils.data.DataLoader(\n",
        "    test_data,\n",
        "    shuffle=True,\n",
        "    batch_size=batch_size\n",
        ")"
      ],
      "execution_count": 4,
      "outputs": []
    },
    {
      "cell_type": "markdown",
      "metadata": {
        "id": "CnJbDQg--9aB",
        "colab_type": "text"
      },
      "source": [
        "* It's time to create dropout model !"
      ]
    },
    {
      "cell_type": "code",
      "metadata": {
        "id": "iYK8iJcB-9E5",
        "colab_type": "code",
        "colab": {}
      },
      "source": [
        "import torch.nn.functional as F\n",
        "import torch.nn as nn\n",
        "\n",
        "\n",
        "class NeuralNetworkClass(torch.nn.Module):\n",
        "    def __init__(self):\n",
        "        super().__init__()    # initialise parent module\n",
        "        self.layer1 = torch.nn.Linear(crop_size*crop_size, 225)\n",
        "        self.layer2 = torch.nn.Linear(225, 100)\n",
        "        self.layer3 = torch.nn.Linear(100, 10)\n",
        "        \n",
        "    def forward(self, x):\n",
        "        x = x.view(-1, crop_size*crop_size)\n",
        "        x = self.layer1(x)\n",
        "        x = F.relu(x)\n",
        "        x = self.layer2(x)\n",
        "        x = F.relu(x)\n",
        "        x = self.layer3(x)\n",
        "        x = F.softmax(x, dim=1)\n",
        "        return x\n",
        "\n",
        "def get_n_params(model):\n",
        "    model_parameters = filter(lambda p: p.requires_grad, model.parameters())\n",
        "    n_params = sum([np.prod(p.size()) for p in model_parameters])\n",
        "    return n_params\n",
        "\n",
        "\n",
        "\n",
        "\n",
        "# This is our dropout implementation !\n",
        "class NeuralNetworkClassDropout(torch.nn.Module):\n",
        "    def __init__(self):\n",
        "        super().__init__()    # initialise parent module\n",
        "        self.layer1 = torch.nn.Linear(crop_size*crop_size, 225)\n",
        "        self.layer2 = torch.nn.Linear(225, 100)\n",
        "        self.layer3 = torch.nn.Linear(100, 10)\n",
        "        self.dropout1 = nn.Dropout(p=0.2)           # first dropout parameter\n",
        "        self.dropout2 = nn.Dropout(p=0.25)          # second dropout parameter\n",
        "\n",
        "        \n",
        "    def forward(self, x):\n",
        "        x = x.view(-1, crop_size*crop_size)\n",
        "        x = self.layer1(x)\n",
        "        x = F.relu(x)\n",
        "        x = self.dropout1(x)    # apply first dropout after the first layer\n",
        "        x = self.layer2(x)\n",
        "        x = F.relu(x)\n",
        "        x = self.dropout2(x)    # apply second dropout after the second layer\n",
        "        x = self.layer3(x)\n",
        "        x = F.softmax(x, dim=1)\n",
        "        return x\n",
        "\n",
        "def get_n_params(model):\n",
        "    model_parameters = filter(lambda p: p.requires_grad, model.parameters())\n",
        "    n_params = sum([np.prod(p.size()) for p in model_parameters])\n",
        "    return n_params\n"
      ],
      "execution_count": 31,
      "outputs": []
    },
    {
      "cell_type": "code",
      "metadata": {
        "id": "c4nBezZ8_duC",
        "colab_type": "code",
        "colab": {
          "base_uri": "https://localhost:8080/",
          "height": 52
        },
        "outputId": "0338e494-c91c-49ea-b58c-2bb02ff1fea3"
      },
      "source": [
        "learning_rate = 0.0005\n",
        "myNeuralNetwork = NeuralNetworkClass()\n",
        "print('Number of parameters in non-dropout model:', get_n_params(myNeuralNetwork))\n",
        "myNeuralNetworkDropout = NeuralNetworkClassDropout()\n",
        "print('Number of parameters in dropout model:', get_n_params(myNeuralNetworkDropout))\n",
        "\n",
        "# CREATE OUR OPTIMISER\n",
        "optimiser_nn = torch.optim.Adam(              # what optimiser should we use?\n",
        "    myNeuralNetwork.parameters(),          # what should it optimise?\n",
        "    lr=learning_rate                       # using what learning rate?\n",
        ")\n",
        "\n",
        "# CREATE OUR OPTIMISER\n",
        "optimiser_nnd = torch.optim.Adam(              # what optimiser should we use?\n",
        "    myNeuralNetworkDropout.parameters(),          # what should it optimise?\n",
        "    lr=learning_rate                       # using what learning rate?\n",
        ")\n",
        "\n",
        "# CREATE OUR CRITERION\n",
        "criterion = torch.nn.CrossEntropyLoss()             # callable class that compares our predictions to our labels and returns our loss\n",
        "\n",
        "# SET UP TRAINING VISUALISATION\n",
        "from torch.utils.tensorboard import SummaryWriter\n",
        "writer = SummaryWriter()                            # we will use this to show our models performance on a graph\n"
      ],
      "execution_count": 32,
      "outputs": [
        {
          "output_type": "stream",
          "text": [
            "Number of parameters in non-dropout model: 132735\n",
            "Number of parameters in dropout model: 132735\n"
          ],
          "name": "stdout"
        }
      ]
    },
    {
      "cell_type": "markdown",
      "metadata": {
        "id": "rcjwGmf1_kSK",
        "colab_type": "text"
      },
      "source": [
        "* Training part:"
      ]
    },
    {
      "cell_type": "code",
      "metadata": {
        "id": "I4_wTxbw_l33",
        "colab_type": "code",
        "colab": {
          "base_uri": "https://localhost:8080/",
          "height": 194
        },
        "outputId": "993249ed-4943-4139-9317-df436425ef8c"
      },
      "source": [
        "# TRAINING LOOP\n",
        "def train_nn(model, epochs):\n",
        "    model.train()                                  # put the model into training mode (more on this later)\n",
        "    for epoch in range(epochs):\n",
        "        for idx, minibatch in enumerate(train_loader):\n",
        "            inputs, labels = minibatch\n",
        "            prediction = model(inputs)             # pass the data forward through the model\n",
        "            loss = criterion(prediction, labels)   # compute the loss\n",
        "            optimiser_nn.zero_grad()                  # reset the gradients attribute of each of the model's params to zero\n",
        "            loss.backward()                        # backward pass to compute and set all of the model param's gradients\n",
        "            optimiser_nn.step()                       # update the model's parameters\n",
        "            writer.add_scalar('Loss/Train', loss, epoch*len(train_loader) + idx)    # write loss to a graph\n",
        "        print('Epoch:', epoch, '\\tBatch:', idx, '\\tLoss:', loss)\n",
        "\n",
        "# TRAINING LOOP\n",
        "def train_nnd(model, epochs):\n",
        "    model.train()                                  # put the model into training mode (more on this later)\n",
        "    for epoch in range(epochs):\n",
        "        for idx, minibatch in enumerate(train_loader):\n",
        "            inputs, labels = minibatch\n",
        "            prediction = model(inputs)             # pass the data forward through the model\n",
        "            loss = criterion(prediction, labels)   # compute the loss\n",
        "            optimiser_nnd.zero_grad()                  # reset the gradients attribute of each of the model's params to zero\n",
        "            loss.backward()                        # backward pass to compute and set all of the model param's gradients\n",
        "            optimiser_nnd.step()                       # update the model's parameters\n",
        "            writer.add_scalar('Loss/Train', loss, epoch*len(train_loader) + idx)    # write loss to a graph\n",
        "        print('Epoch:', epoch, '\\tBatch:', idx, '\\tLoss:', loss)           \n",
        "            \n",
        "\n",
        "train_nn(myNeuralNetwork, 5)           \n",
        "train_nnd(myNeuralNetworkDropout, 5)"
      ],
      "execution_count": 33,
      "outputs": [
        {
          "output_type": "stream",
          "text": [
            "Epoch: 0 \tBatch: 390 \tLoss: tensor(1.5484, grad_fn=<NllLossBackward>)\n",
            "Epoch: 1 \tBatch: 390 \tLoss: tensor(1.5489, grad_fn=<NllLossBackward>)\n",
            "Epoch: 2 \tBatch: 390 \tLoss: tensor(1.5075, grad_fn=<NllLossBackward>)\n",
            "Epoch: 3 \tBatch: 390 \tLoss: tensor(1.5684, grad_fn=<NllLossBackward>)\n",
            "Epoch: 4 \tBatch: 390 \tLoss: tensor(1.5009, grad_fn=<NllLossBackward>)\n",
            "Epoch: 0 \tBatch: 390 \tLoss: tensor(1.6596, grad_fn=<NllLossBackward>)\n",
            "Epoch: 1 \tBatch: 390 \tLoss: tensor(1.5413, grad_fn=<NllLossBackward>)\n",
            "Epoch: 2 \tBatch: 390 \tLoss: tensor(1.5627, grad_fn=<NllLossBackward>)\n",
            "Epoch: 3 \tBatch: 390 \tLoss: tensor(1.4991, grad_fn=<NllLossBackward>)\n",
            "Epoch: 4 \tBatch: 390 \tLoss: tensor(1.5011, grad_fn=<NllLossBackward>)\n"
          ],
          "name": "stdout"
        }
      ]
    },
    {
      "cell_type": "markdown",
      "metadata": {
        "id": "W8IfN5_D_pJ_",
        "colab_type": "text"
      },
      "source": [
        "* Evaluate our two models:"
      ]
    },
    {
      "cell_type": "code",
      "metadata": {
        "id": "hm68nUMR_ogn",
        "colab_type": "code",
        "colab": {
          "base_uri": "https://localhost:8080/",
          "height": 176
        },
        "outputId": "3781010a-3553-497a-9518-66a9d9833850"
      },
      "source": [
        "def calc_accuracy(model, dataloader):\n",
        "    num_correct = 0\n",
        "    num_examples = len(dataloader.dataset)                       # test DATA not test LOADER\n",
        "    for inputs, labels in dataloader:                  # for all exampls, over all mini-batches in the test dataset\n",
        "        predictions = model(inputs)\n",
        "        predictions = torch.max(predictions, axis=1)    # reduce to find max indices along direction which column varies\n",
        "        predictions = predictions[1]                    # torch.max returns (values, indices)\n",
        "        num_correct += int(sum(predictions == labels))\n",
        "    percent_correct = num_correct / num_examples * 100\n",
        "    return percent_correct\n",
        "\n",
        "print(\"Non-Dropout Model's Evaluation:\")\n",
        "print('Train Accuracy:', calc_accuracy(myNeuralNetwork, train_loader))\n",
        "print('Validation Accuracy:', calc_accuracy(myNeuralNetwork, val_loader))\n",
        "print('Test Accuracy:', calc_accuracy(myNeuralNetwork, test_loader))\n",
        "\n",
        "print(\"\\nDropout Model's Evaluation:\")\n",
        "print('Train Accuracy:', calc_accuracy(myNeuralNetworkDropout, train_loader))\n",
        "print('Validation Accuracy:', calc_accuracy(myNeuralNetworkDropout, val_loader))\n",
        "print('Test Accuracy:', calc_accuracy(myNeuralNetworkDropout, test_loader))\n"
      ],
      "execution_count": 34,
      "outputs": [
        {
          "output_type": "stream",
          "text": [
            "Non-Dropout Model's Evaluation:\n",
            "Train Accuracy: 96.124\n",
            "Validation Accuracy: 95.14\n",
            "Test Accuracy: 50.339999999999996\n",
            "\n",
            "Dropout Model's Evaluation:\n",
            "Train Accuracy: 95.02199999999999\n",
            "Validation Accuracy: 94.43\n",
            "Test Accuracy: 51.519999999999996\n"
          ],
          "name": "stdout"
        }
      ]
    },
    {
      "cell_type": "markdown",
      "metadata": {
        "colab_type": "text",
        "id": "zXXhGic2HyYb"
      },
      "source": [
        "### 4. Visualizing the difference between a non-dropout and dropout implemented nn\n",
        "* Copy the nn repo model performance metrics etc\n",
        "* Explain the metrics used\n",
        "* Evaluate the dropout model\n",
        "* Compare training curves\n",
        "* Compare model performance metrics"
      ]
    },
    {
      "cell_type": "markdown",
      "metadata": {
        "id": "JtLxAls2JrLn",
        "colab_type": "text"
      },
      "source": [
        "As we see above, our model overfits. It performs very good on training data, but it is poor on test data. So that means, we have a overfitting problem.\n",
        "Let's try dropout and see if we can overcome this issue:"
      ]
    },
    {
      "cell_type": "markdown",
      "metadata": {
        "id": "aSYOGP4bBy4B",
        "colab_type": "text"
      },
      "source": [
        "### 5. Summary\n",
        "***List the key points like:***\n",
        "\n",
        "* dropout definition in a sentence\n",
        "* ensemble method\n",
        "* how to overcome overfitting after applying dropout, show model performance metrics"
      ]
    },
    {
      "cell_type": "markdown",
      "metadata": {
        "id": "QBQ_028yBy4C",
        "colab_type": "text"
      },
      "source": [
        "### 6. What to do next?\n",
        "* Challenge about dropout, search on net, 3 example"
      ]
    }
  ]
}