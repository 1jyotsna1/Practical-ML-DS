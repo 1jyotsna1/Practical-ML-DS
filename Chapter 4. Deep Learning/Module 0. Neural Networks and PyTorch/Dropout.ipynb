{
 "cells": [
  {
   "cell_type": "markdown",
   "metadata": {
    "colab_type": "text",
    "id": "fKyXAcU1By3l"
   },
   "source": [
    "# Dropout\n"
   ]
  },
  {
   "cell_type": "markdown",
   "metadata": {
    "colab_type": "text",
    "id": "ibIqmDynBy3m"
   },
   "source": [
    "### **Prerequisites**\n",
    "* Regularization"
   ]
  },
  {
   "cell_type": "markdown",
   "metadata": {
    "colab_type": "text",
    "id": "Ffx3HatiBy3n"
   },
   "source": [
    "***What will we cover in this notebook?***\n",
    "\n",
    "* Explaining dropout mathematically and intuitively in neural networks\n",
    "* Implementation in PyTorch\n",
    "* Showing the difference between non-dropout and dropout models\n",
    "* Reviewing some key points\n",
    "-----"
   ]
  },
  {
   "cell_type": "markdown",
   "metadata": {
    "colab_type": "text",
    "id": "nijNnGn9By3o"
   },
   "source": [
    "### 1. What is Dropout?\n"
   ]
  },
  {
   "cell_type": "markdown",
   "metadata": {
    "colab_type": "text",
    "id": "Ta2uBbb0pYSl"
   },
   "source": [
    "**A brief introduction**"
   ]
  },
  {
   "cell_type": "markdown",
   "metadata": {
    "colab_type": "text",
    "id": "h_2V_wxBnBCY"
   },
   "source": [
    "A common problem in machine learning is how to increase our model's performance on unseen data. We want to reduce the test error. To achieve this goal, we apply some regularization strategies. Regularization is defined as \"any modification we make to a learning algorithm that is intended to reduce its generalization error but not its training error\". We'll focus on dropout which is one of those strategies !"
   ]
  },
  {
   "cell_type": "markdown",
   "metadata": {
    "colab_type": "text",
    "id": "SVueLeekpGRl"
   },
   "source": [
    "We basically \"*drop out*\" some neurons in our original network, based on probability. You can assume that we shut down some parts of the neural network during every training example and get different models for each one. After that, we take the average of each model to get prediction in the testing part.\n",
    "\n"
   ]
  },
  {
   "cell_type": "markdown",
   "metadata": {
    "colab_type": "text",
    "id": "Dinb15vysEpZ"
   },
   "source": [
    "![dropout_network.png](images/dropout_network.png)"
   ]
  },
  {
   "cell_type": "markdown",
   "metadata": {
    "colab_type": "text",
    "id": "-2-e_SOgsPFx"
   },
   "source": [
    "*Srivastava, Nitish, et al. ”Dropout: a simple way to prevent neural networks from overfitting”, JMLR 2014*"
   ]
  },
  {
   "cell_type": "markdown",
   "metadata": {
    "colab_type": "text",
    "id": "mzEeaB17pb8k"
   },
   "source": [
    "**What is the idea behind 'Dropout'?**"
   ]
  },
  {
   "cell_type": "markdown",
   "metadata": {
    "colab_type": "text",
    "id": "NR7bPAVGoZkK"
   },
   "source": [
    "Before diving into math, let's understand what we mean by saying dropout:\n",
    "\n",
    "Let's assume that e want to have biceps in our arms. So we play tennis, basketball, american football and volleyball in turn for a week. Then we realize that we've done most of them with our dominant hand. We develop large muscle only on that arm and we don't want this.\n",
    "So in the next week, we follow the schedule below:\n",
    "* Play tennis with left arm\n",
    "* Play basketball with right arm\n",
    "* Play american football with right arm\n",
    "* Play volleyball with left arm\n",
    "\n",
    "We change this schedule next week and shuffle arms. After two weeks, we develop biceps on our both arms.\n",
    "\n"
   ]
  },
  {
   "cell_type": "markdown",
   "metadata": {
    "colab_type": "text",
    "id": "cagj477m-NiC"
   },
   "source": [
    "![right_gif.gif](images/right_gif.gif)"
   ]
  },
  {
   "cell_type": "markdown",
   "metadata": {
    "colab_type": "text",
    "id": "DY9r4Ra30cVE"
   },
   "source": [
    "The basic idea of the dropout in neural networks is similar to above. Sometimes, one part of the networks has large weights and it ends up dominating all the training while the other part of the network doesn't get trained well. We simply turns off some nodes and say, don't pass through here. With this process, we give chance other weak nodes to train as well as the other powerfull ones.\n",
    "\n",
    "We apply this process by giving the algorithm a parameter. This parameter is the probability that each node gets dropped at a particular epoch."
   ]
  },
  {
   "cell_type": "markdown",
   "metadata": {
    "colab_type": "text",
    "id": "ohJv4mUg_gAY"
   },
   "source": [
    "![drop.gif](images/drop.gif)"
   ]
  },
  {
   "cell_type": "markdown",
   "metadata": {
    "colab_type": "text",
    "id": "HbY3IF8I_nHg"
   },
   "source": [
    "*https://towardsdatascience.com/preventing-deep-neural-network-from-overfitting-953458db800a*"
   ]
  },
  {
   "cell_type": "markdown",
   "metadata": {
    "colab_type": "text",
    "id": "ks3LQlkzoxxn"
   },
   "source": [
    "From the math side, dropout can be seen as a process of constructing new inputs by multiplying by noise."
   ]
  },
  {
   "cell_type": "markdown",
   "metadata": {
    "colab_type": "text",
    "id": "vMGuTnWREQHF"
   },
   "source": [
    "A single layer network:\n",
    "\n",
    "![math1.png](images/math1.png)"
   ]
  },
  {
   "cell_type": "markdown",
   "metadata": {
    "colab_type": "text",
    "id": "sGxtxb6xgzo_"
   },
   "source": [
    "![math2.png](images/math2.png)"
   ]
  },
  {
   "cell_type": "markdown",
   "metadata": {
    "colab_type": "text",
    "id": "6HIQqmhGg0Eh"
   },
   "source": [
    "![math3.png](images/math3.png)"
   ]
  },
  {
   "cell_type": "markdown",
   "metadata": {
    "colab_type": "text",
    "id": "PZ1JABzMgzaz"
   },
   "source": [
    "![math4.png](images/math4.png)"
   ]
  },
  {
   "cell_type": "markdown",
   "metadata": {
    "colab_type": "text",
    "id": "G8R7znGIhGxM"
   },
   "source": [
    "![math5.png](images/math5.png)\n",
    "\n"
   ]
  },
  {
   "cell_type": "markdown",
   "metadata": {
    "colab_type": "text",
    "id": "ILumSrXVhH_o"
   },
   "source": [
    "![math6.png](images/math6.png)"
   ]
  },
  {
   "cell_type": "markdown",
   "metadata": {
    "colab_type": "text",
    "id": "GbSGQmO5hGlg"
   },
   "source": [
    "![math7.png](images/math7.png)"
   ]
  },
  {
   "cell_type": "markdown",
   "metadata": {
    "colab_type": "text",
    "id": "Y35t_8I6hXXb"
   },
   "source": [
    "**Eq. 1** shows loss for a regular network and **Eq. 2** for a dropout network. In Eq. 2, the dropout rate is 𝛿, where 𝛿 ~ Bernoulli(p). This means 𝛿 is equal to 1 with probability p and 0 otherwise.\n",
    "\n",
    "The backpropagation for network training uses a gradient descent approach. We will first look at the gradient of the dropout network in Eq. 2 and get **Eq. 3**.\n",
    "\n",
    "We will try to find a relationship between this gradient and the gradient of the regular network. Suppose we make w’ = p*w in Eq. 1.\n",
    "\n",
    "Then, we get **Eq. 4**.\n",
    "\n",
    "Taking the derivative of Eq. 4, we find **Eq. 5** and if we find the expectation of the gradient of the Dropout network, we get **Eq. 6**.\n",
    "\n",
    "Eq. 6, the expectation of the gradient with Dropout, is equal to the gradient of Regularized regular network Eɴ if w’ = p*w.\n",
    "\n",
    "In the end minimizing the Dropout loss (in Eq. 2) is equivalent to minimizing a regularized network, shown in **Eq. 7**."
   ]
  },
  {
   "cell_type": "markdown",
   "metadata": {
    "colab_type": "text",
    "id": "CI90VAZcBy3p"
   },
   "source": [
    "### 2. Similarity between dropout and ensembles methods\n"
   ]
  },
  {
   "cell_type": "markdown",
   "metadata": {
    "colab_type": "text",
    "id": "4QLWrRsgM_JQ"
   },
   "source": [
    "Bagging (short for bootstrap aggregating) is a technique for reducing generalization error by combining several models. The idea is to train several different models separately, then have all of the models vote on the\n",
    "output for test examples. This is an example of a general strategy in machine learning called model averaging. \n",
    "\n",
    "Techniques employing this strategy are known as ensemble methods.\n",
    "The reason that model averaging works is that different models will usually\n",
    "not make all the same errors on the test set."
   ]
  },
  {
   "cell_type": "markdown",
   "metadata": {
    "colab_type": "text",
    "id": "-naALyf_pDVx"
   },
   "source": [
    "Dropout can be thought of as a method of making bagging practical for ensembles\n",
    "of very many large neural networks."
   ]
  },
  {
   "cell_type": "markdown",
   "metadata": {
    "colab_type": "text",
    "id": "kHAOhDYsBy3p"
   },
   "source": [
    "Dropout training is not quite the same as bagging training. \n",
    "\n",
    "* In the case of bagging, the models are all independent. \n",
    "\n",
    "* In the case of dropout, the models share parameters, with each model inheriting a different subset of parameters from the parent neural network. This parameter sharing makes it possible to represent an exponential number of models with a tractable amount of memory."
   ]
  },
  {
   "cell_type": "markdown",
   "metadata": {
    "colab_type": "text",
    "id": "1HeB9TcAUWFQ"
   },
   "source": [
    "* In the case of bagging, each model is trained to convergence on its respective training set. \n",
    "* In the case of dropout, typically most models are not explicitly trained at all—usually, the model is large enough that it would be infeasible to sample all possible subnetworks within the lifetime of the universe."
   ]
  },
  {
   "cell_type": "markdown",
   "metadata": {
    "colab_type": "text",
    "id": "ncheTzSPUbcy"
   },
   "source": [
    "Beyond these differences, dropout follows the bagging algorithm. For\n",
    "example, the training set encountered by each sub-network is indeed a subset of\n",
    "the original training set sampled with replacement."
   ]
  },
  {
   "cell_type": "markdown",
   "metadata": {
    "colab_type": "text",
    "id": "eZi27Ls9VFgh"
   },
   "source": [
    "![ensemble_example.PNG](images/ensemble_example.png)"
   ]
  },
  {
   "cell_type": "markdown",
   "metadata": {
    "colab_type": "text",
    "id": "66sQs4SKBy3q"
   },
   "source": [
    "### 3. Implementation in PyTorch on a basic neural network "
   ]
  },
  {
   "cell_type": "markdown",
   "metadata": {
    "colab_type": "text",
    "id": "tJytqea18HcS"
   },
   "source": [
    "We'll do an implementation with MNIST dataset which is a very popular data and contains 77.000 handwritten digits. Every data points has 28x28 grayscale image and a label (the digit) from 0 to 9.\n",
    "We'll cover non-dropout and dropout models together. Let's do  it!"
   ]
  },
  {
   "cell_type": "markdown",
   "metadata": {
    "colab_type": "text",
    "id": "BRU0HIRN9Ogi"
   },
   "source": [
    "* Load and prepare the dataset\n"
   ]
  },
  {
   "cell_type": "code",
   "execution_count": null,
   "metadata": {
    "colab": {
     "base_uri": "https://localhost:8080/",
     "height": 431,
     "referenced_widgets": [
      "84535cde05b04c6b8127c7cf7e5afe93",
      "99b619d99a8246b78b82a351f7195270",
      "a35b3a561413406bb13f779cdca333b3",
      "b5a8de85507b4a1cab0503c1fdca7bea",
      "2a6a0bbd800949b986ec21171d7f904c",
      "d6a64d4565144930b5f758999e7222fa",
      "ecce4752525645a8b8cf7b8a29bd651e",
      "25b6fdbf84ff464080b5c4c0181c69e2",
      "41c61bd5888046f2a05ec2b3c82a8828",
      "ad9c59b3ad1d4c6db277aca2d5ae472b",
      "76d880ec0a6843fca59a84ec3bce6115",
      "7a6e287aea1e4680a9955ecf56822f73",
      "cbf00ae472d240fa93e7d2a4c1a24b5c",
      "5a46338acc4043369fb5f3670f9b11c5",
      "4df0c76fec3f41a88243cad4e97f364f",
      "684a9855c2e649bf917bcf30751178ac",
      "f779affa96d34ba5af20e586ade23291",
      "97d314647ef84591909e7fab042315e0",
      "06b60dddef2948f49e74cbc1f11253f0",
      "2deab1e3d09d489dbfb3dd63d2bd65c9",
      "afa0d1da46284f6bb913effaf51bac89",
      "e9d61056dc8346a5b36ffeb950297293",
      "a94dc720e84843389c6e71c24ee38c5f",
      "126775b8fae648c59ba00aad1e4cb5d5",
      "502ce927c28044938afd0d840d47a81f",
      "707f19e596dc4f3ebb2d522e9125adea",
      "7204a3eaece849db97c1504298861a82",
      "6946008cae8b44cfbc087e753214d067",
      "0df704abf4614a1cb603a5324c359e5f",
      "f3ec33ef1bb64d3e80da55e99b4233f4",
      "6e46c730a1ec4802843ed8ec3f65b911",
      "d54bfbbcde83421c9cc52a59a9420fda"
     ]
    },
    "colab_type": "code",
    "id": "iZAe1Rvv8Grj",
    "outputId": "a3d6ca78-5438-48f7-d53e-954833aff220"
   },
   "outputs": [
    {
     "name": "stdout",
     "output_type": "stream",
     "text": [
      "Downloading http://yann.lecun.com/exdb/mnist/train-images-idx3-ubyte.gz to MNIST-data/MNIST/raw/train-images-idx3-ubyte.gz\n"
     ]
    },
    {
     "data": {
      "application/vnd.jupyter.widget-view+json": {
       "model_id": "84535cde05b04c6b8127c7cf7e5afe93",
       "version_major": 2,
       "version_minor": 0
      },
      "text/plain": [
       "HBox(children=(FloatProgress(value=1.0, bar_style='info', max=1.0), HTML(value='')))"
      ]
     },
     "metadata": {
      "tags": []
     },
     "output_type": "display_data"
    },
    {
     "name": "stdout",
     "output_type": "stream",
     "text": [
      "Extracting MNIST-data/MNIST/raw/train-images-idx3-ubyte.gz to MNIST-data/MNIST/raw\n",
      "Downloading http://yann.lecun.com/exdb/mnist/train-labels-idx1-ubyte.gz to MNIST-data/MNIST/raw/train-labels-idx1-ubyte.gz\n"
     ]
    },
    {
     "data": {
      "application/vnd.jupyter.widget-view+json": {
       "model_id": "41c61bd5888046f2a05ec2b3c82a8828",
       "version_major": 2,
       "version_minor": 0
      },
      "text/plain": [
       "HBox(children=(FloatProgress(value=1.0, bar_style='info', max=1.0), HTML(value='')))"
      ]
     },
     "metadata": {
      "tags": []
     },
     "output_type": "display_data"
    },
    {
     "name": "stdout",
     "output_type": "stream",
     "text": [
      "Extracting MNIST-data/MNIST/raw/train-labels-idx1-ubyte.gz to MNIST-data/MNIST/raw\n",
      "Downloading http://yann.lecun.com/exdb/mnist/t10k-images-idx3-ubyte.gz to MNIST-data/MNIST/raw/t10k-images-idx3-ubyte.gz\n"
     ]
    },
    {
     "data": {
      "application/vnd.jupyter.widget-view+json": {
       "model_id": "f779affa96d34ba5af20e586ade23291",
       "version_major": 2,
       "version_minor": 0
      },
      "text/plain": [
       "HBox(children=(FloatProgress(value=1.0, bar_style='info', max=1.0), HTML(value='')))"
      ]
     },
     "metadata": {
      "tags": []
     },
     "output_type": "display_data"
    },
    {
     "name": "stdout",
     "output_type": "stream",
     "text": [
      "Extracting MNIST-data/MNIST/raw/t10k-images-idx3-ubyte.gz to MNIST-data/MNIST/raw\n",
      "Downloading http://yann.lecun.com/exdb/mnist/t10k-labels-idx1-ubyte.gz to MNIST-data/MNIST/raw/t10k-labels-idx1-ubyte.gz\n"
     ]
    },
    {
     "data": {
      "application/vnd.jupyter.widget-view+json": {
       "model_id": "502ce927c28044938afd0d840d47a81f",
       "version_major": 2,
       "version_minor": 0
      },
      "text/plain": [
       "HBox(children=(FloatProgress(value=1.0, bar_style='info', max=1.0), HTML(value='')))"
      ]
     },
     "metadata": {
      "tags": []
     },
     "output_type": "display_data"
    },
    {
     "name": "stdout",
     "output_type": "stream",
     "text": [
      "Extracting MNIST-data/MNIST/raw/t10k-labels-idx1-ubyte.gz to MNIST-data/MNIST/raw\n",
      "Processing...\n",
      "\n",
      "\n",
      "\n",
      "Done!\n"
     ]
    },
    {
     "name": "stderr",
     "output_type": "stream",
     "text": [
      "/usr/local/lib/python3.6/dist-packages/torchvision/datasets/mnist.py:469: UserWarning: The given NumPy array is not writeable, and PyTorch does not support non-writeable tensors. This means you can write to the underlying (supposedly non-writeable) NumPy array using the tensor. You may want to copy the array to protect its data or make it writeable before converting it to a tensor. This type of warning will be suppressed for the rest of this program. (Triggered internally at  /pytorch/torch/csrc/utils/tensor_numpy.cpp:141.)\n",
      "  return torch.from_numpy(parsed.astype(m[2], copy=False)).view(*s)\n"
     ]
    }
   ],
   "source": [
    "import torch\n",
    "from torchvision import datasets, transforms\n",
    "\n",
    "crop_size = 22\n",
    "\n",
    "traintransforms = []\n",
    "traintransforms.append(transforms.CenterCrop(crop_size))\n",
    "traintransforms.append(transforms.ToTensor())\n",
    "traintransforms = transforms.Compose(traintransforms)\n",
    "\n",
    "# GET THE TRAINING DATASET\n",
    "train_data = datasets.MNIST(root='MNIST-data',                        # where is the data (going to be) stored\n",
    "                            transform=traintransforms,          # transform the data from a PIL image to a tensor\n",
    "                            train=True,                               # is this training data?\n",
    "                            download=True                             # should i download it if it's not already here?\n",
    "                           )\n",
    "\n",
    "testtransforms = []\n",
    "testtransforms.append(transforms.RandomCrop(crop_size))\n",
    "testtransforms.append(transforms.ToTensor())\n",
    "testtransforms = transforms.Compose(testtransforms)\n",
    "\n",
    "# GET THE TEST DATASET\n",
    "test_data = datasets.MNIST(root='MNIST-data',\n",
    "                           transform=testtransforms,\n",
    "                           train=False,\n",
    "                          )"
   ]
  },
  {
   "cell_type": "markdown",
   "metadata": {
    "colab_type": "text",
    "id": "sXPzN3iQ9l3h"
   },
   "source": [
    "* Print some examples:"
   ]
  },
  {
   "cell_type": "code",
   "execution_count": null,
   "metadata": {
    "colab": {
     "base_uri": "https://localhost:8080/",
     "height": 513
    },
    "colab_type": "code",
    "id": "jdaNVErA9n7x",
    "outputId": "115a775e-ec23-4d74-f570-bc3c99af6000"
   },
   "outputs": [
    {
     "data": {
      "image/png": "[encoded data removed]",
      "text/plain": [
       "<Figure size 432x288 with 1 Axes>"
      ]
     },
     "metadata": {
      "needs_background": "light",
      "tags": []
     },
     "output_type": "display_data"
    },
    {
     "data": {
      "image/png": "[encoded data removed]",
      "text/plain": [
       "<Figure size 432x288 with 1 Axes>"
      ]
     },
     "metadata": {
      "needs_background": "light",
      "tags": []
     },
     "output_type": "display_data"
    }
   ],
   "source": [
    "import matplotlib.pyplot as plt\n",
    "import numpy as np\n",
    "# PRINT THEIR LENGTHS AND VISUALISE AN EXAMPLE\n",
    "x = train_data[np.random.randint(0, 300)][0]    # get the first example\n",
    "plt.imshow(x[0].numpy())\n",
    "plt.show()\n",
    "x = test_data[np.random.randint(0, 300)][0]    # get the first example\n",
    "plt.imshow(x[0].numpy())\n",
    "plt.show()"
   ]
  },
  {
   "cell_type": "markdown",
   "metadata": {
    "colab_type": "text",
    "id": "rU37KKmn9q3h"
   },
   "source": [
    "* Now, we'll seperate our training dataset into training and validation sets."
   ]
  },
  {
   "cell_type": "code",
   "execution_count": null,
   "metadata": {
    "colab": {},
    "colab_type": "code",
    "id": "VbAfqpEO-A_s"
   },
   "outputs": [],
   "source": [
    "# FURTHER SPLIT THE TRAINING INTO TRAINING AND VALIDATION\n",
    "train_data, val_data = torch.utils.data.random_split(train_data, [50000, 10000])    # split into 50K training & 10K validation"
   ]
  },
  {
   "cell_type": "markdown",
   "metadata": {
    "colab_type": "text",
    "id": "LI3juSxp-wmD"
   },
   "source": [
    "* Pass datasets to Pytorch dataloader:"
   ]
  },
  {
   "cell_type": "code",
   "execution_count": null,
   "metadata": {
    "colab": {},
    "colab_type": "code",
    "id": "vWaanIce-v-j"
   },
   "outputs": [],
   "source": [
    "batch_size = 128\n",
    "\n",
    "# MAKE TRAINING DATALOADER\n",
    "train_loader = torch.utils.data.DataLoader(\n",
    "    train_data,\n",
    "    shuffle=True,\n",
    "    batch_size=batch_size\n",
    ")\n",
    "\n",
    "# MAKE VALIDATION DATALOADER\n",
    "val_loader = torch.utils.data.DataLoader(\n",
    "    val_data,\n",
    "    shuffle=True,\n",
    "    batch_size=batch_size\n",
    ")\n",
    "\n",
    "# MAKE TEST DATALOADER\n",
    "test_loader = torch.utils.data.DataLoader(\n",
    "    test_data,\n",
    "    shuffle=True,\n",
    "    batch_size=batch_size\n",
    ")"
   ]
  },
  {
   "cell_type": "markdown",
   "metadata": {
    "colab_type": "text",
    "id": "CnJbDQg--9aB"
   },
   "source": [
    "* It's time to create dropout model !"
   ]
  },
  {
   "cell_type": "code",
   "execution_count": null,
   "metadata": {
    "colab": {},
    "colab_type": "code",
    "id": "iYK8iJcB-9E5"
   },
   "outputs": [],
   "source": [
    "import torch.nn.functional as F\n",
    "import torch.nn as nn\n",
    "\n",
    "\n",
    "class NeuralNetworkClass(torch.nn.Module):\n",
    "    def __init__(self):\n",
    "        super().__init__()    # initialise parent module\n",
    "        self.layer1 = torch.nn.Linear(crop_size*crop_size, 225)\n",
    "        self.layer2 = torch.nn.Linear(225, 100)\n",
    "        self.layer3 = torch.nn.Linear(100, 10)\n",
    "        \n",
    "    def forward(self, x):\n",
    "        x = x.view(-1, crop_size*crop_size)\n",
    "        x = self.layer1(x)\n",
    "        x = F.relu(x)\n",
    "        x = self.layer2(x)\n",
    "        x = F.relu(x)\n",
    "        x = self.layer3(x)\n",
    "        x = F.softmax(x, dim=1)\n",
    "        return x\n",
    "\n",
    "def get_n_params(model):\n",
    "    model_parameters = filter(lambda p: p.requires_grad, model.parameters())\n",
    "    n_params = sum([np.prod(p.size()) for p in model_parameters])\n",
    "    return n_params\n",
    "\n",
    "\n",
    "\n",
    "\n",
    "# This is our dropout implementation !\n",
    "class NeuralNetworkClassDropout(torch.nn.Module):\n",
    "    def __init__(self):\n",
    "        super().__init__()    # initialise parent module\n",
    "        self.layer1 = torch.nn.Linear(crop_size*crop_size, 225)\n",
    "        self.layer2 = torch.nn.Linear(225, 100)\n",
    "        self.layer3 = torch.nn.Linear(100, 10)\n",
    "        self.dropout1 = nn.Dropout(p=0.1)           # first dropout parameter\n",
    "        self.dropout2 = nn.Dropout(p=0.2)          # second dropout parameter\n",
    "\n",
    "        \n",
    "    def forward(self, x):\n",
    "        x = x.view(-1, crop_size*crop_size)\n",
    "        x = self.layer1(x)\n",
    "        x = F.relu(x)\n",
    "        x = self.dropout1(x)    # apply first dropout after the first layer\n",
    "        x = self.layer2(x)\n",
    "        x = F.relu(x)\n",
    "        x = self.dropout2(x)    # apply second dropout after the second layer\n",
    "        x = self.layer3(x)\n",
    "        x = F.softmax(x, dim=1)\n",
    "        return x\n",
    "\n",
    "def get_n_params(model):\n",
    "    model_parameters = filter(lambda p: p.requires_grad, model.parameters())\n",
    "    n_params = sum([np.prod(p.size()) for p in model_parameters])\n",
    "    return n_params\n"
   ]
  },
  {
   "cell_type": "code",
   "execution_count": null,
   "metadata": {
    "colab": {
     "base_uri": "https://localhost:8080/",
     "height": 52
    },
    "colab_type": "code",
    "id": "c4nBezZ8_duC",
    "outputId": "daa0601f-0d14-46a8-9bf7-91d2ae71bb0e"
   },
   "outputs": [
    {
     "name": "stdout",
     "output_type": "stream",
     "text": [
      "Number of parameters in non-dropout model: 132735\n",
      "Number of parameters in dropout model: 132735\n"
     ]
    }
   ],
   "source": [
    "learning_rate = 0.0005\n",
    "myNeuralNetwork = NeuralNetworkClass()\n",
    "print('Number of parameters in non-dropout model:', get_n_params(myNeuralNetwork))\n",
    "myNeuralNetworkDropout = NeuralNetworkClassDropout()\n",
    "print('Number of parameters in dropout model:', get_n_params(myNeuralNetworkDropout))\n",
    "\n",
    "# CREATE OUR OPTIMISER\n",
    "optimiser_nn = torch.optim.Adam(              # what optimiser should we use?\n",
    "    myNeuralNetwork.parameters(),          # what should it optimise?\n",
    "    lr=learning_rate                       # using what learning rate?\n",
    ")\n",
    "\n",
    "# CREATE OUR OPTIMISER\n",
    "optimiser_nnd = torch.optim.Adam(              # what optimiser should we use?\n",
    "    myNeuralNetworkDropout.parameters(),          # what should it optimise?\n",
    "    lr=learning_rate                       # using what learning rate?\n",
    ")\n",
    "\n",
    "# CREATE OUR CRITERION\n",
    "criterion = torch.nn.CrossEntropyLoss()             # callable class that compares our predictions to our labels and returns our loss\n",
    "\n",
    "# SET UP TRAINING VISUALISATION\n",
    "from torch.utils.tensorboard import SummaryWriter\n",
    "writer = SummaryWriter()                            # we will use this to show our models performance on a graph\n"
   ]
  },
  {
   "cell_type": "markdown",
   "metadata": {
    "colab_type": "text",
    "id": "S5LhlU3Jdz72"
   },
   "source": [
    "* Training part:\n",
    "\n",
    "We assign \"p\" to represent the probability of a neuron, in the hidden layer, being excluded from the network; this probability value is usually equal to 0.5. We do the same process for the input layer whose probability value is usually lower than 0.5 (e.g. 0.2). Remember, we delete the connections going into, and out of, the neuron when we drop it."
   ]
  },
  {
   "cell_type": "code",
   "execution_count": null,
   "metadata": {
    "colab": {
     "base_uri": "https://localhost:8080/",
     "height": 833
    },
    "colab_type": "code",
    "id": "I4_wTxbw_l33",
    "outputId": "7a3950c2-c4b1-4d41-88dc-a624adc0e927"
   },
   "outputs": [
    {
     "name": "stdout",
     "output_type": "stream",
     "text": [
      "Non-Dropout Model's Loss\n",
      "Epoch: 1 \tLoss: tensor(1.5254, grad_fn=<NllLossBackward>)\n",
      "Epoch: 2 \tLoss: tensor(1.5601, grad_fn=<NllLossBackward>)\n",
      "Epoch: 3 \tLoss: tensor(1.5450, grad_fn=<NllLossBackward>)\n",
      "Epoch: 4 \tLoss: tensor(1.5162, grad_fn=<NllLossBackward>)\n",
      "Epoch: 5 \tLoss: tensor(1.5012, grad_fn=<NllLossBackward>)\n",
      "Epoch: 6 \tLoss: tensor(1.5207, grad_fn=<NllLossBackward>)\n",
      "Epoch: 7 \tLoss: tensor(1.4791, grad_fn=<NllLossBackward>)\n",
      "Epoch: 8 \tLoss: tensor(1.4720, grad_fn=<NllLossBackward>)\n",
      "Epoch: 9 \tLoss: tensor(1.4847, grad_fn=<NllLossBackward>)\n",
      "Epoch: 10 \tLoss: tensor(1.4786, grad_fn=<NllLossBackward>)\n",
      "Epoch: 11 \tLoss: tensor(1.4743, grad_fn=<NllLossBackward>)\n",
      "Epoch: 12 \tLoss: tensor(1.4769, grad_fn=<NllLossBackward>)\n",
      "Epoch: 13 \tLoss: tensor(1.4893, grad_fn=<NllLossBackward>)\n",
      "Epoch: 14 \tLoss: tensor(1.4814, grad_fn=<NllLossBackward>)\n",
      "Epoch: 15 \tLoss: tensor(1.4864, grad_fn=<NllLossBackward>)\n",
      "Dropout Model's Loss\n",
      "Epoch: 1 \tLoss: tensor(1.6105, grad_fn=<NllLossBackward>)\n",
      "Epoch: 2 \tLoss: tensor(1.5642, grad_fn=<NllLossBackward>)\n",
      "Epoch: 3 \tLoss: tensor(1.5434, grad_fn=<NllLossBackward>)\n",
      "Epoch: 4 \tLoss: tensor(1.5361, grad_fn=<NllLossBackward>)\n",
      "Epoch: 5 \tLoss: tensor(1.5242, grad_fn=<NllLossBackward>)\n",
      "Epoch: 6 \tLoss: tensor(1.5107, grad_fn=<NllLossBackward>)\n",
      "Epoch: 7 \tLoss: tensor(1.5025, grad_fn=<NllLossBackward>)\n",
      "Epoch: 8 \tLoss: tensor(1.5256, grad_fn=<NllLossBackward>)\n",
      "Epoch: 9 \tLoss: tensor(1.4898, grad_fn=<NllLossBackward>)\n",
      "Epoch: 10 \tLoss: tensor(1.5165, grad_fn=<NllLossBackward>)\n",
      "Epoch: 11 \tLoss: tensor(1.4846, grad_fn=<NllLossBackward>)\n",
      "Epoch: 12 \tLoss: tensor(1.4879, grad_fn=<NllLossBackward>)\n",
      "Epoch: 13 \tLoss: tensor(1.4767, grad_fn=<NllLossBackward>)\n",
      "Epoch: 14 \tLoss: tensor(1.4795, grad_fn=<NllLossBackward>)\n",
      "Epoch: 15 \tLoss: tensor(1.4863, grad_fn=<NllLossBackward>)\n"
     ]
    },
    {
     "data": {
      "image/png": "[encoded data removed]",
      "text/plain": [
       "<Figure size 432x288 with 1 Axes>"
      ]
     },
     "metadata": {
      "needs_background": "light",
      "tags": []
     },
     "output_type": "display_data"
    }
   ],
   "source": [
    "import matplotlib.pyplot as plt\n",
    "\n",
    "# TRAINING LOOP\n",
    "def train_nn(model, epochs):\n",
    "    model.train()                                  # put the model into training mode (more on this later)\n",
    "    losses_nn = []\n",
    "    for epoch in range(epochs):\n",
    "        running_loss_nn = 0.0\n",
    "        for idx, minibatch in enumerate(train_loader):\n",
    "            inputs, labels = minibatch\n",
    "            prediction = model(inputs)             # pass the data forward through the model\n",
    "            loss = criterion(prediction, labels)   # compute the loss\n",
    "            optimiser_nn.zero_grad()                  # reset the gradients attribute of each of the model's params to zero\n",
    "            loss.backward()                        # backward pass to compute and set all of the model param's gradients\n",
    "            optimiser_nn.step()                       # update the model's parameters\n",
    "            writer.add_scalar('Loss/Train', loss, epoch*len(train_loader) + idx)    # write loss to a graph\n",
    "            running_loss_nn += loss.item() * inputs.size(0)\n",
    "        print('Epoch:', epoch+1, '\\tLoss:', loss)\n",
    "        epoch_loss_nn = running_loss_nn / len(train_loader)\n",
    "        losses_nn.append(epoch_loss_nn) \n",
    "    plt.plot(losses_nn, 'r-', label='Non-Dropout Red')\n",
    "    #plt.legend()\n",
    "    #plt.show()\n",
    "\n",
    "# TRAINING LOOP\n",
    "def train_nnd(model, epochs):\n",
    "    model.train()                                  # put the model into training mode (more on this later)\n",
    "    losses_nnd = []\n",
    "    for epoch in range(epochs):\n",
    "        running_loss_nnd = 0.0\n",
    "        for idx, minibatch in enumerate(train_loader):\n",
    "            inputs, labels = minibatch\n",
    "            prediction = model(inputs)             # pass the data forward through the model\n",
    "            loss = criterion(prediction, labels)   # compute the loss\n",
    "            optimiser_nnd.zero_grad()                  # reset the gradients attribute of each of the model's params to zero\n",
    "            loss.backward()                        # backward pass to compute and set all of the model param's gradients\n",
    "            optimiser_nnd.step()                       # update the model's parameters\n",
    "            writer.add_scalar('Loss/Train', loss, epoch*len(train_loader) + idx)    # write loss to a graph\n",
    "            running_loss_nnd += loss.item() * inputs.size(0)\n",
    "        print('Epoch:', epoch+1, '\\tLoss:', loss)    \n",
    "        epoch_loss_nnd = running_loss_nnd / len(train_loader)\n",
    "        losses_nnd.append(epoch_loss_nnd) \n",
    "    plt.plot(losses_nnd, 'b-', label='Dropout Blue')\n",
    "    plt.legend()\n",
    "    plt.show()\n",
    "            \n",
    "print(\"Non-Dropout Model's Loss\")\n",
    "train_nn(myNeuralNetwork, 15)\n",
    "print(\"Dropout Model's Loss\")           \n",
    "train_nnd(myNeuralNetworkDropout, 15)"
   ]
  },
  {
   "cell_type": "markdown",
   "metadata": {
    "colab_type": "text",
    "id": "W8IfN5_D_pJ_"
   },
   "source": [
    "* Evaluate our two models:"
   ]
  },
  {
   "cell_type": "code",
   "execution_count": null,
   "metadata": {
    "colab": {
     "base_uri": "https://localhost:8080/",
     "height": 176
    },
    "colab_type": "code",
    "id": "hm68nUMR_ogn",
    "outputId": "7a4a4405-e0b4-4f9c-ef40-5b82249b2c88"
   },
   "outputs": [
    {
     "name": "stdout",
     "output_type": "stream",
     "text": [
      "Non-Dropout Model's Evaluation:\n",
      "Train Accuracy: 98.378\n",
      "Validation Accuracy: 97.11999999999999\n",
      "Test Accuracy: 57.3\n",
      "\n",
      "Dropout Model's Evaluation:\n",
      "Train Accuracy: 98.076\n",
      "Validation Accuracy: 96.82\n",
      "Test Accuracy: 58.730000000000004\n"
     ]
    }
   ],
   "source": [
    "def calc_accuracy(model, dataloader):\n",
    "    num_correct = 0\n",
    "    num_examples = len(dataloader.dataset)                       # test DATA not test LOADER\n",
    "    for inputs, labels in dataloader:                  # for all exampls, over all mini-batches in the test dataset\n",
    "        predictions = model(inputs)\n",
    "        predictions = torch.max(predictions, axis=1)    # reduce to find max indices along direction which column varies\n",
    "        predictions = predictions[1]                    # torch.max returns (values, indices)\n",
    "        num_correct += int(sum(predictions == labels))\n",
    "    percent_correct = num_correct / num_examples * 100\n",
    "    return percent_correct\n",
    "\n",
    "print(\"Non-Dropout Model's Evaluation:\")\n",
    "print('Train Accuracy:', calc_accuracy(myNeuralNetwork, train_loader))\n",
    "print('Validation Accuracy:', calc_accuracy(myNeuralNetwork, val_loader))\n",
    "print('Test Accuracy:', calc_accuracy(myNeuralNetwork, test_loader))\n",
    "\n",
    "print(\"\\nDropout Model's Evaluation:\")\n",
    "print('Train Accuracy:', calc_accuracy(myNeuralNetworkDropout, train_loader))\n",
    "print('Validation Accuracy:', calc_accuracy(myNeuralNetworkDropout, val_loader))\n",
    "print('Test Accuracy:', calc_accuracy(myNeuralNetworkDropout, test_loader))\n"
   ]
  },
  {
   "cell_type": "markdown",
   "metadata": {
    "colab_type": "text",
    "id": "zXXhGic2HyYb"
   },
   "source": [
    "### 4. Visualizing the difference between a non-dropout and dropout implemented nn\n"
   ]
  },
  {
   "cell_type": "markdown",
   "metadata": {
    "colab_type": "text",
    "id": "hO4vX-NGZkuf"
   },
   "source": [
    "![diff.png](images/diff.png)"
   ]
  },
  {
   "cell_type": "markdown",
   "metadata": {
    "colab_type": "text",
    "id": "JtLxAls2JrLn"
   },
   "source": [
    "As we see above, our model's loss curves are converged. They perform very good on training data, but it is poor on test data. So that means, we have a overfitting problem.\n",
    "\n",
    "We tried a dropout model and saw that test accuracy increased."
   ]
  },
  {
   "cell_type": "markdown",
   "metadata": {
    "colab_type": "text",
    "id": "iSM_9Y0JehuV"
   },
   "source": [
    "* Non-Dropout Model Test Accuracy: 57.3\n",
    "* Dropout Model Test Accuracy: 58.73"
   ]
  },
  {
   "cell_type": "markdown",
   "metadata": {
    "colab_type": "text",
    "id": "SV25hg2NdaWu"
   },
   "source": [
    "**What to do while testing?**\n",
    "\n",
    "An output, given from a model trained using the dropout technique, is a bit different: We can take a sample of many dropped-out models and compute the geometric mean of their output neurons by multiplying all the numbers together and taking the product’s square root. However, since this is computationally expensive, we use the original model instead by simply cutting all of the hidden units’ weights in half. This will give us a good approximation of the average for each of the different dropped-out models."
   ]
  },
  {
   "cell_type": "markdown",
   "metadata": {
    "colab_type": "text",
    "id": "aSYOGP4bBy4B"
   },
   "source": [
    "### 5. Summary\n",
    "\n",
    "* Dropout means turning off some neurons in our network based on probability.\n",
    "* Dropout helps us to prevent overfitting.\n",
    "* Dropout follows the bagging algorithm. The training set encountered by each sub-network is indeed a subset of the original training set sampled with replacement. This is the similarity between ensemble models and dropout method.\n"
   ]
  },
  {
   "cell_type": "markdown",
   "metadata": {
    "colab_type": "text",
    "id": "QBQ_028yBy4C"
   },
   "source": [
    "### 6. What to do next?\n",
    "* Try to change the dropout parameters and see its effect on training loss and accuracy\n",
    "* Try to combine dropout with other regularization methods and compare model's performances\n",
    "* What is the ideal dropout probability rate for different layers? How to choose it? Do some research on the internet, check out the papers and articles."
   ]
  }
 ],
 "metadata": {
  "accelerator": "GPU",
  "colab": {
   "collapsed_sections": [],
   "name": "Dropout.ipynb",
   "provenance": []
  },
  "kernelspec": {
   "display_name": "Python 3",
   "language": "python",
   "name": "python3"
  },
  "language_info": {
   "codemirror_mode": {
    "name": "ipython",
    "version": 3
   },
   "file_extension": ".py",
   "mimetype": "text/x-python",
   "name": "python",
   "nbconvert_exporter": "python",
   "pygments_lexer": "ipython3",
   "version": "3.5.2"
  },
  "widgets": {
   "application/vnd.jupyter.widget-state+json": {
    "06b60dddef2948f49e74cbc1f11253f0": {
     "model_module": "@jupyter-widgets/controls",
     "model_name": "FloatProgressModel",
     "state": {
      "_dom_classes": [],
      "_model_module": "@jupyter-widgets/controls",
      "_model_module_version": "1.5.0",
      "_model_name": "FloatProgressModel",
      "_view_count": null,
      "_view_module": "@jupyter-widgets/controls",
      "_view_module_version": "1.5.0",
      "_view_name": "ProgressView",
      "bar_style": "success",
      "description": "",
      "description_tooltip": null,
      "layout": "IPY_MODEL_e9d61056dc8346a5b36ffeb950297293",
      "max": 1,
      "min": 0,
      "orientation": "horizontal",
      "style": "IPY_MODEL_afa0d1da46284f6bb913effaf51bac89",
      "value": 1
     }
    },
    "0df704abf4614a1cb603a5324c359e5f": {
     "model_module": "@jupyter-widgets/controls",
     "model_name": "ProgressStyleModel",
     "state": {
      "_model_module": "@jupyter-widgets/controls",
      "_model_module_version": "1.5.0",
      "_model_name": "ProgressStyleModel",
      "_view_count": null,
      "_view_module": "@jupyter-widgets/base",
      "_view_module_version": "1.2.0",
      "_view_name": "StyleView",
      "bar_color": null,
      "description_width": "initial"
     }
    },
    "126775b8fae648c59ba00aad1e4cb5d5": {
     "model_module": "@jupyter-widgets/base",
     "model_name": "LayoutModel",
     "state": {
      "_model_module": "@jupyter-widgets/base",
      "_model_module_version": "1.2.0",
      "_model_name": "LayoutModel",
      "_view_count": null,
      "_view_module": "@jupyter-widgets/base",
      "_view_module_version": "1.2.0",
      "_view_name": "LayoutView",
      "align_content": null,
      "align_items": null,
      "align_self": null,
      "border": null,
      "bottom": null,
      "display": null,
      "flex": null,
      "flex_flow": null,
      "grid_area": null,
      "grid_auto_columns": null,
      "grid_auto_flow": null,
      "grid_auto_rows": null,
      "grid_column": null,
      "grid_gap": null,
      "grid_row": null,
      "grid_template_areas": null,
      "grid_template_columns": null,
      "grid_template_rows": null,
      "height": null,
      "justify_content": null,
      "justify_items": null,
      "left": null,
      "margin": null,
      "max_height": null,
      "max_width": null,
      "min_height": null,
      "min_width": null,
      "object_fit": null,
      "object_position": null,
      "order": null,
      "overflow": null,
      "overflow_x": null,
      "overflow_y": null,
      "padding": null,
      "right": null,
      "top": null,
      "visibility": null,
      "width": null
     }
    },
    "25b6fdbf84ff464080b5c4c0181c69e2": {
     "model_module": "@jupyter-widgets/base",
     "model_name": "LayoutModel",
     "state": {
      "_model_module": "@jupyter-widgets/base",
      "_model_module_version": "1.2.0",
      "_model_name": "LayoutModel",
      "_view_count": null,
      "_view_module": "@jupyter-widgets/base",
      "_view_module_version": "1.2.0",
      "_view_name": "LayoutView",
      "align_content": null,
      "align_items": null,
      "align_self": null,
      "border": null,
      "bottom": null,
      "display": null,
      "flex": null,
      "flex_flow": null,
      "grid_area": null,
      "grid_auto_columns": null,
      "grid_auto_flow": null,
      "grid_auto_rows": null,
      "grid_column": null,
      "grid_gap": null,
      "grid_row": null,
      "grid_template_areas": null,
      "grid_template_columns": null,
      "grid_template_rows": null,
      "height": null,
      "justify_content": null,
      "justify_items": null,
      "left": null,
      "margin": null,
      "max_height": null,
      "max_width": null,
      "min_height": null,
      "min_width": null,
      "object_fit": null,
      "object_position": null,
      "order": null,
      "overflow": null,
      "overflow_x": null,
      "overflow_y": null,
      "padding": null,
      "right": null,
      "top": null,
      "visibility": null,
      "width": null
     }
    },
    "2a6a0bbd800949b986ec21171d7f904c": {
     "model_module": "@jupyter-widgets/controls",
     "model_name": "ProgressStyleModel",
     "state": {
      "_model_module": "@jupyter-widgets/controls",
      "_model_module_version": "1.5.0",
      "_model_name": "ProgressStyleModel",
      "_view_count": null,
      "_view_module": "@jupyter-widgets/base",
      "_view_module_version": "1.2.0",
      "_view_name": "StyleView",
      "bar_color": null,
      "description_width": "initial"
     }
    },
    "2deab1e3d09d489dbfb3dd63d2bd65c9": {
     "model_module": "@jupyter-widgets/controls",
     "model_name": "HTMLModel",
     "state": {
      "_dom_classes": [],
      "_model_module": "@jupyter-widgets/controls",
      "_model_module_version": "1.5.0",
      "_model_name": "HTMLModel",
      "_view_count": null,
      "_view_module": "@jupyter-widgets/controls",
      "_view_module_version": "1.5.0",
      "_view_name": "HTMLView",
      "description": "",
      "description_tooltip": null,
      "layout": "IPY_MODEL_126775b8fae648c59ba00aad1e4cb5d5",
      "placeholder": "​",
      "style": "IPY_MODEL_a94dc720e84843389c6e71c24ee38c5f",
      "value": " 1654784/? [00:00&lt;00:00, 1685388.83it/s]"
     }
    },
    "41c61bd5888046f2a05ec2b3c82a8828": {
     "model_module": "@jupyter-widgets/controls",
     "model_name": "HBoxModel",
     "state": {
      "_dom_classes": [],
      "_model_module": "@jupyter-widgets/controls",
      "_model_module_version": "1.5.0",
      "_model_name": "HBoxModel",
      "_view_count": null,
      "_view_module": "@jupyter-widgets/controls",
      "_view_module_version": "1.5.0",
      "_view_name": "HBoxView",
      "box_style": "",
      "children": [
       "IPY_MODEL_76d880ec0a6843fca59a84ec3bce6115",
       "IPY_MODEL_7a6e287aea1e4680a9955ecf56822f73"
      ],
      "layout": "IPY_MODEL_ad9c59b3ad1d4c6db277aca2d5ae472b"
     }
    },
    "4df0c76fec3f41a88243cad4e97f364f": {
     "model_module": "@jupyter-widgets/controls",
     "model_name": "DescriptionStyleModel",
     "state": {
      "_model_module": "@jupyter-widgets/controls",
      "_model_module_version": "1.5.0",
      "_model_name": "DescriptionStyleModel",
      "_view_count": null,
      "_view_module": "@jupyter-widgets/base",
      "_view_module_version": "1.2.0",
      "_view_name": "StyleView",
      "description_width": ""
     }
    },
    "502ce927c28044938afd0d840d47a81f": {
     "model_module": "@jupyter-widgets/controls",
     "model_name": "HBoxModel",
     "state": {
      "_dom_classes": [],
      "_model_module": "@jupyter-widgets/controls",
      "_model_module_version": "1.5.0",
      "_model_name": "HBoxModel",
      "_view_count": null,
      "_view_module": "@jupyter-widgets/controls",
      "_view_module_version": "1.5.0",
      "_view_name": "HBoxView",
      "box_style": "",
      "children": [
       "IPY_MODEL_7204a3eaece849db97c1504298861a82",
       "IPY_MODEL_6946008cae8b44cfbc087e753214d067"
      ],
      "layout": "IPY_MODEL_707f19e596dc4f3ebb2d522e9125adea"
     }
    },
    "5a46338acc4043369fb5f3670f9b11c5": {
     "model_module": "@jupyter-widgets/base",
     "model_name": "LayoutModel",
     "state": {
      "_model_module": "@jupyter-widgets/base",
      "_model_module_version": "1.2.0",
      "_model_name": "LayoutModel",
      "_view_count": null,
      "_view_module": "@jupyter-widgets/base",
      "_view_module_version": "1.2.0",
      "_view_name": "LayoutView",
      "align_content": null,
      "align_items": null,
      "align_self": null,
      "border": null,
      "bottom": null,
      "display": null,
      "flex": null,
      "flex_flow": null,
      "grid_area": null,
      "grid_auto_columns": null,
      "grid_auto_flow": null,
      "grid_auto_rows": null,
      "grid_column": null,
      "grid_gap": null,
      "grid_row": null,
      "grid_template_areas": null,
      "grid_template_columns": null,
      "grid_template_rows": null,
      "height": null,
      "justify_content": null,
      "justify_items": null,
      "left": null,
      "margin": null,
      "max_height": null,
      "max_width": null,
      "min_height": null,
      "min_width": null,
      "object_fit": null,
      "object_position": null,
      "order": null,
      "overflow": null,
      "overflow_x": null,
      "overflow_y": null,
      "padding": null,
      "right": null,
      "top": null,
      "visibility": null,
      "width": null
     }
    },
    "684a9855c2e649bf917bcf30751178ac": {
     "model_module": "@jupyter-widgets/base",
     "model_name": "LayoutModel",
     "state": {
      "_model_module": "@jupyter-widgets/base",
      "_model_module_version": "1.2.0",
      "_model_name": "LayoutModel",
      "_view_count": null,
      "_view_module": "@jupyter-widgets/base",
      "_view_module_version": "1.2.0",
      "_view_name": "LayoutView",
      "align_content": null,
      "align_items": null,
      "align_self": null,
      "border": null,
      "bottom": null,
      "display": null,
      "flex": null,
      "flex_flow": null,
      "grid_area": null,
      "grid_auto_columns": null,
      "grid_auto_flow": null,
      "grid_auto_rows": null,
      "grid_column": null,
      "grid_gap": null,
      "grid_row": null,
      "grid_template_areas": null,
      "grid_template_columns": null,
      "grid_template_rows": null,
      "height": null,
      "justify_content": null,
      "justify_items": null,
      "left": null,
      "margin": null,
      "max_height": null,
      "max_width": null,
      "min_height": null,
      "min_width": null,
      "object_fit": null,
      "object_position": null,
      "order": null,
      "overflow": null,
      "overflow_x": null,
      "overflow_y": null,
      "padding": null,
      "right": null,
      "top": null,
      "visibility": null,
      "width": null
     }
    },
    "6946008cae8b44cfbc087e753214d067": {
     "model_module": "@jupyter-widgets/controls",
     "model_name": "HTMLModel",
     "state": {
      "_dom_classes": [],
      "_model_module": "@jupyter-widgets/controls",
      "_model_module_version": "1.5.0",
      "_model_name": "HTMLModel",
      "_view_count": null,
      "_view_module": "@jupyter-widgets/controls",
      "_view_module_version": "1.5.0",
      "_view_name": "HTMLView",
      "description": "",
      "description_tooltip": null,
      "layout": "IPY_MODEL_d54bfbbcde83421c9cc52a59a9420fda",
      "placeholder": "​",
      "style": "IPY_MODEL_6e46c730a1ec4802843ed8ec3f65b911",
      "value": " 8192/? [00:00&lt;00:00, 33836.79it/s]"
     }
    },
    "6e46c730a1ec4802843ed8ec3f65b911": {
     "model_module": "@jupyter-widgets/controls",
     "model_name": "DescriptionStyleModel",
     "state": {
      "_model_module": "@jupyter-widgets/controls",
      "_model_module_version": "1.5.0",
      "_model_name": "DescriptionStyleModel",
      "_view_count": null,
      "_view_module": "@jupyter-widgets/base",
      "_view_module_version": "1.2.0",
      "_view_name": "StyleView",
      "description_width": ""
     }
    },
    "707f19e596dc4f3ebb2d522e9125adea": {
     "model_module": "@jupyter-widgets/base",
     "model_name": "LayoutModel",
     "state": {
      "_model_module": "@jupyter-widgets/base",
      "_model_module_version": "1.2.0",
      "_model_name": "LayoutModel",
      "_view_count": null,
      "_view_module": "@jupyter-widgets/base",
      "_view_module_version": "1.2.0",
      "_view_name": "LayoutView",
      "align_content": null,
      "align_items": null,
      "align_self": null,
      "border": null,
      "bottom": null,
      "display": null,
      "flex": null,
      "flex_flow": null,
      "grid_area": null,
      "grid_auto_columns": null,
      "grid_auto_flow": null,
      "grid_auto_rows": null,
      "grid_column": null,
      "grid_gap": null,
      "grid_row": null,
      "grid_template_areas": null,
      "grid_template_columns": null,
      "grid_template_rows": null,
      "height": null,
      "justify_content": null,
      "justify_items": null,
      "left": null,
      "margin": null,
      "max_height": null,
      "max_width": null,
      "min_height": null,
      "min_width": null,
      "object_fit": null,
      "object_position": null,
      "order": null,
      "overflow": null,
      "overflow_x": null,
      "overflow_y": null,
      "padding": null,
      "right": null,
      "top": null,
      "visibility": null,
      "width": null
     }
    },
    "7204a3eaece849db97c1504298861a82": {
     "model_module": "@jupyter-widgets/controls",
     "model_name": "FloatProgressModel",
     "state": {
      "_dom_classes": [],
      "_model_module": "@jupyter-widgets/controls",
      "_model_module_version": "1.5.0",
      "_model_name": "FloatProgressModel",
      "_view_count": null,
      "_view_module": "@jupyter-widgets/controls",
      "_view_module_version": "1.5.0",
      "_view_name": "ProgressView",
      "bar_style": "success",
      "description": "",
      "description_tooltip": null,
      "layout": "IPY_MODEL_f3ec33ef1bb64d3e80da55e99b4233f4",
      "max": 1,
      "min": 0,
      "orientation": "horizontal",
      "style": "IPY_MODEL_0df704abf4614a1cb603a5324c359e5f",
      "value": 1
     }
    },
    "76d880ec0a6843fca59a84ec3bce6115": {
     "model_module": "@jupyter-widgets/controls",
     "model_name": "FloatProgressModel",
     "state": {
      "_dom_classes": [],
      "_model_module": "@jupyter-widgets/controls",
      "_model_module_version": "1.5.0",
      "_model_name": "FloatProgressModel",
      "_view_count": null,
      "_view_module": "@jupyter-widgets/controls",
      "_view_module_version": "1.5.0",
      "_view_name": "ProgressView",
      "bar_style": "success",
      "description": "",
      "description_tooltip": null,
      "layout": "IPY_MODEL_5a46338acc4043369fb5f3670f9b11c5",
      "max": 1,
      "min": 0,
      "orientation": "horizontal",
      "style": "IPY_MODEL_cbf00ae472d240fa93e7d2a4c1a24b5c",
      "value": 1
     }
    },
    "7a6e287aea1e4680a9955ecf56822f73": {
     "model_module": "@jupyter-widgets/controls",
     "model_name": "HTMLModel",
     "state": {
      "_dom_classes": [],
      "_model_module": "@jupyter-widgets/controls",
      "_model_module_version": "1.5.0",
      "_model_name": "HTMLModel",
      "_view_count": null,
      "_view_module": "@jupyter-widgets/controls",
      "_view_module_version": "1.5.0",
      "_view_name": "HTMLView",
      "description": "",
      "description_tooltip": null,
      "layout": "IPY_MODEL_684a9855c2e649bf917bcf30751178ac",
      "placeholder": "​",
      "style": "IPY_MODEL_4df0c76fec3f41a88243cad4e97f364f",
      "value": " 32768/? [00:01&lt;00:00, 25892.42it/s]"
     }
    },
    "84535cde05b04c6b8127c7cf7e5afe93": {
     "model_module": "@jupyter-widgets/controls",
     "model_name": "HBoxModel",
     "state": {
      "_dom_classes": [],
      "_model_module": "@jupyter-widgets/controls",
      "_model_module_version": "1.5.0",
      "_model_name": "HBoxModel",
      "_view_count": null,
      "_view_module": "@jupyter-widgets/controls",
      "_view_module_version": "1.5.0",
      "_view_name": "HBoxView",
      "box_style": "",
      "children": [
       "IPY_MODEL_a35b3a561413406bb13f779cdca333b3",
       "IPY_MODEL_b5a8de85507b4a1cab0503c1fdca7bea"
      ],
      "layout": "IPY_MODEL_99b619d99a8246b78b82a351f7195270"
     }
    },
    "97d314647ef84591909e7fab042315e0": {
     "model_module": "@jupyter-widgets/base",
     "model_name": "LayoutModel",
     "state": {
      "_model_module": "@jupyter-widgets/base",
      "_model_module_version": "1.2.0",
      "_model_name": "LayoutModel",
      "_view_count": null,
      "_view_module": "@jupyter-widgets/base",
      "_view_module_version": "1.2.0",
      "_view_name": "LayoutView",
      "align_content": null,
      "align_items": null,
      "align_self": null,
      "border": null,
      "bottom": null,
      "display": null,
      "flex": null,
      "flex_flow": null,
      "grid_area": null,
      "grid_auto_columns": null,
      "grid_auto_flow": null,
      "grid_auto_rows": null,
      "grid_column": null,
      "grid_gap": null,
      "grid_row": null,
      "grid_template_areas": null,
      "grid_template_columns": null,
      "grid_template_rows": null,
      "height": null,
      "justify_content": null,
      "justify_items": null,
      "left": null,
      "margin": null,
      "max_height": null,
      "max_width": null,
      "min_height": null,
      "min_width": null,
      "object_fit": null,
      "object_position": null,
      "order": null,
      "overflow": null,
      "overflow_x": null,
      "overflow_y": null,
      "padding": null,
      "right": null,
      "top": null,
      "visibility": null,
      "width": null
     }
    },
    "99b619d99a8246b78b82a351f7195270": {
     "model_module": "@jupyter-widgets/base",
     "model_name": "LayoutModel",
     "state": {
      "_model_module": "@jupyter-widgets/base",
      "_model_module_version": "1.2.0",
      "_model_name": "LayoutModel",
      "_view_count": null,
      "_view_module": "@jupyter-widgets/base",
      "_view_module_version": "1.2.0",
      "_view_name": "LayoutView",
      "align_content": null,
      "align_items": null,
      "align_self": null,
      "border": null,
      "bottom": null,
      "display": null,
      "flex": null,
      "flex_flow": null,
      "grid_area": null,
      "grid_auto_columns": null,
      "grid_auto_flow": null,
      "grid_auto_rows": null,
      "grid_column": null,
      "grid_gap": null,
      "grid_row": null,
      "grid_template_areas": null,
      "grid_template_columns": null,
      "grid_template_rows": null,
      "height": null,
      "justify_content": null,
      "justify_items": null,
      "left": null,
      "margin": null,
      "max_height": null,
      "max_width": null,
      "min_height": null,
      "min_width": null,
      "object_fit": null,
      "object_position": null,
      "order": null,
      "overflow": null,
      "overflow_x": null,
      "overflow_y": null,
      "padding": null,
      "right": null,
      "top": null,
      "visibility": null,
      "width": null
     }
    },
    "a35b3a561413406bb13f779cdca333b3": {
     "model_module": "@jupyter-widgets/controls",
     "model_name": "FloatProgressModel",
     "state": {
      "_dom_classes": [],
      "_model_module": "@jupyter-widgets/controls",
      "_model_module_version": "1.5.0",
      "_model_name": "FloatProgressModel",
      "_view_count": null,
      "_view_module": "@jupyter-widgets/controls",
      "_view_module_version": "1.5.0",
      "_view_name": "ProgressView",
      "bar_style": "info",
      "description": "",
      "description_tooltip": null,
      "layout": "IPY_MODEL_d6a64d4565144930b5f758999e7222fa",
      "max": 1,
      "min": 0,
      "orientation": "horizontal",
      "style": "IPY_MODEL_2a6a0bbd800949b986ec21171d7f904c",
      "value": 1
     }
    },
    "a94dc720e84843389c6e71c24ee38c5f": {
     "model_module": "@jupyter-widgets/controls",
     "model_name": "DescriptionStyleModel",
     "state": {
      "_model_module": "@jupyter-widgets/controls",
      "_model_module_version": "1.5.0",
      "_model_name": "DescriptionStyleModel",
      "_view_count": null,
      "_view_module": "@jupyter-widgets/base",
      "_view_module_version": "1.2.0",
      "_view_name": "StyleView",
      "description_width": ""
     }
    },
    "ad9c59b3ad1d4c6db277aca2d5ae472b": {
     "model_module": "@jupyter-widgets/base",
     "model_name": "LayoutModel",
     "state": {
      "_model_module": "@jupyter-widgets/base",
      "_model_module_version": "1.2.0",
      "_model_name": "LayoutModel",
      "_view_count": null,
      "_view_module": "@jupyter-widgets/base",
      "_view_module_version": "1.2.0",
      "_view_name": "LayoutView",
      "align_content": null,
      "align_items": null,
      "align_self": null,
      "border": null,
      "bottom": null,
      "display": null,
      "flex": null,
      "flex_flow": null,
      "grid_area": null,
      "grid_auto_columns": null,
      "grid_auto_flow": null,
      "grid_auto_rows": null,
      "grid_column": null,
      "grid_gap": null,
      "grid_row": null,
      "grid_template_areas": null,
      "grid_template_columns": null,
      "grid_template_rows": null,
      "height": null,
      "justify_content": null,
      "justify_items": null,
      "left": null,
      "margin": null,
      "max_height": null,
      "max_width": null,
      "min_height": null,
      "min_width": null,
      "object_fit": null,
      "object_position": null,
      "order": null,
      "overflow": null,
      "overflow_x": null,
      "overflow_y": null,
      "padding": null,
      "right": null,
      "top": null,
      "visibility": null,
      "width": null
     }
    },
    "afa0d1da46284f6bb913effaf51bac89": {
     "model_module": "@jupyter-widgets/controls",
     "model_name": "ProgressStyleModel",
     "state": {
      "_model_module": "@jupyter-widgets/controls",
      "_model_module_version": "1.5.0",
      "_model_name": "ProgressStyleModel",
      "_view_count": null,
      "_view_module": "@jupyter-widgets/base",
      "_view_module_version": "1.2.0",
      "_view_name": "StyleView",
      "bar_color": null,
      "description_width": "initial"
     }
    },
    "b5a8de85507b4a1cab0503c1fdca7bea": {
     "model_module": "@jupyter-widgets/controls",
     "model_name": "HTMLModel",
     "state": {
      "_dom_classes": [],
      "_model_module": "@jupyter-widgets/controls",
      "_model_module_version": "1.5.0",
      "_model_name": "HTMLModel",
      "_view_count": null,
      "_view_module": "@jupyter-widgets/controls",
      "_view_module_version": "1.5.0",
      "_view_name": "HTMLView",
      "description": "",
      "description_tooltip": null,
      "layout": "IPY_MODEL_25b6fdbf84ff464080b5c4c0181c69e2",
      "placeholder": "​",
      "style": "IPY_MODEL_ecce4752525645a8b8cf7b8a29bd651e",
      "value": " 9920512/? [00:20&lt;00:00, 1843984.53it/s]"
     }
    },
    "cbf00ae472d240fa93e7d2a4c1a24b5c": {
     "model_module": "@jupyter-widgets/controls",
     "model_name": "ProgressStyleModel",
     "state": {
      "_model_module": "@jupyter-widgets/controls",
      "_model_module_version": "1.5.0",
      "_model_name": "ProgressStyleModel",
      "_view_count": null,
      "_view_module": "@jupyter-widgets/base",
      "_view_module_version": "1.2.0",
      "_view_name": "StyleView",
      "bar_color": null,
      "description_width": "initial"
     }
    },
    "d54bfbbcde83421c9cc52a59a9420fda": {
     "model_module": "@jupyter-widgets/base",
     "model_name": "LayoutModel",
     "state": {
      "_model_module": "@jupyter-widgets/base",
      "_model_module_version": "1.2.0",
      "_model_name": "LayoutModel",
      "_view_count": null,
      "_view_module": "@jupyter-widgets/base",
      "_view_module_version": "1.2.0",
      "_view_name": "LayoutView",
      "align_content": null,
      "align_items": null,
      "align_self": null,
      "border": null,
      "bottom": null,
      "display": null,
      "flex": null,
      "flex_flow": null,
      "grid_area": null,
      "grid_auto_columns": null,
      "grid_auto_flow": null,
      "grid_auto_rows": null,
      "grid_column": null,
      "grid_gap": null,
      "grid_row": null,
      "grid_template_areas": null,
      "grid_template_columns": null,
      "grid_template_rows": null,
      "height": null,
      "justify_content": null,
      "justify_items": null,
      "left": null,
      "margin": null,
      "max_height": null,
      "max_width": null,
      "min_height": null,
      "min_width": null,
      "object_fit": null,
      "object_position": null,
      "order": null,
      "overflow": null,
      "overflow_x": null,
      "overflow_y": null,
      "padding": null,
      "right": null,
      "top": null,
      "visibility": null,
      "width": null
     }
    },
    "d6a64d4565144930b5f758999e7222fa": {
     "model_module": "@jupyter-widgets/base",
     "model_name": "LayoutModel",
     "state": {
      "_model_module": "@jupyter-widgets/base",
      "_model_module_version": "1.2.0",
      "_model_name": "LayoutModel",
      "_view_count": null,
      "_view_module": "@jupyter-widgets/base",
      "_view_module_version": "1.2.0",
      "_view_name": "LayoutView",
      "align_content": null,
      "align_items": null,
      "align_self": null,
      "border": null,
      "bottom": null,
      "display": null,
      "flex": null,
      "flex_flow": null,
      "grid_area": null,
      "grid_auto_columns": null,
      "grid_auto_flow": null,
      "grid_auto_rows": null,
      "grid_column": null,
      "grid_gap": null,
      "grid_row": null,
      "grid_template_areas": null,
      "grid_template_columns": null,
      "grid_template_rows": null,
      "height": null,
      "justify_content": null,
      "justify_items": null,
      "left": null,
      "margin": null,
      "max_height": null,
      "max_width": null,
      "min_height": null,
      "min_width": null,
      "object_fit": null,
      "object_position": null,
      "order": null,
      "overflow": null,
      "overflow_x": null,
      "overflow_y": null,
      "padding": null,
      "right": null,
      "top": null,
      "visibility": null,
      "width": null
     }
    },
    "e9d61056dc8346a5b36ffeb950297293": {
     "model_module": "@jupyter-widgets/base",
     "model_name": "LayoutModel",
     "state": {
      "_model_module": "@jupyter-widgets/base",
      "_model_module_version": "1.2.0",
      "_model_name": "LayoutModel",
      "_view_count": null,
      "_view_module": "@jupyter-widgets/base",
      "_view_module_version": "1.2.0",
      "_view_name": "LayoutView",
      "align_content": null,
      "align_items": null,
      "align_self": null,
      "border": null,
      "bottom": null,
      "display": null,
      "flex": null,
      "flex_flow": null,
      "grid_area": null,
      "grid_auto_columns": null,
      "grid_auto_flow": null,
      "grid_auto_rows": null,
      "grid_column": null,
      "grid_gap": null,
      "grid_row": null,
      "grid_template_areas": null,
      "grid_template_columns": null,
      "grid_template_rows": null,
      "height": null,
      "justify_content": null,
      "justify_items": null,
      "left": null,
      "margin": null,
      "max_height": null,
      "max_width": null,
      "min_height": null,
      "min_width": null,
      "object_fit": null,
      "object_position": null,
      "order": null,
      "overflow": null,
      "overflow_x": null,
      "overflow_y": null,
      "padding": null,
      "right": null,
      "top": null,
      "visibility": null,
      "width": null
     }
    },
    "ecce4752525645a8b8cf7b8a29bd651e": {
     "model_module": "@jupyter-widgets/controls",
     "model_name": "DescriptionStyleModel",
     "state": {
      "_model_module": "@jupyter-widgets/controls",
      "_model_module_version": "1.5.0",
      "_model_name": "DescriptionStyleModel",
      "_view_count": null,
      "_view_module": "@jupyter-widgets/base",
      "_view_module_version": "1.2.0",
      "_view_name": "StyleView",
      "description_width": ""
     }
    },
    "f3ec33ef1bb64d3e80da55e99b4233f4": {
     "model_module": "@jupyter-widgets/base",
     "model_name": "LayoutModel",
     "state": {
      "_model_module": "@jupyter-widgets/base",
      "_model_module_version": "1.2.0",
      "_model_name": "LayoutModel",
      "_view_count": null,
      "_view_module": "@jupyter-widgets/base",
      "_view_module_version": "1.2.0",
      "_view_name": "LayoutView",
      "align_content": null,
      "align_items": null,
      "align_self": null,
      "border": null,
      "bottom": null,
      "display": null,
      "flex": null,
      "flex_flow": null,
      "grid_area": null,
      "grid_auto_columns": null,
      "grid_auto_flow": null,
      "grid_auto_rows": null,
      "grid_column": null,
      "grid_gap": null,
      "grid_row": null,
      "grid_template_areas": null,
      "grid_template_columns": null,
      "grid_template_rows": null,
      "height": null,
      "justify_content": null,
      "justify_items": null,
      "left": null,
      "margin": null,
      "max_height": null,
      "max_width": null,
      "min_height": null,
      "min_width": null,
      "object_fit": null,
      "object_position": null,
      "order": null,
      "overflow": null,
      "overflow_x": null,
      "overflow_y": null,
      "padding": null,
      "right": null,
      "top": null,
      "visibility": null,
      "width": null
     }
    },
    "f779affa96d34ba5af20e586ade23291": {
     "model_module": "@jupyter-widgets/controls",
     "model_name": "HBoxModel",
     "state": {
      "_dom_classes": [],
      "_model_module": "@jupyter-widgets/controls",
      "_model_module_version": "1.5.0",
      "_model_name": "HBoxModel",
      "_view_count": null,
      "_view_module": "@jupyter-widgets/controls",
      "_view_module_version": "1.5.0",
      "_view_name": "HBoxView",
      "box_style": "",
      "children": [
       "IPY_MODEL_06b60dddef2948f49e74cbc1f11253f0",
       "IPY_MODEL_2deab1e3d09d489dbfb3dd63d2bd65c9"
      ],
      "layout": "IPY_MODEL_97d314647ef84591909e7fab042315e0"
     }
    }
   }
  }
 },
 "nbformat": 4,
 "nbformat_minor": 1
}
