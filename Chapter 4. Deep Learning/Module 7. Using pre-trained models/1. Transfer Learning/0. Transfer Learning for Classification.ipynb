{
 "cells": [
  {
   "cell_type": "markdown",
   "metadata": {},
   "source": [
    "# Transfer learning for classification\n",
    "\n",
    "## What is transfer learning?\n",
    "\n",
    "Transfer learning is the concept of applying knowledge to a new task, after it was gained from learning to accomplish a different task. That is, how do we transfer what we know to a new task. \n",
    "In this notebook, we will get a pre-trained image classification model, and use transfer learning to apply what it already knows to a new task: distinguishing between images of dogs and hotdogs, which we have collected in our own dataset.\n",
    "\n",
    "## Data processing\n",
    "\n",
    "Imagine you were the one that created the folder called ```data``` which contains folders of images for each class that we want to classify. \n",
    "Now we need to turn that into a PyTorch dataset, which consists of examples that can be processed by PyTorch models.\n",
    "\n",
    "Firstly, let's create a CSV which maps file names to their corresponding integer labels.\n"
   ]
  },
  {
   "cell_type": "code",
   "execution_count": 2,
   "metadata": {},
   "outputs": [],
   "source": [
    "import os\n",
    "import pandas as pd\n",
    "\n",
    "def create_csv(root='./data/', out_name='labels.csv'):\n",
    "    \"\"\"Creates a CSV file where each row contains an image file path and it's corresponding integer class label\"\"\"\n",
    "    subfolders = [f.path for f in os.scandir(root) if f.is_dir()] # get the path of the subfolders in the data root (each of which contains images for certain class)\n",
    "    df = pd.DataFrame(columns=['file_path', 'label']) # create empty dataframe with file_path and label columns\n",
    "    for i, path in enumerate(subfolders):\n",
    "        files = [f.path for f in os.scandir(path) if f.is_file()]\n",
    "        for f in files:\n",
    "            df = df.append({'file_path':f, 'label':i}, ignore_index=True) #add each image as a row to the dataframe\n",
    "    df.to_csv(root+out_name, index=False) #save the dataframe to a csv file"
   ]
  },
  {
   "cell_type": "code",
   "execution_count": 3,
   "metadata": {},
   "outputs": [],
   "source": [
    "create_csv()"
   ]
  },
  {
   "source": [
    "Now let's create our PyTorch dataset. As with all PyTorch datasets, it should inherit from PyTorch's Dataset class and implement a ```__getitem__``` method which defines how indexing the dataset with square brackets works, and a ```__len__``` method which defines how the dataset length should be calculated."
   ],
   "cell_type": "markdown",
   "metadata": {}
  },
  {
   "cell_type": "code",
   "execution_count": 4,
   "metadata": {},
   "outputs": [],
   "source": [
    "import numpy as np\n",
    "from PIL import Image\n",
    "import torch\n",
    "\n",
    "class ClassificationDataset():\n",
    "    def __init__(self, csv='./data/labels.csv', transform=None):\n",
    "        self.csv = pd.read_csv(csv) #read the data csv\n",
    "        self.transform = transform #save the transform variable as part of the class object\n",
    "\n",
    "    def __len__(self):\n",
    "        return len(self.csv)\n",
    "\n",
    "    def __getitem__(self, idx):\n",
    "        filepath, label = self.csv['file_path'][idx], self.csv['label'][idx] #get the image filepath and label from at that index from the csv\n",
    "        img = Image.open(filepath).convert(\"RGB\") #open with PIL and convert to rgb\n",
    "        if self.transform:\n",
    "            img, label = self.transform((img, label)) #apply transforms\n",
    "        return img, label\n",
    "\n",
    "class SquareCrop():\n",
    "    \"\"\"Adjust aspect ratio of image to make it square and crop it to given size\"\"\"\n",
    "    def __init__(self, output_size):\n",
    "        assert isinstance(output_size, (int)) # assert output_size is integer\n",
    "        self.output_size = output_size\n",
    "\n",
    "    def __call__(self, sample):        \n",
    "        image, label = sample\n",
    "        h, w = image.size\n",
    "        if h > w:\n",
    "            new_w = self.output_size\n",
    "            scale = new_w/w\n",
    "            new_h = scale*h\n",
    "        elif w > h:\n",
    "            new_h = self.output_size\n",
    "            scale = new_h/h\n",
    "            new_w = scale*w\n",
    "        else:\n",
    "            new_h, new_w = self.output_size, self.output_size\n",
    "        new_h, new_w = int(new_h), int(new_w) # account for non-integer computed dimensions (rounds to nearest int)\n",
    "        image = image.resize((new_h, new_w))\n",
    "        crop_start_w = np.random.randint((new_w - self.output_size)+1)\n",
    "        crop_start_h = np.random.randint((new_h - self.output_size)+1)\n",
    "        image = image.crop((crop_start_h, crop_start_w, crop_start_h + self.output_size, crop_start_w + self.output_size))\n",
    "        return image, label\n",
    "\n",
    "class ImageToTensor():\n",
    "    def __init__(self):\n",
    "        pass\n",
    "    \n",
    "    def __call__(self, sample):\n",
    "        image, label = sample\n",
    "        image = np.array(image)/255 #convert to numpy array and normalise between 0-1\n",
    "        image = image.transpose((2, 0, 1)) #swap channel dimension\n",
    "        return torch.Tensor(image), label"
   ]
  },
  {
   "cell_type": "code",
   "execution_count": 5,
   "metadata": {},
   "outputs": [
    {
     "output_type": "stream",
     "name": "stdout",
     "text": [
      "{0: 'dog', 1: 'hotdog'}\n"
     ]
    }
   ],
   "source": [
    "from torchvision import transforms\n",
    "from torch.utils.data import DataLoader\n",
    "\n",
    "create_csv()\n",
    "\n",
    "classnames = [f.name for f in os.scandir('./data/') if f.is_dir()] #get the class names from the folders\n",
    "classname_to_id = dict(zip(classnames, range(len(classnames)))) #create the mapping from classname to class id\n",
    "id_to_classname = dict(zip(classname_to_id.values(), classname_to_id.keys())) # create the reverse mapping from class id to classname\n",
    "n_classes = len(classnames)\n",
    "print(id_to_classname)\n",
    "\n",
    "img_crop_size = 224\n",
    "train_split = 0.8 # percentage that will be training set\n",
    "val_split = 0.1 # percentage that will be validation set\n",
    "batch_size = 4\n",
    "\n",
    "mytransforms = []\n",
    "mytransforms.append(SquareCrop(img_crop_size)) #add square crop transform\n",
    "mytransforms.append(ImageToTensor()) #add to tensor transform\n",
    "mytransforms = transforms.Compose(mytransforms)\n",
    "\n",
    "mydataset = ClassificationDataset(csv='./data/labels.csv', transform=mytransforms)\n",
    "\n",
    "data_size=len(mydataset)\n",
    "train_size = int(train_split * data_size)\n",
    "val_size = int(val_split * data_size)\n",
    "test_size = data_size - (val_size + train_size)\n",
    "train_data, val_data, test_data = torch.utils.data.random_split(mydataset, [train_size, val_size, test_size])\n",
    "\n",
    "train_samples = DataLoader(train_data, batch_size=batch_size, shuffle=True)\n",
    "val_samples = DataLoader(val_data, batch_size=batch_size)\n",
    "test_samples = DataLoader(test_data, batch_size=batch_size)"
   ]
  },
  {
   "cell_type": "markdown",
   "metadata": {},
   "source": [
    "## Loading in pretrained model\n",
    "\n",
    "Now let's make our classifier model. \n",
    "This is where the transfer learning takes place.\n",
    "For the first part of our model, we pass our data through a pre-trained model. \n",
    "For our pre-trained model, we will use [VGG11](https://pytorch.org/hub/pytorch_vision_vgg/).\n",
    "\n",
    "Here's a diagram of the VGG11 architecture.\n",
    "\n",
    "![](images/vgg11.png)\n",
    "\n",
    "We don't pass our data through the whole model though. \n",
    "This is because VGG is trained to output a probability distribution over more than 20K classes. \n",
    "It's not those class confidences that will be helpful to us, but the features that were combined in the last few layers of the VGG11 neural network to compute them.\n",
    "As such, we can use the pre-trained model as a **feature extractor** by passing our data not all of the way through model, but through most of it, such that what it outputs is a set of activation maps, which represent where and by how much complex features of the image are present.\n",
    "These high-level features are the ones which VGG11 learnt when being trained to perform it's original task.\n",
    "Our hope is that these same features will be useful for our new task.\n",
    "This here is the transfer learning.\n",
    "\n",
    "To relate that to the image shown below, what we will do is take the first convolutional layers (shown as grids of circles rather than vectors) which contain the activation maps for high level features, and discard the fully connected layers on the end and replace them with our own.\n",
    "\n",
    "![](images/features.png)\n",
    "\n",
    "Once we get the feature maps of the input from VGG11, we will flatten them and stack a few extra linear layers on the end. These layers will culminate in a single node which represents the confidence of an image being a hotdog, as opposed to a dog.\n",
    "\n",
    "Our input data needs to be transformed to have the input size which VGG11 expects. And our additional layers will have to expect inputs with the same shape as the output from the VGG11 feature extractor. \n",
    "\n",
    "\n",
    "\n",
    "## Fine tuning our model\n",
    "\n",
    "Obviously, our extra linear layers will have initially random weights, so we'll need to train them.\n",
    "But we know that the VGG model weights are probably pretty close to what we want, so we don't want to adjust them (too much).\n",
    "\n",
    "### Method 1: Weight freezing\n",
    "\n",
    "We will **freeze** the VGG weights so that they don't change, whilst we train our final layer weights in the usual way.\n",
    "We do this by setting the ```requires_grad``` attribute of the VGG weights to false.\n",
    "This means that when we backpropagate our error, it's rate of change with respect to these weights is not computed, and they are not updated when we call ```loss.backward()```.\n",
    "By only adjusting the extra layers which we added, we effectively **fine-tune** VGG11 to our task, whilst taking advantage of what it has already learnt.\n",
    "\n",
    "### Method 2: Discriminative learning rates\n",
    "\n",
    "Alternatively to freezing the VGG model's weights, we can use a smaller learning rate so that they are still updated, but not as much as our fine-tuning layers.\n",
    "\n",
    "### Which should I use?\n",
    "\n",
    "Freezing the weights by setting their ```requires_grad``` attribute to true will remove them from the computational graph and will increase the speed at which you can make updates by preventing you having to compute their gradients, compute the optimisation step and then update their values. However, if your pretrained model was trained on a significantly different dataset, you may need to update its weights to fine-tune it to your specific problem to achieve the desired level of performance. In this case, using discriminitive learning rates may be a better approach.\n",
    "\n",
    "Let's get our pretrained model from torchvision (PyTorch's computer vision library) and build our model which uses transfer learning."
   ]
  },
  {
   "cell_type": "code",
   "execution_count": 6,
   "metadata": {},
   "outputs": [],
   "source": [
    "from torchvision import models\n",
    "import torch.nn.functional as F\n",
    "\n",
    "class VGGClassifier(torch.nn.Module):\n",
    "    def __init__(self, out_size):\n",
    "        super().__init__()\n",
    "        self.features = models.vgg11(pretrained=True).features # get the convolutional layers of vgg11. output size is 512x7x7\n",
    "        self.regressor = torch.nn.Sequential(\n",
    "            torch.nn.Linear(512*7*7, 4096), # first arg is the size of the flattened output from VGG11\n",
    "            torch.nn.ReLU(),\n",
    "            torch.nn.Dropout(),\n",
    "            torch.nn.Linear(4096, 1024),\n",
    "            torch.nn.ReLU(),\n",
    "            torch.nn.Linear(1024, out_size),\n",
    "            torch.nn.Softmax(dim=1)\n",
    "        )\n",
    "\n",
    "    def forward(self, x):\n",
    "        x = self.features(x)\n",
    "        x = F.relu(x)\n",
    "        x = x.reshape(-1, 512*7*7)\n",
    "        x = self.regressor(x)\n",
    "        return x\n",
    "\n",
    "    def freeze(self):\n",
    "        \"\"\"Freeze the weights of the pretrained model\"\"\"\n",
    "        for param in self.features.parameters():\n",
    "            param.requires_grad=False\n",
    "\n",
    "    def unfreeze(self):\n",
    "        \"\"\"Unfreeze the weights of the pretrained model\"\"\"\n",
    "        for param in self.features.parameters():\n",
    "            param.requires_grad=True"
   ]
  },
  {
   "cell_type": "markdown",
   "metadata": {},
   "source": [
    "## Training using discriminative learning rates"
   ]
  },
  {
   "cell_type": "code",
   "execution_count": 7,
   "metadata": {},
   "outputs": [],
   "source": [
    "use_cuda = torch.cuda.is_available()\n",
    "device = torch.device(\"cuda\" if use_cuda else \"cpu\")\n",
    "\n",
    "lr = [3e-4, 3e-5] # discriminative learning rate. #lr[0] is main lr #lr[1] is lr of early layers\n",
    "weight_decay = 0#1e-4\n",
    "train_split = 0.8\n",
    "val_split = 0.9\n",
    "\n",
    "mymodel = VGGClassifier(out_size=n_classes).to(device)\n",
    "\n",
    "# HERE WE SET UP THE DISCRIMINATIVE LEARNING RATES\n",
    "optimizer = torch.optim.Adam(\n",
    "    [\n",
    "        {\n",
    "            'params': mymodel.regressor.parameters(),\n",
    "            'lr': lr[0]\n",
    "        },\n",
    "        {\n",
    "            'params': mymodel.features.parameters(), \n",
    "            'lr': lr[1]\n",
    "        }\n",
    "    ],\n",
    "    weight_decay=weight_decay\n",
    ")"
   ]
  },
  {
   "source": [
    "Now let's write the training loop"
   ],
   "cell_type": "markdown",
   "metadata": {}
  },
  {
   "cell_type": "code",
   "execution_count": 8,
   "metadata": {},
   "outputs": [],
   "source": [
    "import matplotlib.pyplot as plt\n",
    "from torch.utils.tensorboard import SummaryWriter\n",
    "from time import time\n",
    "\n",
    "def train(model, optimiser, epochs, tag):\n",
    "    plt.close()\n",
    "    model.train()\n",
    "    \n",
    "    writer = SummaryWriter(log_dir=f'../../../runs/Transfer Learning/{tag}/{time()}')\n",
    "    batch_idx = 0\n",
    "\n",
    "    for e in range(epochs):\n",
    "        ecost = 0\n",
    "        valcost = 0\n",
    "        for i, (x, y) in enumerate(train_samples):\n",
    "            x, y = x.to(device), y.to(device)\n",
    "\n",
    "            h = model(x) # calculate hypothesis\n",
    "            cost = F.cross_entropy(h, y, reduction='sum') # calculate cost\n",
    "            \n",
    "            optimizer.zero_grad() # zero gradients\n",
    "            cost.backward() # calculate derivatives of values of filters\n",
    "            optimizer.step() # update parameters\n",
    "\n",
    "            print(f'example {i}\\tLoss: {cost.item()}')\n",
    "            writer.add_scalar('Transfer learning/Loss/Train', cost.item(), batch_idx)\n",
    "            batch_idx += 1\n",
    "        for i, (x, y) in enumerate(val_samples):\n",
    "            x, y = x.to(device), y.to(device)\n",
    "            h = model.forward(x) # calculate hypothesis\n",
    "            cost = F.cross_entropy(h, y, reduction='sum') # calculate cost\n",
    "            valcost += cost.item()\n",
    "            print(f'val example {i}\\tLoss: {valcost}')\n",
    "        avg_valcost = valcost.item() / len(val_samples)\n",
    "        writer.add_scalar('Transfer learning/Loss/Validation', avg_valcost, batch_idx)"
   ]
  },
  {
   "cell_type": "code",
   "execution_count": 9,
   "metadata": {},
   "outputs": [
    {
     "output_type": "error",
     "ename": "TypeError",
     "evalue": "train() missing 2 required positional arguments: 'optimiser' and 'epochs'",
     "traceback": [
      "\u001b[0;31m---------------------------------------------------------------------------\u001b[0m",
      "\u001b[0;31mTypeError\u001b[0m                                 Traceback (most recent call last)",
      "\u001b[0;32m<ipython-input-9-105baf283924>\u001b[0m in \u001b[0;36m<module>\u001b[0;34m\u001b[0m\n\u001b[1;32m      1\u001b[0m \u001b[0;31m# mymodel.freeze()\u001b[0m\u001b[0;34m\u001b[0m\u001b[0;34m\u001b[0m\u001b[0;34m\u001b[0m\u001b[0m\n\u001b[0;32m----> 2\u001b[0;31m \u001b[0mtrain\u001b[0m\u001b[0;34m(\u001b[0m\u001b[0;36m2\u001b[0m\u001b[0;34m)\u001b[0m\u001b[0;34m\u001b[0m\u001b[0;34m\u001b[0m\u001b[0m\n\u001b[0m\u001b[1;32m      3\u001b[0m \u001b[0;31m#mymodel.unfreeze()\u001b[0m\u001b[0;34m\u001b[0m\u001b[0;34m\u001b[0m\u001b[0;34m\u001b[0m\u001b[0m\n\u001b[1;32m      4\u001b[0m \u001b[0;31m#train(5)\u001b[0m\u001b[0;34m\u001b[0m\u001b[0;34m\u001b[0m\u001b[0;34m\u001b[0m\u001b[0m\n",
      "\u001b[0;31mTypeError\u001b[0m: train() missing 2 required positional arguments: 'optimiser' and 'epochs'"
     ]
    }
   ],
   "source": [
    "train(mymodel, optimiser, 2, 'discriminative')\n"
   ]
  },
  {
   "cell_type": "markdown",
   "metadata": {},
   "source": [
    "## Testing our model"
   ]
  },
  {
   "cell_type": "code",
   "execution_count": 18,
   "metadata": {},
   "outputs": [],
   "source": [
    "def test():\n",
    "    print('Started evaluation...')\n",
    "    mymodel.eval() #put model into evaluation mode    \n",
    "    #calculate the accuracy of our model over the whole test set in batches\n",
    "    correct = 0\n",
    "    for x, y in test_samples:\n",
    "        x, y = x.to(device), y.to(device)\n",
    "        h = mymodel.forward(x)\n",
    "        pred = h.data.max(1)[1]\n",
    "        correct += pred.eq(y).sum().item()\n",
    "    return round(correct/len(test_data), 4)"
   ]
  },
  {
   "cell_type": "code",
   "execution_count": 19,
   "metadata": {},
   "outputs": [
    {
     "output_type": "stream",
     "name": "stdout",
     "text": [
      "Started evaluation...\n",
      "Test accuracy:  1.0\n"
     ]
    }
   ],
   "source": [
    "acc = test()\n",
    "print('Test accuracy: ', acc)"
   ]
  },
  {
   "source": [
    "Notice how slow the training of the above model is. This is because we are updating all of the model's weights. This includes all of the weights of the pretrained model, which there is a lot of! This is one of the disadvantages of discriminative learning rates for transfer learning.\n",
    "\n",
    "Let's now train the model by freezing the weights of the pretrained model and compare speed and loss curves."
   ],
   "cell_type": "markdown",
   "metadata": {}
  },
  {
   "cell_type": "code",
   "execution_count": null,
   "metadata": {},
   "outputs": [],
   "source": [
    "\n",
    "frozen_model = VGGClassifier(out_size=n_classes).to(device)\n",
    "frozen_model.freeze()\n",
    "frozen_model.unfreeze()\n",
    "train(frozen_model, optimiser, 5, 'frozen')\n"
   ]
  }
 ],
 "metadata": {
  "kernelspec": {
   "name": "python3",
   "display_name": "Python 3.8.6 64-bit ('main': conda)",
   "metadata": {
    "interpreter": {
     "hash": "06c1e258a470a687113bfba03f207c092b27379067ada2d83b8b31269ab641fe"
    }
   }
  },
  "language_info": {
   "codemirror_mode": {
    "name": "ipython",
    "version": 3
   },
   "file_extension": ".py",
   "mimetype": "text/x-python",
   "name": "python",
   "nbconvert_exporter": "python",
   "pygments_lexer": "ipython3",
   "version": "3.8.6-final"
  }
 },
 "nbformat": 4,
 "nbformat_minor": 2
}