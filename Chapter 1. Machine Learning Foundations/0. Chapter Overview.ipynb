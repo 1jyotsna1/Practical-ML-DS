{
 "cells": [
  {
   "cell_type": "markdown",
   "metadata": {},
   "source": [
    "# Chapter Overview: ML Foundations"
   ]
  },
  {
   "cell_type": "markdown",
   "metadata": {},
   "source": [
    "## Content\n",
    "- ML fundamentals\n",
    "    - Linear regression & a 4-part framework for ML algorithms\n",
    "    - Gradient descent\n",
    "    - Bias, variance and generalisation\n",
    "    - Regularisation\n",
    "    - Hyperparameters\n",
    "    - MLE\n",
    "- Other supervised learning algorithms"
   ]
  },
  {
   "cell_type": "markdown",
   "metadata": {},
   "source": [
    "## Chapter objectives\n",
    "Understand\n",
    "- What is, and what is not, machine learning\n",
    "- the polychotomy of learning algorithms\n",
    "    - supervised, unsupervised and reinforcement learning\n",
    "    - "
   ]
  }
 ],
 "metadata": {
  "language_info": {
   "codemirror_mode": {
    "name": "ipython",
    "version": 3
   },
   "file_extension": ".py",
   "mimetype": "text/x-python",
   "name": "python",
   "nbconvert_exporter": "python",
   "pygments_lexer": "ipython3",
   "version": 3
  },
  "orig_nbformat": 2
 },
 "nbformat": 4,
 "nbformat_minor": 2
}