{
 "cells": [
  {
   "cell_type": "markdown",
   "metadata": {},
   "source": [
    "# Classification trees\n",
    "\n",
    "## Intro\n",
    "\n",
    "Classification trees are one type of **decision tree** that can be used for predicting categorical outputs.\n",
    "In the next notebook we will look at regression trees, which are used for making continuous predictions.\n",
    "\n",
    "If you have ever played the game 21 questions then you already know what a classification tree is.\n",
    "Or if you've ever tried to code up an artificial general intelligence using a lot of `if` statements, then you've essentially built up your own decision tree by hand.\n",
    "\n",
    "These examples use the obvious approach of building a classifier by asking a series of yes/no questions.\n",
    "The answer to each question gives you more info on class of the object until the range of possible options becomes fine enough for you to settle on a prediction.\n",
    "\n",
    "Below is an example of such a classifier.\n",
    "This one predicts the gender using the height and weight of an example person.\n",
    "\n",
    "![](images/CARTS_example_tree.png)\n",
    "\n",
    "The above examples however, depend on you finding the right questions to ask manually.\n",
    "We'd like to be able to find the right questions to ask automatically, using machine learning.\n",
    "This means that we need to start quantifying what makes a **good** split.\n",
    "\n",
    "![](images/CARTS_geni_impurity.png)\n",
    "\n",
    "![](images/CARTS_split_pos.png)\n",
    "\n",
    "Let's build a classification tree from scratch"
   ]
  },
  {
   "cell_type": "code",
   "execution_count": null,
   "metadata": {},
   "outputs": [],
   "source": [
    "import numpy as np\n",
    "\n",
    "def region_impurity(examples_in_region):\n",
    "    X, Y = examples_in_region\n",
    "    n_classes = np.ptp(Y)\n",
    "    n_datapoints = len(X)\n",
    "    print('n_classes:', n_classes)\n",
    "    impurity = 0\n",
    "    for class_idx in range(n_classes):\n",
    "        n_examples_in_class = len(X[Y == class_idx])\n",
    "        p_k = examples_in_class / n_datapoints\n",
    "        impurity += p_k * (1 - p_k)\n",
    "    return impurity\n",
    "\n",
    "def split_impurity(examples_split, split_pos):\n",
    "\n",
    "\n",
    "def get_split_candidates(X):\n",
    "    return (X[:-1] + X[1:]) / 2\n",
    "\n",
    "def get_best_split_pos(X, split_candidates):\n",
    "\n",
    "def train(X, Y, max_depth=4):\n",
    "    done = False\n",
    "    depth = 0\n",
    "    while not done:\n",
    "        split_candidates = get_split_candidates(X)\n",
    "        best_split_pos = get_best_split_pos(split_candidates)\n",
    "        \n",
    "\n",
    "\n",
    "    "
   ]
  }
 ],
 "metadata": {
  "language_info": {
   "codemirror_mode": {
    "name": "ipython",
    "version": 3
   },
   "file_extension": ".py",
   "mimetype": "text/x-python",
   "name": "python",
   "nbconvert_exporter": "python",
   "pygments_lexer": "ipython3",
   "version": 3
  },
  "orig_nbformat": 2
 },
 "nbformat": 4,
 "nbformat_minor": 2
}