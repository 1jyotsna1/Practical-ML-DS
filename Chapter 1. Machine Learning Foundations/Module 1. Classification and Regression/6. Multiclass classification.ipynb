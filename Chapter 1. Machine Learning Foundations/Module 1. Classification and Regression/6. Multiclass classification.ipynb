{
 "cells": [
  {
   "cell_type": "code",
   "execution_count": 1,
   "metadata": {},
   "outputs": [],
   "source": [
    "import sys\n",
    "sys.path.append('..')"
   ]
  },
  {
   "cell_type": "markdown",
   "metadata": {},
   "source": [
    "# Multiclass classification\n",
    "\n",
    "## Learning objectives\n",
    "- Understand how classification can be implemented when there are more than 2 classes\n",
    "- Implement a multiclass classifier from scratch\n",
    "\n",
    "## Intro - Binary classification vs multiclass classification\n",
    "\n",
    "In binary classification the output must be either true or false. Either the example falls into this class, or it doesn't. We have seen that we can represent this by our model having a single output node whose value is forced between 0 and 1, and as such represents a confidence in the fact that the example belongs to the positive class. Alternatively, still for binary classification, we could have two output nodes, where the value of the first represents the confidence that the input belongs to the positive class (true/class 1) and the value of the second represents the confidence that the input belongs to the negative class (false/class 2). In this case, the values of each output node must be positive and they must sum to 1, because this output layer represents a probability distribution over the output classes. \n",
    "\n",
    "# Softmax\n",
    "\n",
    "![](./images/binary-class.jpg)\n",
    "\n",
    "In the case where we have two nodes to represent true and false, we can think about it as having trained two models.\n",
    "\n",
    "Treating true and false as separate classes with separate output nodes shows us how we can extend this idea to do multiclass classification; we simply add more nodes and ensure that their values are positive and sum to one.\n",
    "\n",
    "![](./images/multiclass.jpg)\n",
    "\n",
    "### What function can we use to convert the output layer into a distribution over classes?\n",
    "\n",
    "The **softmax function** exponentiates each value in a vector to make it positive and then divides each of them by their sum to normalise them (make them sum to 1). This ensures that the vector then can be interpreted as a probability distribution.\n",
    "\n",
    "![](./images/softmax.jpg)\n",
    "\n",
    "Example\n",
    "\n",
    "![](./images/softmax_example.jpg)\n",
    "\n",
    "## Differentiating the softmax\n",
    "\n",
    "![](images/softmax_deriv.jpg)\n",
    "\n",
    "### Properties of softmax\n",
    "- increasing the value of any entry decreases the value of all of the others, because the whole vector must always sum to one. \n",
    "- an increase in one input element increases it's corresponding output element exponentially whilst pushing others down, this means that it is easy for the one largest output element to become the only one not close to zero. \n",
    "\n",
    "### What does the name \"softmax\" mean?\n",
    "- as explained above, it's easy for only one input to be near 1, and all others close to zero. That is, the max input becomes the only non-zero element. So in this case, the softmax basically set all elements but the max to zero.\n",
    "- the output of the max element of a vector changes abruptly when one element becomes larger than the current max. It suffers a \"hard\" change. Unlike this, the softmax function changes gradually when the max changes - we call this a \"soft\" change as it is continuous.\n",
    "\n",
    "Let's implement our own softmax function, and again include a boolean flag that will return the gradient."
   ]
  },
  {
   "cell_type": "code",
   "execution_count": 2,
   "metadata": {
    "tags": []
   },
   "outputs": [
    {
     "name": "stdout",
     "output_type": "stream",
     "text": [
      "[[0.18042456 0.1515139 ]\n",
      " [0.65246267 0.97503284]\n",
      " [0.07305289 0.1222666 ]]\n",
      "[[0.50722716 0.49277284]\n",
      " [0.42004951 0.57995049]\n",
      " [0.48769906 0.51230094]]\n",
      "softmax sums up to: [1. 1. 1.]\n",
      "\n",
      "gradient:\n",
      "[[0.24994777 0.24994777]\n",
      " [0.24360792 0.24360792]\n",
      " [0.24984869 0.24984869]]\n"
     ]
    }
   ],
   "source": [
    "import numpy as np\n",
    "\n",
    "def softmax(z, label=None, grad=False):\n",
    "    # print('z:', z.shape)\n",
    "    if grad:\n",
    "        num_classes = z.shape[1]\n",
    "\n",
    "        g = softmax(z) * (1 - softmax(z))\n",
    "\n",
    "        # g = np.zeros((num_classes, num_classes))\n",
    "        # for i in range(num_classes):\n",
    "        #     for j in range(num_classes):\n",
    "        #         if j == i:\n",
    "        #             g[i][j] = softmax(z)[i] * (1 - softmax(z)[i])\n",
    "        #         else:\n",
    "        #             g[i][j] = - softmax(z)[i] * softmax(z)[j]\n",
    "        return g\n",
    "\n",
    "    # print(np.sum(z, axis=1))\n",
    "    # print(np.exp(z))\n",
    "    return (np.exp(z).T / np.sum(np.exp(z), axis=1)).T\n",
    "\n",
    "x = np.random.rand(3, 2)\n",
    "print(x)\n",
    "print(softmax(x))\n",
    "print('softmax sums up to:', np.sum(softmax(x), axis=1))\n",
    "print()\n",
    "print('gradient:')\n",
    "print(softmax(x, label=2, grad=True))"
   ]
  },
  {
   "cell_type": "markdown",
   "metadata": {},
   "source": [
    "## The cross entropy loss function\n",
    "\n",
    "In the BCE loss function, the one line equation contained all of the \"switches\" that it needs to turn on or off certain terms of the equation.\n",
    "This was possible because in binary classification, the labels will certainly either be 0 or 1.\n",
    "\n",
    "In multiclass classification however, these switches cannot be contained in a single line.\n",
    "\n",
    "An appropriate loss function to use for multiclass classification is the cross entropy loss function.\n",
    "Like BCE loss, cross entropy uses the same term: the negative natural log of the output probability to penalise outputs exponentially as they stray from the ground truth.\n",
    "\n",
    "We don't need to simultaneously push down the incorrect class probabilities and push up the correct class probabilities.\n",
    "This is because by increasing the value of one element of the output of a softmax, the others must decrease, because the whole vector has to sum to 1.\n",
    "So if we focus on increasing the correct class likelihood element, then we will implicitly be decreasing the incorrect class likelihood elements.\n",
    "\n",
    "![](images/cross_entropy_loss.jpg)\n",
    "\n",
    "Let's implement the cross entropy loss function."
   ]
  },
  {
   "cell_type": "code",
   "execution_count": 3,
   "metadata": {},
   "outputs": [],
   "source": [
    "def CrossEntropyLoss(z, label, grad=False):\n",
    "    if grad:\n",
    "        return - 1 / z\n",
    "    return np.mean(- np.log(z))"
   ]
  },
  {
   "cell_type": "markdown",
   "metadata": {},
   "source": [
    "## Calculating the parameter update rule\n",
    "\n",
    "# gradient computation for multiclass classification diagram\n",
    "\n",
    "## Multiclass classification implementation from scratch\n",
    "\n",
    "Other than the final layer of the model where the softmax is applied and the loss function, the model and algorithm stay the same. \n",
    "\n",
    "Of course however, changing the model changes the gradient of the loss function with respect to the model parameters.\n",
    "So we'll need to change the code that performs the parameter updates.\n",
    "\n"
   ]
  },
  {
   "cell_type": "code",
   "execution_count": 4,
   "metadata": {},
   "outputs": [
    {
     "data": {
      "image/png": "[encoded data removed]",
      "text/plain": [
       "<Figure size 432x288 with 1 Axes>"
      ]
     },
     "metadata": {
      "needs_background": "light"
     },
     "output_type": "display_data"
    }
   ],
   "source": [
    "from utils import get_classification_data, show_data\n",
    "\n",
    "num_classes=3\n",
    "\n",
    "X, Y = get_classification_data(sd=1.5, m=100, n_clusters=num_classes)\n",
    "X.shape\n",
    "show_data(X, Y)"
   ]
  },
  {
   "cell_type": "code",
   "execution_count": 5,
   "metadata": {
    "tags": []
   },
   "outputs": [
    {
     "name": "stdout",
     "output_type": "stream",
     "text": [
      "(100, 2)\n",
      "dhdw: (100, 2)\n",
      "dhdb: (100, 3)\n"
     ]
    }
   ],
   "source": [
    "import matplotlib.pyplot as plt\n",
    "\n",
    "class Classifier:\n",
    "    def __init__(self, n_features, n_classes):\n",
    "        self.w = np.random.rand(n_features, n_classes)\n",
    "        self.b = np.random.rand(n_classes)\n",
    "        self.n_classes = n_classes\n",
    "        self.n_features = n_features\n",
    "    \n",
    "    def __call__(self, x):\n",
    "        x = np.matmul(x, self.w) + self.b\n",
    "        x = softmax(x)\n",
    "        return x\n",
    "\n",
    "    def update_params(self, new_w, new_b):\n",
    "        self.w = new_w\n",
    "        self.b = new_b    \n",
    "\n",
    "    def calc_deriv(self, X, predictions, labels):\n",
    "        m = len(X) # m = number of examples\n",
    "\n",
    "        diff = np.argmax(predictions, axis=1) - labels\n",
    "        dzdb = 1\n",
    "        dzdw = X\n",
    "\n",
    "        # print('predictions:', predictions)\n",
    "        dhdz = softmax(predictions, labels, grad=True) # get rate of change of predictions (softmax output) wrt softmax input\n",
    "        # print('dhdz:;', dhdz.shape)\n",
    "        dhdz = np.expand_dims(dhdz, axis=1) # expand dims so that still 2d when we loop over the batch dim\n",
    "        \n",
    "        # print('dzdw:', dzdw.shape)\n",
    "        dzdw = np.expand_dims(dzdw, axis=1) # add extra dimension to expand\n",
    "        dzdw = np.repeat(dzdw, self.n_classes, axis=1)#x is the deriv for all z, so repeat here, so that dims match (distribute)\n",
    "        # print('dzdw:', dzdw.shape)\n",
    "\n",
    "        # dhdz \\in Bx1xK\n",
    "        # dzdw \\in BxKxN\n",
    "        # print('m:', m)\n",
    "        dhdw = np.array([np.matmul(dhdz[i], dzdw[i]) for i in range(m)])\n",
    "        dhdb = dhdz * dzdb # dzdb is same scalar (1) for all examples so no fancy matrix tricks\n",
    "        # print('dhdb:', dhdb.shape)\n",
    "\n",
    "        # REMOVE EXTRA DIMS\n",
    "        dhdw = np.squeeze(dhdw)\n",
    "        dhdb = np.squeeze(dhdb)\n",
    "\n",
    "        return dhdw, dhdb\n",
    "\n",
    "# TEST OUR CLASS WORKS\n",
    "H = Classifier(2, 3) # test init works\n",
    "print(X.shape)\n",
    "p = H(X) # test predict works\n",
    "dhdw, dhdb = H.calc_deriv(X, p, Y) # test calc derivs works\n",
    "print('dhdw:', dhdw.shape)\n",
    "print('dhdb:', dhdb.shape)"
   ]
  },
  {
   "cell_type": "code",
   "execution_count": 6,
   "metadata": {
    "tags": []
   },
   "outputs": [
    {
     "data": {
      "image/png": "[encoded data removed]",
      "text/plain": [
       "<Figure size 432x288 with 1 Axes>"
      ]
     },
     "metadata": {
      "needs_background": "light"
     },
     "output_type": "display_data"
    }
   ],
   "source": [
    "from utils import visualise_predictions\n",
    "\n",
    "H = Classifier(n_features=2, n_classes=3)\n",
    "\n",
    "def H_vis(X):\n",
    "    \"\"\"Returns predictions in the correct format for our visualiser function\"\"\"\n",
    "    return np.argmax(H(X), axis=1)\n",
    "\n",
    "visualise_predictions(H_vis, X, Y) # visualise predictions before training"
   ]
  },
  {
   "cell_type": "code",
   "execution_count": 7,
   "metadata": {
    "tags": []
   },
   "outputs": [
    {
     "name": "stdout",
     "output_type": "stream",
     "text": [
      "loss: 3.051974976588762\n",
      "dhdw: (16, 2)\n",
      "dhdb: (16, 3)\n",
      "dLdh: (16, 3)\n",
      "dhdw (16, 2)\n"
     ]
    },
    {
     "ename": "ValueError",
     "evalue": "operands could not be broadcast together with shapes (16,3) (16,2) ",
     "output_type": "error",
     "traceback": [
      "\u001b[1;31m---------------------------------------------------------------------------\u001b[0m",
      "\u001b[1;31mValueError\u001b[0m                                Traceback (most recent call last)",
      "\u001b[1;32m<ipython-input-7-f6400a0a3281>\u001b[0m in \u001b[0;36m<module>\u001b[1;34m\u001b[0m\n\u001b[0;32m     38\u001b[0m         \u001b[0mprint\u001b[0m\u001b[1;33m(\u001b[0m\u001b[1;34m'dLdh:'\u001b[0m\u001b[1;33m,\u001b[0m \u001b[0mdLdh\u001b[0m\u001b[1;33m.\u001b[0m\u001b[0mshape\u001b[0m\u001b[1;33m)\u001b[0m\u001b[1;33m\u001b[0m\u001b[1;33m\u001b[0m\u001b[0m\n\u001b[0;32m     39\u001b[0m         \u001b[0mprint\u001b[0m\u001b[1;33m(\u001b[0m\u001b[1;34m'dhdw'\u001b[0m\u001b[1;33m,\u001b[0m \u001b[0mdhdw\u001b[0m\u001b[1;33m.\u001b[0m\u001b[0mshape\u001b[0m\u001b[1;33m)\u001b[0m\u001b[1;33m\u001b[0m\u001b[1;33m\u001b[0m\u001b[0m\n\u001b[1;32m---> 40\u001b[1;33m         \u001b[0mdLdw\u001b[0m \u001b[1;33m=\u001b[0m \u001b[0mdLdh\u001b[0m \u001b[1;33m*\u001b[0m \u001b[0mdhdw\u001b[0m\u001b[1;33m\u001b[0m\u001b[1;33m\u001b[0m\u001b[0m\n\u001b[0m\u001b[0;32m     41\u001b[0m         \u001b[0mprint\u001b[0m\u001b[1;33m(\u001b[0m\u001b[1;34m'dldw:'\u001b[0m\u001b[1;33m,\u001b[0m \u001b[0mdLdw\u001b[0m\u001b[1;33m)\u001b[0m\u001b[1;33m\u001b[0m\u001b[1;33m\u001b[0m\u001b[0m\n\u001b[0;32m     42\u001b[0m         \u001b[0mdLdb\u001b[0m \u001b[1;33m=\u001b[0m \u001b[0mdLdh\u001b[0m \u001b[1;33m*\u001b[0m \u001b[0mdhdb\u001b[0m\u001b[1;33m\u001b[0m\u001b[1;33m\u001b[0m\u001b[0m\n",
      "\u001b[1;31mValueError\u001b[0m: operands could not be broadcast together with shapes (16,3) (16,2) "
     ]
    }
   ],
   "source": [
    "learning_rate = 0.001\n",
    "\n",
    "H = Classifier(n_features=2, n_classes=3)\n",
    "\n",
    "def batch_examples(X, Y, batch_size=16):\n",
    "    idx = 0\n",
    "    m = len(X)\n",
    "    batches = []\n",
    "    while idx < m:\n",
    "        if idx + batch_size <= m:\n",
    "            x = X[idx: idx + batch_size]\n",
    "            y = Y[idx: idx + batch_size]\n",
    "        else:\n",
    "            x = X[idx:]\n",
    "            y = Y[idx:]\n",
    "        batches.append((x, y))\n",
    "        idx += batch_size\n",
    "    return batches\n",
    "\n",
    "epochs = 1000\n",
    "losses = []\n",
    "for epoch in range(epochs):\n",
    "    epoch_losses = []\n",
    "\n",
    "    for x, y in batch_examples(X, Y): # proxy for batching\n",
    "        # x = np.expand_dims(x, axis=0)\n",
    "        # y = np.expand_dims(y, axis=0)\n",
    "        prediction = H(x)\n",
    "        loss = CrossEntropyLoss(prediction, y)\n",
    "        print('loss:',loss)\n",
    "        epoch_losses.append(loss)\n",
    "        dhdw, dhdb = H.calc_deriv(x, prediction, y)\n",
    "        # print(prediction)\n",
    "        print('dhdw:', dhdw.shape)\n",
    "        print('dhdb:', dhdb.shape)\n",
    "\n",
    "        dLdh = CrossEntropyLoss(prediction, y, grad=True)\n",
    "        print('dLdh:', dLdh.shape)\n",
    "        print('dhdw', dhdw.shape)\n",
    "        dLdw = dLdh * dhdw\n",
    "        print('dldw:', dLdw)\n",
    "        dLdb = dLdh * dhdb\n",
    "        new_w = H.w - learning_rate * dLdw\n",
    "        new_b = H.b - learning_rate * dLdb\n",
    "        H.update_params(new_w, new_b)\n",
    "    plot_hypothesis(X, H, ax=ax1)\n",
    "    fig.canvas.draw()\n",
    "    losses.append(np.mean(epoch_losses))\n",
    "        \n",
    "visualise_predictions(H_vis, X, Y)"
   ]
  },
  {
   "cell_type": "markdown",
   "metadata": {},
   "source": [
    "Plot class probability landscape for each class\n",
    "Evaluate mesh and plot probability of being a member of each class vertically "
   ]
  },
  {
   "cell_type": "markdown",
   "metadata": {},
   "source": [
    "## Summary\n",
    "- multiclass classification requires a different loss function \n",
    "- softmax is a differentiable function that turns a vector of real numbers into a probability distribution\n",
    "\n",
    "## Next steps\n",
    "- \n"
   ]
  },
  {
   "cell_type": "code",
   "execution_count": null,
   "metadata": {},
   "outputs": [],
   "source": []
  }
 ],
 "metadata": {
  "kernelspec": {
   "display_name": "Python 3",
   "language": "python",
   "name": "python3"
  },
  "language_info": {
   "codemirror_mode": {
    "name": "ipython",
    "version": 3
   },
   "file_extension": ".py",
   "mimetype": "text/x-python",
   "name": "python",
   "nbconvert_exporter": "python",
   "pygments_lexer": "ipython3",
   "version": "3.7.6"
  }
 },
 "nbformat": 4,
 "nbformat_minor": 2
}
