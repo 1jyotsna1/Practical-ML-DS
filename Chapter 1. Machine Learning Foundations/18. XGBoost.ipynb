{
 "cells": [
  {
   "cell_type": "markdown",
   "metadata": {},
   "source": [
    "# XGBoost\n",
    "\n",
    "## Intro\n",
    "XGBoost is much like gradient boosting with decision trees. Similarly, it starts by making a single constant estimate for all examples and then uses a decision tree which predicts not the label, but the size and magnitude of the update that needs to be made to the previous estimate. The difference lies in the type of tree that it uses to make predictions. We discuss these below, before implementing XGBoost for regression.\n",
    "\n",
    "## XGBoost trees\n",
    "The \n",
    "\n",
    "Each XGBoost tree starts with a single leaf which contains all of the residuals between the final predictions and their labels. We then calculate a **siimilarity score** for this leaf. This siimilarity score is like the mean squared error, but with a regularisation parameter $\\lambda$ added to the denominator. You can see this from the equation used to compute it below.\n",
    "\n",
    "## Similarity $= \\frac{\\Sigma^k (x - y)^2}{k+\\lambda}$\n",
    "Where k is the number of examples which this tree makes predictions for.\n"
   ]
  },
  {
   "cell_type": "code",
   "execution_count": null,
   "metadata": {},
   "outputs": [],
   "source": [
    "import sklearn.tree\n",
    "\n",
    "class XGBoostTree:\n",
    "    def __init__(self):\n",
    "        pass\n",
    "\n",
    "    def fit(self, X, Y):\n",
    "        \n",
    "\n",
    "class XGBoost:\n",
    "    def __init__(self, n_trees):\n",
    "        self.n_trees = n_trees\n",
    "\n",
    "    def predict(self, X):\n",
    "\n",
    "    def fit(self, X, Y):\n",
    "        self.trees = []\n",
    "        for tree_idx in range(self.n_trees):\n",
    "            tree = sklearn.tree.DecisionTreeRegressor()\n",
    "            self.trees.append(tree)"
   ]
  }
 ],
 "metadata": {
  "language_info": {
   "codemirror_mode": {
    "name": "ipython",
    "version": 3
   },
   "file_extension": ".py",
   "mimetype": "text/x-python",
   "name": "python",
   "nbconvert_exporter": "python",
   "pygments_lexer": "ipython3",
   "version": 3
  },
  "orig_nbformat": 2
 },
 "nbformat": 4,
 "nbformat_minor": 2
}