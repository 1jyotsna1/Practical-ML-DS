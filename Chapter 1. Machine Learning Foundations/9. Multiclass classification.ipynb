{
 "cells": [
  {
   "cell_type": "markdown",
   "metadata": {},
   "source": [
    "# Multiclass classification\n",
    "\n",
    "## Learning objectives\n",
    "- Understand how classification can be implemented when there are more than 2 classes\n",
    "- Implement a multiclass classifier from scratch\n",
    "\n",
    "## Intro - Binary classification vs multiclass classification\n",
    "\n",
    "In binary classification the output must be either true or false. Either the example falls into this class, or it doesn't. We have seen that we can represent this by our model having a single output node whose value is forced between 0 and 1, and as such represents a confidence in the fact that the example belongs to the positive class. Alternatively, still for binary classification, we could have two output nodes, where the value of the first represents the confidence that the input belongs to the positive class (true/class 1) and the value of the second represents the confidence that the input belongs to the negative class (false/class 2). In this case, the values of each output node must be positive and they must sum to 1, because this output layer represents a probability distribution over the output classes. \n",
    "\n",
    "# Softmax\n",
    "\n",
    "![](./images/binary-class.jpg)\n",
    "\n",
    "In the case where we have two nodes to represent true and false, we can think about it as having trained two models.\n",
    "\n",
    "Treating true and false as separate classes with separate output nodes shows us how we can extend this idea to do multiclass classification; we simply add more nodes and ensure that their values are positive and sum to one.\n",
    "\n",
    "![](./images/multiclass.jpg)\n",
    "\n",
    "### What function can we use to convert the output layer into a distribution over classes?\n",
    "\n",
    "The **softmax function** exponentiates each value in a vector to make it positive and then divides each of them by their sum to normalise them (make them sum to 1). This ensures that the vector then can be interpreted as a probability distribution.\n",
    "\n",
    "![](./images/softmax.jpg)\n",
    "\n",
    "Example\n",
    "\n",
    "![](./images/softmax_example.jpg)\n",
    "\n",
    "## Differentiating the softmax\n",
    "\n",
    "![](images/softmax_deriv.jpg)\n",
    "\n",
    "### Properties of softmax\n",
    "- increasing the value of any entry decreases the value of all of the others, because the whole vector must always sum to one. \n",
    "- an increase in one input element increases it's corresponding output element exponentially whilst pushing others down, this means that it is easy for the one largest output element to become the only one not close to zero. \n",
    "\n",
    "### What does the name \"softmax\" mean?\n",
    "- as explained above, it's easy for only one input to be near 1, and all others close to zero. That is, the max input becomes the only non-zero element. So in this case, the softmax basically set all elements but the max to zero.\n",
    "- the output of the max element of a vector changes abruptly when one element becomes larger than the current max. It suffers a \"hard\" change. Unlike this, the softmax function changes gradually when the max changes - we call this a \"soft\" change as it is continuous.\n",
    "\n",
    "Let's implement our own softmax function, and again include a boolean flag that will return the gradient."
   ]
  },
  {
   "cell_type": "code",
   "execution_count": 40,
   "metadata": {
    "tags": []
   },
   "outputs": [
    {
     "output_type": "stream",
     "name": "stdout",
     "text": "[[0.0510183  0.89327668]\n [0.39620149 0.28488938]\n [0.25017732 0.80644358]]\n[[0.30105936 0.69894064]\n [0.52779933 0.47220067]\n [0.36441181 0.63558819]]\nsoftmax sums up to: [1. 1. 1.]\n\ngradient:\n[[0.21042262 0.21042262]\n [0.2492272  0.2492272 ]\n [0.23161584 0.23161584]]\n"
    }
   ],
   "source": [
    "import numpy as np\n",
    "\n",
    "def softmax(z, label=None, grad=False):\n",
    "    if grad:\n",
    "        num_classes = z.shape[1]\n",
    "\n",
    "        g = softmax(z) * (1 - softmax(z))\n",
    "\n",
    "        # g = np.zeros((num_classes, num_classes))\n",
    "        # for i in range(num_classes):\n",
    "        #     for j in range(num_classes):\n",
    "        #         if j == i:\n",
    "        #             g[i][j] = softmax(z)[i] * (1 - softmax(z)[i])\n",
    "        #         else:\n",
    "        #             g[i][j] = - softmax(z)[i] * softmax(z)[j]\n",
    "        return g\n",
    "\n",
    "    # print(np.sum(z, axis=1))\n",
    "    # print(np.exp(z))\n",
    "    return (np.exp(z).T / np.sum(np.exp(z), axis=1)).T\n",
    "\n",
    "x = np.random.rand(3, 2)\n",
    "print(x)\n",
    "print(softmax(x))\n",
    "print('softmax sums up to:', np.sum(softmax(x), axis=1))\n",
    "print()\n",
    "print('gradient:')\n",
    "print(softmax(x, label=2, grad=True))"
   ]
  },
  {
   "cell_type": "markdown",
   "metadata": {},
   "source": [
    "## The cross entropy loss function\n",
    "\n",
    "In the BCE loss function, the one line equation contained all of the \"switches\" that it needs to turn on or off certain terms of the equation.\n",
    "This was possible because in binary classification, the labels will certainly either be 0 or 1.\n",
    "\n",
    "In multiclass classification however, these switches cannot be contained in a single line.\n",
    "\n",
    "An appropriate loss function to use for multiclass classification is the cross entropy loss function.\n",
    "Like BCE loss, cross entropy uses the same term: the negative natural log of the output probability to penalise outputs exponentially as they stray from the ground truth.\n",
    "\n",
    "We don't need to simultaneously push down the incorrect class probabilities and push up the correct class probabilities.\n",
    "This is because by increasing the value of one element of the output of a softmax, the others must decrease, because the whole vector has to sum to 1.\n",
    "So if we focus on increasing the correct class likelihood element, then we will implicitly be decreasing the incorrect class likelihood elements.\n",
    "\n",
    "![](images/cross_entropy_loss.jpg)\n",
    "\n",
    "Let's implement the cross entropy loss function."
   ]
  },
  {
   "cell_type": "code",
   "execution_count": 16,
   "metadata": {},
   "outputs": [],
   "source": [
    "def CrossEntropyLoss(z, label, grad=False):\n",
    "    if grad:\n",
    "        return - 1 / z\n",
    "    return np.sum(- np.log(z))"
   ]
  },
  {
   "cell_type": "markdown",
   "metadata": {},
   "source": [
    "Other than the final layer of the model where the softmax is applied and the loss function, the model and algorithm stay the same. \n",
    "\n",
    "Of course however, changing the model changes the gradient of the loss function with respect to the model parameters.\n",
    "So we'll need to change the code that performs the parameter updates.\n",
    "\n",
    "Below is the same code we wrote to perform binary classification"
   ]
  },
  {
   "cell_type": "code",
   "execution_count": 24,
   "metadata": {},
   "outputs": [
    {
     "output_type": "display_data",
     "data": {
      "text/plain": "<Figure size 432x288 with 1 Axes>",
      "image/svg+xml": "<?xml version=\"1.0\" encoding=\"utf-8\" standalone=\"no\"?>\n<!DOCTYPE svg PUBLIC \"-//W3C//DTD SVG 1.1//EN\"\n  \"http://www.w3.org/Graphics/SVG/1.1/DTD/svg11.dtd\">\n<!-- Created with matplotlib (https://matplotlib.org/) -->\n<svg height=\"248.518125pt\" version=\"1.1\" viewBox=\"0 0 377.304687 248.518125\" width=\"377.304687pt\" xmlns=\"http://www.w3.org/2000/svg\" xmlns:xlink=\"http://www.w3.org/1999/xlink\">\n <defs>\n  <style type=\"text/css\">\n*{stroke-linecap:butt;stroke-linejoin:round;}\n  </style>\n </defs>\n <g id=\"figure_1\">\n  <g id=\"patch_1\">\n   <path d=\"M 0 248.518125 \nL 377.304687 248.518125 \nL 377.304687 0 \nL 0 0 \nz\n\" style=\"fill:none;\"/>\n  </g>\n  <g id=\"axes_1\">\n   <g id=\"patch_2\">\n    <path d=\"M 35.304688 224.64 \nL 370.104688 224.64 \nL 370.104688 7.2 \nL 35.304688 7.2 \nz\n\" style=\"fill:#ffffff;\"/>\n   </g>\n   <g id=\"PathCollection_1\">\n    <defs>\n     <path d=\"M 0 3 \nC 0.795609 3 1.55874 2.683901 2.12132 2.12132 \nC 2.683901 1.55874 3 0.795609 3 0 \nC 3 -0.795609 2.683901 -1.55874 2.12132 -2.12132 \nC 1.55874 -2.683901 0.795609 -3 0 -3 \nC -0.795609 -3 -1.55874 -2.683901 -2.12132 -2.12132 \nC -2.683901 -1.55874 -3 -0.795609 -3 0 \nC -3 0.795609 -2.683901 1.55874 -2.12132 2.12132 \nC -1.55874 2.683901 -0.795609 3 0 3 \nz\n\" id=\"mee3b64ac45\" style=\"stroke:#e6194b;\"/>\n    </defs>\n    <g clip-path=\"url(#pfc7be97b4f)\">\n     <use style=\"fill:#e6194b;stroke:#e6194b;\" x=\"207.940992\" xlink:href=\"#mee3b64ac45\" y=\"62.721539\"/>\n     <use style=\"fill:#e6194b;stroke:#e6194b;\" x=\"185.470028\" xlink:href=\"#mee3b64ac45\" y=\"32.085882\"/>\n     <use style=\"fill:#e6194b;stroke:#e6194b;\" x=\"210.195997\" xlink:href=\"#mee3b64ac45\" y=\"102.250857\"/>\n     <use style=\"fill:#e6194b;stroke:#e6194b;\" x=\"215.512505\" xlink:href=\"#mee3b64ac45\" y=\"62.694407\"/>\n     <use style=\"fill:#e6194b;stroke:#e6194b;\" x=\"209.258232\" xlink:href=\"#mee3b64ac45\" y=\"102.790272\"/>\n     <use style=\"fill:#e6194b;stroke:#e6194b;\" x=\"176.363467\" xlink:href=\"#mee3b64ac45\" y=\"57.845777\"/>\n     <use style=\"fill:#e6194b;stroke:#e6194b;\" x=\"156.138036\" xlink:href=\"#mee3b64ac45\" y=\"82.73463\"/>\n     <use style=\"fill:#e6194b;stroke:#e6194b;\" x=\"167.751553\" xlink:href=\"#mee3b64ac45\" y=\"87.148586\"/>\n     <use style=\"fill:#e6194b;stroke:#e6194b;\" x=\"180.26233\" xlink:href=\"#mee3b64ac45\" y=\"63.383434\"/>\n     <use style=\"fill:#e6194b;stroke:#e6194b;\" x=\"212.885313\" xlink:href=\"#mee3b64ac45\" y=\"67.909715\"/>\n     <use style=\"fill:#e6194b;stroke:#e6194b;\" x=\"184.93899\" xlink:href=\"#mee3b64ac45\" y=\"29.003051\"/>\n     <use style=\"fill:#e6194b;stroke:#e6194b;\" x=\"158.250144\" xlink:href=\"#mee3b64ac45\" y=\"64.139924\"/>\n     <use style=\"fill:#e6194b;stroke:#e6194b;\" x=\"176.521458\" xlink:href=\"#mee3b64ac45\" y=\"22.046265\"/>\n     <use style=\"fill:#e6194b;stroke:#e6194b;\" x=\"170.447447\" xlink:href=\"#mee3b64ac45\" y=\"107.932714\"/>\n     <use style=\"fill:#e6194b;stroke:#e6194b;\" x=\"124.425407\" xlink:href=\"#mee3b64ac45\" y=\"17.31371\"/>\n     <use style=\"fill:#e6194b;stroke:#e6194b;\" x=\"203.215387\" xlink:href=\"#mee3b64ac45\" y=\"66.222487\"/>\n     <use style=\"fill:#e6194b;stroke:#e6194b;\" x=\"233.825958\" xlink:href=\"#mee3b64ac45\" y=\"81.25087\"/>\n     <use style=\"fill:#e6194b;stroke:#e6194b;\" x=\"245.80668\" xlink:href=\"#mee3b64ac45\" y=\"46.702298\"/>\n     <use style=\"fill:#e6194b;stroke:#e6194b;\" x=\"204.43313\" xlink:href=\"#mee3b64ac45\" y=\"26.375978\"/>\n     <use style=\"fill:#e6194b;stroke:#e6194b;\" x=\"210.799731\" xlink:href=\"#mee3b64ac45\" y=\"54.074026\"/>\n     <use style=\"fill:#e6194b;stroke:#e6194b;\" x=\"233.89485\" xlink:href=\"#mee3b64ac45\" y=\"48.922125\"/>\n     <use style=\"fill:#e6194b;stroke:#e6194b;\" x=\"186.801922\" xlink:href=\"#mee3b64ac45\" y=\"50.334676\"/>\n     <use style=\"fill:#e6194b;stroke:#e6194b;\" x=\"158.999013\" xlink:href=\"#mee3b64ac45\" y=\"65.975004\"/>\n     <use style=\"fill:#e6194b;stroke:#e6194b;\" x=\"240.416459\" xlink:href=\"#mee3b64ac45\" y=\"63.393946\"/>\n     <use style=\"fill:#e6194b;stroke:#e6194b;\" x=\"189.540828\" xlink:href=\"#mee3b64ac45\" y=\"82.23699\"/>\n     <use style=\"fill:#e6194b;stroke:#e6194b;\" x=\"220.207072\" xlink:href=\"#mee3b64ac45\" y=\"41.477969\"/>\n     <use style=\"fill:#e6194b;stroke:#e6194b;\" x=\"185.704048\" xlink:href=\"#mee3b64ac45\" y=\"18.973444\"/>\n     <use style=\"fill:#e6194b;stroke:#e6194b;\" x=\"229.964943\" xlink:href=\"#mee3b64ac45\" y=\"50.329506\"/>\n     <use style=\"fill:#e6194b;stroke:#e6194b;\" x=\"230.799799\" xlink:href=\"#mee3b64ac45\" y=\"65.685188\"/>\n     <use style=\"fill:#e6194b;stroke:#e6194b;\" x=\"201.964747\" xlink:href=\"#mee3b64ac45\" y=\"44.578258\"/>\n     <use style=\"fill:#e6194b;stroke:#e6194b;\" x=\"162.840141\" xlink:href=\"#mee3b64ac45\" y=\"85.621731\"/>\n     <use style=\"fill:#e6194b;stroke:#e6194b;\" x=\"227.814387\" xlink:href=\"#mee3b64ac45\" y=\"64.5855\"/>\n     <use style=\"fill:#e6194b;stroke:#e6194b;\" x=\"142.360651\" xlink:href=\"#mee3b64ac45\" y=\"22.334019\"/>\n     <use style=\"fill:#e6194b;stroke:#e6194b;\" x=\"199.181809\" xlink:href=\"#mee3b64ac45\" y=\"60.293453\"/>\n    </g>\n   </g>\n   <g id=\"PathCollection_2\">\n    <defs>\n     <path d=\"M 0 3 \nC 0.795609 3 1.55874 2.683901 2.12132 2.12132 \nC 2.683901 1.55874 3 0.795609 3 0 \nC 3 -0.795609 2.683901 -1.55874 2.12132 -2.12132 \nC 1.55874 -2.683901 0.795609 -3 0 -3 \nC -0.795609 -3 -1.55874 -2.683901 -2.12132 -2.12132 \nC -2.683901 -1.55874 -3 -0.795609 -3 0 \nC -3 0.795609 -2.683901 1.55874 -2.12132 2.12132 \nC -1.55874 2.683901 -0.795609 3 0 3 \nz\n\" id=\"m35be5b522d\" style=\"stroke:#3cb44b;\"/>\n    </defs>\n    <g clip-path=\"url(#pfc7be97b4f)\">\n     <use style=\"fill:#3cb44b;stroke:#3cb44b;\" x=\"150.097528\" xlink:href=\"#m35be5b522d\" y=\"186.724452\"/>\n     <use style=\"fill:#3cb44b;stroke:#3cb44b;\" x=\"118.58556\" xlink:href=\"#m35be5b522d\" y=\"139.178622\"/>\n     <use style=\"fill:#3cb44b;stroke:#3cb44b;\" x=\"109.479271\" xlink:href=\"#m35be5b522d\" y=\"147.855805\"/>\n     <use style=\"fill:#3cb44b;stroke:#3cb44b;\" x=\"124.751935\" xlink:href=\"#m35be5b522d\" y=\"163.223815\"/>\n     <use style=\"fill:#3cb44b;stroke:#3cb44b;\" x=\"92.285476\" xlink:href=\"#m35be5b522d\" y=\"163.683493\"/>\n     <use style=\"fill:#3cb44b;stroke:#3cb44b;\" x=\"51.722883\" xlink:href=\"#m35be5b522d\" y=\"180.394085\"/>\n     <use style=\"fill:#3cb44b;stroke:#3cb44b;\" x=\"159.905903\" xlink:href=\"#m35be5b522d\" y=\"192.385087\"/>\n     <use style=\"fill:#3cb44b;stroke:#3cb44b;\" x=\"120.89843\" xlink:href=\"#m35be5b522d\" y=\"143.254376\"/>\n     <use style=\"fill:#3cb44b;stroke:#3cb44b;\" x=\"145.006541\" xlink:href=\"#m35be5b522d\" y=\"151.332375\"/>\n     <use style=\"fill:#3cb44b;stroke:#3cb44b;\" x=\"135.928125\" xlink:href=\"#m35be5b522d\" y=\"149.766074\"/>\n     <use style=\"fill:#3cb44b;stroke:#3cb44b;\" x=\"106.238122\" xlink:href=\"#m35be5b522d\" y=\"124.287905\"/>\n     <use style=\"fill:#3cb44b;stroke:#3cb44b;\" x=\"156.953828\" xlink:href=\"#m35be5b522d\" y=\"182.410997\"/>\n     <use style=\"fill:#3cb44b;stroke:#3cb44b;\" x=\"174.432718\" xlink:href=\"#m35be5b522d\" y=\"151.331268\"/>\n     <use style=\"fill:#3cb44b;stroke:#3cb44b;\" x=\"142.374141\" xlink:href=\"#m35be5b522d\" y=\"139.010413\"/>\n     <use style=\"fill:#3cb44b;stroke:#3cb44b;\" x=\"160.482455\" xlink:href=\"#m35be5b522d\" y=\"141.87233\"/>\n     <use style=\"fill:#3cb44b;stroke:#3cb44b;\" x=\"149.424697\" xlink:href=\"#m35be5b522d\" y=\"162.390834\"/>\n     <use style=\"fill:#3cb44b;stroke:#3cb44b;\" x=\"131.731251\" xlink:href=\"#m35be5b522d\" y=\"149.477265\"/>\n     <use style=\"fill:#3cb44b;stroke:#3cb44b;\" x=\"94.910982\" xlink:href=\"#m35be5b522d\" y=\"166.872119\"/>\n     <use style=\"fill:#3cb44b;stroke:#3cb44b;\" x=\"130.209737\" xlink:href=\"#m35be5b522d\" y=\"143.777364\"/>\n     <use style=\"fill:#3cb44b;stroke:#3cb44b;\" x=\"141.267057\" xlink:href=\"#m35be5b522d\" y=\"164.988249\"/>\n     <use style=\"fill:#3cb44b;stroke:#3cb44b;\" x=\"91.010483\" xlink:href=\"#m35be5b522d\" y=\"144.917914\"/>\n     <use style=\"fill:#3cb44b;stroke:#3cb44b;\" x=\"168.025859\" xlink:href=\"#m35be5b522d\" y=\"135.833691\"/>\n     <use style=\"fill:#3cb44b;stroke:#3cb44b;\" x=\"116.352113\" xlink:href=\"#m35be5b522d\" y=\"173.945753\"/>\n     <use style=\"fill:#3cb44b;stroke:#3cb44b;\" x=\"141.029458\" xlink:href=\"#m35be5b522d\" y=\"147.307324\"/>\n     <use style=\"fill:#3cb44b;stroke:#3cb44b;\" x=\"77.151657\" xlink:href=\"#m35be5b522d\" y=\"169.397611\"/>\n     <use style=\"fill:#3cb44b;stroke:#3cb44b;\" x=\"133.151922\" xlink:href=\"#m35be5b522d\" y=\"157.501778\"/>\n     <use style=\"fill:#3cb44b;stroke:#3cb44b;\" x=\"86.698642\" xlink:href=\"#m35be5b522d\" y=\"159.116609\"/>\n     <use style=\"fill:#3cb44b;stroke:#3cb44b;\" x=\"78.497403\" xlink:href=\"#m35be5b522d\" y=\"137.518596\"/>\n     <use style=\"fill:#3cb44b;stroke:#3cb44b;\" x=\"148.626741\" xlink:href=\"#m35be5b522d\" y=\"138.054954\"/>\n     <use style=\"fill:#3cb44b;stroke:#3cb44b;\" x=\"113.367378\" xlink:href=\"#m35be5b522d\" y=\"155.959548\"/>\n     <use style=\"fill:#3cb44b;stroke:#3cb44b;\" x=\"81.897154\" xlink:href=\"#m35be5b522d\" y=\"178.356597\"/>\n     <use style=\"fill:#3cb44b;stroke:#3cb44b;\" x=\"152.300614\" xlink:href=\"#m35be5b522d\" y=\"140.046657\"/>\n     <use style=\"fill:#3cb44b;stroke:#3cb44b;\" x=\"102.029959\" xlink:href=\"#m35be5b522d\" y=\"150.662703\"/>\n    </g>\n   </g>\n   <g id=\"PathCollection_3\">\n    <defs>\n     <path d=\"M 0 3 \nC 0.795609 3 1.55874 2.683901 2.12132 2.12132 \nC 2.683901 1.55874 3 0.795609 3 0 \nC 3 -0.795609 2.683901 -1.55874 2.12132 -2.12132 \nC 1.55874 -2.683901 0.795609 -3 0 -3 \nC -0.795609 -3 -1.55874 -2.683901 -2.12132 -2.12132 \nC -2.683901 -1.55874 -3 -0.795609 -3 0 \nC -3 0.795609 -2.683901 1.55874 -2.12132 2.12132 \nC -1.55874 2.683901 -0.795609 3 0 3 \nz\n\" id=\"m4d58b72b08\" style=\"stroke:#ffe119;\"/>\n    </defs>\n    <g clip-path=\"url(#pfc7be97b4f)\">\n     <use style=\"fill:#ffe119;stroke:#ffe119;\" x=\"291.29729\" xlink:href=\"#m4d58b72b08\" y=\"167.431935\"/>\n     <use style=\"fill:#ffe119;stroke:#ffe119;\" x=\"302.863139\" xlink:href=\"#m4d58b72b08\" y=\"212.074905\"/>\n     <use style=\"fill:#ffe119;stroke:#ffe119;\" x=\"259.027901\" xlink:href=\"#m4d58b72b08\" y=\"149.761129\"/>\n     <use style=\"fill:#ffe119;stroke:#ffe119;\" x=\"260.479612\" xlink:href=\"#m4d58b72b08\" y=\"177.059821\"/>\n     <use style=\"fill:#ffe119;stroke:#ffe119;\" x=\"254.678552\" xlink:href=\"#m4d58b72b08\" y=\"184.91893\"/>\n     <use style=\"fill:#ffe119;stroke:#ffe119;\" x=\"302.415474\" xlink:href=\"#m4d58b72b08\" y=\"159.130961\"/>\n     <use style=\"fill:#ffe119;stroke:#ffe119;\" x=\"268.617876\" xlink:href=\"#m4d58b72b08\" y=\"163.41476\"/>\n     <use style=\"fill:#ffe119;stroke:#ffe119;\" x=\"312.120107\" xlink:href=\"#m4d58b72b08\" y=\"145.67969\"/>\n     <use style=\"fill:#ffe119;stroke:#ffe119;\" x=\"294.34475\" xlink:href=\"#m4d58b72b08\" y=\"183.067564\"/>\n     <use style=\"fill:#ffe119;stroke:#ffe119;\" x=\"235.869609\" xlink:href=\"#m4d58b72b08\" y=\"173.51109\"/>\n     <use style=\"fill:#ffe119;stroke:#ffe119;\" x=\"352.959864\" xlink:href=\"#m4d58b72b08\" y=\"183.007525\"/>\n     <use style=\"fill:#ffe119;stroke:#ffe119;\" x=\"308.734082\" xlink:href=\"#m4d58b72b08\" y=\"128.805766\"/>\n     <use style=\"fill:#ffe119;stroke:#ffe119;\" x=\"248.886495\" xlink:href=\"#m4d58b72b08\" y=\"165.262412\"/>\n     <use style=\"fill:#ffe119;stroke:#ffe119;\" x=\"281.307136\" xlink:href=\"#m4d58b72b08\" y=\"134.409932\"/>\n     <use style=\"fill:#ffe119;stroke:#ffe119;\" x=\"252.878169\" xlink:href=\"#m4d58b72b08\" y=\"150.092451\"/>\n     <use style=\"fill:#ffe119;stroke:#ffe119;\" x=\"290.339367\" xlink:href=\"#m4d58b72b08\" y=\"165.206661\"/>\n     <use style=\"fill:#ffe119;stroke:#ffe119;\" x=\"301.204184\" xlink:href=\"#m4d58b72b08\" y=\"156.403679\"/>\n     <use style=\"fill:#ffe119;stroke:#ffe119;\" x=\"334.762122\" xlink:href=\"#m4d58b72b08\" y=\"188.675784\"/>\n     <use style=\"fill:#ffe119;stroke:#ffe119;\" x=\"281.935527\" xlink:href=\"#m4d58b72b08\" y=\"168.246333\"/>\n     <use style=\"fill:#ffe119;stroke:#ffe119;\" x=\"313.064113\" xlink:href=\"#m4d58b72b08\" y=\"138.188961\"/>\n     <use style=\"fill:#ffe119;stroke:#ffe119;\" x=\"306.763282\" xlink:href=\"#m4d58b72b08\" y=\"155.709156\"/>\n     <use style=\"fill:#ffe119;stroke:#ffe119;\" x=\"278.603755\" xlink:href=\"#m4d58b72b08\" y=\"120.035136\"/>\n     <use style=\"fill:#ffe119;stroke:#ffe119;\" x=\"282.431537\" xlink:href=\"#m4d58b72b08\" y=\"126.611661\"/>\n     <use style=\"fill:#ffe119;stroke:#ffe119;\" x=\"301.600864\" xlink:href=\"#m4d58b72b08\" y=\"162.025998\"/>\n     <use style=\"fill:#ffe119;stroke:#ffe119;\" x=\"299.149673\" xlink:href=\"#m4d58b72b08\" y=\"152.651932\"/>\n     <use style=\"fill:#ffe119;stroke:#ffe119;\" x=\"309.343028\" xlink:href=\"#m4d58b72b08\" y=\"171.323005\"/>\n     <use style=\"fill:#ffe119;stroke:#ffe119;\" x=\"309.696035\" xlink:href=\"#m4d58b72b08\" y=\"125.303065\"/>\n     <use style=\"fill:#ffe119;stroke:#ffe119;\" x=\"288.234639\" xlink:href=\"#m4d58b72b08\" y=\"159.053304\"/>\n     <use style=\"fill:#ffe119;stroke:#ffe119;\" x=\"272.338745\" xlink:href=\"#m4d58b72b08\" y=\"123.837696\"/>\n     <use style=\"fill:#ffe119;stroke:#ffe119;\" x=\"261.80678\" xlink:href=\"#m4d58b72b08\" y=\"159.912656\"/>\n     <use style=\"fill:#ffe119;stroke:#ffe119;\" x=\"272.403751\" xlink:href=\"#m4d58b72b08\" y=\"186.504236\"/>\n     <use style=\"fill:#ffe119;stroke:#ffe119;\" x=\"260.20316\" xlink:href=\"#m4d58b72b08\" y=\"158.682632\"/>\n     <use style=\"fill:#ffe119;stroke:#ffe119;\" x=\"272.104906\" xlink:href=\"#m4d58b72b08\" y=\"142.730533\"/>\n    </g>\n   </g>\n   <g id=\"matplotlib.axis_1\">\n    <g id=\"xtick_1\">\n     <g id=\"line2d_1\">\n      <defs>\n       <path d=\"M 0 0 \nL 0 3.5 \n\" id=\"m7020999b90\" style=\"stroke:#000000;stroke-width:0.8;\"/>\n      </defs>\n      <g>\n       <use style=\"stroke:#000000;stroke-width:0.8;\" x=\"36.394729\" xlink:href=\"#m7020999b90\" y=\"224.64\"/>\n      </g>\n     </g>\n     <g id=\"text_1\">\n      <!-- −12 -->\n      <defs>\n       <path d=\"M 10.59375 35.5 \nL 73.1875 35.5 \nL 73.1875 27.203125 \nL 10.59375 27.203125 \nz\n\" id=\"DejaVuSans-8722\"/>\n       <path d=\"M 12.40625 8.296875 \nL 28.515625 8.296875 \nL 28.515625 63.921875 \nL 10.984375 60.40625 \nL 10.984375 69.390625 \nL 28.421875 72.90625 \nL 38.28125 72.90625 \nL 38.28125 8.296875 \nL 54.390625 8.296875 \nL 54.390625 0 \nL 12.40625 0 \nz\n\" id=\"DejaVuSans-49\"/>\n       <path d=\"M 19.1875 8.296875 \nL 53.609375 8.296875 \nL 53.609375 0 \nL 7.328125 0 \nL 7.328125 8.296875 \nQ 12.9375 14.109375 22.625 23.890625 \nQ 32.328125 33.6875 34.8125 36.53125 \nQ 39.546875 41.84375 41.421875 45.53125 \nQ 43.3125 49.21875 43.3125 52.78125 \nQ 43.3125 58.59375 39.234375 62.25 \nQ 35.15625 65.921875 28.609375 65.921875 \nQ 23.96875 65.921875 18.8125 64.3125 \nQ 13.671875 62.703125 7.8125 59.421875 \nL 7.8125 69.390625 \nQ 13.765625 71.78125 18.9375 73 \nQ 24.125 74.21875 28.421875 74.21875 \nQ 39.75 74.21875 46.484375 68.546875 \nQ 53.21875 62.890625 53.21875 53.421875 \nQ 53.21875 48.921875 51.53125 44.890625 \nQ 49.859375 40.875 45.40625 35.40625 \nQ 44.1875 33.984375 37.640625 27.21875 \nQ 31.109375 20.453125 19.1875 8.296875 \nz\n\" id=\"DejaVuSans-50\"/>\n      </defs>\n      <g transform=\"translate(25.842386 239.238437)scale(0.1 -0.1)\">\n       <use xlink:href=\"#DejaVuSans-8722\"/>\n       <use x=\"83.789062\" xlink:href=\"#DejaVuSans-49\"/>\n       <use x=\"147.412109\" xlink:href=\"#DejaVuSans-50\"/>\n      </g>\n     </g>\n    </g>\n    <g id=\"xtick_2\">\n     <g id=\"line2d_2\">\n      <g>\n       <use style=\"stroke:#000000;stroke-width:0.8;\" x=\"77.19132\" xlink:href=\"#m7020999b90\" y=\"224.64\"/>\n      </g>\n     </g>\n     <g id=\"text_2\">\n      <!-- −10 -->\n      <defs>\n       <path d=\"M 31.78125 66.40625 \nQ 24.171875 66.40625 20.328125 58.90625 \nQ 16.5 51.421875 16.5 36.375 \nQ 16.5 21.390625 20.328125 13.890625 \nQ 24.171875 6.390625 31.78125 6.390625 \nQ 39.453125 6.390625 43.28125 13.890625 \nQ 47.125 21.390625 47.125 36.375 \nQ 47.125 51.421875 43.28125 58.90625 \nQ 39.453125 66.40625 31.78125 66.40625 \nz\nM 31.78125 74.21875 \nQ 44.046875 74.21875 50.515625 64.515625 \nQ 56.984375 54.828125 56.984375 36.375 \nQ 56.984375 17.96875 50.515625 8.265625 \nQ 44.046875 -1.421875 31.78125 -1.421875 \nQ 19.53125 -1.421875 13.0625 8.265625 \nQ 6.59375 17.96875 6.59375 36.375 \nQ 6.59375 54.828125 13.0625 64.515625 \nQ 19.53125 74.21875 31.78125 74.21875 \nz\n\" id=\"DejaVuSans-48\"/>\n      </defs>\n      <g transform=\"translate(66.638976 239.238437)scale(0.1 -0.1)\">\n       <use xlink:href=\"#DejaVuSans-8722\"/>\n       <use x=\"83.789062\" xlink:href=\"#DejaVuSans-49\"/>\n       <use x=\"147.412109\" xlink:href=\"#DejaVuSans-48\"/>\n      </g>\n     </g>\n    </g>\n    <g id=\"xtick_3\">\n     <g id=\"line2d_3\">\n      <g>\n       <use style=\"stroke:#000000;stroke-width:0.8;\" x=\"117.98791\" xlink:href=\"#m7020999b90\" y=\"224.64\"/>\n      </g>\n     </g>\n     <g id=\"text_3\">\n      <!-- −8 -->\n      <defs>\n       <path d=\"M 31.78125 34.625 \nQ 24.75 34.625 20.71875 30.859375 \nQ 16.703125 27.09375 16.703125 20.515625 \nQ 16.703125 13.921875 20.71875 10.15625 \nQ 24.75 6.390625 31.78125 6.390625 \nQ 38.8125 6.390625 42.859375 10.171875 \nQ 46.921875 13.96875 46.921875 20.515625 \nQ 46.921875 27.09375 42.890625 30.859375 \nQ 38.875 34.625 31.78125 34.625 \nz\nM 21.921875 38.8125 \nQ 15.578125 40.375 12.03125 44.71875 \nQ 8.5 49.078125 8.5 55.328125 \nQ 8.5 64.0625 14.71875 69.140625 \nQ 20.953125 74.21875 31.78125 74.21875 \nQ 42.671875 74.21875 48.875 69.140625 \nQ 55.078125 64.0625 55.078125 55.328125 \nQ 55.078125 49.078125 51.53125 44.71875 \nQ 48 40.375 41.703125 38.8125 \nQ 48.828125 37.15625 52.796875 32.3125 \nQ 56.78125 27.484375 56.78125 20.515625 \nQ 56.78125 9.90625 50.3125 4.234375 \nQ 43.84375 -1.421875 31.78125 -1.421875 \nQ 19.734375 -1.421875 13.25 4.234375 \nQ 6.78125 9.90625 6.78125 20.515625 \nQ 6.78125 27.484375 10.78125 32.3125 \nQ 14.796875 37.15625 21.921875 38.8125 \nz\nM 18.3125 54.390625 \nQ 18.3125 48.734375 21.84375 45.5625 \nQ 25.390625 42.390625 31.78125 42.390625 \nQ 38.140625 42.390625 41.71875 45.5625 \nQ 45.3125 48.734375 45.3125 54.390625 \nQ 45.3125 60.0625 41.71875 63.234375 \nQ 38.140625 66.40625 31.78125 66.40625 \nQ 25.390625 66.40625 21.84375 63.234375 \nQ 18.3125 60.0625 18.3125 54.390625 \nz\n\" id=\"DejaVuSans-56\"/>\n      </defs>\n      <g transform=\"translate(110.616817 239.238437)scale(0.1 -0.1)\">\n       <use xlink:href=\"#DejaVuSans-8722\"/>\n       <use x=\"83.789062\" xlink:href=\"#DejaVuSans-56\"/>\n      </g>\n     </g>\n    </g>\n    <g id=\"xtick_4\">\n     <g id=\"line2d_4\">\n      <g>\n       <use style=\"stroke:#000000;stroke-width:0.8;\" x=\"158.784501\" xlink:href=\"#m7020999b90\" y=\"224.64\"/>\n      </g>\n     </g>\n     <g id=\"text_4\">\n      <!-- −6 -->\n      <defs>\n       <path d=\"M 33.015625 40.375 \nQ 26.375 40.375 22.484375 35.828125 \nQ 18.609375 31.296875 18.609375 23.390625 \nQ 18.609375 15.53125 22.484375 10.953125 \nQ 26.375 6.390625 33.015625 6.390625 \nQ 39.65625 6.390625 43.53125 10.953125 \nQ 47.40625 15.53125 47.40625 23.390625 \nQ 47.40625 31.296875 43.53125 35.828125 \nQ 39.65625 40.375 33.015625 40.375 \nz\nM 52.59375 71.296875 \nL 52.59375 62.3125 \nQ 48.875 64.0625 45.09375 64.984375 \nQ 41.3125 65.921875 37.59375 65.921875 \nQ 27.828125 65.921875 22.671875 59.328125 \nQ 17.53125 52.734375 16.796875 39.40625 \nQ 19.671875 43.65625 24.015625 45.921875 \nQ 28.375 48.1875 33.59375 48.1875 \nQ 44.578125 48.1875 50.953125 41.515625 \nQ 57.328125 34.859375 57.328125 23.390625 \nQ 57.328125 12.15625 50.6875 5.359375 \nQ 44.046875 -1.421875 33.015625 -1.421875 \nQ 20.359375 -1.421875 13.671875 8.265625 \nQ 6.984375 17.96875 6.984375 36.375 \nQ 6.984375 53.65625 15.1875 63.9375 \nQ 23.390625 74.21875 37.203125 74.21875 \nQ 40.921875 74.21875 44.703125 73.484375 \nQ 48.484375 72.75 52.59375 71.296875 \nz\n\" id=\"DejaVuSans-54\"/>\n      </defs>\n      <g transform=\"translate(151.413407 239.238437)scale(0.1 -0.1)\">\n       <use xlink:href=\"#DejaVuSans-8722\"/>\n       <use x=\"83.789062\" xlink:href=\"#DejaVuSans-54\"/>\n      </g>\n     </g>\n    </g>\n    <g id=\"xtick_5\">\n     <g id=\"line2d_5\">\n      <g>\n       <use style=\"stroke:#000000;stroke-width:0.8;\" x=\"199.581091\" xlink:href=\"#m7020999b90\" y=\"224.64\"/>\n      </g>\n     </g>\n     <g id=\"text_5\">\n      <!-- −4 -->\n      <defs>\n       <path d=\"M 37.796875 64.3125 \nL 12.890625 25.390625 \nL 37.796875 25.390625 \nz\nM 35.203125 72.90625 \nL 47.609375 72.90625 \nL 47.609375 25.390625 \nL 58.015625 25.390625 \nL 58.015625 17.1875 \nL 47.609375 17.1875 \nL 47.609375 0 \nL 37.796875 0 \nL 37.796875 17.1875 \nL 4.890625 17.1875 \nL 4.890625 26.703125 \nz\n\" id=\"DejaVuSans-52\"/>\n      </defs>\n      <g transform=\"translate(192.209997 239.238437)scale(0.1 -0.1)\">\n       <use xlink:href=\"#DejaVuSans-8722\"/>\n       <use x=\"83.789062\" xlink:href=\"#DejaVuSans-52\"/>\n      </g>\n     </g>\n    </g>\n    <g id=\"xtick_6\">\n     <g id=\"line2d_6\">\n      <g>\n       <use style=\"stroke:#000000;stroke-width:0.8;\" x=\"240.377682\" xlink:href=\"#m7020999b90\" y=\"224.64\"/>\n      </g>\n     </g>\n     <g id=\"text_6\">\n      <!-- −2 -->\n      <g transform=\"translate(233.006588 239.238437)scale(0.1 -0.1)\">\n       <use xlink:href=\"#DejaVuSans-8722\"/>\n       <use x=\"83.789062\" xlink:href=\"#DejaVuSans-50\"/>\n      </g>\n     </g>\n    </g>\n    <g id=\"xtick_7\">\n     <g id=\"line2d_7\">\n      <g>\n       <use style=\"stroke:#000000;stroke-width:0.8;\" x=\"281.174272\" xlink:href=\"#m7020999b90\" y=\"224.64\"/>\n      </g>\n     </g>\n     <g id=\"text_7\">\n      <!-- 0 -->\n      <g transform=\"translate(277.993022 239.238437)scale(0.1 -0.1)\">\n       <use xlink:href=\"#DejaVuSans-48\"/>\n      </g>\n     </g>\n    </g>\n    <g id=\"xtick_8\">\n     <g id=\"line2d_8\">\n      <g>\n       <use style=\"stroke:#000000;stroke-width:0.8;\" x=\"321.970863\" xlink:href=\"#m7020999b90\" y=\"224.64\"/>\n      </g>\n     </g>\n     <g id=\"text_8\">\n      <!-- 2 -->\n      <g transform=\"translate(318.789613 239.238437)scale(0.1 -0.1)\">\n       <use xlink:href=\"#DejaVuSans-50\"/>\n      </g>\n     </g>\n    </g>\n    <g id=\"xtick_9\">\n     <g id=\"line2d_9\">\n      <g>\n       <use style=\"stroke:#000000;stroke-width:0.8;\" x=\"362.767453\" xlink:href=\"#m7020999b90\" y=\"224.64\"/>\n      </g>\n     </g>\n     <g id=\"text_9\">\n      <!-- 4 -->\n      <g transform=\"translate(359.586203 239.238437)scale(0.1 -0.1)\">\n       <use xlink:href=\"#DejaVuSans-52\"/>\n      </g>\n     </g>\n    </g>\n   </g>\n   <g id=\"matplotlib.axis_2\">\n    <g id=\"ytick_1\">\n     <g id=\"line2d_10\">\n      <defs>\n       <path d=\"M 0 0 \nL -3.5 0 \n\" id=\"m8edccbb0f6\" style=\"stroke:#000000;stroke-width:0.8;\"/>\n      </defs>\n      <g>\n       <use style=\"stroke:#000000;stroke-width:0.8;\" x=\"35.304688\" xlink:href=\"#m8edccbb0f6\" y=\"197.22392\"/>\n      </g>\n     </g>\n     <g id=\"text_10\">\n      <!-- −10 -->\n      <g transform=\"translate(7.2 201.023139)scale(0.1 -0.1)\">\n       <use xlink:href=\"#DejaVuSans-8722\"/>\n       <use x=\"83.789062\" xlink:href=\"#DejaVuSans-49\"/>\n       <use x=\"147.412109\" xlink:href=\"#DejaVuSans-48\"/>\n      </g>\n     </g>\n    </g>\n    <g id=\"ytick_2\">\n     <g id=\"line2d_11\">\n      <g>\n       <use style=\"stroke:#000000;stroke-width:0.8;\" x=\"35.304688\" xlink:href=\"#m8edccbb0f6\" y=\"163.872486\"/>\n      </g>\n     </g>\n     <g id=\"text_11\">\n      <!-- −8 -->\n      <g transform=\"translate(13.5625 167.671705)scale(0.1 -0.1)\">\n       <use xlink:href=\"#DejaVuSans-8722\"/>\n       <use x=\"83.789062\" xlink:href=\"#DejaVuSans-56\"/>\n      </g>\n     </g>\n    </g>\n    <g id=\"ytick_3\">\n     <g id=\"line2d_12\">\n      <g>\n       <use style=\"stroke:#000000;stroke-width:0.8;\" x=\"35.304688\" xlink:href=\"#m8edccbb0f6\" y=\"130.521052\"/>\n      </g>\n     </g>\n     <g id=\"text_12\">\n      <!-- −6 -->\n      <g transform=\"translate(13.5625 134.320271)scale(0.1 -0.1)\">\n       <use xlink:href=\"#DejaVuSans-8722\"/>\n       <use x=\"83.789062\" xlink:href=\"#DejaVuSans-54\"/>\n      </g>\n     </g>\n    </g>\n    <g id=\"ytick_4\">\n     <g id=\"line2d_13\">\n      <g>\n       <use style=\"stroke:#000000;stroke-width:0.8;\" x=\"35.304688\" xlink:href=\"#m8edccbb0f6\" y=\"97.169618\"/>\n      </g>\n     </g>\n     <g id=\"text_13\">\n      <!-- −4 -->\n      <g transform=\"translate(13.5625 100.968837)scale(0.1 -0.1)\">\n       <use xlink:href=\"#DejaVuSans-8722\"/>\n       <use x=\"83.789062\" xlink:href=\"#DejaVuSans-52\"/>\n      </g>\n     </g>\n    </g>\n    <g id=\"ytick_5\">\n     <g id=\"line2d_14\">\n      <g>\n       <use style=\"stroke:#000000;stroke-width:0.8;\" x=\"35.304688\" xlink:href=\"#m8edccbb0f6\" y=\"63.818184\"/>\n      </g>\n     </g>\n     <g id=\"text_14\">\n      <!-- −2 -->\n      <g transform=\"translate(13.5625 67.617403)scale(0.1 -0.1)\">\n       <use xlink:href=\"#DejaVuSans-8722\"/>\n       <use x=\"83.789062\" xlink:href=\"#DejaVuSans-50\"/>\n      </g>\n     </g>\n    </g>\n    <g id=\"ytick_6\">\n     <g id=\"line2d_15\">\n      <g>\n       <use style=\"stroke:#000000;stroke-width:0.8;\" x=\"35.304688\" xlink:href=\"#m8edccbb0f6\" y=\"30.46675\"/>\n      </g>\n     </g>\n     <g id=\"text_15\">\n      <!-- 0 -->\n      <g transform=\"translate(21.942188 34.265969)scale(0.1 -0.1)\">\n       <use xlink:href=\"#DejaVuSans-48\"/>\n      </g>\n     </g>\n    </g>\n   </g>\n   <g id=\"patch_3\">\n    <path d=\"M 35.304688 224.64 \nL 35.304688 7.2 \n\" style=\"fill:none;stroke:#000000;stroke-linecap:square;stroke-linejoin:miter;stroke-width:0.8;\"/>\n   </g>\n   <g id=\"patch_4\">\n    <path d=\"M 370.104688 224.64 \nL 370.104688 7.2 \n\" style=\"fill:none;stroke:#000000;stroke-linecap:square;stroke-linejoin:miter;stroke-width:0.8;\"/>\n   </g>\n   <g id=\"patch_5\">\n    <path d=\"M 35.304688 224.64 \nL 370.104688 224.64 \n\" style=\"fill:none;stroke:#000000;stroke-linecap:square;stroke-linejoin:miter;stroke-width:0.8;\"/>\n   </g>\n   <g id=\"patch_6\">\n    <path d=\"M 35.304688 7.2 \nL 370.104688 7.2 \n\" style=\"fill:none;stroke:#000000;stroke-linecap:square;stroke-linejoin:miter;stroke-width:0.8;\"/>\n   </g>\n  </g>\n </g>\n <defs>\n  <clipPath id=\"pfc7be97b4f\">\n   <rect height=\"217.44\" width=\"334.8\" x=\"35.304688\" y=\"7.2\"/>\n  </clipPath>\n </defs>\n</svg>\n",
      "image/png": "[encoded data removed]"
     },
     "metadata": {
      "needs_background": "light"
     }
    }
   ],
   "source": [
    "from utils import get_classification_data, show_data\n",
    "\n",
    "num_classes=3\n",
    "\n",
    "X, Y = get_classification_data(sd=1.5, m=100, n_clusters=num_classes)\n",
    "X.shape\n",
    "show_data(X, Y)"
   ]
  },
  {
   "cell_type": "code",
   "execution_count": 25,
   "metadata": {},
   "outputs": [],
   "source": [
    "import matplotlib.pyplot as plt\n",
    "\n",
    "class Classifier:\n",
    "    def __init__(self, n_features, n_classes):\n",
    "        self.w = np.random.rand(n_features, n_classes)\n",
    "        self.b = np.random.rand(n_classes)\n",
    "    \n",
    "    def __call__(self, x):\n",
    "        x = np.matmul(x, self.w) + self.b\n",
    "        x = softmax(x)\n",
    "        return x\n",
    "\n",
    "    def update_params(self, new_w, new_b):\n",
    "        self.w = new_w\n",
    "        self.b = new_b    \n",
    "\n",
    "    def calc_deriv(self, x, y_hat, label):\n",
    "        m = len(Y) # m = number of examples\n",
    "        diffs = y_hat - label # calculate errors\n",
    "        dzdb = 1\n",
    "        dzdw = x # needs to be distributed\n",
    "        dhdz = softmax(y_hat, label, grad=True)\n",
    "        print(dhdz.shape)\n",
    "        print(dzdw.shape)\n",
    "        dhdw = np.matmul(dhdz, dzdw)\n",
    "        dhdb = dhdz * dzdb\n",
    "        print('dhdw:', dhdw)\n",
    "        ssdc\n",
    "        return dhdw, dhdb\n"
   ]
  },
  {
   "cell_type": "code",
   "execution_count": 28,
   "metadata": {},
   "outputs": [
    {
     "output_type": "execute_result",
     "data": {
      "text/plain": "array([[1.84368697e-02, 8.88761737e-04, 7.30957572e-03],\n       [6.96953505e-04, 2.37013617e-05, 3.69418975e-04],\n       [1.16913603e-03, 8.26452177e-06, 2.88271346e-04],\n       [2.49747994e-02, 4.08457806e-04, 5.88953402e-03],\n       [8.62703349e-03, 7.17792732e-04, 4.82770317e-03],\n       [8.67171121e-04, 5.09451149e-06, 2.05166023e-04],\n       [2.04717992e-02, 1.25462277e-03, 8.89856560e-03],\n       [7.86828767e-04, 9.02678014e-06, 2.53644576e-04],\n       [8.42508990e-03, 6.84844549e-04, 4.68136464e-03],\n       [7.14986267e-03, 1.70724911e-02, 1.81274704e-02],\n       [1.31638568e-02, 2.19618972e-04, 3.41626665e-03],\n       [6.05903428e-03, 7.16935733e-05, 1.50074625e-03],\n       [3.43309659e-03, 2.02185385e-02, 1.43375012e-02],\n       [6.50804428e-03, 1.17397174e-04, 1.92385017e-03],\n       [4.98803263e-04, 2.05263042e-06, 1.08674540e-04],\n       [2.04398576e-04, 2.83544118e-07, 3.10691349e-05],\n       [6.53101335e-03, 4.52863003e-03, 9.69924049e-03],\n       [1.24332015e-02, 2.50888286e-04, 3.53731211e-03],\n       [7.12262027e-04, 3.53952042e-05, 4.45212169e-04],\n       [3.85988460e-03, 3.88868416e-03, 7.26334901e-03],\n       [1.11246415e-03, 8.88718850e-06, 2.91514465e-04],\n       [3.04554214e-03, 2.80446652e-03, 5.68755340e-03],\n       [1.31873211e-03, 2.49538397e-05, 4.94552270e-04],\n       [9.83580776e-03, 3.02597521e-02, 2.67140217e-02],\n       [1.20094660e-03, 1.67172852e-05, 3.98195380e-04],\n       [5.67146988e-03, 6.28128948e-03, 1.05623832e-02],\n       [1.77896670e-02, 1.06775418e-03, 7.80921345e-03],\n       [1.47097752e-02, 5.24075457e-02, 4.03645770e-02],\n       [2.63695521e-02, 4.08662014e-04, 6.02739909e-03],\n       [5.45398590e-03, 1.73059044e-02, 1.62689324e-02],\n       [9.04710233e-03, 9.15865313e-05, 1.98057280e-03],\n       [1.32867937e-03, 5.30810299e-06, 2.50120700e-04],\n       [2.69918360e-02, 2.94566690e-04, 5.26609602e-03],\n       [2.95372729e-03, 1.30548906e-03, 4.00294155e-03],\n       [8.34881767e-04, 3.35166125e-05, 4.64707440e-04],\n       [1.22295276e-02, 2.49342217e-01, 7.44597189e-02],\n       [1.96752937e-02, 5.14171654e-02, 4.52484844e-02],\n       [4.16650245e-03, 2.52164219e-03, 6.19293697e-03],\n       [1.20614361e-02, 1.41125342e-02, 2.07740335e-02],\n       [5.96161433e-03, 3.41413205e-03, 8.23651106e-03],\n       [7.37735402e-03, 1.66378748e-02, 1.81601081e-02],\n       [1.97679654e-03, 9.52098631e-05, 1.06091156e-03],\n       [4.45711363e-03, 1.12387449e-04, 1.60864720e-03],\n       [1.44912008e-02, 2.85804506e-05, 1.44304439e-03],\n       [1.02154865e-02, 2.92686976e-02, 2.67471161e-02],\n       [1.62720375e-03, 2.44302997e-05, 5.35346045e-04],\n       [1.97137231e-03, 5.44319314e-05, 8.27423041e-04],\n       [1.61083620e-02, 6.96995554e-04, 6.20093631e-03],\n       [1.12334362e-03, 2.79272132e-05, 4.85819645e-04],\n       [1.81721777e-02, 2.48862164e-03, 1.14580877e-02],\n       [8.50094697e-03, 1.04103178e-01, 4.33974440e-02],\n       [6.18438593e-03, 1.10777975e-02, 1.40815326e-02],\n       [1.14014275e-03, 1.38429199e-05, 3.58363488e-04],\n       [1.73101107e-02, 5.80868390e-02, 4.52465658e-02],\n       [1.11815370e-02, 3.79035102e-02, 3.11535160e-02],\n       [4.85201766e-04, 2.25485400e-06, 1.11975004e-04],\n       [4.27585356e-02, 5.65946176e-03, 2.36438078e-02],\n       [3.63394548e-02, 1.01332629e-03, 1.03127827e-02],\n       [1.25132760e-03, 1.35195970e-05, 3.68828646e-04],\n       [1.54913198e-02, 1.39999524e-02, 2.30047974e-02],\n       [1.43166501e-02, 1.58096628e-02, 2.34821170e-02],\n       [9.17912187e-03, 2.84909669e-02, 2.52644121e-02],\n       [2.27963902e-02, 1.08474834e-03, 8.73093014e-03],\n       [3.47201539e-02, 3.23334500e-03, 1.69043137e-02],\n       [1.76593592e-02, 3.75025237e-04, 4.89993045e-03],\n       [8.81142920e-03, 9.33802410e-05, 1.97553069e-03],\n       [9.53279490e-04, 1.88705886e-05, 3.81135621e-04],\n       [2.84354565e-02, 3.87482286e-03, 1.68346684e-02],\n       [1.07045316e-02, 2.74686173e-02, 2.65242857e-02],\n       [7.13319956e-04, 2.25070006e-06, 1.31627625e-04],\n       [2.46761413e-03, 8.05219067e-05, 1.08167961e-03],\n       [5.65695309e-04, 5.65294208e-06, 1.79413278e-04],\n       [1.35317212e-03, 2.15042947e-05, 4.68105720e-04],\n       [9.68897457e-03, 3.29108202e-04, 3.59045467e-03],\n       [3.33778846e-02, 1.84081680e-03, 1.29576363e-02],\n       [3.61320763e-04, 9.84852023e-07, 6.85400834e-05],\n       [9.90276777e-04, 1.38490974e-05, 3.37752811e-04],\n       [8.47837814e-03, 3.76191719e-02, 2.76295476e-02],\n       [2.13839390e-02, 5.52445756e-02, 4.83786411e-02],\n       [8.10524830e-03, 1.58812113e-02, 1.85100622e-02],\n       [1.31715421e-02, 1.02117557e-02, 1.86842222e-02],\n       [5.06074562e-04, 1.65108050e-06, 9.92989359e-05],\n       [6.96289640e-04, 1.35124953e-06, 1.03961878e-04],\n       [3.25669210e-02, 4.58493761e-04, 6.93268724e-03],\n       [1.80756357e-03, 3.27202759e-05, 6.36844323e-04],\n       [3.19802090e-02, 2.67359918e-03, 1.50110843e-02],\n       [5.53885163e-03, 4.73818280e-03, 9.23105979e-03],\n       [2.37963561e-02, 2.45606235e-03, 1.27634036e-02],\n       [3.76521207e-03, 6.20354066e-03, 8.83774385e-03],\n       [2.44091105e-02, 7.82925600e-04, 7.77892862e-03],\n       [6.27146865e-03, 9.50386344e-05, 1.72499540e-03],\n       [2.33467051e-02, 2.16302050e-03, 1.19689681e-02],\n       [7.77955711e-04, 5.69881043e-06, 2.05950221e-04],\n       [3.22431660e-04, 1.13769358e-06, 6.96324976e-05],\n       [1.67746058e-02, 6.20974854e-05, 2.16371270e-03],\n       [1.82702535e-03, 3.80629194e-05, 6.84005399e-04],\n       [7.39988192e-04, 3.54920418e-06, 1.63530708e-04],\n       [1.71571724e-02, 6.08298918e-04, 5.99588585e-03],\n       [5.55292490e-03, 4.44829807e-03, 8.98636909e-03],\n       [8.99833984e-03, 8.68625870e-03, 1.48114750e-02]])"
     },
     "metadata": {},
     "execution_count": 28
    }
   ],
   "source": [
    "from utils import visualise_predictions\n",
    "\n",
    "H = Classifier(n_features=2, n_classes=3)\n",
    "\n",
    "# softmax(X)\n",
    "H(X)\n",
    "# np.sum(H(X), axis=0)\n",
    "\n",
    "# visualise_predictions(H, X, Y) # visualise predictions before training"
   ]
  },
  {
   "cell_type": "code",
   "execution_count": 9,
   "metadata": {
    "tags": []
   },
   "outputs": [
    {
     "output_type": "stream",
     "name": "stdout",
     "text": "(3, 3)\n(2,)\n"
    },
    {
     "output_type": "error",
     "ename": "ValueError",
     "evalue": "matmul: Input operand 1 has a mismatch in its core dimension 0, with gufunc signature (n?,k),(k,m?)->(n?,m?) (size 2 is different from 3)",
     "traceback": [
      "\u001b[0;31m---------------------------------------------------------------------------\u001b[0m",
      "\u001b[0;31mValueError\u001b[0m                                Traceback (most recent call last)",
      "\u001b[0;32m<ipython-input-9-67f510884585>\u001b[0m in \u001b[0;36m<module>\u001b[0;34m\u001b[0m\n\u001b[1;32m     55\u001b[0m         \u001b[0mloss\u001b[0m \u001b[0;34m=\u001b[0m \u001b[0mCrossEntropyLoss\u001b[0m\u001b[0;34m(\u001b[0m\u001b[0mprediction\u001b[0m\u001b[0;34m,\u001b[0m \u001b[0my\u001b[0m\u001b[0;34m)\u001b[0m\u001b[0;34m\u001b[0m\u001b[0;34m\u001b[0m\u001b[0m\n\u001b[1;32m     56\u001b[0m         \u001b[0mepoch_losses\u001b[0m\u001b[0;34m.\u001b[0m\u001b[0mappend\u001b[0m\u001b[0;34m(\u001b[0m\u001b[0mloss\u001b[0m\u001b[0;34m)\u001b[0m\u001b[0;34m\u001b[0m\u001b[0;34m\u001b[0m\u001b[0m\n\u001b[0;32m---> 57\u001b[0;31m         \u001b[0mdhdw\u001b[0m\u001b[0;34m,\u001b[0m \u001b[0mdhdb\u001b[0m \u001b[0;34m=\u001b[0m \u001b[0mH\u001b[0m\u001b[0;34m.\u001b[0m\u001b[0mcalc_deriv\u001b[0m\u001b[0;34m(\u001b[0m\u001b[0mx\u001b[0m\u001b[0;34m,\u001b[0m \u001b[0mprediction\u001b[0m\u001b[0;34m,\u001b[0m \u001b[0my\u001b[0m\u001b[0;34m)\u001b[0m\u001b[0;34m\u001b[0m\u001b[0;34m\u001b[0m\u001b[0m\n\u001b[0m\u001b[1;32m     58\u001b[0m         \u001b[0;31m# print(prediction)\u001b[0m\u001b[0;34m\u001b[0m\u001b[0;34m\u001b[0m\u001b[0;34m\u001b[0m\u001b[0m\n\u001b[1;32m     59\u001b[0m         \u001b[0mprint\u001b[0m\u001b[0;34m(\u001b[0m\u001b[0;34m'dhdw'\u001b[0m\u001b[0;34m)\u001b[0m\u001b[0;34m\u001b[0m\u001b[0;34m\u001b[0m\u001b[0m\n",
      "\u001b[0;32m<ipython-input-9-67f510884585>\u001b[0m in \u001b[0;36mcalc_deriv\u001b[0;34m(self, x, y_hat, label)\u001b[0m\n\u001b[1;32m     23\u001b[0m         \u001b[0mprint\u001b[0m\u001b[0;34m(\u001b[0m\u001b[0mdhdz\u001b[0m\u001b[0;34m.\u001b[0m\u001b[0mshape\u001b[0m\u001b[0;34m)\u001b[0m\u001b[0;34m\u001b[0m\u001b[0;34m\u001b[0m\u001b[0m\n\u001b[1;32m     24\u001b[0m         \u001b[0mprint\u001b[0m\u001b[0;34m(\u001b[0m\u001b[0mdzdw\u001b[0m\u001b[0;34m.\u001b[0m\u001b[0mshape\u001b[0m\u001b[0;34m)\u001b[0m\u001b[0;34m\u001b[0m\u001b[0;34m\u001b[0m\u001b[0m\n\u001b[0;32m---> 25\u001b[0;31m         \u001b[0mdhdw\u001b[0m \u001b[0;34m=\u001b[0m \u001b[0mnp\u001b[0m\u001b[0;34m.\u001b[0m\u001b[0mmatmul\u001b[0m\u001b[0;34m(\u001b[0m\u001b[0mdhdz\u001b[0m\u001b[0;34m,\u001b[0m \u001b[0mdzdw\u001b[0m\u001b[0;34m)\u001b[0m\u001b[0;34m\u001b[0m\u001b[0;34m\u001b[0m\u001b[0m\n\u001b[0m\u001b[1;32m     26\u001b[0m         \u001b[0mdhdb\u001b[0m \u001b[0;34m=\u001b[0m \u001b[0mdhdz\u001b[0m \u001b[0;34m*\u001b[0m \u001b[0mdzdb\u001b[0m\u001b[0;34m\u001b[0m\u001b[0;34m\u001b[0m\u001b[0m\n\u001b[1;32m     27\u001b[0m         \u001b[0mprint\u001b[0m\u001b[0;34m(\u001b[0m\u001b[0;34m'dhdw:'\u001b[0m\u001b[0;34m,\u001b[0m \u001b[0mdhdw\u001b[0m\u001b[0;34m)\u001b[0m\u001b[0;34m\u001b[0m\u001b[0;34m\u001b[0m\u001b[0m\n",
      "\u001b[0;31mValueError\u001b[0m: matmul: Input operand 1 has a mismatch in its core dimension 0, with gufunc signature (n?,k),(k,m?)->(n?,m?) (size 2 is different from 3)"
     ]
    }
   ],
   "source": [
    "learning_rate = 0.001\n",
    "\n",
    "H = Classifier(n_features=2, n_classes=3)\n",
    "\n",
    "epochs = 1000\n",
    "losses = []\n",
    "for epoch in range(epochs):\n",
    "    epoch_losses = []\n",
    "    for x, y in zip(X, Y):\n",
    "        prediction = H(x)\n",
    "        # print(y)\n",
    "        loss = CrossEntropyLoss(prediction, y)\n",
    "        epoch_losses.append(loss)\n",
    "        dhdw, dhdb = H.calc_deriv(x, prediction, y)\n",
    "        # print(prediction)\n",
    "        print('dhdw')\n",
    "        print(dhdw)\n",
    "        print(dhdw.shape)\n",
    "\n",
    "        print('dhdb')\n",
    "        print(dhdb)\n",
    "        print(dhdb.shape)\n",
    "\n",
    "\n",
    "        dLdh = CrossEntropyLoss(prediction, y, grad=True)\n",
    "        print('dLdh:')\n",
    "        print(dLdh.shape)\n",
    "        print(dLdh)\n",
    "        print('dhdw')\n",
    "        print(dhdw)\n",
    "        print(dhdw.shape)\n",
    "        dLdw = dLdh * dhdw\n",
    "        print(dLdw)\n",
    "        dLdb = dLdh * dhdb\n",
    "        new_w = H.w - learning_rate * dLdw\n",
    "        new_b = H.b - learning_rate * dLdb\n",
    "        H.update_params(new_w, new_b)\n",
    "    plot_hypothesis(X, H, ax=ax1)\n",
    "    fig.canvas.draw()\n",
    "    losses.append(np.mean(epoch_losses))\n",
    "        \n"
   ]
  },
  {
   "cell_type": "markdown",
   "metadata": {},
   "source": [
    "Plot class probability landscape for each class\n",
    "Evaluate mesh and plot probability of being a member of each class vertically "
   ]
  },
  {
   "cell_type": "markdown",
   "metadata": {},
   "source": [
    "## Summary\n",
    "- multiclass classification requires a different loss function \n",
    "- softmax is a differentiable function that turns a vector of real numbers into a probability distribution\n",
    "\n",
    "## Next steps\n",
    "- \n"
   ]
  },
  {
   "cell_type": "code",
   "execution_count": null,
   "metadata": {},
   "outputs": [],
   "source": []
  }
 ],
 "metadata": {
  "language_info": {
   "codemirror_mode": {
    "name": "ipython",
    "version": 3
   },
   "file_extension": ".py",
   "mimetype": "text/x-python",
   "name": "python",
   "nbconvert_exporter": "python",
   "pygments_lexer": "ipython3",
   "version": "3.6.9-final"
  },
  "orig_nbformat": 2,
  "kernelspec": {
   "name": "python36964bit4e36a22c5ab145cdaac0d5c6b1a34fd0",
   "display_name": "Python 3.6.9 64-bit"
  }
 },
 "nbformat": 4,
 "nbformat_minor": 2
}