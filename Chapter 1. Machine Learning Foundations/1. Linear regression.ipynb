{
 "cells": [
  {
   "cell_type": "markdown",
   "metadata": {},
   "source": [
    "# Linear regression\n",
    "\n",
    "## Prerequisites\n",
    "- Basic Python\n",
    "- Linear algebra\n",
    "\n",
    "## Learning objectives\n",
    "- Implement your first machine learning algorithm from scratch, in Python\n",
    "- Understand the 4 parts of the general machine learning algorithm framework\n",
    "    - Data\n",
    "    - Models\n",
    "    - Criteria\n",
    "    - Optimisation\n",
    "- Implement a random search algorithm as a trivial optimisation technique\n",
    "\n",
    "## Intro\n",
    "\n",
    "This is the classic starting point for jumping into machine learning.\n",
    "\n",
    "Linear regression is a very simple method for making predictions of continuous values.\n",
    "\n",
    "## The problem\n",
    "\n",
    "I just bought a new red wine. But i'm not sure it will live up to my high standards. I dare not take a sip if it is below a 6/10 on my quality scale. How can I possibly hope to continue?\n",
    "\n",
    "I know! I will build a machine learning algorithm to predict the quality of my wine, given the information that I can find out about it. Obviously.\n",
    "\n",
    "## The general framework for machine learning algorithms\n",
    "\n",
    "Almost all machine learning algorithms consist of 4 components:\n",
    "1. the data\n",
    "2. the model\n",
    "3. the criterion\n",
    "4. the optimiser\n",
    "\n",
    "This notebook will introduce you to all of those. By the end, we will have used all of them to implement our first machine learning algorithm.\n",
    "\n"
   ]
  },
  {
   "cell_type": "markdown",
   "metadata": {},
   "source": [
    "## 1. Data\n",
    "\n",
    "The data represents the input-output relationship that our algorithm will learn.\n",
    "\n",
    "Our aim is to produce a mathematical function that takes in an example and makes a prediction. \n",
    "\n",
    "We will be working with a dataset that has many examples of different red wines. Yes, red wines.\n",
    "\n",
    "Each example contains 12 features of the wine. One of these is the wine quality, which we will use as a label. \n",
    "\n",
    "# csv scr\n",
    "![](images/wine.png)\n",
    "\n",
    "### How can we represent these data points numerically?\n",
    "\n",
    "Firstly, we need to separate the label (output) from the features (input). So for each example, we will have a single scalar label $y$.\n",
    "\n",
    "In our case, each example has several features. We can group these together mathematically as a vector, $x$. It will have as many rows as there are features in the example. Let's call this number of features per example $n$. \n",
    "\n",
    "![](images/single_data_point.jpg)\n",
    "\n",
    "We have $m$ examples, and indicate an arbitrary example with an $i$.\n",
    "\n",
    "We can stack these examples in columns to produce a design matrix $X$ which will then contain all of our data, as shown below.\n",
    "\n",
    "![](images/design_matrix.jpg)\n",
    "\n",
    "The scalar labels for each example can also be arranged into a single vector.\n",
    "\n",
    "![image](images/labels.jpg)\n",
    "\n",
    "Please note that this is just one specific example, and that other problems may have wildly different input output formats. The label could consist of many more values; it could even be something like an image. The same is true for the input. As long as it can be represented mathematically, it will be possible to create a model that processes examples of that type.\n",
    "\n",
    "For the rest of this notebook, we will just use a single feature of each example. This will make things easier to visualise and prevent some problems which we will address [later](Multivariate Regression & Feature Normalisation.ipynb)\n",
    "\n",
    "Now we know what our data should look like, let's get it into that format.\n"
   ]
  },
  {
   "cell_type": "code",
   "execution_count": 27,
   "metadata": {
    "tags": []
   },
   "outputs": [
    {
     "output_type": "stream",
     "name": "stdout",
     "text": "RAW DATA\n[[56.    8.51  6.73  4.38  6.45  1.03  5.76  5.21  2.09  6.13  7.3  38.81]\n [63.    7.51  4.    7.73  5.87  6.57  3.73  1.98  4.76  8.44  5.62 42.79]\n [31.    7.95  7.2   3.85  1.57  2.6   8.79  0.61  1.5   4.64  5.18 21.77]\n [63.    3.98  8.16  0.47  2.29  0.68  0.41  8.72  3.19  9.02  9.66 40.89]\n [70.    6.18  2.26  1.58  2.25  6.2   9.94  1.26  7.35  3.7   0.98 47.64]\n [42.    6.49  5.46  1.5   1.94  1.91  6.68  1.02  9.25  0.1   6.35 29.23]\n [55.    5.26  8.41  1.28  9.68  0.95  9.46  3.29  8.29  8.88  5.48 39.19]\n [32.    6.09  2.01  6.26  2.08  7.49  4.09  7.93  0.29  2.09  4.64 25.23]\n [20.    6.74  8.91  7.91  9.46  8.11  9.17  2.84  2.22  6.82  6.4  17.83]\n [42.    3.48  0.23  9.25  1.87  8.02  3.25  6.4   1.72  1.95  7.71 31.4 ]\n [54.    4.47  5.81  5.09  2.44  9.37  9.98  1.88  1.67  0.9   1.7  35.94]\n [73.    5.28  3.64  6.2   3.93  0.03  9.51  2.6   6.01  9.38  8.51 48.47]\n [46.    1.6   6.26  8.08  4.75  5.84  0.81  8.39  1.84  9.68  2.13 30.61]\n [57.    6.43  8.27  6.8   4.73  0.28  1.66  8.58  8.33  5.23  6.56 38.35]\n [59.    1.13  6.97  0.69  2.49  1.92  4.81  6.34  7.95  5.33  8.67 40.76]\n [64.    6.11  9.12  6.79  0.67  7.24  3.07  6.21  4.26  1.26  5.05 46.03]\n [58.    2.12  1.42  7.31  5.6   2.18  2.88  0.63  9.58  5.33  9.54 41.22]\n [53.    6.34  7.2   9.21  7.78  8.55  7.41  2.89  0.05  4.59  2.12 36.03]\n [68.    5.35  5.48  8.76  0.83  4.29  9.29  1.05  8.82  5.27  4.9  46.57]\n [69.    8.67  8.01  6.86  5.56  4.15  4.49  4.79  5.65  4.52  0.82 43.28]\n [54.    7.36  3.88  3.86  3.41  1.05  4.22  6.36  1.37  9.95  5.21 38.34]\n [62.    4.11  9.28  5.11  5.34  4.5   2.03  2.81  2.8   3.52  1.65 42.8 ]\n [21.    4.22  8.    1.23  0.48  7.16  6.51  7.3   6.76  8.39  7.21 16.62]\n [26.    2.33  4.83  5.83  3.08  9.9   1.26  0.21  0.71  8.64  0.08 20.46]\n [39.    7.25  6.67  0.55  7.72  7.08  1.61  9.62  7.61  2.94  0.91 28.04]\n [39.    4.99  0.17  4.91  0.16  2.    8.79  7.13  0.06  5.82  7.96 27.81]\n [70.    0.03  5.1   1.78  5.96  6.89  5.86  2.04  6.46  8.1   3.56 45.35]\n [34.    6.1   6.69  1.06  5.24  1.08  7.29  5.9   5.7   5.7   8.92 24.9 ]\n [44.    4.87  4.39  7.95  3.98  3.1   4.33  3.98  2.49  8.08  0.4  29.29]]\n\nFEATURES (design matrix), X:\n[[63.    7.51  4.    7.73  5.87  6.57  3.73  1.98  4.76  8.44  5.62]\n [31.    7.95  7.2   3.85  1.57  2.6   8.79  0.61  1.5   4.64  5.18]\n [63.    3.98  8.16  0.47  2.29  0.68  0.41  8.72  3.19  9.02  9.66]\n [70.    6.18  2.26  1.58  2.25  6.2   9.94  1.26  7.35  3.7   0.98]\n [42.    6.49  5.46  1.5   1.94  1.91  6.68  1.02  9.25  0.1   6.35]\n [55.    5.26  8.41  1.28  9.68  0.95  9.46  3.29  8.29  8.88  5.48]\n [32.    6.09  2.01  6.26  2.08  7.49  4.09  7.93  0.29  2.09  4.64]\n [20.    6.74  8.91  7.91  9.46  8.11  9.17  2.84  2.22  6.82  6.4 ]\n [42.    3.48  0.23  9.25  1.87  8.02  3.25  6.4   1.72  1.95  7.71]\n [54.    4.47  5.81  5.09  2.44  9.37  9.98  1.88  1.67  0.9   1.7 ]\n [73.    5.28  3.64  6.2   3.93  0.03  9.51  2.6   6.01  9.38  8.51]\n [46.    1.6   6.26  8.08  4.75  5.84  0.81  8.39  1.84  9.68  2.13]\n [57.    6.43  8.27  6.8   4.73  0.28  1.66  8.58  8.33  5.23  6.56]\n [59.    1.13  6.97  0.69  2.49  1.92  4.81  6.34  7.95  5.33  8.67]\n [64.    6.11  9.12  6.79  0.67  7.24  3.07  6.21  4.26  1.26  5.05]\n [58.    2.12  1.42  7.31  5.6   2.18  2.88  0.63  9.58  5.33  9.54]\n [53.    6.34  7.2   9.21  7.78  8.55  7.41  2.89  0.05  4.59  2.12]\n [68.    5.35  5.48  8.76  0.83  4.29  9.29  1.05  8.82  5.27  4.9 ]\n [69.    8.67  8.01  6.86  5.56  4.15  4.49  4.79  5.65  4.52  0.82]\n [54.    7.36  3.88  3.86  3.41  1.05  4.22  6.36  1.37  9.95  5.21]\n [62.    4.11  9.28  5.11  5.34  4.5   2.03  2.81  2.8   3.52  1.65]\n [21.    4.22  8.    1.23  0.48  7.16  6.51  7.3   6.76  8.39  7.21]\n [26.    2.33  4.83  5.83  3.08  9.9   1.26  0.21  0.71  8.64  0.08]\n [39.    7.25  6.67  0.55  7.72  7.08  1.61  9.62  7.61  2.94  0.91]\n [39.    4.99  0.17  4.91  0.16  2.    8.79  7.13  0.06  5.82  7.96]\n [70.    0.03  5.1   1.78  5.96  6.89  5.86  2.04  6.46  8.1   3.56]\n [34.    6.1   6.69  1.06  5.24  1.08  7.29  5.9   5.7   5.7   8.92]\n [44.    4.87  4.39  7.95  3.98  3.1   4.33  3.98  2.49  8.08  0.4 ]]\nDesign matrix shape: (28, 11)\n\nCHOSEN FEATURE:\nLABELS, Y:\n[42.79 21.77 40.89 47.64 29.23 39.19 25.23 17.83 31.4  35.94 48.47 30.61\n 38.35 40.76 46.03 41.22 36.03 46.57 43.28 38.34 42.8  16.62 20.46 28.04\n 27.81 45.35 24.9  29.29]\nLabels shape: (28,)\n"
    },
    {
     "output_type": "display_data",
     "data": {
      "text/plain": "<Figure size 432x288 with 1 Axes>",
      "image/svg+xml": "<?xml version=\"1.0\" encoding=\"utf-8\" standalone=\"no\"?>\n<!DOCTYPE svg PUBLIC \"-//W3C//DTD SVG 1.1//EN\"\n  \"http://www.w3.org/Graphics/SVG/1.1/DTD/svg11.dtd\">\n<!-- Created with matplotlib (https://matplotlib.org/) -->\n<svg height=\"265.513797pt\" version=\"1.1\" viewBox=\"0 0 382.603125 265.513797\" width=\"382.603125pt\" xmlns=\"http://www.w3.org/2000/svg\" xmlns:xlink=\"http://www.w3.org/1999/xlink\">\n <defs>\n  <style type=\"text/css\">\n*{stroke-linecap:butt;stroke-linejoin:round;}\n  </style>\n </defs>\n <g id=\"figure_1\">\n  <g id=\"patch_1\">\n   <path d=\"M 0 265.513797 \nL 382.603125 265.513797 \nL 382.603125 0 \nL 0 0 \nz\n\" style=\"fill:none;\"/>\n  </g>\n  <g id=\"axes_1\">\n   <g id=\"patch_2\">\n    <path d=\"M 40.603125 227.957547 \nL 375.403125 227.957547 \nL 375.403125 10.517547 \nL 40.603125 10.517547 \nz\n\" style=\"fill:#ffffff;\"/>\n   </g>\n   <g id=\"PathCollection_1\">\n    <defs>\n     <path d=\"M 0 3 \nC 0.795609 3 1.55874 2.683901 2.12132 2.12132 \nC 2.683901 1.55874 3 0.795609 3 0 \nC 3 -0.795609 2.683901 -1.55874 2.12132 -2.12132 \nC 1.55874 -2.683901 0.795609 -3 0 -3 \nC -0.795609 -3 -1.55874 -2.683901 -2.12132 -2.12132 \nC -2.683901 -1.55874 -3 -0.795609 -3 0 \nC -3 0.795609 -2.683901 1.55874 -2.12132 2.12132 \nC -1.55874 2.683901 -0.795609 3 0 3 \nz\n\" id=\"mb3e49d614c\" style=\"stroke:#ff0000;\"/>\n    </defs>\n    <g clip-path=\"url(#pb17b6b9dce)\">\n     <use style=\"fill:#ff0000;stroke:#ff0000;\" x=\"302.725813\" xlink:href=\"#mb3e49d614c\" y=\"55.708376\"/>\n     <use style=\"fill:#ff0000;stroke:#ff0000;\" x=\"119.021206\" xlink:href=\"#mb3e49d614c\" y=\"186.053243\"/>\n     <use style=\"fill:#ff0000;stroke:#ff0000;\" x=\"302.725813\" xlink:href=\"#mb3e49d614c\" y=\"67.490262\"/>\n     <use style=\"fill:#ff0000;stroke:#ff0000;\" x=\"342.911196\" xlink:href=\"#mb3e49d614c\" y=\"25.633562\"/>\n     <use style=\"fill:#ff0000;stroke:#ff0000;\" x=\"182.169665\" xlink:href=\"#mb3e49d614c\" y=\"139.793838\"/>\n     <use style=\"fill:#ff0000;stroke:#ff0000;\" x=\"256.799661\" xlink:href=\"#mb3e49d614c\" y=\"78.03195\"/>\n     <use style=\"fill:#ff0000;stroke:#ff0000;\" x=\"124.761975\" xlink:href=\"#mb3e49d614c\" y=\"164.597808\"/>\n     <use style=\"fill:#ff0000;stroke:#ff0000;\" x=\"55.872747\" xlink:href=\"#mb3e49d614c\" y=\"210.485155\"/>\n     <use style=\"fill:#ff0000;stroke:#ff0000;\" x=\"182.169665\" xlink:href=\"#mb3e49d614c\" y=\"126.337683\"/>\n     <use style=\"fill:#ff0000;stroke:#ff0000;\" x=\"251.058892\" xlink:href=\"#mb3e49d614c\" y=\"98.185176\"/>\n     <use style=\"fill:#ff0000;stroke:#ff0000;\" x=\"360.133503\" xlink:href=\"#mb3e49d614c\" y=\"20.486738\"/>\n     <use style=\"fill:#ff0000;stroke:#ff0000;\" x=\"205.132741\" xlink:href=\"#mb3e49d614c\" y=\"131.236468\"/>\n     <use style=\"fill:#ff0000;stroke:#ff0000;\" x=\"268.281199\" xlink:href=\"#mb3e49d614c\" y=\"83.240784\"/>\n     <use style=\"fill:#ff0000;stroke:#ff0000;\" x=\"279.762737\" xlink:href=\"#mb3e49d614c\" y=\"68.296392\"/>\n     <use style=\"fill:#ff0000;stroke:#ff0000;\" x=\"308.466582\" xlink:href=\"#mb3e49d614c\" y=\"35.61716\"/>\n     <use style=\"fill:#ff0000;stroke:#ff0000;\" x=\"274.021968\" xlink:href=\"#mb3e49d614c\" y=\"65.443935\"/>\n     <use style=\"fill:#ff0000;stroke:#ff0000;\" x=\"245.318123\" xlink:href=\"#mb3e49d614c\" y=\"97.627087\"/>\n     <use style=\"fill:#ff0000;stroke:#ff0000;\" x=\"331.429658\" xlink:href=\"#mb3e49d614c\" y=\"32.268624\"/>\n     <use style=\"fill:#ff0000;stroke:#ff0000;\" x=\"337.170427\" xlink:href=\"#mb3e49d614c\" y=\"52.66989\"/>\n     <use style=\"fill:#ff0000;stroke:#ff0000;\" x=\"251.058892\" xlink:href=\"#mb3e49d614c\" y=\"83.302794\"/>\n     <use style=\"fill:#ff0000;stroke:#ff0000;\" x=\"296.985044\" xlink:href=\"#mb3e49d614c\" y=\"55.646366\"/>\n     <use style=\"fill:#ff0000;stroke:#ff0000;\" x=\"61.613516\" xlink:href=\"#mb3e49d614c\" y=\"217.988356\"/>\n     <use style=\"fill:#ff0000;stroke:#ff0000;\" x=\"90.317361\" xlink:href=\"#mb3e49d614c\" y=\"194.176544\"/>\n     <use style=\"fill:#ff0000;stroke:#ff0000;\" x=\"164.947358\" xlink:href=\"#mb3e49d614c\" y=\"147.173019\"/>\n     <use style=\"fill:#ff0000;stroke:#ff0000;\" x=\"164.947358\" xlink:href=\"#mb3e49d614c\" y=\"148.599247\"/>\n     <use style=\"fill:#ff0000;stroke:#ff0000;\" x=\"342.911196\" xlink:href=\"#mb3e49d614c\" y=\"39.833835\"/>\n     <use style=\"fill:#ff0000;stroke:#ff0000;\" x=\"136.243513\" xlink:href=\"#mb3e49d614c\" y=\"166.644136\"/>\n     <use style=\"fill:#ff0000;stroke:#ff0000;\" x=\"193.651203\" xlink:href=\"#mb3e49d614c\" y=\"139.421778\"/>\n    </g>\n   </g>\n   <g id=\"matplotlib.axis_1\">\n    <g id=\"xtick_1\">\n     <g id=\"line2d_1\">\n      <defs>\n       <path d=\"M 0 0 \nL 0 3.5 \n\" id=\"mc1c0907770\" style=\"stroke:#000000;stroke-width:0.8;\"/>\n      </defs>\n      <g>\n       <use style=\"stroke:#000000;stroke-width:0.8;\" x=\"55.872747\" xlink:href=\"#mc1c0907770\" y=\"227.957547\"/>\n      </g>\n     </g>\n     <g id=\"text_1\">\n      <!-- 20 -->\n      <defs>\n       <path d=\"M 19.1875 8.296875 \nL 53.609375 8.296875 \nL 53.609375 0 \nL 7.328125 0 \nL 7.328125 8.296875 \nQ 12.9375 14.109375 22.625 23.890625 \nQ 32.328125 33.6875 34.8125 36.53125 \nQ 39.546875 41.84375 41.421875 45.53125 \nQ 43.3125 49.21875 43.3125 52.78125 \nQ 43.3125 58.59375 39.234375 62.25 \nQ 35.15625 65.921875 28.609375 65.921875 \nQ 23.96875 65.921875 18.8125 64.3125 \nQ 13.671875 62.703125 7.8125 59.421875 \nL 7.8125 69.390625 \nQ 13.765625 71.78125 18.9375 73 \nQ 24.125 74.21875 28.421875 74.21875 \nQ 39.75 74.21875 46.484375 68.546875 \nQ 53.21875 62.890625 53.21875 53.421875 \nQ 53.21875 48.921875 51.53125 44.890625 \nQ 49.859375 40.875 45.40625 35.40625 \nQ 44.1875 33.984375 37.640625 27.21875 \nQ 31.109375 20.453125 19.1875 8.296875 \nz\n\" id=\"DejaVuSans-50\"/>\n       <path d=\"M 31.78125 66.40625 \nQ 24.171875 66.40625 20.328125 58.90625 \nQ 16.5 51.421875 16.5 36.375 \nQ 16.5 21.390625 20.328125 13.890625 \nQ 24.171875 6.390625 31.78125 6.390625 \nQ 39.453125 6.390625 43.28125 13.890625 \nQ 47.125 21.390625 47.125 36.375 \nQ 47.125 51.421875 43.28125 58.90625 \nQ 39.453125 66.40625 31.78125 66.40625 \nz\nM 31.78125 74.21875 \nQ 44.046875 74.21875 50.515625 64.515625 \nQ 56.984375 54.828125 56.984375 36.375 \nQ 56.984375 17.96875 50.515625 8.265625 \nQ 44.046875 -1.421875 31.78125 -1.421875 \nQ 19.53125 -1.421875 13.0625 8.265625 \nQ 6.59375 17.96875 6.59375 36.375 \nQ 6.59375 54.828125 13.0625 64.515625 \nQ 19.53125 74.21875 31.78125 74.21875 \nz\n\" id=\"DejaVuSans-48\"/>\n      </defs>\n      <g transform=\"translate(49.510247 242.555984)scale(0.1 -0.1)\">\n       <use xlink:href=\"#DejaVuSans-50\"/>\n       <use x=\"63.623047\" xlink:href=\"#DejaVuSans-48\"/>\n      </g>\n     </g>\n    </g>\n    <g id=\"xtick_2\">\n     <g id=\"line2d_2\">\n      <g>\n       <use style=\"stroke:#000000;stroke-width:0.8;\" x=\"113.280437\" xlink:href=\"#mc1c0907770\" y=\"227.957547\"/>\n      </g>\n     </g>\n     <g id=\"text_2\">\n      <!-- 30 -->\n      <defs>\n       <path d=\"M 40.578125 39.3125 \nQ 47.65625 37.796875 51.625 33 \nQ 55.609375 28.21875 55.609375 21.1875 \nQ 55.609375 10.40625 48.1875 4.484375 \nQ 40.765625 -1.421875 27.09375 -1.421875 \nQ 22.515625 -1.421875 17.65625 -0.515625 \nQ 12.796875 0.390625 7.625 2.203125 \nL 7.625 11.71875 \nQ 11.71875 9.328125 16.59375 8.109375 \nQ 21.484375 6.890625 26.8125 6.890625 \nQ 36.078125 6.890625 40.9375 10.546875 \nQ 45.796875 14.203125 45.796875 21.1875 \nQ 45.796875 27.640625 41.28125 31.265625 \nQ 36.765625 34.90625 28.71875 34.90625 \nL 20.21875 34.90625 \nL 20.21875 43.015625 \nL 29.109375 43.015625 \nQ 36.375 43.015625 40.234375 45.921875 \nQ 44.09375 48.828125 44.09375 54.296875 \nQ 44.09375 59.90625 40.109375 62.90625 \nQ 36.140625 65.921875 28.71875 65.921875 \nQ 24.65625 65.921875 20.015625 65.03125 \nQ 15.375 64.15625 9.8125 62.3125 \nL 9.8125 71.09375 \nQ 15.4375 72.65625 20.34375 73.4375 \nQ 25.25 74.21875 29.59375 74.21875 \nQ 40.828125 74.21875 47.359375 69.109375 \nQ 53.90625 64.015625 53.90625 55.328125 \nQ 53.90625 49.265625 50.4375 45.09375 \nQ 46.96875 40.921875 40.578125 39.3125 \nz\n\" id=\"DejaVuSans-51\"/>\n      </defs>\n      <g transform=\"translate(106.917937 242.555984)scale(0.1 -0.1)\">\n       <use xlink:href=\"#DejaVuSans-51\"/>\n       <use x=\"63.623047\" xlink:href=\"#DejaVuSans-48\"/>\n      </g>\n     </g>\n    </g>\n    <g id=\"xtick_3\">\n     <g id=\"line2d_3\">\n      <g>\n       <use style=\"stroke:#000000;stroke-width:0.8;\" x=\"170.688127\" xlink:href=\"#mc1c0907770\" y=\"227.957547\"/>\n      </g>\n     </g>\n     <g id=\"text_3\">\n      <!-- 40 -->\n      <defs>\n       <path d=\"M 37.796875 64.3125 \nL 12.890625 25.390625 \nL 37.796875 25.390625 \nz\nM 35.203125 72.90625 \nL 47.609375 72.90625 \nL 47.609375 25.390625 \nL 58.015625 25.390625 \nL 58.015625 17.1875 \nL 47.609375 17.1875 \nL 47.609375 0 \nL 37.796875 0 \nL 37.796875 17.1875 \nL 4.890625 17.1875 \nL 4.890625 26.703125 \nz\n\" id=\"DejaVuSans-52\"/>\n      </defs>\n      <g transform=\"translate(164.325627 242.555984)scale(0.1 -0.1)\">\n       <use xlink:href=\"#DejaVuSans-52\"/>\n       <use x=\"63.623047\" xlink:href=\"#DejaVuSans-48\"/>\n      </g>\n     </g>\n    </g>\n    <g id=\"xtick_4\">\n     <g id=\"line2d_4\">\n      <g>\n       <use style=\"stroke:#000000;stroke-width:0.8;\" x=\"228.095816\" xlink:href=\"#mc1c0907770\" y=\"227.957547\"/>\n      </g>\n     </g>\n     <g id=\"text_4\">\n      <!-- 50 -->\n      <defs>\n       <path d=\"M 10.796875 72.90625 \nL 49.515625 72.90625 \nL 49.515625 64.59375 \nL 19.828125 64.59375 \nL 19.828125 46.734375 \nQ 21.96875 47.46875 24.109375 47.828125 \nQ 26.265625 48.1875 28.421875 48.1875 \nQ 40.625 48.1875 47.75 41.5 \nQ 54.890625 34.8125 54.890625 23.390625 \nQ 54.890625 11.625 47.5625 5.09375 \nQ 40.234375 -1.421875 26.90625 -1.421875 \nQ 22.3125 -1.421875 17.546875 -0.640625 \nQ 12.796875 0.140625 7.71875 1.703125 \nL 7.71875 11.625 \nQ 12.109375 9.234375 16.796875 8.0625 \nQ 21.484375 6.890625 26.703125 6.890625 \nQ 35.15625 6.890625 40.078125 11.328125 \nQ 45.015625 15.765625 45.015625 23.390625 \nQ 45.015625 31 40.078125 35.4375 \nQ 35.15625 39.890625 26.703125 39.890625 \nQ 22.75 39.890625 18.8125 39.015625 \nQ 14.890625 38.140625 10.796875 36.28125 \nz\n\" id=\"DejaVuSans-53\"/>\n      </defs>\n      <g transform=\"translate(221.733316 242.555984)scale(0.1 -0.1)\">\n       <use xlink:href=\"#DejaVuSans-53\"/>\n       <use x=\"63.623047\" xlink:href=\"#DejaVuSans-48\"/>\n      </g>\n     </g>\n    </g>\n    <g id=\"xtick_5\">\n     <g id=\"line2d_5\">\n      <g>\n       <use style=\"stroke:#000000;stroke-width:0.8;\" x=\"285.503506\" xlink:href=\"#mc1c0907770\" y=\"227.957547\"/>\n      </g>\n     </g>\n     <g id=\"text_5\">\n      <!-- 60 -->\n      <defs>\n       <path d=\"M 33.015625 40.375 \nQ 26.375 40.375 22.484375 35.828125 \nQ 18.609375 31.296875 18.609375 23.390625 \nQ 18.609375 15.53125 22.484375 10.953125 \nQ 26.375 6.390625 33.015625 6.390625 \nQ 39.65625 6.390625 43.53125 10.953125 \nQ 47.40625 15.53125 47.40625 23.390625 \nQ 47.40625 31.296875 43.53125 35.828125 \nQ 39.65625 40.375 33.015625 40.375 \nz\nM 52.59375 71.296875 \nL 52.59375 62.3125 \nQ 48.875 64.0625 45.09375 64.984375 \nQ 41.3125 65.921875 37.59375 65.921875 \nQ 27.828125 65.921875 22.671875 59.328125 \nQ 17.53125 52.734375 16.796875 39.40625 \nQ 19.671875 43.65625 24.015625 45.921875 \nQ 28.375 48.1875 33.59375 48.1875 \nQ 44.578125 48.1875 50.953125 41.515625 \nQ 57.328125 34.859375 57.328125 23.390625 \nQ 57.328125 12.15625 50.6875 5.359375 \nQ 44.046875 -1.421875 33.015625 -1.421875 \nQ 20.359375 -1.421875 13.671875 8.265625 \nQ 6.984375 17.96875 6.984375 36.375 \nQ 6.984375 53.65625 15.1875 63.9375 \nQ 23.390625 74.21875 37.203125 74.21875 \nQ 40.921875 74.21875 44.703125 73.484375 \nQ 48.484375 72.75 52.59375 71.296875 \nz\n\" id=\"DejaVuSans-54\"/>\n      </defs>\n      <g transform=\"translate(279.141006 242.555984)scale(0.1 -0.1)\">\n       <use xlink:href=\"#DejaVuSans-54\"/>\n       <use x=\"63.623047\" xlink:href=\"#DejaVuSans-48\"/>\n      </g>\n     </g>\n    </g>\n    <g id=\"xtick_6\">\n     <g id=\"line2d_6\">\n      <g>\n       <use style=\"stroke:#000000;stroke-width:0.8;\" x=\"342.911196\" xlink:href=\"#mc1c0907770\" y=\"227.957547\"/>\n      </g>\n     </g>\n     <g id=\"text_6\">\n      <!-- 70 -->\n      <defs>\n       <path d=\"M 8.203125 72.90625 \nL 55.078125 72.90625 \nL 55.078125 68.703125 \nL 28.609375 0 \nL 18.3125 0 \nL 43.21875 64.59375 \nL 8.203125 64.59375 \nz\n\" id=\"DejaVuSans-55\"/>\n      </defs>\n      <g transform=\"translate(336.548696 242.555984)scale(0.1 -0.1)\">\n       <use xlink:href=\"#DejaVuSans-55\"/>\n       <use x=\"63.623047\" xlink:href=\"#DejaVuSans-48\"/>\n      </g>\n     </g>\n    </g>\n    <g id=\"text_7\">\n     <!-- Acidity -->\n     <defs>\n      <path d=\"M 34.1875 63.1875 \nL 20.796875 26.90625 \nL 47.609375 26.90625 \nz\nM 28.609375 72.90625 \nL 39.796875 72.90625 \nL 67.578125 0 \nL 57.328125 0 \nL 50.6875 18.703125 \nL 17.828125 18.703125 \nL 11.1875 0 \nL 0.78125 0 \nz\n\" id=\"DejaVuSans-65\"/>\n      <path d=\"M 48.78125 52.59375 \nL 48.78125 44.1875 \nQ 44.96875 46.296875 41.140625 47.34375 \nQ 37.3125 48.390625 33.40625 48.390625 \nQ 24.65625 48.390625 19.8125 42.84375 \nQ 14.984375 37.3125 14.984375 27.296875 \nQ 14.984375 17.28125 19.8125 11.734375 \nQ 24.65625 6.203125 33.40625 6.203125 \nQ 37.3125 6.203125 41.140625 7.25 \nQ 44.96875 8.296875 48.78125 10.40625 \nL 48.78125 2.09375 \nQ 45.015625 0.34375 40.984375 -0.53125 \nQ 36.96875 -1.421875 32.421875 -1.421875 \nQ 20.0625 -1.421875 12.78125 6.34375 \nQ 5.515625 14.109375 5.515625 27.296875 \nQ 5.515625 40.671875 12.859375 48.328125 \nQ 20.21875 56 33.015625 56 \nQ 37.15625 56 41.109375 55.140625 \nQ 45.0625 54.296875 48.78125 52.59375 \nz\n\" id=\"DejaVuSans-99\"/>\n      <path d=\"M 9.421875 54.6875 \nL 18.40625 54.6875 \nL 18.40625 0 \nL 9.421875 0 \nz\nM 9.421875 75.984375 \nL 18.40625 75.984375 \nL 18.40625 64.59375 \nL 9.421875 64.59375 \nz\n\" id=\"DejaVuSans-105\"/>\n      <path d=\"M 45.40625 46.390625 \nL 45.40625 75.984375 \nL 54.390625 75.984375 \nL 54.390625 0 \nL 45.40625 0 \nL 45.40625 8.203125 \nQ 42.578125 3.328125 38.25 0.953125 \nQ 33.9375 -1.421875 27.875 -1.421875 \nQ 17.96875 -1.421875 11.734375 6.484375 \nQ 5.515625 14.40625 5.515625 27.296875 \nQ 5.515625 40.1875 11.734375 48.09375 \nQ 17.96875 56 27.875 56 \nQ 33.9375 56 38.25 53.625 \nQ 42.578125 51.265625 45.40625 46.390625 \nz\nM 14.796875 27.296875 \nQ 14.796875 17.390625 18.875 11.75 \nQ 22.953125 6.109375 30.078125 6.109375 \nQ 37.203125 6.109375 41.296875 11.75 \nQ 45.40625 17.390625 45.40625 27.296875 \nQ 45.40625 37.203125 41.296875 42.84375 \nQ 37.203125 48.484375 30.078125 48.484375 \nQ 22.953125 48.484375 18.875 42.84375 \nQ 14.796875 37.203125 14.796875 27.296875 \nz\n\" id=\"DejaVuSans-100\"/>\n      <path d=\"M 18.3125 70.21875 \nL 18.3125 54.6875 \nL 36.8125 54.6875 \nL 36.8125 47.703125 \nL 18.3125 47.703125 \nL 18.3125 18.015625 \nQ 18.3125 11.328125 20.140625 9.421875 \nQ 21.96875 7.515625 27.59375 7.515625 \nL 36.8125 7.515625 \nL 36.8125 0 \nL 27.59375 0 \nQ 17.1875 0 13.234375 3.875 \nQ 9.28125 7.765625 9.28125 18.015625 \nL 9.28125 47.703125 \nL 2.6875 47.703125 \nL 2.6875 54.6875 \nL 9.28125 54.6875 \nL 9.28125 70.21875 \nz\n\" id=\"DejaVuSans-116\"/>\n      <path d=\"M 32.171875 -5.078125 \nQ 28.375 -14.84375 24.75 -17.8125 \nQ 21.140625 -20.796875 15.09375 -20.796875 \nL 7.90625 -20.796875 \nL 7.90625 -13.28125 \nL 13.1875 -13.28125 \nQ 16.890625 -13.28125 18.9375 -11.515625 \nQ 21 -9.765625 23.484375 -3.21875 \nL 25.09375 0.875 \nL 2.984375 54.6875 \nL 12.5 54.6875 \nL 29.59375 11.921875 \nL 46.6875 54.6875 \nL 56.203125 54.6875 \nz\n\" id=\"DejaVuSans-121\"/>\n     </defs>\n     <g transform=\"translate(190.9625 256.234109)scale(0.1 -0.1)\">\n      <use xlink:href=\"#DejaVuSans-65\"/>\n      <use x=\"68.392578\" xlink:href=\"#DejaVuSans-99\"/>\n      <use x=\"123.373047\" xlink:href=\"#DejaVuSans-105\"/>\n      <use x=\"151.15625\" xlink:href=\"#DejaVuSans-100\"/>\n      <use x=\"214.632812\" xlink:href=\"#DejaVuSans-105\"/>\n      <use x=\"242.416016\" xlink:href=\"#DejaVuSans-116\"/>\n      <use x=\"281.625\" xlink:href=\"#DejaVuSans-121\"/>\n     </g>\n    </g>\n   </g>\n   <g id=\"matplotlib.axis_2\">\n    <g id=\"ytick_1\">\n     <g id=\"line2d_7\">\n      <defs>\n       <path d=\"M 0 0 \nL -3.5 0 \n\" id=\"md8e813b63c\" style=\"stroke:#000000;stroke-width:0.8;\"/>\n      </defs>\n      <g>\n       <use style=\"stroke:#000000;stroke-width:0.8;\" x=\"40.603125\" xlink:href=\"#md8e813b63c\" y=\"197.029\"/>\n      </g>\n     </g>\n     <g id=\"text_8\">\n      <!-- 20 -->\n      <g transform=\"translate(20.878125 200.828219)scale(0.1 -0.1)\">\n       <use xlink:href=\"#DejaVuSans-50\"/>\n       <use x=\"63.623047\" xlink:href=\"#DejaVuSans-48\"/>\n      </g>\n     </g>\n    </g>\n    <g id=\"ytick_2\">\n     <g id=\"line2d_8\">\n      <g>\n       <use style=\"stroke:#000000;stroke-width:0.8;\" x=\"40.603125\" xlink:href=\"#md8e813b63c\" y=\"166.024037\"/>\n      </g>\n     </g>\n     <g id=\"text_9\">\n      <!-- 25 -->\n      <g transform=\"translate(20.878125 169.823256)scale(0.1 -0.1)\">\n       <use xlink:href=\"#DejaVuSans-50\"/>\n       <use x=\"63.623047\" xlink:href=\"#DejaVuSans-53\"/>\n      </g>\n     </g>\n    </g>\n    <g id=\"ytick_3\">\n     <g id=\"line2d_9\">\n      <g>\n       <use style=\"stroke:#000000;stroke-width:0.8;\" x=\"40.603125\" xlink:href=\"#md8e813b63c\" y=\"135.019073\"/>\n      </g>\n     </g>\n     <g id=\"text_10\">\n      <!-- 30 -->\n      <g transform=\"translate(20.878125 138.818292)scale(0.1 -0.1)\">\n       <use xlink:href=\"#DejaVuSans-51\"/>\n       <use x=\"63.623047\" xlink:href=\"#DejaVuSans-48\"/>\n      </g>\n     </g>\n    </g>\n    <g id=\"ytick_4\">\n     <g id=\"line2d_10\">\n      <g>\n       <use style=\"stroke:#000000;stroke-width:0.8;\" x=\"40.603125\" xlink:href=\"#md8e813b63c\" y=\"104.01411\"/>\n      </g>\n     </g>\n     <g id=\"text_11\">\n      <!-- 35 -->\n      <g transform=\"translate(20.878125 107.813328)scale(0.1 -0.1)\">\n       <use xlink:href=\"#DejaVuSans-51\"/>\n       <use x=\"63.623047\" xlink:href=\"#DejaVuSans-53\"/>\n      </g>\n     </g>\n    </g>\n    <g id=\"ytick_5\">\n     <g id=\"line2d_11\">\n      <g>\n       <use style=\"stroke:#000000;stroke-width:0.8;\" x=\"40.603125\" xlink:href=\"#md8e813b63c\" y=\"73.009146\"/>\n      </g>\n     </g>\n     <g id=\"text_12\">\n      <!-- 40 -->\n      <g transform=\"translate(20.878125 76.808365)scale(0.1 -0.1)\">\n       <use xlink:href=\"#DejaVuSans-52\"/>\n       <use x=\"63.623047\" xlink:href=\"#DejaVuSans-48\"/>\n      </g>\n     </g>\n    </g>\n    <g id=\"ytick_6\">\n     <g id=\"line2d_12\">\n      <g>\n       <use style=\"stroke:#000000;stroke-width:0.8;\" x=\"40.603125\" xlink:href=\"#md8e813b63c\" y=\"42.004182\"/>\n      </g>\n     </g>\n     <g id=\"text_13\">\n      <!-- 45 -->\n      <g transform=\"translate(20.878125 45.803401)scale(0.1 -0.1)\">\n       <use xlink:href=\"#DejaVuSans-52\"/>\n       <use x=\"63.623047\" xlink:href=\"#DejaVuSans-53\"/>\n      </g>\n     </g>\n    </g>\n    <g id=\"ytick_7\">\n     <g id=\"line2d_13\">\n      <g>\n       <use style=\"stroke:#000000;stroke-width:0.8;\" x=\"40.603125\" xlink:href=\"#md8e813b63c\" y=\"10.999219\"/>\n      </g>\n     </g>\n     <g id=\"text_14\">\n      <!-- 50 -->\n      <g transform=\"translate(20.878125 14.798438)scale(0.1 -0.1)\">\n       <use xlink:href=\"#DejaVuSans-53\"/>\n       <use x=\"63.623047\" xlink:href=\"#DejaVuSans-48\"/>\n      </g>\n     </g>\n    </g>\n    <g id=\"text_15\">\n     <!-- Quality -->\n     <defs>\n      <path d=\"M 39.40625 66.21875 \nQ 28.65625 66.21875 22.328125 58.203125 \nQ 16.015625 50.203125 16.015625 36.375 \nQ 16.015625 22.609375 22.328125 14.59375 \nQ 28.65625 6.59375 39.40625 6.59375 \nQ 50.140625 6.59375 56.421875 14.59375 \nQ 62.703125 22.609375 62.703125 36.375 \nQ 62.703125 50.203125 56.421875 58.203125 \nQ 50.140625 66.21875 39.40625 66.21875 \nz\nM 53.21875 1.3125 \nL 66.21875 -12.890625 \nL 54.296875 -12.890625 \nL 43.5 -1.21875 \nQ 41.890625 -1.3125 41.03125 -1.359375 \nQ 40.1875 -1.421875 39.40625 -1.421875 \nQ 24.03125 -1.421875 14.8125 8.859375 \nQ 5.609375 19.140625 5.609375 36.375 \nQ 5.609375 53.65625 14.8125 63.9375 \nQ 24.03125 74.21875 39.40625 74.21875 \nQ 54.734375 74.21875 63.90625 63.9375 \nQ 73.09375 53.65625 73.09375 36.375 \nQ 73.09375 23.6875 67.984375 14.640625 \nQ 62.890625 5.609375 53.21875 1.3125 \nz\n\" id=\"DejaVuSans-81\"/>\n      <path d=\"M 8.5 21.578125 \nL 8.5 54.6875 \nL 17.484375 54.6875 \nL 17.484375 21.921875 \nQ 17.484375 14.15625 20.5 10.265625 \nQ 23.53125 6.390625 29.59375 6.390625 \nQ 36.859375 6.390625 41.078125 11.03125 \nQ 45.3125 15.671875 45.3125 23.6875 \nL 45.3125 54.6875 \nL 54.296875 54.6875 \nL 54.296875 0 \nL 45.3125 0 \nL 45.3125 8.40625 \nQ 42.046875 3.421875 37.71875 1 \nQ 33.40625 -1.421875 27.6875 -1.421875 \nQ 18.265625 -1.421875 13.375 4.4375 \nQ 8.5 10.296875 8.5 21.578125 \nz\nM 31.109375 56 \nz\n\" id=\"DejaVuSans-117\"/>\n      <path d=\"M 34.28125 27.484375 \nQ 23.390625 27.484375 19.1875 25 \nQ 14.984375 22.515625 14.984375 16.5 \nQ 14.984375 11.71875 18.140625 8.90625 \nQ 21.296875 6.109375 26.703125 6.109375 \nQ 34.1875 6.109375 38.703125 11.40625 \nQ 43.21875 16.703125 43.21875 25.484375 \nL 43.21875 27.484375 \nz\nM 52.203125 31.203125 \nL 52.203125 0 \nL 43.21875 0 \nL 43.21875 8.296875 \nQ 40.140625 3.328125 35.546875 0.953125 \nQ 30.953125 -1.421875 24.3125 -1.421875 \nQ 15.921875 -1.421875 10.953125 3.296875 \nQ 6 8.015625 6 15.921875 \nQ 6 25.140625 12.171875 29.828125 \nQ 18.359375 34.515625 30.609375 34.515625 \nL 43.21875 34.515625 \nL 43.21875 35.40625 \nQ 43.21875 41.609375 39.140625 45 \nQ 35.0625 48.390625 27.6875 48.390625 \nQ 23 48.390625 18.546875 47.265625 \nQ 14.109375 46.140625 10.015625 43.890625 \nL 10.015625 52.203125 \nQ 14.9375 54.109375 19.578125 55.046875 \nQ 24.21875 56 28.609375 56 \nQ 40.484375 56 46.34375 49.84375 \nQ 52.203125 43.703125 52.203125 31.203125 \nz\n\" id=\"DejaVuSans-97\"/>\n      <path d=\"M 9.421875 75.984375 \nL 18.40625 75.984375 \nL 18.40625 0 \nL 9.421875 0 \nz\n\" id=\"DejaVuSans-108\"/>\n     </defs>\n     <g transform=\"translate(14.798438 137.103953)rotate(-90)scale(0.1 -0.1)\">\n      <use xlink:href=\"#DejaVuSans-81\"/>\n      <use x=\"78.710938\" xlink:href=\"#DejaVuSans-117\"/>\n      <use x=\"142.089844\" xlink:href=\"#DejaVuSans-97\"/>\n      <use x=\"203.369141\" xlink:href=\"#DejaVuSans-108\"/>\n      <use x=\"231.152344\" xlink:href=\"#DejaVuSans-105\"/>\n      <use x=\"258.935547\" xlink:href=\"#DejaVuSans-116\"/>\n      <use x=\"298.144531\" xlink:href=\"#DejaVuSans-121\"/>\n     </g>\n    </g>\n   </g>\n   <g id=\"patch_3\">\n    <path d=\"M 40.603125 227.957547 \nL 40.603125 10.517547 \n\" style=\"fill:none;stroke:#000000;stroke-linecap:square;stroke-linejoin:miter;stroke-width:0.8;\"/>\n   </g>\n   <g id=\"patch_4\">\n    <path d=\"M 375.403125 227.957547 \nL 375.403125 10.517547 \n\" style=\"fill:none;stroke:#000000;stroke-linecap:square;stroke-linejoin:miter;stroke-width:0.8;\"/>\n   </g>\n   <g id=\"patch_5\">\n    <path d=\"M 40.603125 227.957547 \nL 375.403125 227.957547 \n\" style=\"fill:none;stroke:#000000;stroke-linecap:square;stroke-linejoin:miter;stroke-width:0.8;\"/>\n   </g>\n   <g id=\"patch_6\">\n    <path d=\"M 40.603125 10.517547 \nL 375.403125 10.517547 \n\" style=\"fill:none;stroke:#000000;stroke-linecap:square;stroke-linejoin:miter;stroke-width:0.8;\"/>\n   </g>\n  </g>\n </g>\n <defs>\n  <clipPath id=\"pb17b6b9dce\">\n   <rect height=\"217.44\" width=\"334.8\" x=\"40.603125\" y=\"10.517547\"/>\n  </clipPath>\n </defs>\n</svg>\n",
      "image/png": "[encoded data removed]"
     },
     "metadata": {
      "needs_background": "light"
     }
    }
   ],
   "source": [
    "import pandas as pd\n",
    "\n",
    "import numpy as np\n",
    "np.set_printoptions(suppress=True)\n",
    "import matplotlib.pyplot as plt\n",
    " \n",
    "data = np.genfromtxt('DATA/winequality-red.csv', delimiter=';') ## Import income data and save to variable.\n",
    "\n",
    "data = data.round(2)\n",
    "print('RAW DATA')\n",
    "print(data)\n",
    "data = data[1:] # remove NaNs\n",
    "print()\n",
    "\n",
    "X = data[:, :-1] # get all of the rows and all but the last column (the last column is the labels)\n",
    "print('FEATURES (design matrix), X:')\n",
    "print(X)\n",
    "print('Design matrix shape:', X.shape)\n",
    "print()\n",
    "\n",
    "print('CHOSEN FEATURE:', )\n",
    "\n",
    "Y = data[:, -1] # get the last column as the labels\n",
    "print('LABELS, Y:')\n",
    "print(Y)\n",
    "print('Labels shape:', Y.shape)\n",
    "\n",
    "def plot_data(X, Y):\n",
    "    plt.figure() # create a figure\n",
    "    plt.scatter(X, Y, c='r') # plot the data in color=red\n",
    "    plt.xlabel('Acidity')\n",
    "    plt.ylabel('Quality')\n",
    "    plt.show()\n",
    "\n",
    "plot_data(X[:, 0], Y)\n"
   ]
  },
  {
   "cell_type": "markdown",
   "metadata": {},
   "source": [
    "Now that we have our data represented in the form we want. Can we get any closer to predicting whether or not I should sip this wine?"
   ]
  },
  {
   "cell_type": "markdown",
   "metadata": {},
   "source": [
    "# 2. The Model\n",
    "\n",
    "## What does \"model\" mean?\n",
    "\n",
    "Imagine having a complete and perfect simulation of the world. This would allow you to take whatever action you wanted and see the outcome. This would mean that it would allow you to simulate different trajectories of events. That is, it would allow us to model it. Using your experience of what trajectories led to what outcomes, you'd be able to make more and more accurate predictions. \n",
    "On a smaller scale than the whole world/universe, we can build models of specific things we care about, so that we can again query them to make predictions from.\n",
    "\n",
    "## Our model\n",
    "\n",
    "In this dataset, we can see something like a straight-line relationship between the acidity and the quality.\n",
    "This indicates that the relationship may be well modelled by a linear equation, which is generally given in the form $y=wx + b$.\n",
    "\n",
    "Linear regression uses such straight line equations to model the input-output relationship of the data.\n",
    "\n",
    "In real problems of interest, this is rarely the case and we are likely to experience much more complex, nonlinear relationships between features and labels, as you can imagine."
   ]
  },
  {
   "cell_type": "code",
   "execution_count": 3,
   "metadata": {},
   "outputs": [],
   "source": [
    "class LinearHypothesis:\n",
    "    def __init__(self): # initalize parameters \n",
    "        self.w = np.random.randn() ## randomly initialise weight\n",
    "        self.b = np.random.randn() ## randomly initialise bias\n",
    "        \n",
    "    def __call__(self, X): # how do we calculate output from an input in our model?\n",
    "        ypred = self.w * X + self.b ## make a prediction using a linear hypothesis\n",
    "        return ypred # return prediction\n",
    "    \n",
    "    def update_params(self, new_w, new_b):\n",
    "        self.w = new_w ## set this instance's weights to the new weight value passed to the function\n",
    "        self.b = new_b ## do the same for the bias"
   ]
  },
  {
   "cell_type": "code",
   "execution_count": 4,
   "metadata": {
    "tags": []
   },
   "outputs": [
    {
     "output_type": "stream",
     "name": "stdout",
     "text": "Input: [[6.30000000e+01 7.50638564e+00 4.00322954e+00 7.72924181e+00\n  5.86884211e+00 6.57024665e+00 3.73172310e+00 1.98212297e+00\n  4.75690841e+00 8.43947676e+00 5.61599703e+00]\n [3.10000000e+01 7.94656413e+00 7.19608230e+00 3.85329766e+00\n  1.56929797e+00 2.60056478e+00 8.78773563e+00 6.12438579e-01\n  1.50490701e+00 4.63755536e+00 5.18389369e+00]\n [6.30000000e+01 3.98356534e+00 8.16486148e+00 4.70411627e-01\n  2.28752851e+00 6.80928706e-01 4.05203927e-01 8.71843250e+00\n  3.19015975e+00 9.01689026e+00 9.65571587e+00]\n [7.00000000e+01 6.17615775e+00 2.25844502e+00 1.57550871e+00\n  2.25244498e+00 6.19859506e+00 9.93667077e+00 1.26269409e+00\n  7.34774985e+00 3.69542703e+00 9.79467605e-01]\n [4.20000000e+01 6.48991003e+00 5.46411022e+00 1.49533998e+00\n  1.94162544e+00 1.91486914e+00 6.68003694e+00 1.01648136e+00\n  9.24804849e+00 9.90247407e-02 6.35218775e+00]\n [5.50000000e+01 5.26092026e+00 8.40668373e+00 1.27921750e+00\n  9.68094839e+00 9.45955215e-01 9.46015420e+00 3.28686139e+00\n  8.29129083e+00 8.87850117e+00 5.47795987e+00]\n [3.20000000e+01 6.09009161e+00 2.01269427e+00 6.25961429e+00\n  2.07890231e+00 7.49005699e+00 4.08877092e+00 7.93293143e+00\n  2.92121063e-01 2.08529889e+00 4.63939264e+00]\n [2.00000000e+01 6.74145688e+00 8.91148700e+00 7.90971002e+00\n  9.45549650e+00 8.11470661e+00 9.16770602e+00 2.83584333e+00\n  2.21871173e+00 6.81510760e+00 6.40139194e+00]\n [4.20000000e+01 3.48092636e+00 2.28015940e-01 9.24773892e+00\n  1.87026180e+00 8.01772469e+00 3.24732285e+00 6.39544207e+00\n  1.71852346e+00 1.94892767e+00 7.71249577e+00]\n [5.40000000e+01 4.47060144e+00 5.80892075e+00 5.08546950e+00\n  2.43620565e+00 9.37246004e+00 9.98326354e+00 1.88442280e+00\n  1.67185603e+00 9.03205795e-01 1.70242028e+00]\n [7.30000000e+01 5.27774698e+00 3.63839745e+00 6.19662031e+00\n  3.93198253e+00 3.02295665e-02 9.50788483e+00 2.59718459e+00\n  6.01028629e+00 9.37875685e+00 8.50886486e+00]\n [4.60000000e+01 1.59930541e+00 6.25938270e+00 8.08148100e+00\n  4.74903972e+00 5.83666872e+00 8.05192497e-01 8.39432960e+00\n  1.83544878e+00 9.68266362e+00 2.13457939e+00]\n [5.70000000e+01 6.43142609e+00 8.27114180e+00 6.79903263e+00\n  4.73488727e+00 2.83074936e-01 1.65520011e+00 8.58378775e+00\n  8.33118329e+00 5.23320787e+00 6.56318028e+00]\n [5.90000000e+01 1.12522060e+00 6.97229466e+00 6.94003175e-01\n  2.48666862e+00 1.91651218e+00 4.80815653e+00 6.34021768e+00\n  7.94650596e+00 5.33324327e+00 8.66628886e+00]\n [6.40000000e+01 6.10973703e+00 9.12046293e+00 6.79002784e+00\n  6.68420908e-01 7.24218251e+00 3.06637589e+00 6.20956746e+00\n  4.26031199e+00 1.25974522e+00 5.05067238e+00]\n [5.80000000e+01 2.12388561e+00 1.41886970e+00 7.30570809e+00\n  5.59848726e+00 2.17982642e+00 2.88195794e+00 6.27815245e-01\n  9.57988764e+00 5.33222992e+00 9.54332325e+00]\n [5.30000000e+01 6.33852623e+00 7.20147519e+00 9.21264022e+00\n  7.77828776e+00 8.54614983e+00 7.41337250e+00 2.89414759e+00\n  4.79438430e-02 4.59120332e+00 2.11717396e+00]\n [6.80000000e+01 5.35134855e+00 5.47630845e+00 8.75907917e+00\n  8.29050042e-01 4.29150869e+00 9.28565283e+00 1.04847546e+00\n  8.81715675e+00 5.27253787e+00 4.89873121e+00]\n [6.90000000e+01 8.67037494e+00 8.00510025e+00 6.86035446e+00\n  5.55651374e+00 4.15005352e+00 4.48692034e+00 4.79039085e+00\n  5.64858405e+00 4.51985008e+00 8.24875813e-01]\n [5.40000000e+01 7.35602117e+00 3.88288570e+00 3.85661004e+00\n  3.40868048e+00 1.04771160e+00 4.21881897e+00 6.36305562e+00\n  1.37442536e+00 9.94582189e+00 5.20652795e+00]\n [6.20000000e+01 4.10907642e+00 9.27858916e+00 5.10921780e+00\n  5.34217688e+00 4.50145429e+00 2.02789823e+00 2.80876339e+00\n  2.79748275e+00 3.52175297e+00 1.64793199e+00]\n [2.10000000e+01 4.21677548e+00 7.99925658e+00 1.23338767e+00\n  4.81489774e-01 7.15581983e+00 6.50647262e+00 7.29932590e+00\n  6.76194378e+00 8.39289309e+00 7.21275375e+00]\n [2.60000000e+01 2.32660816e+00 4.83318835e+00 5.82560393e+00\n  3.07808980e+00 9.89566484e+00 1.26159914e+00 2.11830196e-01\n  7.10296872e-01 8.63909571e+00 8.08419490e-02]\n [3.90000000e+01 7.24983845e+00 6.67459499e+00 5.53998220e-01\n  7.72227814e+00 7.07799282e+00 1.61405853e+00 9.61977905e+00\n  7.61279412e+00 2.94130937e+00 9.11934027e-01]\n [3.90000000e+01 4.99041194e+00 1.67376356e-01 4.91135518e+00\n  1.61612926e-01 1.99981153e+00 8.79106683e+00 7.13384322e+00\n  5.68255577e-02 5.81600528e+00 7.95630968e+00]\n [7.00000000e+01 2.50343003e-02 5.10482606e+00 1.77523608e+00\n  5.95836083e+00 6.89383201e+00 5.86477008e+00 2.04017869e+00\n  6.46131763e+00 8.09749404e+00 3.56284418e+00]\n [3.40000000e+01 6.09738490e+00 6.69249147e+00 1.06295057e+00\n  5.23535324e+00 1.08162454e+00 7.28548480e+00 5.89523560e+00\n  5.69866387e+00 5.70093386e+00 8.91541755e+00]\n [4.40000000e+01 4.86747224e+00 4.38595501e+00 7.95224610e+00\n  3.97748982e+00 3.10262290e+00 4.32803477e+00 3.97978699e+00\n  2.49132084e+00 8.08362454e+00 4.02260550e-01]] \n\nW: -0.043519860867946174 B: 1.1345128145181447 \n\nPrediction: [[-1.60723842  0.80783596  0.96029282  0.79813729  0.87910162  0.84857659\n   0.97210874  1.0482511   0.92749282  0.76722796  0.89010541]\n [-0.21460287  0.78867945  0.82134031  0.96681784  1.06621719  1.0213366\n   0.75207178  1.10785957  1.06901947  0.93268705  0.90891048]\n [-1.60723842  0.96114861  0.77917918  1.11404057  1.03495989  1.10487889\n   1.1168784   0.75508785  0.99567751  0.74209901  0.7142974 ]\n [-1.91187745  0.86572729  1.0362256   1.06594689  1.03648672  0.86475082\n   0.70207029  1.07956054  0.81473976  0.97368834  1.09188652]\n [-0.69332134  0.85207283  0.8967155   1.06943583  1.05001355  1.05117798\n   0.84379854  1.09027569  0.73203903  1.13020327  0.85806649]\n [-1.25907953  0.9055583   0.76865511  1.07884145  0.71319929  1.09334498\n   0.72280822  0.99146906  0.77367699  0.74812168  0.89611276]\n [-0.25812273  0.86947287  1.04692064  0.86209527  1.04403928  0.80854658\n   0.95657007  0.78927274  1.12179975  1.0437609   0.93260709]\n [ 0.2641156   0.84112555  0.74668614  0.79028333  0.72301092  0.78136191\n   0.73553552  1.01109731  1.03795479  0.83792028  0.85592513]\n [-0.69332134  0.98302338  1.12458959  0.7320525   1.05311928  0.78558255\n   0.99318978  0.85618407  1.05972291  1.04969575  0.79886607]\n [-1.21555967  0.93995286  0.88170939  0.91319389  1.02848948  0.72662466\n   0.70004257  1.052503    1.06175387  1.09520542  1.06042372]\n [-2.04243703  0.904826    0.97617026  0.86483676  0.96339348  1.13319723\n   0.72073099  1.0214837   0.87294599  0.72635062  0.7642082 ]\n [-0.86740079  1.06491127  0.86210535  0.78280789  0.92783527  0.8805018\n   1.09947095  0.76919276  1.05463434  0.71312464  1.04161622]\n [-1.34611925  0.85461805  0.77455387  0.83861986  0.92845118  1.12219343\n   1.06247874  0.76094757  0.77194088  0.90676434  0.84888412]\n [-1.43315898  1.08554337  0.83107952  1.10430989  1.02629334  1.05110647\n   0.92526251  0.85858742  0.78868198  0.90241081  0.75735713]\n [-1.65075828  0.86861791  0.73759154  0.83901175  1.10542323  0.81933404\n   1.00106456  0.8642733   0.94910463  1.07968888  0.91470826]\n [-1.38963912  1.04208161  1.0727638   0.81656941  0.89086743  1.03964707\n   1.00909041  1.10719038  0.71759744  0.90245491  0.71918871]\n [-1.17203981  0.85866104  0.82110562  0.73357999  0.79600281  0.76258556\n   0.81188387  1.00855991  1.13242631  0.93470428  1.0423737 ]\n [-1.82483772  0.90162287  0.89618463  0.75331891  1.09843267  0.94774695\n   0.7304025   1.08888331  0.75079138  0.9050527   0.92132071]\n [-1.86835759  0.7571793   0.78613197  0.83595114  0.89269411  0.95390306\n   0.93924267  0.92603567  0.88868722  0.93780957  1.09861433]\n [-1.21555967  0.8143798   0.96553017  0.96667368  0.98616751  1.08891655\n   0.9509104   0.85759352  1.07469801  0.70167203  0.90792544]\n [-1.56371856  0.95568638  0.73070991  0.91216037  0.90202202  0.93861015\n   1.04625897  1.01227582  1.01276675  0.98124662  1.06279504]\n [ 0.22059574  0.95099933  0.78638628  1.08083595  1.11355845  0.82309253\n   0.85135203  0.81684717  0.84023396  0.76925528  0.82061478]\n [ 0.00299643  1.03325915  0.92417313  0.88098334  1.00055477  0.70385486\n   1.0796082   1.12529399  1.10360079  0.75854057  1.13099458]\n [-0.56276176  0.81900085  0.84403537  1.11040289  0.79844034  0.82647955\n   1.06426921  0.71586137  0.80320507  1.00650744  1.09482557]\n [-0.56276176  0.91733078  1.12722862  0.92077132  1.12747944  1.04748129\n   0.75192681  0.82404895  1.13203977  0.88140107  0.78825532]\n [-1.91187745  1.13342333  0.91235149  1.05725479  0.87520578  0.8344942\n   0.87927884  1.04572452  0.85331717  0.782111    0.97945833]\n [-0.34516245  0.86915547  0.84325652  1.08825335  0.90667097  1.08744067\n   0.81744953  0.87795298  0.88650776  0.88640897  0.74651508]\n [-0.78036106  0.9226811   0.94363666  0.78843217  0.96141301  0.9994871\n   0.94615734  0.96131304  1.02609088  0.7827146   1.11700649]] \n\n"
    }
   ],
   "source": [
    "H = LinearHypothesis() # instantiate our linear model\n",
    "y_hat = H(X) # make prediction\n",
    "print('Input:',X, '\\n')\n",
    "print('W:', H.w, 'B:', H.b, '\\n')\n",
    "print('Prediction:', y_hat, '\\n')"
   ]
  },
  {
   "cell_type": "code",
   "execution_count": 5,
   "metadata": {},
   "outputs": [],
   "source": [
    "def plot_h_vs_y(X, y_hat, Y):\n",
    "    plt.figure()\n",
    "    plt.scatter(X, Y, c='r', label='Label')\n",
    "    plt.scatter(X, y_hat, c='b', label='Hypothesis', marker='x')\n",
    "    plt.legend()\n",
    "    plt.xlabel('X')\n",
    "    plt.ylabel('Y')\n",
    "    plt.show()"
   ]
  },
  {
   "cell_type": "code",
   "execution_count": 6,
   "metadata": {},
   "outputs": [
    {
     "output_type": "error",
     "ename": "ValueError",
     "evalue": "x and y must be the same size",
     "traceback": [
      "\u001b[0;31m---------------------------------------------------------------------------\u001b[0m",
      "\u001b[0;31mValueError\u001b[0m                                Traceback (most recent call last)",
      "\u001b[0;32m<ipython-input-6-8cbd863ce398>\u001b[0m in \u001b[0;36m<module>\u001b[0;34m\u001b[0m\n\u001b[0;32m----> 1\u001b[0;31m \u001b[0mplot_h_vs_y\u001b[0m\u001b[0;34m(\u001b[0m\u001b[0mX\u001b[0m\u001b[0;34m,\u001b[0m \u001b[0my_hat\u001b[0m\u001b[0;34m,\u001b[0m \u001b[0mY\u001b[0m\u001b[0;34m)\u001b[0m\u001b[0;34m\u001b[0m\u001b[0;34m\u001b[0m\u001b[0m\n\u001b[0m",
      "\u001b[0;32m<ipython-input-5-ee42948da5eb>\u001b[0m in \u001b[0;36mplot_h_vs_y\u001b[0;34m(X, y_hat, Y)\u001b[0m\n\u001b[1;32m      1\u001b[0m \u001b[0;32mdef\u001b[0m \u001b[0mplot_h_vs_y\u001b[0m\u001b[0;34m(\u001b[0m\u001b[0mX\u001b[0m\u001b[0;34m,\u001b[0m \u001b[0my_hat\u001b[0m\u001b[0;34m,\u001b[0m \u001b[0mY\u001b[0m\u001b[0;34m)\u001b[0m\u001b[0;34m:\u001b[0m\u001b[0;34m\u001b[0m\u001b[0;34m\u001b[0m\u001b[0m\n\u001b[1;32m      2\u001b[0m     \u001b[0mplt\u001b[0m\u001b[0;34m.\u001b[0m\u001b[0mfigure\u001b[0m\u001b[0;34m(\u001b[0m\u001b[0;34m)\u001b[0m\u001b[0;34m\u001b[0m\u001b[0;34m\u001b[0m\u001b[0m\n\u001b[0;32m----> 3\u001b[0;31m     \u001b[0mplt\u001b[0m\u001b[0;34m.\u001b[0m\u001b[0mscatter\u001b[0m\u001b[0;34m(\u001b[0m\u001b[0mX\u001b[0m\u001b[0;34m,\u001b[0m \u001b[0mY\u001b[0m\u001b[0;34m,\u001b[0m \u001b[0mc\u001b[0m\u001b[0;34m=\u001b[0m\u001b[0;34m'r'\u001b[0m\u001b[0;34m,\u001b[0m \u001b[0mlabel\u001b[0m\u001b[0;34m=\u001b[0m\u001b[0;34m'Label'\u001b[0m\u001b[0;34m)\u001b[0m\u001b[0;34m\u001b[0m\u001b[0;34m\u001b[0m\u001b[0m\n\u001b[0m\u001b[1;32m      4\u001b[0m     \u001b[0mplt\u001b[0m\u001b[0;34m.\u001b[0m\u001b[0mscatter\u001b[0m\u001b[0;34m(\u001b[0m\u001b[0mX\u001b[0m\u001b[0;34m,\u001b[0m \u001b[0my_hat\u001b[0m\u001b[0;34m,\u001b[0m \u001b[0mc\u001b[0m\u001b[0;34m=\u001b[0m\u001b[0;34m'b'\u001b[0m\u001b[0;34m,\u001b[0m \u001b[0mlabel\u001b[0m\u001b[0;34m=\u001b[0m\u001b[0;34m'Hypothesis'\u001b[0m\u001b[0;34m,\u001b[0m \u001b[0mmarker\u001b[0m\u001b[0;34m=\u001b[0m\u001b[0;34m'x'\u001b[0m\u001b[0;34m)\u001b[0m\u001b[0;34m\u001b[0m\u001b[0;34m\u001b[0m\u001b[0m\n\u001b[1;32m      5\u001b[0m     \u001b[0mplt\u001b[0m\u001b[0;34m.\u001b[0m\u001b[0mlegend\u001b[0m\u001b[0;34m(\u001b[0m\u001b[0;34m)\u001b[0m\u001b[0;34m\u001b[0m\u001b[0;34m\u001b[0m\u001b[0m\n",
      "\u001b[0;32m~/.local/lib/python3.6/site-packages/matplotlib/pyplot.py\u001b[0m in \u001b[0;36mscatter\u001b[0;34m(x, y, s, c, marker, cmap, norm, vmin, vmax, alpha, linewidths, verts, edgecolors, plotnonfinite, data, **kwargs)\u001b[0m\n\u001b[1;32m   2845\u001b[0m         \u001b[0mverts\u001b[0m\u001b[0;34m=\u001b[0m\u001b[0mverts\u001b[0m\u001b[0;34m,\u001b[0m \u001b[0medgecolors\u001b[0m\u001b[0;34m=\u001b[0m\u001b[0medgecolors\u001b[0m\u001b[0;34m,\u001b[0m\u001b[0;34m\u001b[0m\u001b[0;34m\u001b[0m\u001b[0m\n\u001b[1;32m   2846\u001b[0m         plotnonfinite=plotnonfinite, **({\"data\": data} if data is not\n\u001b[0;32m-> 2847\u001b[0;31m         None else {}), **kwargs)\n\u001b[0m\u001b[1;32m   2848\u001b[0m     \u001b[0msci\u001b[0m\u001b[0;34m(\u001b[0m\u001b[0m__ret\u001b[0m\u001b[0;34m)\u001b[0m\u001b[0;34m\u001b[0m\u001b[0;34m\u001b[0m\u001b[0m\n\u001b[1;32m   2849\u001b[0m     \u001b[0;32mreturn\u001b[0m \u001b[0m__ret\u001b[0m\u001b[0;34m\u001b[0m\u001b[0;34m\u001b[0m\u001b[0m\n",
      "\u001b[0;32m~/.local/lib/python3.6/site-packages/matplotlib/__init__.py\u001b[0m in \u001b[0;36minner\u001b[0;34m(ax, data, *args, **kwargs)\u001b[0m\n\u001b[1;32m   1599\u001b[0m     \u001b[0;32mdef\u001b[0m \u001b[0minner\u001b[0m\u001b[0;34m(\u001b[0m\u001b[0max\u001b[0m\u001b[0;34m,\u001b[0m \u001b[0;34m*\u001b[0m\u001b[0margs\u001b[0m\u001b[0;34m,\u001b[0m \u001b[0mdata\u001b[0m\u001b[0;34m=\u001b[0m\u001b[0;32mNone\u001b[0m\u001b[0;34m,\u001b[0m \u001b[0;34m**\u001b[0m\u001b[0mkwargs\u001b[0m\u001b[0;34m)\u001b[0m\u001b[0;34m:\u001b[0m\u001b[0;34m\u001b[0m\u001b[0;34m\u001b[0m\u001b[0m\n\u001b[1;32m   1600\u001b[0m         \u001b[0;32mif\u001b[0m \u001b[0mdata\u001b[0m \u001b[0;32mis\u001b[0m \u001b[0;32mNone\u001b[0m\u001b[0;34m:\u001b[0m\u001b[0;34m\u001b[0m\u001b[0;34m\u001b[0m\u001b[0m\n\u001b[0;32m-> 1601\u001b[0;31m             \u001b[0;32mreturn\u001b[0m \u001b[0mfunc\u001b[0m\u001b[0;34m(\u001b[0m\u001b[0max\u001b[0m\u001b[0;34m,\u001b[0m \u001b[0;34m*\u001b[0m\u001b[0mmap\u001b[0m\u001b[0;34m(\u001b[0m\u001b[0msanitize_sequence\u001b[0m\u001b[0;34m,\u001b[0m \u001b[0margs\u001b[0m\u001b[0;34m)\u001b[0m\u001b[0;34m,\u001b[0m \u001b[0;34m**\u001b[0m\u001b[0mkwargs\u001b[0m\u001b[0;34m)\u001b[0m\u001b[0;34m\u001b[0m\u001b[0;34m\u001b[0m\u001b[0m\n\u001b[0m\u001b[1;32m   1602\u001b[0m \u001b[0;34m\u001b[0m\u001b[0m\n\u001b[1;32m   1603\u001b[0m         \u001b[0mbound\u001b[0m \u001b[0;34m=\u001b[0m \u001b[0mnew_sig\u001b[0m\u001b[0;34m.\u001b[0m\u001b[0mbind\u001b[0m\u001b[0;34m(\u001b[0m\u001b[0max\u001b[0m\u001b[0;34m,\u001b[0m \u001b[0;34m*\u001b[0m\u001b[0margs\u001b[0m\u001b[0;34m,\u001b[0m \u001b[0;34m**\u001b[0m\u001b[0mkwargs\u001b[0m\u001b[0;34m)\u001b[0m\u001b[0;34m\u001b[0m\u001b[0;34m\u001b[0m\u001b[0m\n",
      "\u001b[0;32m~/.local/lib/python3.6/site-packages/matplotlib/axes/_axes.py\u001b[0m in \u001b[0;36mscatter\u001b[0;34m(self, x, y, s, c, marker, cmap, norm, vmin, vmax, alpha, linewidths, verts, edgecolors, plotnonfinite, **kwargs)\u001b[0m\n\u001b[1;32m   4442\u001b[0m         \u001b[0my\u001b[0m \u001b[0;34m=\u001b[0m \u001b[0mnp\u001b[0m\u001b[0;34m.\u001b[0m\u001b[0mma\u001b[0m\u001b[0;34m.\u001b[0m\u001b[0mravel\u001b[0m\u001b[0;34m(\u001b[0m\u001b[0my\u001b[0m\u001b[0;34m)\u001b[0m\u001b[0;34m\u001b[0m\u001b[0;34m\u001b[0m\u001b[0m\n\u001b[1;32m   4443\u001b[0m         \u001b[0;32mif\u001b[0m \u001b[0mx\u001b[0m\u001b[0;34m.\u001b[0m\u001b[0msize\u001b[0m \u001b[0;34m!=\u001b[0m \u001b[0my\u001b[0m\u001b[0;34m.\u001b[0m\u001b[0msize\u001b[0m\u001b[0;34m:\u001b[0m\u001b[0;34m\u001b[0m\u001b[0;34m\u001b[0m\u001b[0m\n\u001b[0;32m-> 4444\u001b[0;31m             \u001b[0;32mraise\u001b[0m \u001b[0mValueError\u001b[0m\u001b[0;34m(\u001b[0m\u001b[0;34m\"x and y must be the same size\"\u001b[0m\u001b[0;34m)\u001b[0m\u001b[0;34m\u001b[0m\u001b[0;34m\u001b[0m\u001b[0m\n\u001b[0m\u001b[1;32m   4445\u001b[0m \u001b[0;34m\u001b[0m\u001b[0m\n\u001b[1;32m   4446\u001b[0m         \u001b[0;32mif\u001b[0m \u001b[0ms\u001b[0m \u001b[0;32mis\u001b[0m \u001b[0;32mNone\u001b[0m\u001b[0;34m:\u001b[0m\u001b[0;34m\u001b[0m\u001b[0;34m\u001b[0m\u001b[0m\n",
      "\u001b[0;31mValueError\u001b[0m: x and y must be the same size"
     ]
    }
   ],
   "source": [
    "plot_h_vs_y(X, y_hat, Y)"
   ]
  },
  {
   "cell_type": "markdown",
   "metadata": {},
   "source": [
    "## 3. The criterion - How do we know how good our model is?\n",
    "\n",
    "Our criterion should be a measure of how bad our model is. We will use it to compare different models. As the model gets worse the loss function should return larger values.\n",
    "\n",
    "Criterions need to return a single number, not a vector or anything else. This criterion is the thing which we will try to minimise\n",
    "\n",
    "<strong>Common synonyms</strong>\n",
    "- Loss funtion = cost function = criterion = error function\n",
    "\n",
    "### Mean squared error (MSE) loss\n",
    "\n",
    "**One way** to evaluate the performance of a model that predicts continuous (not discrete or bounded) outputs is to use the mean squared error loss. This does exactly what you think: it calculates the error (difference between our model's prediction and the true label) and then squares it and takes the mean of those square errors for each example. Squaring any value makes it positive, so as long as the error is not zero it will increase the value of the loss - regardless of whether our prediction is below (negative error) or above (positive error) the value of the label, the values of that **squared** difference will increase the returned loss.\n",
    "\n",
    "There are many other criterions that are useful for different tasks (e.g. the binary cross entropy (BCE) loss for classification).\n",
    "\n",
    "Let's write a function to calculate the cost using the mean squared error loss function. It should take in an array of predictions for different example inputs as well as an array of corresponding example labels. It should return a single number (scalar) that represents the MSE loss. \n",
    "\n",
    "![title](images/NN1_cost_function.JPG)"
   ]
  },
  {
   "cell_type": "code",
   "execution_count": 7,
   "metadata": {},
   "outputs": [],
   "source": [
    "def L(y_hat, labels): # define our criterion (loss function)\n",
    "    errors = y_hat - labels ## calculate errors\n",
    "    squared_errors = errors ** 2 ## square errors\n",
    "    mean_squared_error = sum(squared_errors) / len(squared_errors) ## calculate mean \n",
    "    return mean_squared_error # return loss"
   ]
  },
  {
   "cell_type": "code",
   "execution_count": 8,
   "metadata": {},
   "outputs": [
    {
     "output_type": "error",
     "ename": "ValueError",
     "evalue": "operands could not be broadcast together with shapes (28,11) (28,) ",
     "traceback": [
      "\u001b[0;31m---------------------------------------------------------------------------\u001b[0m",
      "\u001b[0;31mValueError\u001b[0m                                Traceback (most recent call last)",
      "\u001b[0;32m<ipython-input-8-ed5b4fe703a0>\u001b[0m in \u001b[0;36m<module>\u001b[0;34m\u001b[0m\n\u001b[0;32m----> 1\u001b[0;31m \u001b[0mcost\u001b[0m \u001b[0;34m=\u001b[0m \u001b[0mL\u001b[0m\u001b[0;34m(\u001b[0m\u001b[0my_hat\u001b[0m\u001b[0;34m,\u001b[0m \u001b[0mY\u001b[0m\u001b[0;34m)\u001b[0m\u001b[0;34m\u001b[0m\u001b[0;34m\u001b[0m\u001b[0m\n\u001b[0m\u001b[1;32m      2\u001b[0m \u001b[0mprint\u001b[0m\u001b[0;34m(\u001b[0m\u001b[0mcost\u001b[0m\u001b[0;34m)\u001b[0m\u001b[0;34m\u001b[0m\u001b[0;34m\u001b[0m\u001b[0m\n",
      "\u001b[0;32m<ipython-input-7-33cbe7d9eae9>\u001b[0m in \u001b[0;36mL\u001b[0;34m(y_hat, labels)\u001b[0m\n\u001b[1;32m      1\u001b[0m \u001b[0;32mdef\u001b[0m \u001b[0mL\u001b[0m\u001b[0;34m(\u001b[0m\u001b[0my_hat\u001b[0m\u001b[0;34m,\u001b[0m \u001b[0mlabels\u001b[0m\u001b[0;34m)\u001b[0m\u001b[0;34m:\u001b[0m \u001b[0;31m# define our criterion (loss function)\u001b[0m\u001b[0;34m\u001b[0m\u001b[0;34m\u001b[0m\u001b[0m\n\u001b[0;32m----> 2\u001b[0;31m     \u001b[0merrors\u001b[0m \u001b[0;34m=\u001b[0m \u001b[0my_hat\u001b[0m \u001b[0;34m-\u001b[0m \u001b[0mlabels\u001b[0m \u001b[0;31m## calculate errors\u001b[0m\u001b[0;34m\u001b[0m\u001b[0;34m\u001b[0m\u001b[0m\n\u001b[0m\u001b[1;32m      3\u001b[0m     \u001b[0msquared_errors\u001b[0m \u001b[0;34m=\u001b[0m \u001b[0merrors\u001b[0m \u001b[0;34m**\u001b[0m \u001b[0;36m2\u001b[0m \u001b[0;31m## square errors\u001b[0m\u001b[0;34m\u001b[0m\u001b[0;34m\u001b[0m\u001b[0m\n\u001b[1;32m      4\u001b[0m     \u001b[0mmean_squared_error\u001b[0m \u001b[0;34m=\u001b[0m \u001b[0msum\u001b[0m\u001b[0;34m(\u001b[0m\u001b[0msquared_errors\u001b[0m\u001b[0;34m)\u001b[0m \u001b[0;34m/\u001b[0m \u001b[0mlen\u001b[0m\u001b[0;34m(\u001b[0m\u001b[0msquared_errors\u001b[0m\u001b[0;34m)\u001b[0m \u001b[0;31m## calculate mean\u001b[0m\u001b[0;34m\u001b[0m\u001b[0;34m\u001b[0m\u001b[0m\n\u001b[1;32m      5\u001b[0m     \u001b[0;32mreturn\u001b[0m \u001b[0mmean_squared_error\u001b[0m \u001b[0;31m# return loss\u001b[0m\u001b[0;34m\u001b[0m\u001b[0;34m\u001b[0m\u001b[0m\n",
      "\u001b[0;31mValueError\u001b[0m: operands could not be broadcast together with shapes (28,11) (28,) "
     ]
    }
   ],
   "source": [
    "cost = L(y_hat, Y)\n",
    "print(cost)"
   ]
  },
  {
   "cell_type": "markdown",
   "metadata": {},
   "source": [
    "## The analytical solution to minimising mean square error\n",
    "\n",
    "Given the data, model and criterion that we have used above, we can now express the objective that we wish to minimise mathematically. \n",
    "\n",
    "# draw mathematical expression\n",
    "\n",
    "Note: this equation does not explicitly mention the bias. How can it be applied to our problem in the same form? What would we need to change about our input example vectors and weight matrix? \n",
    "\n",
    "We can now simply find the minimum point on this curve by finding an expression for it's derivative and setting this to zero.\n",
    "\n",
    "# draw MSE analytical solution\n",
    "\n",
    "Now let's implement this analytical solution for least squares regression in code.\n",
    "\n"
   ]
  },
  {
   "cell_type": "code",
   "execution_count": 25,
   "metadata": {
    "tags": []
   },
   "outputs": [
    {
     "output_type": "stream",
     "name": "stdout",
     "text": "(28, 11)\n(28, 12)\n[[ 1.   63.    7.51  4.    7.73  5.87  6.57  3.73  1.98  4.76  8.44  5.62]\n [ 1.   31.    7.95  7.2   3.85  1.57  2.6   8.79  0.61  1.5   4.64  5.18]\n [ 1.   63.    3.98  8.16  0.47  2.29  0.68  0.41  8.72  3.19  9.02  9.66]\n [ 1.   70.    6.18  2.26  1.58  2.25  6.2   9.94  1.26  7.35  3.7   0.98]\n [ 1.   42.    6.49  5.46  1.5   1.94  1.91  6.68  1.02  9.25  0.1   6.35]\n [ 1.   55.    5.26  8.41  1.28  9.68  0.95  9.46  3.29  8.29  8.88  5.48]\n [ 1.   32.    6.09  2.01  6.26  2.08  7.49  4.09  7.93  0.29  2.09  4.64]\n [ 1.   20.    6.74  8.91  7.91  9.46  8.11  9.17  2.84  2.22  6.82  6.4 ]\n [ 1.   42.    3.48  0.23  9.25  1.87  8.02  3.25  6.4   1.72  1.95  7.71]\n [ 1.   54.    4.47  5.81  5.09  2.44  9.37  9.98  1.88  1.67  0.9   1.7 ]\n [ 1.   73.    5.28  3.64  6.2   3.93  0.03  9.51  2.6   6.01  9.38  8.51]\n [ 1.   46.    1.6   6.26  8.08  4.75  5.84  0.81  8.39  1.84  9.68  2.13]\n [ 1.   57.    6.43  8.27  6.8   4.73  0.28  1.66  8.58  8.33  5.23  6.56]\n [ 1.   59.    1.13  6.97  0.69  2.49  1.92  4.81  6.34  7.95  5.33  8.67]\n [ 1.   64.    6.11  9.12  6.79  0.67  7.24  3.07  6.21  4.26  1.26  5.05]\n [ 1.   58.    2.12  1.42  7.31  5.6   2.18  2.88  0.63  9.58  5.33  9.54]\n [ 1.   53.    6.34  7.2   9.21  7.78  8.55  7.41  2.89  0.05  4.59  2.12]\n [ 1.   68.    5.35  5.48  8.76  0.83  4.29  9.29  1.05  8.82  5.27  4.9 ]\n [ 1.   69.    8.67  8.01  6.86  5.56  4.15  4.49  4.79  5.65  4.52  0.82]\n [ 1.   54.    7.36  3.88  3.86  3.41  1.05  4.22  6.36  1.37  9.95  5.21]\n [ 1.   62.    4.11  9.28  5.11  5.34  4.5   2.03  2.81  2.8   3.52  1.65]\n [ 1.   21.    4.22  8.    1.23  0.48  7.16  6.51  7.3   6.76  8.39  7.21]\n [ 1.   26.    2.33  4.83  5.83  3.08  9.9   1.26  0.21  0.71  8.64  0.08]\n [ 1.   39.    7.25  6.67  0.55  7.72  7.08  1.61  9.62  7.61  2.94  0.91]\n [ 1.   39.    4.99  0.17  4.91  0.16  2.    8.79  7.13  0.06  5.82  7.96]\n [ 1.   70.    0.03  5.1   1.78  5.96  6.89  5.86  2.04  6.46  8.1   3.56]\n [ 1.   34.    6.1   6.69  1.06  5.24  1.08  7.29  5.9   5.7   5.7   8.92]\n [ 1.   44.    4.87  4.39  7.95  3.98  3.1   4.33  3.98  2.49  8.08  0.4 ]]\n[ 2.73157286  0.60929372  0.06224007 -0.08041394  0.0224751   0.06705545\n  0.16532118 -0.0382203  -0.03917421  0.04741092 -0.07833171  0.22743189]\n(12,)\n"
    }
   ],
   "source": [
    "print(X.shape)\n",
    "X_ = np.hstack((\n",
    "    np.ones((X.shape[0], 1)),\n",
    "    X\n",
    "))\n",
    "print(X_.shape)\n",
    "print(X_.round(2))\n",
    "\n",
    "optimal_w = np.matmul(\n",
    "    np.linalg.inv(\n",
    "        np.matmul(\n",
    "            X_.T, \n",
    "            X_\n",
    "        )\n",
    "    ), \n",
    "    np.matmul(\n",
    "        X_.T, \n",
    "        Y\n",
    "    )\n",
    ")\n",
    "\n",
    "print(optimal_w)\n",
    "print(optimal_w.shape)"
   ]
  },
  {
   "cell_type": "markdown",
   "metadata": {},
   "source": [
    "\n",
    "### Drawbacks of computing the analytical solution\n",
    "\n",
    "This solution involves inverting a matrix of size $R^{nxn}$. \n",
    "Here $n$ is the number of features that each example has. In our example $n=1$, so computing the analytical solution is feasible. \n",
    "However, as we will soon see, most problems of practical interest contain examples with many more features. \n",
    "For example, 1080p images have more than 1,000,000 features each. \n",
    "The time complexity of inverting a matrix of size $nxn$ is around $O(n^3)$. \n",
    "This means that computing the analytical solution for these kinds of real world problems is often computationally expensive, to the extent that it can become computationally infeasible.\n",
    "\n",
    "Analytical solutions however, are not the only approach that we can take. \n",
    "We can alternatively use one of many numerical optimisation techniques.\n",
    "These numerical optimisation techniques can be applied where analytical techniques are not feasible, and as such will be used throughout the course from here onward.\n",
    "\n",
    "## 4. The optimiser\n",
    "\n",
    "The optimiser adjusts the model such that it's performance improves with respect to the criterion. Most machine learning models are **parametric**, which means that the function which they represent depends on their parameters (in our case the weight (slope) and bias (intercept)). Different optimisers improve our models using different algorithms.\n",
    "\n",
    "In this notebook we will implement a trivial optimisation technique called **random search**.\n",
    "\n",
    "### Random Search\n",
    "Random seach is the process of randomly choosing values within a specified range and testing them to evaluate how good they are. E.g. test random values between 0 and 10.\n",
    "\n",
    "![](images/NN1_randomsearch.JPG)\n",
    "\n",
    "Let's implement a function that tries a bunch of possible values for the weight and bias of our model."
   ]
  },
  {
   "cell_type": "code",
   "execution_count": null,
   "metadata": {},
   "outputs": [],
   "source": [
    "def random_search(n_samples, limit=20):\n",
    "    best_weights = np.random.uniform(-limit, limit) # no best weight found yet\n",
    "    best_bias = np.random.uniform(-limit, limit) # no best bias found yet\n",
    "    lowest_cost = float('inf') # initialize it very high\n",
    "    for i in range(0, n_samples): # try this many different parameterisations\n",
    "        w = np.random.uniform(-limit, limit) # randomly sample a weight within the limits of the search\n",
    "        b = np.random.uniform(-limit, limit) # randomly sample a bias within the limits of the search\n",
    "        H.update_params(w, b) # update our model with random parameters\n",
    "        y_hat = H(X) # make prediction\n",
    "        cost = L(y_hat, Y) # calculate loss\n",
    "        if cost < lowest_cost: # if this is the best parameterisation so far\n",
    "            lowest_cost = cost # update the lowest running cost to the cost for this parameterisation\n",
    "            best_weights = w # get best weights so far from the model\n",
    "            best_bias = b # get best bias so far from the model\n",
    "    print('Lowest cost of', lowest_cost, 'achieved with weight of', best_weights, 'and bias of', best_bias)\n",
    "    return best_weights, best_bias"
   ]
  },
  {
   "cell_type": "code",
   "execution_count": null,
   "metadata": {},
   "outputs": [],
   "source": [
    "best_weights, best_bias = random_search(100) # do 100 samples in a random search \n",
    "H.update_params(best_weights, best_bias) # make sure to set our model's weights to the best values we found\n",
    "plot_h_vs_y(X, H(X), Y)"
   ]
  },
  {
   "cell_type": "markdown",
   "metadata": {},
   "source": [
    "### What happened?\n",
    "\n",
    "Our random search optimisation was able to fit the input-output relationship of our data! Or at least it got close. \n",
    "\n",
    "#### What would happen if our true parameter values were outside of the range [-20, 20]? \n",
    "\n",
    "The model performance wouldn't improve much!\n",
    "\n",
    "This is because of the limits of the values of the parameters that we perform the grid search over. In this case, by default we are only trying parameters in the range from -20 to 20. But if the true bias were to be, say 30, which is outside of this range - then the model would never sample a value close to this. \n",
    "\n",
    "So here we've assumed the range of values that our optimal parameterisation might be included in. Feel free to change this limit in the function definition to see the how the model performance changes."
   ]
  },
  {
   "cell_type": "markdown",
   "metadata": {},
   "source": [
    "### Will random search and grid search get us all the way?\n",
    "\n",
    "Aside from the issues showcased above, the major limitation of these search methods is how they scale with the number of parameters in our model. \n",
    "\n",
    "To model more complex functions we'll need more complex models - models with more parameters. \n",
    "\n",
    "But the time taken for these search methods scales **exponentially** with the number of parameters. This is because these methods have to search the whole space, and they keep searching even if they find the optimal value (they can't be sure it's the best parameterisation in the domain that they're checking until they've compared it to everywhere else."
   ]
  },
  {
   "cell_type": "markdown",
   "metadata": {},
   "source": [
    "## Summary\n",
    "\n",
    "- the very basic recipe for making machine learning algorithms consists of:\n",
    "    1. The data - our examples of inputs and outputs (in the supervised case) which determine the function that our model will learn to represent and hence the problem that we are solving\n",
    "    2. The model - our mathematical function that we pass our data forward through to make a prediction for the output\n",
    "    3. The criterion - how we measure how bad our model is.\n",
    "    4. The optimiser - our method for updating the parameters of our models.\n",
    "- random search is a trivial optimisation strategy\n",
    "- the MSE loss is appropriate for this regression problem\n",
    "\n",
    "## Next steps\n",
    "- [Gradient based optimisation]() - in this notebook we will look at optimisation techniques that do scale to \n",
    "more complex models and problems. Can we use gradient based optimisation to find the best parameters for our model and establish whether this wine is drinkable?"
   ]
  },
  {
   "cell_type": "markdown",
   "metadata": {},
   "source": [
    "## Challenges\n",
    "\n",
    "1. Implement grid Search\n",
    "\n",
    "Grid search is the process of trying out values at common intervals within a specified range for each parameter, and testing them to evaluate how good they are. E.g. test the values [0, 1, 2, 3, 4, 5]. It is the same as random search, other than the fact that the test coordinates are chosen systematically rather than randomly. \n"
   ]
  },
  {
   "cell_type": "markdown",
   "metadata": {},
   "source": []
  }
 ],
 "metadata": {
  "language_info": {
   "codemirror_mode": {
    "name": "ipython",
    "version": 3
   },
   "file_extension": ".py",
   "mimetype": "text/x-python",
   "name": "python",
   "nbconvert_exporter": "python",
   "pygments_lexer": "ipython3",
   "version": "3.6.9-final"
  },
  "orig_nbformat": 2,
  "kernelspec": {
   "name": "python36964bit4e36a22c5ab145cdaac0d5c6b1a34fd0",
   "display_name": "Python 3.6.9 64-bit"
  }
 },
 "nbformat": 4,
 "nbformat_minor": 2
}