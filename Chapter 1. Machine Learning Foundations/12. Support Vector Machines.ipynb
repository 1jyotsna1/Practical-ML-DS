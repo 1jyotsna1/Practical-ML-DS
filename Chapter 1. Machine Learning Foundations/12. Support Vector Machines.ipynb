{
 "cells": [
  {
   "cell_type": "markdown",
   "metadata": {},
   "source": [
    "# Support Vector Machines (SVMs)\n",
    "\n",
    "## Learning objectives\n",
    "- understand how SVMs work\n",
    "- implement an SVM from scratch\n",
    "- understand how the kernel trick always makes space separable\n",
    "- use the SkLearn library to implement a SVM\n",
    "\n",
    "## Intro - Which decision boundary is better?\n",
    "\n",
    "Support vector machines can be used for both classification and regression. For now, we will focus on the classification problem.\n",
    "\n",
    "# show different decision boundaries with different margins on separable data and try to get people to describe that the larger margin is better\n",
    "\n",
    "One way to choose which decision boundary is best would be to find the one which separates the different classes by the greatest margin.\n"
   ]
  },
  {
   "cell_type": "markdown",
   "metadata": {},
   "source": [
    "## what is a support vector machine?\n",
    "\n",
    "SVMs produce point estimates for either regression or classification problems. \n",
    "It does not output probabilities like logistic regression or predict the most likely value from a distribution like in linear regression.\n",
    "The decision boundary that they produce is characterised by having the greatest possible boundary.\n",
    "\n",
    "We will start by looking at how SVMs handle binary classification, for data that is linearly separable.\n",
    "\n",
    "Like linear and logistic regression, we can start building a SVM using a linear function. This linear function will depend on both a vector of weights and a bias, so SVMs are parametric models.\n",
    "In the classification case SVMs predict true if the model output is positive and false if negative.\n",
    "\n",
    "The desicion boundary is given by:\n",
    "# $f(x) = wx + b = 0$\n",
    "\n",
    "That means that any point which evaluates to $f(x) = 0$ is directly on the decision boundary.\n",
    "\n",
    "The classification is made by the function \n",
    "\n",
    "# $H(x) = sign(f(x)) = sign(wx + b)$\n",
    "\n",
    "For any examples that the SVM will classify as positive, $f(x) \\geq 0$.\n",
    "For any examples that the SVM will classify as negative, $f(x) \\leq 0$.\n",
    "\n",
    "For binary classification using SVMs, the labels are not 1 or 0 like we have seen up to this point.\n",
    "Instead, the labels are +1 or -1.\n",
    "\n",
    "Some examples within each class will lie directly on the boundary of the margin, where $f(x) = +1$ for positive examples, and $f(x) = -1$ for negative examples.\n",
    "These examples are known as the support vectors.\n",
    "We will talk further about how the support vectors are found soon.\n",
    "\n",
    "SVMs make a point estimate, rather than outputting a probability or a probability distribution.\n",
    "\n",
    "## What is the objective function?\n",
    "How can we quantify the size of the boundary as a function of our data and our model parameters? \n",
    "\n",
    "As mentioned, we want to maximise the margin, so that examples are separated by as much space as possible.\n",
    "We could get an expression for the width of the margin by projecting a vector that crosses from one side of the margin to the other in a direction perpendicular to the decision boundary.\n",
    "How can we get these 2 things?\n",
    "\n",
    "### 1. A vector that crosses the margin\n",
    "We know the equation of vectors (positive example support vectors) that are along the top of the margin is\n",
    "# $f(x_+) = wx_+ + b = +1$\n",
    "And that the equation of vectors (negative example support vectors) that are along the bottom of the margin is\n",
    "# $f(x_-) = wx_- + b = -1$\n",
    "The difference between any pair of points on each of these lines:\n",
    "# $x_+ - x_-$\n",
    "\n",
    "### 2. A unit vector perpendicular to the decision boundary\n",
    "The vector of weights points perpendicular to the decision boundary.\n",
    "To make this a unit vector we can divide by it's L2 norm.\n",
    "# $\\frac{\\omega}{||\\omega||}$\n",
    "\n",
    "### Together now\n",
    "# $(x_+ - x_-) \\frac{w}{||w||} = (wx_+ - wx_-)  \\frac{1}{||w||} = [(1 - b) - (-1 - b)]  \\frac{1}{||w||} = \\frac{2}{||w||}$\n",
    "\n",
    "This is the width of the margin.\n",
    "This is what we want to maximise.\n",
    "Equivalently, we minimise\n",
    "# $J = ||w||$ subject to "
   ]
  },
  {
   "cell_type": "markdown",
   "metadata": {},
   "source": [
    "\n",
    "### What if my data is not linearly separable?\n",
    "\n",
    "If the data is not linearly separable, then the margin on either side of the boundary may be negative.\n",
    "\n",
    "This is where SVMs really come into their own.\n",
    "Support vector machines are capable of finding decision boundaries that are capable of splitting linearly inseparable data (where no straight line can split the members of a class from those not in it).\n",
    "They do this by applying a function, called a kernel, to each example that projects it into a (usually higher dimensional) space where it is linearly separable.\n",
    "\n",
    "## The Kernel Trick\n",
    "\n",
    "Many machine learning algorithms can be written exclusively as dot products between examples.\n",
    "By comparing the similarity between examples along different features.\n",
    "\n",
    "Before taking this inner product between examples, we can transform each example in feature space.\n",
    "This is reasonable because it's like you measured different features rather than the ones you have by default. E.g. you record floor area of a house rather than just width and length.\n",
    "\n",
    "Transforming the examples using the kernel allows \n",
    "The model output is linear with respect to the kernel output, but can be very non-linear with respect to the raw input."
   ]
  },
  {
   "cell_type": "code",
   "execution_count": 1,
   "metadata": {},
   "outputs": [],
   "source": [
    "\n",
    "class LinearKernel:\n",
    "    def __init__(self, X):\n",
    "        self.X = X\n",
    "\n",
    "    def linear_kernel(x):\n",
    "        k = np.dot(X, x) # template match against all other examples\n",
    "        return k\n",
    "\n",
    "\n",
    "class SVM:\n",
    "    def __init__(self, n_features=2, n_classes=10):\n",
    "        self.w = np.random.rand(n_features, n_classes)\n",
    "        self.b = np.random.rand(n_classes)\n",
    "\n",
    "    def predict(self, x):\n",
    "        h = np.matmul(x, self.w) + self.b\n",
    "        return np.sign(h)"
   ]
  },
  {
   "cell_type": "code",
   "execution_count": 69,
   "metadata": {
    "tags": []
   },
   "outputs": [
    {
     "output_type": "display_data",
     "data": {
      "text/plain": "<Figure size 432x288 with 1 Axes>",
      "image/svg+xml": "<?xml version=\"1.0\" encoding=\"utf-8\" standalone=\"no\"?>\n<!DOCTYPE svg PUBLIC \"-//W3C//DTD SVG 1.1//EN\"\n  \"http://www.w3.org/Graphics/SVG/1.1/DTD/svg11.dtd\">\n<!-- Created with matplotlib (https://matplotlib.org/) -->\n<svg height=\"248.518125pt\" version=\"1.1\" viewBox=\"0 0 377.304687 248.518125\" width=\"377.304687pt\" xmlns=\"http://www.w3.org/2000/svg\" xmlns:xlink=\"http://www.w3.org/1999/xlink\">\n <defs>\n  <style type=\"text/css\">\n*{stroke-linecap:butt;stroke-linejoin:round;}\n  </style>\n </defs>\n <g id=\"figure_1\">\n  <g id=\"patch_1\">\n   <path d=\"M 0 248.518125 \nL 377.304687 248.518125 \nL 377.304687 0 \nL 0 0 \nz\n\" style=\"fill:none;\"/>\n  </g>\n  <g id=\"axes_1\">\n   <g id=\"patch_2\">\n    <path d=\"M 35.304688 224.64 \nL 370.104688 224.64 \nL 370.104688 7.2 \nL 35.304688 7.2 \nz\n\" style=\"fill:#ffffff;\"/>\n   </g>\n   <g id=\"PathCollection_1\">\n    <defs>\n     <path d=\"M 0 3 \nC 0.795609 3 1.55874 2.683901 2.12132 2.12132 \nC 2.683901 1.55874 3 0.795609 3 0 \nC 3 -0.795609 2.683901 -1.55874 2.12132 -2.12132 \nC 1.55874 -2.683901 0.795609 -3 0 -3 \nC -0.795609 -3 -1.55874 -2.683901 -2.12132 -2.12132 \nC -2.683901 -1.55874 -3 -0.795609 -3 0 \nC -3 0.795609 -2.683901 1.55874 -2.12132 2.12132 \nC -1.55874 2.683901 -0.795609 3 0 3 \nz\n\" id=\"m77858efa4a\" style=\"stroke:#e6194b;\"/>\n    </defs>\n    <g clip-path=\"url(#pb778e53f11)\">\n     <use style=\"fill:#e6194b;stroke:#e6194b;\" x=\"278.212707\" xlink:href=\"#m77858efa4a\" y=\"212.652086\"/>\n     <use style=\"fill:#e6194b;stroke:#e6194b;\" x=\"259.033017\" xlink:href=\"#m77858efa4a\" y=\"192.348481\"/>\n     <use style=\"fill:#e6194b;stroke:#e6194b;\" x=\"344.364417\" xlink:href=\"#m77858efa4a\" y=\"134.305419\"/>\n     <use style=\"fill:#e6194b;stroke:#e6194b;\" x=\"354.771698\" xlink:href=\"#m77858efa4a\" y=\"214.648703\"/>\n     <use style=\"fill:#e6194b;stroke:#e6194b;\" x=\"333.041487\" xlink:href=\"#m77858efa4a\" y=\"187.007101\"/>\n    </g>\n   </g>\n   <g id=\"PathCollection_2\">\n    <defs>\n     <path d=\"M 0 3 \nC 0.795609 3 1.55874 2.683901 2.12132 2.12132 \nC 2.683901 1.55874 3 0.795609 3 0 \nC 3 -0.795609 2.683901 -1.55874 2.12132 -2.12132 \nC 1.55874 -2.683901 0.795609 -3 0 -3 \nC -0.795609 -3 -1.55874 -2.683901 -2.12132 -2.12132 \nC -2.683901 -1.55874 -3 -0.795609 -3 0 \nC -3 0.795609 -2.683901 1.55874 -2.12132 2.12132 \nC -1.55874 2.683901 -0.795609 3 0 3 \nz\n\" id=\"m6f49b97f27\" style=\"stroke:#3cb44b;\"/>\n    </defs>\n    <g clip-path=\"url(#pb778e53f11)\">\n     <use style=\"fill:#3cb44b;stroke:#3cb44b;\" x=\"94.329913\" xlink:href=\"#m6f49b97f27\" y=\"164.677393\"/>\n     <use style=\"fill:#3cb44b;stroke:#3cb44b;\" x=\"202.340231\" xlink:href=\"#m6f49b97f27\" y=\"18.306242\"/>\n     <use style=\"fill:#3cb44b;stroke:#3cb44b;\" x=\"51.468793\" xlink:href=\"#m6f49b97f27\" y=\"85.767495\"/>\n     <use style=\"fill:#3cb44b;stroke:#3cb44b;\" x=\"166.633405\" xlink:href=\"#m6f49b97f27\" y=\"95.529201\"/>\n     <use style=\"fill:#3cb44b;stroke:#3cb44b;\" x=\"181.81417\" xlink:href=\"#m6f49b97f27\" y=\"31.026137\"/>\n    </g>\n   </g>\n   <g id=\"matplotlib.axis_1\">\n    <g id=\"xtick_1\">\n     <g id=\"line2d_1\">\n      <defs>\n       <path d=\"M 0 0 \nL 0 3.5 \n\" id=\"m9aaffc5926\" style=\"stroke:#000000;stroke-width:0.8;\"/>\n      </defs>\n      <g>\n       <use style=\"stroke:#000000;stroke-width:0.8;\" x=\"51.107021\" xlink:href=\"#m9aaffc5926\" y=\"224.64\"/>\n      </g>\n     </g>\n     <g id=\"text_1\">\n      <!-- −15 -->\n      <defs>\n       <path d=\"M 10.59375 35.5 \nL 73.1875 35.5 \nL 73.1875 27.203125 \nL 10.59375 27.203125 \nz\n\" id=\"DejaVuSans-8722\"/>\n       <path d=\"M 12.40625 8.296875 \nL 28.515625 8.296875 \nL 28.515625 63.921875 \nL 10.984375 60.40625 \nL 10.984375 69.390625 \nL 28.421875 72.90625 \nL 38.28125 72.90625 \nL 38.28125 8.296875 \nL 54.390625 8.296875 \nL 54.390625 0 \nL 12.40625 0 \nz\n\" id=\"DejaVuSans-49\"/>\n       <path d=\"M 10.796875 72.90625 \nL 49.515625 72.90625 \nL 49.515625 64.59375 \nL 19.828125 64.59375 \nL 19.828125 46.734375 \nQ 21.96875 47.46875 24.109375 47.828125 \nQ 26.265625 48.1875 28.421875 48.1875 \nQ 40.625 48.1875 47.75 41.5 \nQ 54.890625 34.8125 54.890625 23.390625 \nQ 54.890625 11.625 47.5625 5.09375 \nQ 40.234375 -1.421875 26.90625 -1.421875 \nQ 22.3125 -1.421875 17.546875 -0.640625 \nQ 12.796875 0.140625 7.71875 1.703125 \nL 7.71875 11.625 \nQ 12.109375 9.234375 16.796875 8.0625 \nQ 21.484375 6.890625 26.703125 6.890625 \nQ 35.15625 6.890625 40.078125 11.328125 \nQ 45.015625 15.765625 45.015625 23.390625 \nQ 45.015625 31 40.078125 35.4375 \nQ 35.15625 39.890625 26.703125 39.890625 \nQ 22.75 39.890625 18.8125 39.015625 \nQ 14.890625 38.140625 10.796875 36.28125 \nz\n\" id=\"DejaVuSans-53\"/>\n      </defs>\n      <g transform=\"translate(40.554677 239.238437)scale(0.1 -0.1)\">\n       <use xlink:href=\"#DejaVuSans-8722\"/>\n       <use x=\"83.789062\" xlink:href=\"#DejaVuSans-49\"/>\n       <use x=\"147.412109\" xlink:href=\"#DejaVuSans-53\"/>\n      </g>\n     </g>\n    </g>\n    <g id=\"xtick_2\">\n     <g id=\"line2d_2\">\n      <g>\n       <use style=\"stroke:#000000;stroke-width:0.8;\" x=\"115.169672\" xlink:href=\"#m9aaffc5926\" y=\"224.64\"/>\n      </g>\n     </g>\n     <g id=\"text_2\">\n      <!-- −10 -->\n      <defs>\n       <path d=\"M 31.78125 66.40625 \nQ 24.171875 66.40625 20.328125 58.90625 \nQ 16.5 51.421875 16.5 36.375 \nQ 16.5 21.390625 20.328125 13.890625 \nQ 24.171875 6.390625 31.78125 6.390625 \nQ 39.453125 6.390625 43.28125 13.890625 \nQ 47.125 21.390625 47.125 36.375 \nQ 47.125 51.421875 43.28125 58.90625 \nQ 39.453125 66.40625 31.78125 66.40625 \nz\nM 31.78125 74.21875 \nQ 44.046875 74.21875 50.515625 64.515625 \nQ 56.984375 54.828125 56.984375 36.375 \nQ 56.984375 17.96875 50.515625 8.265625 \nQ 44.046875 -1.421875 31.78125 -1.421875 \nQ 19.53125 -1.421875 13.0625 8.265625 \nQ 6.59375 17.96875 6.59375 36.375 \nQ 6.59375 54.828125 13.0625 64.515625 \nQ 19.53125 74.21875 31.78125 74.21875 \nz\n\" id=\"DejaVuSans-48\"/>\n      </defs>\n      <g transform=\"translate(104.617329 239.238437)scale(0.1 -0.1)\">\n       <use xlink:href=\"#DejaVuSans-8722\"/>\n       <use x=\"83.789062\" xlink:href=\"#DejaVuSans-49\"/>\n       <use x=\"147.412109\" xlink:href=\"#DejaVuSans-48\"/>\n      </g>\n     </g>\n    </g>\n    <g id=\"xtick_3\">\n     <g id=\"line2d_3\">\n      <g>\n       <use style=\"stroke:#000000;stroke-width:0.8;\" x=\"179.232324\" xlink:href=\"#m9aaffc5926\" y=\"224.64\"/>\n      </g>\n     </g>\n     <g id=\"text_3\">\n      <!-- −5 -->\n      <g transform=\"translate(171.86123 239.238437)scale(0.1 -0.1)\">\n       <use xlink:href=\"#DejaVuSans-8722\"/>\n       <use x=\"83.789062\" xlink:href=\"#DejaVuSans-53\"/>\n      </g>\n     </g>\n    </g>\n    <g id=\"xtick_4\">\n     <g id=\"line2d_4\">\n      <g>\n       <use style=\"stroke:#000000;stroke-width:0.8;\" x=\"243.294975\" xlink:href=\"#m9aaffc5926\" y=\"224.64\"/>\n      </g>\n     </g>\n     <g id=\"text_4\">\n      <!-- 0 -->\n      <g transform=\"translate(240.113725 239.238437)scale(0.1 -0.1)\">\n       <use xlink:href=\"#DejaVuSans-48\"/>\n      </g>\n     </g>\n    </g>\n    <g id=\"xtick_5\">\n     <g id=\"line2d_5\">\n      <g>\n       <use style=\"stroke:#000000;stroke-width:0.8;\" x=\"307.357626\" xlink:href=\"#m9aaffc5926\" y=\"224.64\"/>\n      </g>\n     </g>\n     <g id=\"text_5\">\n      <!-- 5 -->\n      <g transform=\"translate(304.176376 239.238437)scale(0.1 -0.1)\">\n       <use xlink:href=\"#DejaVuSans-53\"/>\n      </g>\n     </g>\n    </g>\n   </g>\n   <g id=\"matplotlib.axis_2\">\n    <g id=\"ytick_1\">\n     <g id=\"line2d_6\">\n      <defs>\n       <path d=\"M 0 0 \nL -3.5 0 \n\" id=\"m866a8aa0d9\" style=\"stroke:#000000;stroke-width:0.8;\"/>\n      </defs>\n      <g>\n       <use style=\"stroke:#000000;stroke-width:0.8;\" x=\"35.304688\" xlink:href=\"#m866a8aa0d9\" y=\"194.839112\"/>\n      </g>\n     </g>\n     <g id=\"text_6\">\n      <!-- −10 -->\n      <g transform=\"translate(7.2 198.638331)scale(0.1 -0.1)\">\n       <use xlink:href=\"#DejaVuSans-8722\"/>\n       <use x=\"83.789062\" xlink:href=\"#DejaVuSans-49\"/>\n       <use x=\"147.412109\" xlink:href=\"#DejaVuSans-48\"/>\n      </g>\n     </g>\n    </g>\n    <g id=\"ytick_2\">\n     <g id=\"line2d_7\">\n      <g>\n       <use style=\"stroke:#000000;stroke-width:0.8;\" x=\"35.304688\" xlink:href=\"#m866a8aa0d9\" y=\"155.823047\"/>\n      </g>\n     </g>\n     <g id=\"text_7\">\n      <!-- −5 -->\n      <g transform=\"translate(13.5625 159.622266)scale(0.1 -0.1)\">\n       <use xlink:href=\"#DejaVuSans-8722\"/>\n       <use x=\"83.789062\" xlink:href=\"#DejaVuSans-53\"/>\n      </g>\n     </g>\n    </g>\n    <g id=\"ytick_3\">\n     <g id=\"line2d_8\">\n      <g>\n       <use style=\"stroke:#000000;stroke-width:0.8;\" x=\"35.304688\" xlink:href=\"#m866a8aa0d9\" y=\"116.806983\"/>\n      </g>\n     </g>\n     <g id=\"text_8\">\n      <!-- 0 -->\n      <g transform=\"translate(21.942188 120.606201)scale(0.1 -0.1)\">\n       <use xlink:href=\"#DejaVuSans-48\"/>\n      </g>\n     </g>\n    </g>\n    <g id=\"ytick_4\">\n     <g id=\"line2d_9\">\n      <g>\n       <use style=\"stroke:#000000;stroke-width:0.8;\" x=\"35.304688\" xlink:href=\"#m866a8aa0d9\" y=\"77.790918\"/>\n      </g>\n     </g>\n     <g id=\"text_9\">\n      <!-- 5 -->\n      <g transform=\"translate(21.942188 81.590137)scale(0.1 -0.1)\">\n       <use xlink:href=\"#DejaVuSans-53\"/>\n      </g>\n     </g>\n    </g>\n    <g id=\"ytick_5\">\n     <g id=\"line2d_10\">\n      <g>\n       <use style=\"stroke:#000000;stroke-width:0.8;\" x=\"35.304688\" xlink:href=\"#m866a8aa0d9\" y=\"38.774853\"/>\n      </g>\n     </g>\n     <g id=\"text_10\">\n      <!-- 10 -->\n      <g transform=\"translate(15.579688 42.574072)scale(0.1 -0.1)\">\n       <use xlink:href=\"#DejaVuSans-49\"/>\n       <use x=\"63.623047\" xlink:href=\"#DejaVuSans-48\"/>\n      </g>\n     </g>\n    </g>\n   </g>\n   <g id=\"patch_3\">\n    <path d=\"M 35.304688 224.64 \nL 35.304688 7.2 \n\" style=\"fill:none;stroke:#000000;stroke-linecap:square;stroke-linejoin:miter;stroke-width:0.8;\"/>\n   </g>\n   <g id=\"patch_4\">\n    <path d=\"M 370.104688 224.64 \nL 370.104688 7.2 \n\" style=\"fill:none;stroke:#000000;stroke-linecap:square;stroke-linejoin:miter;stroke-width:0.8;\"/>\n   </g>\n   <g id=\"patch_5\">\n    <path d=\"M 35.304688 224.64 \nL 370.104688 224.64 \n\" style=\"fill:none;stroke:#000000;stroke-linecap:square;stroke-linejoin:miter;stroke-width:0.8;\"/>\n   </g>\n   <g id=\"patch_6\">\n    <path d=\"M 35.304688 7.2 \nL 370.104688 7.2 \n\" style=\"fill:none;stroke:#000000;stroke-linecap:square;stroke-linejoin:miter;stroke-width:0.8;\"/>\n   </g>\n  </g>\n </g>\n <defs>\n  <clipPath id=\"pb778e53f11\">\n   <rect height=\"217.44\" width=\"334.8\" x=\"35.304688\" y=\"7.2\"/>\n  </clipPath>\n </defs>\n</svg>\n",
      "image/png": "[encoded data removed]"
     },
     "metadata": {
      "needs_background": "light"
     }
    },
    {
     "output_type": "execute_result",
     "data": {
      "text/plain": "array([[ 1., -1.],\n       [-1., -1.],\n       [-1., -1.],\n       [-1.,  1.],\n       [-1., -1.],\n       [-1., -1.],\n       [ 1.,  1.],\n       [ 1.,  1.],\n       [-1.,  1.],\n       [ 1.,  1.]])"
     },
     "metadata": {},
     "execution_count": 69
    }
   ],
   "source": [
    "import pandas as pd\n",
    "\n",
    "import numpy as np\n",
    "np.set_printoptions(suppress=True)\n",
    "import matplotlib.pyplot as plt\n",
    "import sklearn.datasets\n",
    "from get_colors import colors\n",
    "\n",
    "def get_data(m=100, n_features=2, n_clusters=4):\n",
    "    X, Y = sklearn.datasets.make_blobs(n_samples=m, n_features=n_features, centers=n_clusters, cluster_std=5.0)#, center_box=(-10.0, 10.0), shuffle=True, random_state=None, return_centers=False)\n",
    "    return X, Y\n",
    "\n",
    "m = 10\n",
    "n_features = 2\n",
    "n_classes = 2\n",
    "X, Y = get_data(m, n_features, n_classes)\n",
    "\n",
    "def show_data(X, Y, predictions=None):\n",
    "    for i in range(min(Y), max(Y)+1):\n",
    "        # print(i)\n",
    "        y = Y == i\n",
    "        x = X[y]\n",
    "        plt.scatter(x[:, 0], x[:, 1], c=colors[i])\n",
    "        if predictions is not None:\n",
    "            y = predictions == i\n",
    "            x = X[y]\n",
    "            plt.scatter(x[:, 0], x[:, 1], c=colors[i], marker='x', s=100)\n",
    "    plt.show()\n",
    "\n",
    "show_data(X, Y)\n",
    "svm = SVM(n_features, n_classes)\n",
    "svm.predict(X)"
   ]
  },
  {
   "cell_type": "code",
   "execution_count": 70,
   "metadata": {
    "tags": []
   },
   "outputs": [
    {
     "output_type": "stream",
     "name": "stderr",
     "text": "/home/ice/.local/lib/python3.6/site-packages/sklearn/svm/base.py:196: FutureWarning: The default value of gamma will change from 'auto' to 'scale' in version 0.22 to account better for unscaled features. Set gamma explicitly to 'auto' or 'scale' to avoid this warning.\n  \"avoid this warning.\", FutureWarning)\n[0 1 0 1 1 1 0 0 1 0]\n1\n"
    },
    {
     "output_type": "display_data",
     "data": {
      "text/plain": "<Figure size 432x288 with 1 Axes>",
      "image/svg+xml": "<?xml version=\"1.0\" encoding=\"utf-8\" standalone=\"no\"?>\n<!DOCTYPE svg PUBLIC \"-//W3C//DTD SVG 1.1//EN\"\n  \"http://www.w3.org/Graphics/SVG/1.1/DTD/svg11.dtd\">\n<!-- Created with matplotlib (https://matplotlib.org/) -->\n<svg height=\"248.518125pt\" version=\"1.1\" viewBox=\"0 0 247.688885 248.518125\" width=\"247.688885pt\" xmlns=\"http://www.w3.org/2000/svg\" xmlns:xlink=\"http://www.w3.org/1999/xlink\">\n <defs>\n  <style type=\"text/css\">\n*{stroke-linecap:butt;stroke-linejoin:round;}\n  </style>\n </defs>\n <g id=\"figure_1\">\n  <g id=\"patch_1\">\n   <path d=\"M 0 248.518125 \nL 247.688885 248.518125 \nL 247.688885 0 \nL 0 0 \nz\n\" style=\"fill:none;\"/>\n  </g>\n  <g id=\"axes_1\">\n   <g id=\"patch_2\">\n    <path d=\"M 35.304688 224.64 \nL 236.350031 224.64 \nL 236.350031 7.2 \nL 35.304688 7.2 \nz\n\" style=\"fill:#ffffff;\"/>\n   </g>\n   <g clip-path=\"url(#p36a1a92464)\">\n    <image height=\"189\" id=\"image21370b801a\" transform=\"scale(1 -1)translate(0 -189)\" width=\"177\" x=\"47.424394\" xlink:href=\"data:image/png;base64,\niVBORw0KGgoAAAANSUhEUgAAALEAAAC9CAYAAAD865y+AAAABHNCSVQICAgIfAhkiAAAAyhJREFUeJzt3dFt02AUgFGCMgXPDMAQSCzAsmzBFDAFap+QIkux4r+O7S8+57lNrOrT7ZUT25fvl59vnyDs894HAB8lYvJETJ6IyRMxeSImT8TkiZg8EZMnYvJETJ6IyRMxeSImT8TkiZg8EZMnYvJETJ6IyRMxeSImT8TkiZg8EZN3fcaL/vrz++Gf/fHl2zMOgRMxickTMXkiJm94J16y946+jn2ZR5jE5ImYPBGTt2gnXmsPHnk/+zH3mMTkiZg8EZM3uxNvvQPPmR6LHZn/TGLyREyeiMkTMXkiJk/E5ImYPBGTJ2LyREyeiMkTMXkiJk/E5ImYPBGTJ2LyREyeiMkTMXkiJm/2aufpFcV7Xv3s6mbuMYnJEzF5IiZv0V0xb/fSLfZjezCPMInJEzF5IiZv+OlJS/ZVd3znmUxi8kRMnojJG96Jl7AH80wmMXkiJk/E5ImYPBGTJ2LyREyeiMkTMXkiJk/E5ImYPBGTJ2LyREyeiMkTMXkiJk/E5ImYPBGTJ2LyNrlkf2/PuA2t2xAch0lMnojJe8l1You72M+9h1VjWyYxeSImT8TkXZfsj0fe9fZ82in7MonJEzF5Iibv8u/v17eRX9x7P67swHv/nc7AJCZPxOSJmLzh705Md1K7H3sxickTMXmrfRXTQ8jZi0lMnojJEzF5IiZPxOSJmDwRk5e9ZH96Lrry1UzWZxKTJ2LyRExedic+Mt8d2ZZJTJ6IyRMxeS+zE9/uoVufM7YD78skJk/E5L3MOnFr7t/76KphZTguk5g8EZMnYvKG74o5ZWdkLyYxeSImT8TkLTpPbO/liExi8kRMnojJu9pzqTOJyRMxeSImT8TkiZg8EZMnYvJETJ6IyRMxeS95yf6ote4c5KP8bZnE5ImYPBGTd7qdeIs7Zs69h315fSYxeSImT8TknWInPtLTRqfHYkf+OJOYPBGTd4p14shu1wurxRiTmDwRkydi8uzEB+L02xiTmDwRkydi8uzEB+Yc8mNMYvJETJ6IyRMxeSImT8TkOcUW4SPp+0xi8kRMnojJO8VOfLs/HunKZ9ZhEpMnYvJETN47gF9omF9+bwwAAAAASUVORK5CYII=\" y=\"-21.151558\"/>\n   </g>\n   <g id=\"PathCollection_1\">\n    <defs>\n     <path d=\"M 0 3 \nC 0.795609 3 1.55874 2.683901 2.12132 2.12132 \nC 2.683901 1.55874 3 0.795609 3 0 \nC 3 -0.795609 2.683901 -1.55874 2.12132 -2.12132 \nC 1.55874 -2.683901 0.795609 -3 0 -3 \nC -0.795609 -3 -1.55874 -2.683901 -2.12132 -2.12132 \nC -2.683901 -1.55874 -3 -0.795609 -3 0 \nC -3 0.795609 -2.683901 1.55874 -2.12132 2.12132 \nC -1.55874 2.683901 -0.795609 3 0 3 \nz\n\" id=\"maa3e3a316f\" style=\"stroke:#e6194b;\"/>\n    </defs>\n    <g clip-path=\"url(#p36a1a92464)\">\n     <use style=\"fill:#e6194b;stroke:#e6194b;\" x=\"179.736768\" xlink:href=\"#maa3e3a316f\" y=\"208.238531\"/>\n     <use style=\"fill:#e6194b;stroke:#e6194b;\" x=\"168.5448\" xlink:href=\"#maa3e3a316f\" y=\"188.784956\"/>\n     <use style=\"fill:#e6194b;stroke:#e6194b;\" x=\"218.33842\" xlink:href=\"#maa3e3a316f\" y=\"133.171923\"/>\n     <use style=\"fill:#e6194b;stroke:#e6194b;\" x=\"224.411403\" xlink:href=\"#maa3e3a316f\" y=\"210.151558\"/>\n     <use style=\"fill:#e6194b;stroke:#e6194b;\" x=\"211.731125\" xlink:href=\"#maa3e3a316f\" y=\"183.667198\"/>\n    </g>\n   </g>\n   <g id=\"PathCollection_2\">\n    <defs>\n     <path d=\"M -5 5 \nL 5 -5 \nM -5 -5 \nL 5 5 \n\" id=\"m1700c9bddd\" style=\"stroke:#e6194b;stroke-width:1.5;\"/>\n    </defs>\n    <g clip-path=\"url(#p36a1a92464)\">\n     <use style=\"fill:#e6194b;stroke:#e6194b;stroke-width:1.5;\" x=\"179.736768\" xlink:href=\"#m1700c9bddd\" y=\"208.238531\"/>\n     <use style=\"fill:#e6194b;stroke:#e6194b;stroke-width:1.5;\" x=\"168.5448\" xlink:href=\"#m1700c9bddd\" y=\"188.784956\"/>\n     <use style=\"fill:#e6194b;stroke:#e6194b;stroke-width:1.5;\" x=\"218.33842\" xlink:href=\"#m1700c9bddd\" y=\"133.171923\"/>\n     <use style=\"fill:#e6194b;stroke:#e6194b;stroke-width:1.5;\" x=\"224.411403\" xlink:href=\"#m1700c9bddd\" y=\"210.151558\"/>\n     <use style=\"fill:#e6194b;stroke:#e6194b;stroke-width:1.5;\" x=\"211.731125\" xlink:href=\"#m1700c9bddd\" y=\"183.667198\"/>\n    </g>\n   </g>\n   <g id=\"PathCollection_3\">\n    <defs>\n     <path d=\"M 0 3 \nC 0.795609 3 1.55874 2.683901 2.12132 2.12132 \nC 2.683901 1.55874 3 0.795609 3 0 \nC 3 -0.795609 2.683901 -1.55874 2.12132 -2.12132 \nC 1.55874 -2.683901 0.795609 -3 0 -3 \nC -0.795609 -3 -1.55874 -2.683901 -2.12132 -2.12132 \nC -2.683901 -1.55874 -3 -0.795609 -3 0 \nC -3 0.795609 -2.683901 1.55874 -2.12132 2.12132 \nC -1.55874 2.683901 -0.795609 3 0 3 \nz\n\" id=\"m903e9775ab\" style=\"stroke:#3cb44b;\"/>\n    </defs>\n    <g clip-path=\"url(#p36a1a92464)\">\n     <use style=\"fill:#3cb44b;stroke:#3cb44b;\" x=\"72.435237\" xlink:href=\"#m903e9775ab\" y=\"162.272345\"/>\n     <use style=\"fill:#3cb44b;stroke:#3cb44b;\" x=\"135.462735\" xlink:href=\"#m903e9775ab\" y=\"22.029164\"/>\n     <use style=\"fill:#3cb44b;stroke:#3cb44b;\" x=\"47.424394\" xlink:href=\"#m903e9775ab\" y=\"86.666086\"/>\n     <use style=\"fill:#3cb44b;stroke:#3cb44b;\" x=\"114.626652\" xlink:href=\"#m903e9775ab\" y=\"96.019109\"/>\n     <use style=\"fill:#3cb44b;stroke:#3cb44b;\" x=\"123.485118\" xlink:href=\"#m903e9775ab\" y=\"34.216528\"/>\n    </g>\n   </g>\n   <g id=\"PathCollection_4\">\n    <defs>\n     <path d=\"M -5 5 \nL 5 -5 \nM -5 -5 \nL 5 5 \n\" id=\"mc595527a36\" style=\"stroke:#3cb44b;stroke-width:1.5;\"/>\n    </defs>\n    <g clip-path=\"url(#p36a1a92464)\">\n     <use style=\"fill:#3cb44b;stroke:#3cb44b;stroke-width:1.5;\" x=\"72.435237\" xlink:href=\"#mc595527a36\" y=\"162.272345\"/>\n     <use style=\"fill:#3cb44b;stroke:#3cb44b;stroke-width:1.5;\" x=\"135.462735\" xlink:href=\"#mc595527a36\" y=\"22.029164\"/>\n     <use style=\"fill:#3cb44b;stroke:#3cb44b;stroke-width:1.5;\" x=\"47.424394\" xlink:href=\"#mc595527a36\" y=\"86.666086\"/>\n     <use style=\"fill:#3cb44b;stroke:#3cb44b;stroke-width:1.5;\" x=\"114.626652\" xlink:href=\"#mc595527a36\" y=\"96.019109\"/>\n     <use style=\"fill:#3cb44b;stroke:#3cb44b;stroke-width:1.5;\" x=\"123.485118\" xlink:href=\"#mc595527a36\" y=\"34.216528\"/>\n    </g>\n   </g>\n   <g id=\"matplotlib.axis_1\">\n    <g id=\"xtick_1\">\n     <g id=\"line2d_1\">\n      <defs>\n       <path d=\"M 0 0 \nL 0 3.5 \n\" id=\"mccfcc8559e\" style=\"stroke:#000000;stroke-width:0.8;\"/>\n      </defs>\n      <g>\n       <use style=\"stroke:#000000;stroke-width:0.8;\" x=\"47.213288\" xlink:href=\"#mccfcc8559e\" y=\"224.64\"/>\n      </g>\n     </g>\n     <g id=\"text_1\">\n      <!-- −15 -->\n      <defs>\n       <path d=\"M 10.59375 35.5 \nL 73.1875 35.5 \nL 73.1875 27.203125 \nL 10.59375 27.203125 \nz\n\" id=\"DejaVuSans-8722\"/>\n       <path d=\"M 12.40625 8.296875 \nL 28.515625 8.296875 \nL 28.515625 63.921875 \nL 10.984375 60.40625 \nL 10.984375 69.390625 \nL 28.421875 72.90625 \nL 38.28125 72.90625 \nL 38.28125 8.296875 \nL 54.390625 8.296875 \nL 54.390625 0 \nL 12.40625 0 \nz\n\" id=\"DejaVuSans-49\"/>\n       <path d=\"M 10.796875 72.90625 \nL 49.515625 72.90625 \nL 49.515625 64.59375 \nL 19.828125 64.59375 \nL 19.828125 46.734375 \nQ 21.96875 47.46875 24.109375 47.828125 \nQ 26.265625 48.1875 28.421875 48.1875 \nQ 40.625 48.1875 47.75 41.5 \nQ 54.890625 34.8125 54.890625 23.390625 \nQ 54.890625 11.625 47.5625 5.09375 \nQ 40.234375 -1.421875 26.90625 -1.421875 \nQ 22.3125 -1.421875 17.546875 -0.640625 \nQ 12.796875 0.140625 7.71875 1.703125 \nL 7.71875 11.625 \nQ 12.109375 9.234375 16.796875 8.0625 \nQ 21.484375 6.890625 26.703125 6.890625 \nQ 35.15625 6.890625 40.078125 11.328125 \nQ 45.015625 15.765625 45.015625 23.390625 \nQ 45.015625 31 40.078125 35.4375 \nQ 35.15625 39.890625 26.703125 39.890625 \nQ 22.75 39.890625 18.8125 39.015625 \nQ 14.890625 38.140625 10.796875 36.28125 \nz\n\" id=\"DejaVuSans-53\"/>\n      </defs>\n      <g transform=\"translate(36.660945 239.238437)scale(0.1 -0.1)\">\n       <use xlink:href=\"#DejaVuSans-8722\"/>\n       <use x=\"83.789062\" xlink:href=\"#DejaVuSans-49\"/>\n       <use x=\"147.412109\" xlink:href=\"#DejaVuSans-53\"/>\n      </g>\n     </g>\n    </g>\n    <g id=\"xtick_2\">\n     <g id=\"line2d_2\">\n      <g>\n       <use style=\"stroke:#000000;stroke-width:0.8;\" x=\"84.595908\" xlink:href=\"#mccfcc8559e\" y=\"224.64\"/>\n      </g>\n     </g>\n     <g id=\"text_2\">\n      <!-- −10 -->\n      <defs>\n       <path d=\"M 31.78125 66.40625 \nQ 24.171875 66.40625 20.328125 58.90625 \nQ 16.5 51.421875 16.5 36.375 \nQ 16.5 21.390625 20.328125 13.890625 \nQ 24.171875 6.390625 31.78125 6.390625 \nQ 39.453125 6.390625 43.28125 13.890625 \nQ 47.125 21.390625 47.125 36.375 \nQ 47.125 51.421875 43.28125 58.90625 \nQ 39.453125 66.40625 31.78125 66.40625 \nz\nM 31.78125 74.21875 \nQ 44.046875 74.21875 50.515625 64.515625 \nQ 56.984375 54.828125 56.984375 36.375 \nQ 56.984375 17.96875 50.515625 8.265625 \nQ 44.046875 -1.421875 31.78125 -1.421875 \nQ 19.53125 -1.421875 13.0625 8.265625 \nQ 6.59375 17.96875 6.59375 36.375 \nQ 6.59375 54.828125 13.0625 64.515625 \nQ 19.53125 74.21875 31.78125 74.21875 \nz\n\" id=\"DejaVuSans-48\"/>\n      </defs>\n      <g transform=\"translate(74.043564 239.238437)scale(0.1 -0.1)\">\n       <use xlink:href=\"#DejaVuSans-8722\"/>\n       <use x=\"83.789062\" xlink:href=\"#DejaVuSans-49\"/>\n       <use x=\"147.412109\" xlink:href=\"#DejaVuSans-48\"/>\n      </g>\n     </g>\n    </g>\n    <g id=\"xtick_3\">\n     <g id=\"line2d_3\">\n      <g>\n       <use style=\"stroke:#000000;stroke-width:0.8;\" x=\"121.978527\" xlink:href=\"#mccfcc8559e\" y=\"224.64\"/>\n      </g>\n     </g>\n     <g id=\"text_3\">\n      <!-- −5 -->\n      <g transform=\"translate(114.607433 239.238437)scale(0.1 -0.1)\">\n       <use xlink:href=\"#DejaVuSans-8722\"/>\n       <use x=\"83.789062\" xlink:href=\"#DejaVuSans-53\"/>\n      </g>\n     </g>\n    </g>\n    <g id=\"xtick_4\">\n     <g id=\"line2d_4\">\n      <g>\n       <use style=\"stroke:#000000;stroke-width:0.8;\" x=\"159.361146\" xlink:href=\"#mccfcc8559e\" y=\"224.64\"/>\n      </g>\n     </g>\n     <g id=\"text_4\">\n      <!-- 0 -->\n      <g transform=\"translate(156.179896 239.238437)scale(0.1 -0.1)\">\n       <use xlink:href=\"#DejaVuSans-48\"/>\n      </g>\n     </g>\n    </g>\n    <g id=\"xtick_5\">\n     <g id=\"line2d_5\">\n      <g>\n       <use style=\"stroke:#000000;stroke-width:0.8;\" x=\"196.743766\" xlink:href=\"#mccfcc8559e\" y=\"224.64\"/>\n      </g>\n     </g>\n     <g id=\"text_5\">\n      <!-- 5 -->\n      <g transform=\"translate(193.562516 239.238437)scale(0.1 -0.1)\">\n       <use xlink:href=\"#DejaVuSans-53\"/>\n      </g>\n     </g>\n    </g>\n    <g id=\"xtick_6\">\n     <g id=\"line2d_6\">\n      <g>\n       <use style=\"stroke:#000000;stroke-width:0.8;\" x=\"234.126385\" xlink:href=\"#mccfcc8559e\" y=\"224.64\"/>\n      </g>\n     </g>\n     <g id=\"text_6\">\n      <!-- 10 -->\n      <g transform=\"translate(227.763885 239.238437)scale(0.1 -0.1)\">\n       <use xlink:href=\"#DejaVuSans-49\"/>\n       <use x=\"63.623047\" xlink:href=\"#DejaVuSans-48\"/>\n      </g>\n     </g>\n    </g>\n   </g>\n   <g id=\"matplotlib.axis_2\">\n    <g id=\"ytick_1\">\n     <g id=\"line2d_7\">\n      <defs>\n       <path d=\"M 0 0 \nL -3.5 0 \n\" id=\"m24cddeb2ad\" style=\"stroke:#000000;stroke-width:0.8;\"/>\n      </defs>\n      <g>\n       <use style=\"stroke:#000000;stroke-width:0.8;\" x=\"35.304688\" xlink:href=\"#m24cddeb2ad\" y=\"191.171314\"/>\n      </g>\n     </g>\n     <g id=\"text_7\">\n      <!-- −10 -->\n      <g transform=\"translate(7.2 194.970533)scale(0.1 -0.1)\">\n       <use xlink:href=\"#DejaVuSans-8722\"/>\n       <use x=\"83.789062\" xlink:href=\"#DejaVuSans-49\"/>\n       <use x=\"147.412109\" xlink:href=\"#DejaVuSans-48\"/>\n      </g>\n     </g>\n    </g>\n    <g id=\"ytick_2\">\n     <g id=\"line2d_8\">\n      <g>\n       <use style=\"stroke:#000000;stroke-width:0.8;\" x=\"35.304688\" xlink:href=\"#m24cddeb2ad\" y=\"153.788695\"/>\n      </g>\n     </g>\n     <g id=\"text_8\">\n      <!-- −5 -->\n      <g transform=\"translate(13.5625 157.587914)scale(0.1 -0.1)\">\n       <use xlink:href=\"#DejaVuSans-8722\"/>\n       <use x=\"83.789062\" xlink:href=\"#DejaVuSans-53\"/>\n      </g>\n     </g>\n    </g>\n    <g id=\"ytick_3\">\n     <g id=\"line2d_9\">\n      <g>\n       <use style=\"stroke:#000000;stroke-width:0.8;\" x=\"35.304688\" xlink:href=\"#m24cddeb2ad\" y=\"116.406076\"/>\n      </g>\n     </g>\n     <g id=\"text_9\">\n      <!-- 0 -->\n      <g transform=\"translate(21.942187 120.205294)scale(0.1 -0.1)\">\n       <use xlink:href=\"#DejaVuSans-48\"/>\n      </g>\n     </g>\n    </g>\n    <g id=\"ytick_4\">\n     <g id=\"line2d_10\">\n      <g>\n       <use style=\"stroke:#000000;stroke-width:0.8;\" x=\"35.304688\" xlink:href=\"#m24cddeb2ad\" y=\"79.023456\"/>\n      </g>\n     </g>\n     <g id=\"text_10\">\n      <!-- 5 -->\n      <g transform=\"translate(21.942187 82.822675)scale(0.1 -0.1)\">\n       <use xlink:href=\"#DejaVuSans-53\"/>\n      </g>\n     </g>\n    </g>\n    <g id=\"ytick_5\">\n     <g id=\"line2d_11\">\n      <g>\n       <use style=\"stroke:#000000;stroke-width:0.8;\" x=\"35.304688\" xlink:href=\"#m24cddeb2ad\" y=\"41.640837\"/>\n      </g>\n     </g>\n     <g id=\"text_11\">\n      <!-- 10 -->\n      <g transform=\"translate(15.579687 45.440056)scale(0.1 -0.1)\">\n       <use xlink:href=\"#DejaVuSans-49\"/>\n       <use x=\"63.623047\" xlink:href=\"#DejaVuSans-48\"/>\n      </g>\n     </g>\n    </g>\n   </g>\n   <g id=\"patch_3\">\n    <path d=\"M 35.304688 224.64 \nL 35.304688 7.2 \n\" style=\"fill:none;stroke:#000000;stroke-linecap:square;stroke-linejoin:miter;stroke-width:0.8;\"/>\n   </g>\n   <g id=\"patch_4\">\n    <path d=\"M 236.350031 224.64 \nL 236.350031 7.2 \n\" style=\"fill:none;stroke:#000000;stroke-linecap:square;stroke-linejoin:miter;stroke-width:0.8;\"/>\n   </g>\n   <g id=\"patch_5\">\n    <path d=\"M 35.304688 224.64 \nL 236.350031 224.64 \n\" style=\"fill:none;stroke:#000000;stroke-linecap:square;stroke-linejoin:miter;stroke-width:0.8;\"/>\n   </g>\n   <g id=\"patch_6\">\n    <path d=\"M 35.304688 7.2 \nL 236.350031 7.2 \n\" style=\"fill:none;stroke:#000000;stroke-linecap:square;stroke-linejoin:miter;stroke-width:0.8;\"/>\n   </g>\n  </g>\n </g>\n <defs>\n  <clipPath id=\"p36a1a92464\">\n   <rect height=\"217.44\" width=\"201.045343\" x=\"35.304688\" y=\"7.2\"/>\n  </clipPath>\n </defs>\n</svg>\n",
      "image/png": "[encoded data removed]"
     },
     "metadata": {
      "needs_background": "light"
     }
    }
   ],
   "source": [
    "import sklearn.svm\n",
    "from get_colors import colors\n",
    "\n",
    "svm = sklearn.svm.SVC(C=1)#0000000000000000000000000000000000000000000000000000000000000)\n",
    "\n",
    "svm.fit(X, Y)\n",
    "\n",
    "predictions = svm.predict(X).astype(int)\n",
    "print(predictions)\n",
    "print(np.ptp(predictions))\n",
    "\n",
    "def visualise_predictions(H, xmin, xmax, ymin, ymax, n=50):\n",
    "\n",
    "    meshgrid = np.zeros((n, n))\n",
    "    for x1_idx, x1 in enumerate(np.linspace(xmin, xmax, n)): # for each column\n",
    "        for x2_idx, x2 in enumerate(np.linspace(ymin, ymax, n)): # for each row\n",
    "            h = H(np.array([[x1, x2]])).astype(int)[0]\n",
    "            # plt.scatter(x1, x2, c=colors[h])\n",
    "            meshgrid[n-1-x2_idx, x1_idx] = h # axis 0 is the vertical direction starting from the top and increasing downward\n",
    "    # meshgrid[n-1, 0] = 1000\n",
    "    plt.imshow(meshgrid, extent=(xmin, xmax, ymin, ymax), cmap='viridis')\n",
    "visualise_predictions(svm.predict, min(X[:, 0]), max(X[:, 0]), min(X[:, 1]), max(X[:, 1]))\n",
    "show_data(X, Y, predictions)\n",
    "\n",
    "plt.show()\n"
   ]
  },
  {
   "cell_type": "code",
   "execution_count": null,
   "metadata": {},
   "outputs": [],
   "source": []
  },
  {
   "cell_type": "code",
   "execution_count": null,
   "metadata": {},
   "outputs": [],
   "source": []
  }
 ],
 "metadata": {
  "language_info": {
   "codemirror_mode": {
    "name": "ipython",
    "version": 3
   },
   "file_extension": ".py",
   "mimetype": "text/x-python",
   "name": "python",
   "nbconvert_exporter": "python",
   "pygments_lexer": "ipython3",
   "version": "3.6.9-final"
  },
  "orig_nbformat": 2,
  "kernelspec": {
   "name": "python36964bit4e36a22c5ab145cdaac0d5c6b1a34fd0",
   "display_name": "Python 3.6.9 64-bit"
  }
 },
 "nbformat": 4,
 "nbformat_minor": 2
}